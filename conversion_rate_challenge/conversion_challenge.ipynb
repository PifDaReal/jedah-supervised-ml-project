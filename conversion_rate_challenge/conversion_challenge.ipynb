{
 "cells": [
  {
   "cell_type": "code",
   "execution_count": 2,
   "metadata": {},
   "outputs": [],
   "source": [
    "import pandas as pd\n",
    "import numpy as np\n",
    "from sklearn.model_selection import train_test_split\n",
    "from sklearn.pipeline import Pipeline\n",
    "from sklearn.impute import SimpleImputer\n",
    "from sklearn.preprocessing import  OneHotEncoder, StandardScaler, LabelEncoder\n",
    "from sklearn.compose import ColumnTransformer\n",
    "from sklearn.linear_model import LogisticRegression\n",
    "from sklearn.model_selection import GridSearchCV\n",
    "from sklearn.metrics import accuracy_score, make_scorer, f1_score, ConfusionMatrixDisplay, RocCurveDisplay\n",
    "import matplotlib.pyplot as plt\n",
    "import warnings\n",
    "\n",
    "import plotly.express as px\n",
    "import plotly.graph_objects as go\n",
    "import plotly.io as pio"
   ]
  },
  {
   "cell_type": "code",
   "execution_count": 3,
   "metadata": {},
   "outputs": [
    {
     "name": "stdout",
     "output_type": "stream",
     "text": [
      "Loading dataset...\n",
      "...Done.\n",
      "\n"
     ]
    }
   ],
   "source": [
    "# Import dataset\n",
    "print(\"Loading dataset...\")\n",
    "df = pd.read_csv('conversion_data_train.csv')\n",
    "print(\"...Done.\")\n",
    "print()"
   ]
  },
  {
   "cell_type": "code",
   "execution_count": 4,
   "metadata": {},
   "outputs": [
    {
     "name": "stdout",
     "output_type": "stream",
     "text": [
      "Number of rows : 284580\n",
      "\n",
      "Display of dataset: \n"
     ]
    },
    {
     "data": {
      "text/html": [
       "<div>\n",
       "<style scoped>\n",
       "    .dataframe tbody tr th:only-of-type {\n",
       "        vertical-align: middle;\n",
       "    }\n",
       "\n",
       "    .dataframe tbody tr th {\n",
       "        vertical-align: top;\n",
       "    }\n",
       "\n",
       "    .dataframe thead th {\n",
       "        text-align: right;\n",
       "    }\n",
       "</style>\n",
       "<table border=\"1\" class=\"dataframe\">\n",
       "  <thead>\n",
       "    <tr style=\"text-align: right;\">\n",
       "      <th></th>\n",
       "      <th>country</th>\n",
       "      <th>age</th>\n",
       "      <th>new_user</th>\n",
       "      <th>source</th>\n",
       "      <th>total_pages_visited</th>\n",
       "      <th>converted</th>\n",
       "    </tr>\n",
       "  </thead>\n",
       "  <tbody>\n",
       "    <tr>\n",
       "      <th>0</th>\n",
       "      <td>China</td>\n",
       "      <td>22</td>\n",
       "      <td>1</td>\n",
       "      <td>Direct</td>\n",
       "      <td>2</td>\n",
       "      <td>0</td>\n",
       "    </tr>\n",
       "    <tr>\n",
       "      <th>1</th>\n",
       "      <td>UK</td>\n",
       "      <td>21</td>\n",
       "      <td>1</td>\n",
       "      <td>Ads</td>\n",
       "      <td>3</td>\n",
       "      <td>0</td>\n",
       "    </tr>\n",
       "    <tr>\n",
       "      <th>2</th>\n",
       "      <td>Germany</td>\n",
       "      <td>20</td>\n",
       "      <td>0</td>\n",
       "      <td>Seo</td>\n",
       "      <td>14</td>\n",
       "      <td>1</td>\n",
       "    </tr>\n",
       "    <tr>\n",
       "      <th>3</th>\n",
       "      <td>US</td>\n",
       "      <td>23</td>\n",
       "      <td>1</td>\n",
       "      <td>Seo</td>\n",
       "      <td>3</td>\n",
       "      <td>0</td>\n",
       "    </tr>\n",
       "    <tr>\n",
       "      <th>4</th>\n",
       "      <td>US</td>\n",
       "      <td>28</td>\n",
       "      <td>1</td>\n",
       "      <td>Direct</td>\n",
       "      <td>3</td>\n",
       "      <td>0</td>\n",
       "    </tr>\n",
       "  </tbody>\n",
       "</table>\n",
       "</div>"
      ],
      "text/plain": [
       "   country  age  new_user  source  total_pages_visited  converted\n",
       "0    China   22         1  Direct                    2          0\n",
       "1       UK   21         1     Ads                    3          0\n",
       "2  Germany   20         0     Seo                   14          1\n",
       "3       US   23         1     Seo                    3          0\n",
       "4       US   28         1  Direct                    3          0"
      ]
     },
     "metadata": {},
     "output_type": "display_data"
    },
    {
     "name": "stdout",
     "output_type": "stream",
     "text": [
      "\n",
      "Basics statistics: \n"
     ]
    },
    {
     "data": {
      "text/html": [
       "<div>\n",
       "<style scoped>\n",
       "    .dataframe tbody tr th:only-of-type {\n",
       "        vertical-align: middle;\n",
       "    }\n",
       "\n",
       "    .dataframe tbody tr th {\n",
       "        vertical-align: top;\n",
       "    }\n",
       "\n",
       "    .dataframe thead th {\n",
       "        text-align: right;\n",
       "    }\n",
       "</style>\n",
       "<table border=\"1\" class=\"dataframe\">\n",
       "  <thead>\n",
       "    <tr style=\"text-align: right;\">\n",
       "      <th></th>\n",
       "      <th>country</th>\n",
       "      <th>age</th>\n",
       "      <th>new_user</th>\n",
       "      <th>source</th>\n",
       "      <th>total_pages_visited</th>\n",
       "      <th>converted</th>\n",
       "    </tr>\n",
       "  </thead>\n",
       "  <tbody>\n",
       "    <tr>\n",
       "      <th>count</th>\n",
       "      <td>284580</td>\n",
       "      <td>284580.000000</td>\n",
       "      <td>284580.000000</td>\n",
       "      <td>284580</td>\n",
       "      <td>284580.000000</td>\n",
       "      <td>284580.000000</td>\n",
       "    </tr>\n",
       "    <tr>\n",
       "      <th>unique</th>\n",
       "      <td>4</td>\n",
       "      <td>NaN</td>\n",
       "      <td>NaN</td>\n",
       "      <td>3</td>\n",
       "      <td>NaN</td>\n",
       "      <td>NaN</td>\n",
       "    </tr>\n",
       "    <tr>\n",
       "      <th>top</th>\n",
       "      <td>US</td>\n",
       "      <td>NaN</td>\n",
       "      <td>NaN</td>\n",
       "      <td>Seo</td>\n",
       "      <td>NaN</td>\n",
       "      <td>NaN</td>\n",
       "    </tr>\n",
       "    <tr>\n",
       "      <th>freq</th>\n",
       "      <td>160124</td>\n",
       "      <td>NaN</td>\n",
       "      <td>NaN</td>\n",
       "      <td>139477</td>\n",
       "      <td>NaN</td>\n",
       "      <td>NaN</td>\n",
       "    </tr>\n",
       "    <tr>\n",
       "      <th>mean</th>\n",
       "      <td>NaN</td>\n",
       "      <td>30.564203</td>\n",
       "      <td>0.685452</td>\n",
       "      <td>NaN</td>\n",
       "      <td>4.873252</td>\n",
       "      <td>0.032258</td>\n",
       "    </tr>\n",
       "    <tr>\n",
       "      <th>std</th>\n",
       "      <td>NaN</td>\n",
       "      <td>8.266789</td>\n",
       "      <td>0.464336</td>\n",
       "      <td>NaN</td>\n",
       "      <td>3.341995</td>\n",
       "      <td>0.176685</td>\n",
       "    </tr>\n",
       "    <tr>\n",
       "      <th>min</th>\n",
       "      <td>NaN</td>\n",
       "      <td>17.000000</td>\n",
       "      <td>0.000000</td>\n",
       "      <td>NaN</td>\n",
       "      <td>1.000000</td>\n",
       "      <td>0.000000</td>\n",
       "    </tr>\n",
       "    <tr>\n",
       "      <th>25%</th>\n",
       "      <td>NaN</td>\n",
       "      <td>24.000000</td>\n",
       "      <td>0.000000</td>\n",
       "      <td>NaN</td>\n",
       "      <td>2.000000</td>\n",
       "      <td>0.000000</td>\n",
       "    </tr>\n",
       "    <tr>\n",
       "      <th>50%</th>\n",
       "      <td>NaN</td>\n",
       "      <td>30.000000</td>\n",
       "      <td>1.000000</td>\n",
       "      <td>NaN</td>\n",
       "      <td>4.000000</td>\n",
       "      <td>0.000000</td>\n",
       "    </tr>\n",
       "    <tr>\n",
       "      <th>75%</th>\n",
       "      <td>NaN</td>\n",
       "      <td>36.000000</td>\n",
       "      <td>1.000000</td>\n",
       "      <td>NaN</td>\n",
       "      <td>7.000000</td>\n",
       "      <td>0.000000</td>\n",
       "    </tr>\n",
       "    <tr>\n",
       "      <th>max</th>\n",
       "      <td>NaN</td>\n",
       "      <td>123.000000</td>\n",
       "      <td>1.000000</td>\n",
       "      <td>NaN</td>\n",
       "      <td>29.000000</td>\n",
       "      <td>1.000000</td>\n",
       "    </tr>\n",
       "  </tbody>\n",
       "</table>\n",
       "</div>"
      ],
      "text/plain": [
       "       country            age       new_user  source  total_pages_visited  \\\n",
       "count   284580  284580.000000  284580.000000  284580        284580.000000   \n",
       "unique       4            NaN            NaN       3                  NaN   \n",
       "top         US            NaN            NaN     Seo                  NaN   \n",
       "freq    160124            NaN            NaN  139477                  NaN   \n",
       "mean       NaN      30.564203       0.685452     NaN             4.873252   \n",
       "std        NaN       8.266789       0.464336     NaN             3.341995   \n",
       "min        NaN      17.000000       0.000000     NaN             1.000000   \n",
       "25%        NaN      24.000000       0.000000     NaN             2.000000   \n",
       "50%        NaN      30.000000       1.000000     NaN             4.000000   \n",
       "75%        NaN      36.000000       1.000000     NaN             7.000000   \n",
       "max        NaN     123.000000       1.000000     NaN            29.000000   \n",
       "\n",
       "            converted  \n",
       "count   284580.000000  \n",
       "unique            NaN  \n",
       "top               NaN  \n",
       "freq              NaN  \n",
       "mean         0.032258  \n",
       "std          0.176685  \n",
       "min          0.000000  \n",
       "25%          0.000000  \n",
       "50%          0.000000  \n",
       "75%          0.000000  \n",
       "max          1.000000  "
      ]
     },
     "metadata": {},
     "output_type": "display_data"
    },
    {
     "name": "stdout",
     "output_type": "stream",
     "text": [
      "\n",
      "Percentage of missing values: \n"
     ]
    },
    {
     "data": {
      "text/plain": [
       "country                0.0\n",
       "age                    0.0\n",
       "new_user               0.0\n",
       "source                 0.0\n",
       "total_pages_visited    0.0\n",
       "converted              0.0\n",
       "dtype: float64"
      ]
     },
     "metadata": {},
     "output_type": "display_data"
    }
   ],
   "source": [
    "# Basic stats\n",
    "print(\"Number of rows : {}\".format(df.shape[0]))\n",
    "print()\n",
    "\n",
    "print(\"Display of dataset: \")\n",
    "display(df.head())\n",
    "print()\n",
    "\n",
    "print(\"Basics statistics: \")\n",
    "data_desc = df.describe(include='all')\n",
    "display(data_desc)\n",
    "print()\n",
    "\n",
    "print(\"Percentage of missing values: \")\n",
    "display(100*df.isnull().sum()/df.shape[0])"
   ]
  },
  {
   "cell_type": "code",
   "execution_count": 5,
   "metadata": {},
   "outputs": [
    {
     "data": {
      "text/html": [
       "<div>\n",
       "<style scoped>\n",
       "    .dataframe tbody tr th:only-of-type {\n",
       "        vertical-align: middle;\n",
       "    }\n",
       "\n",
       "    .dataframe tbody tr th {\n",
       "        vertical-align: top;\n",
       "    }\n",
       "\n",
       "    .dataframe thead th {\n",
       "        text-align: right;\n",
       "    }\n",
       "</style>\n",
       "<table border=\"1\" class=\"dataframe\">\n",
       "  <thead>\n",
       "    <tr style=\"text-align: right;\">\n",
       "      <th></th>\n",
       "      <th>country</th>\n",
       "      <th>age</th>\n",
       "      <th>new_user</th>\n",
       "      <th>source</th>\n",
       "      <th>total_pages_visited</th>\n",
       "      <th>converted</th>\n",
       "    </tr>\n",
       "  </thead>\n",
       "  <tbody>\n",
       "    <tr>\n",
       "      <th>0</th>\n",
       "      <td>China</td>\n",
       "      <td>22</td>\n",
       "      <td>1</td>\n",
       "      <td>Direct</td>\n",
       "      <td>2</td>\n",
       "      <td>0</td>\n",
       "    </tr>\n",
       "    <tr>\n",
       "      <th>1</th>\n",
       "      <td>UK</td>\n",
       "      <td>21</td>\n",
       "      <td>1</td>\n",
       "      <td>Ads</td>\n",
       "      <td>3</td>\n",
       "      <td>0</td>\n",
       "    </tr>\n",
       "    <tr>\n",
       "      <th>2</th>\n",
       "      <td>Germany</td>\n",
       "      <td>20</td>\n",
       "      <td>0</td>\n",
       "      <td>Seo</td>\n",
       "      <td>14</td>\n",
       "      <td>1</td>\n",
       "    </tr>\n",
       "    <tr>\n",
       "      <th>3</th>\n",
       "      <td>US</td>\n",
       "      <td>23</td>\n",
       "      <td>1</td>\n",
       "      <td>Seo</td>\n",
       "      <td>3</td>\n",
       "      <td>0</td>\n",
       "    </tr>\n",
       "    <tr>\n",
       "      <th>4</th>\n",
       "      <td>US</td>\n",
       "      <td>28</td>\n",
       "      <td>1</td>\n",
       "      <td>Direct</td>\n",
       "      <td>3</td>\n",
       "      <td>0</td>\n",
       "    </tr>\n",
       "  </tbody>\n",
       "</table>\n",
       "</div>"
      ],
      "text/plain": [
       "   country  age  new_user  source  total_pages_visited  converted\n",
       "0    China   22         1  Direct                    2          0\n",
       "1       UK   21         1     Ads                    3          0\n",
       "2  Germany   20         0     Seo                   14          1\n",
       "3       US   23         1     Seo                    3          0\n",
       "4       US   28         1  Direct                    3          0"
      ]
     },
     "execution_count": 5,
     "metadata": {},
     "output_type": "execute_result"
    }
   ],
   "source": [
    "# Remove age outlier\n",
    "mask = (df['age'] < 100) & (df['age'] >= 17)\n",
    "df = df[mask]\n",
    "\n",
    "df.head()"
   ]
  },
  {
   "cell_type": "code",
   "execution_count": 6,
   "metadata": {},
   "outputs": [
    {
     "name": "stdout",
     "output_type": "stream",
     "text": [
      "Separating labels from features...\n",
      "...Done.\n",
      "\n",
      "Y : \n",
      "0    0\n",
      "1    0\n",
      "2    1\n",
      "3    0\n",
      "4    0\n",
      "Name: converted, dtype: int64\n",
      "\n",
      "X :\n",
      "   country  age  new_user  source  total_pages_visited\n",
      "0    China   22         1  Direct                    2\n",
      "1       UK   21         1     Ads                    3\n",
      "2  Germany   20         0     Seo                   14\n",
      "3       US   23         1     Seo                    3\n",
      "4       US   28         1  Direct                    3\n"
     ]
    }
   ],
   "source": [
    "# Separate target variable Y from features X\n",
    "print(\"Separating labels from features...\")\n",
    "target_variable = \"converted\"\n",
    "\n",
    "X = df.drop(target_variable, axis = 1)\n",
    "Y = df.loc[:,target_variable]\n",
    "\n",
    "print(\"...Done.\")\n",
    "print()\n",
    "\n",
    "print('Y : ')\n",
    "print(Y.head())\n",
    "print()\n",
    "print('X :')\n",
    "print(X.head())"
   ]
  },
  {
   "cell_type": "code",
   "execution_count": 7,
   "metadata": {},
   "outputs": [
    {
     "name": "stdout",
     "output_type": "stream",
     "text": [
      "Found numeric features  ['age', 'new_user', 'total_pages_visited']\n",
      "Found categorical features  ['country', 'source']\n"
     ]
    }
   ],
   "source": [
    "# Automatically detect names of numeric/categorical columns\n",
    "numeric_features = []\n",
    "categorical_features = []\n",
    "for i,t in X.dtypes.items():\n",
    "    if ('float' in str(t)) or ('int' in str(t)) :\n",
    "        numeric_features.append(i)\n",
    "    else :\n",
    "        categorical_features.append(i)\n",
    "\n",
    "print('Found numeric features ', numeric_features)\n",
    "print('Found categorical features ', categorical_features)"
   ]
  },
  {
   "cell_type": "code",
   "execution_count": 8,
   "metadata": {},
   "outputs": [
    {
     "name": "stdout",
     "output_type": "stream",
     "text": [
      "Dividing into train and test sets...\n"
     ]
    },
    {
     "name": "stdout",
     "output_type": "stream",
     "text": [
      "...Done.\n",
      "\n"
     ]
    }
   ],
   "source": [
    "# Divide dataset Train set & Test set \n",
    "print(\"Dividing into train and test sets...\")\n",
    "# WARNING : don't forget stratify=Y for classification problems\n",
    "X_train, X_test, Y_train, Y_test = train_test_split(X, Y, test_size=0.2, random_state=0, stratify = Y)\n",
    "print(\"...Done.\")\n",
    "print()"
   ]
  },
  {
   "cell_type": "code",
   "execution_count": 9,
   "metadata": {},
   "outputs": [],
   "source": [
    "# Create pipeline for numeric features\n",
    "numeric_transformer = Pipeline(steps=[\n",
    "    ('scaler', StandardScaler())\n",
    "])\n",
    "\n",
    "# Create pipeline for categorical features\n",
    "categorical_transformer = OneHotEncoder(drop='first')"
   ]
  },
  {
   "cell_type": "code",
   "execution_count": 10,
   "metadata": {},
   "outputs": [],
   "source": [
    "# Use ColumnTransformer to make a preprocessor object that describes all the treatments to be done\n",
    "preprocessor = ColumnTransformer(\n",
    "    transformers=[\n",
    "        ('num', numeric_transformer, numeric_features),\n",
    "        ('cat', categorical_transformer, categorical_features)\n",
    "    ])"
   ]
  },
  {
   "cell_type": "code",
   "execution_count": 11,
   "metadata": {},
   "outputs": [
    {
     "name": "stdout",
     "output_type": "stream",
     "text": [
      "Performing preprocessings on train set...\n",
      "        country  age  new_user  source  total_pages_visited\n",
      "70238        US   23         0  Direct                    5\n",
      "11738        US   26         1     Ads                    4\n",
      "51223   Germany   39         1     Ads                    2\n",
      "251695       US   39         1     Seo                    8\n",
      "30005        US   44         1     Seo                    2\n"
     ]
    },
    {
     "name": "stdout",
     "output_type": "stream",
     "text": [
      "...Done.\n",
      "[[-0.91614386 -1.47777425  0.0376251   0.          0.          1.\n",
      "   1.          0.        ]\n",
      " [-0.55333446  0.67669334 -0.2616379   0.          0.          1.\n",
      "   0.          0.        ]\n",
      " [ 1.01883962  0.67669334 -0.86016391  1.          0.          0.\n",
      "   0.          0.        ]\n",
      " [ 1.01883962  0.67669334  0.9354141   0.          0.          1.\n",
      "   0.          1.        ]\n",
      " [ 1.62352196  0.67669334 -0.86016391  0.          0.          1.\n",
      "   0.          1.        ]]\n",
      "\n",
      "Encoding labels...\n",
      "70238     0\n",
      "11738     0\n",
      "51223     0\n",
      "251695    0\n",
      "30005     0\n",
      "Name: converted, dtype: int64\n",
      "...Done\n",
      "[0 0 0 0 0]\n",
      "Performing preprocessings on test set...\n",
      "       country  age  new_user  source  total_pages_visited\n",
      "138303      UK   34         1     Ads                    1\n",
      "133130      UK   32         0     Ads                    5\n",
      "245758      US   44         1     Ads                    1\n",
      "185267      US   35         1  Direct                    1\n",
      "177637      US   29         1  Direct                    3\n",
      "...Done.\n",
      "[[ 0.41415728  0.67669334 -1.15942691  0.          1.          0.\n",
      "   0.          0.        ]\n",
      " [ 0.17228435 -1.47777425  0.0376251   0.          1.          0.\n",
      "   0.          0.        ]\n",
      " [ 1.62352196  0.67669334 -1.15942691  0.          0.          1.\n",
      "   0.          0.        ]\n",
      " [ 0.53509375  0.67669334 -1.15942691  0.          0.          1.\n",
      "   1.          0.        ]\n",
      " [-0.19052506  0.67669334 -0.56090091  0.          0.          1.\n",
      "   1.          0.        ]]\n",
      "\n",
      "Encoding labels...\n",
      "138303    0\n",
      "133130    0\n",
      "245758    0\n",
      "185267    0\n",
      "177637    0\n",
      "Name: converted, dtype: int64\n",
      "...Done\n",
      "[0 0 0 0 0]\n"
     ]
    }
   ],
   "source": [
    "# Preprocessings on train set\n",
    "print(\"Performing preprocessings on train set...\")\n",
    "print(X_train.head())\n",
    "X_train = preprocessor.fit_transform(X_train)\n",
    "print('...Done.')\n",
    "print(X_train[0:5]) # MUST use this syntax because X_train is a numpy array and not a pandas DataFrame anymore\n",
    "print()\n",
    "# Label encoding\n",
    "print(\"Encoding labels...\")\n",
    "print(Y_train.head())\n",
    "encoder = LabelEncoder()\n",
    "Y_train = encoder.fit_transform(Y_train)\n",
    "print(\"...Done\")\n",
    "print(Y_train[0:5])\n",
    "\n",
    "# Preprocessings on test set\n",
    "print(\"Performing preprocessings on test set...\")\n",
    "print(X_test.head()) \n",
    "X_test = preprocessor.transform(X_test) # Don't fit again !! The test set is used for validating decisions\n",
    "# we made based on the training set, therefore we can only apply transformations that were parametered using the training set.\n",
    "# Otherwise this creates what is called a leak from the test set which will introduce a bias in all your results.\n",
    "print('...Done.')\n",
    "print(X_test[0:5,:]) # MUST use this syntax because X_test is a numpy array and not a pandas DataFrame anymore\n",
    "print()\n",
    "# Label encoding\n",
    "print(\"Encoding labels...\")\n",
    "print(Y_test[0:5])\n",
    "Y_test = encoder.transform(Y_test)\n",
    "print(\"...Done\")\n",
    "print(Y_test[0:5])"
   ]
  },
  {
   "cell_type": "code",
   "execution_count": 12,
   "metadata": {},
   "outputs": [],
   "source": [
    "model_score_df = pd.DataFrame(columns=['model', 'f1_score', 'set'])"
   ]
  },
  {
   "cell_type": "markdown",
   "metadata": {},
   "source": [
    "### Bagging with logistic regression as base estimator"
   ]
  },
  {
   "cell_type": "code",
   "execution_count": 13,
   "metadata": {},
   "outputs": [
    {
     "name": "stdout",
     "output_type": "stream",
     "text": [
      "Grid search...\n",
      "{'base_estimator__C': [0.01, 0.05, 0.1, 0.5], 'n_estimators': [5, 10, 20, 30]}\n"
     ]
    },
    {
     "name": "stderr",
     "output_type": "stream",
     "text": [
      "c:\\Users\\nicol\\miniconda3\\envs\\data_env\\Lib\\site-packages\\sklearn\\model_selection\\_validation.py:717: FutureWarning: Parameter 'base_estimator' of BaggingClassifier is deprecated in favor of 'estimator'. See BaggingClassifier's docstring for more details.\n",
      "  estimator = estimator.set_params(**clone(parameters, safe=False))\n",
      "c:\\Users\\nicol\\miniconda3\\envs\\data_env\\Lib\\site-packages\\sklearn\\model_selection\\_validation.py:717: FutureWarning: Parameter 'base_estimator' of BaggingClassifier is deprecated in favor of 'estimator'. See BaggingClassifier's docstring for more details.\n",
      "  estimator = estimator.set_params(**clone(parameters, safe=False))\n",
      "c:\\Users\\nicol\\miniconda3\\envs\\data_env\\Lib\\site-packages\\sklearn\\model_selection\\_validation.py:717: FutureWarning: Parameter 'base_estimator' of BaggingClassifier is deprecated in favor of 'estimator'. See BaggingClassifier's docstring for more details.\n",
      "  estimator = estimator.set_params(**clone(parameters, safe=False))\n",
      "c:\\Users\\nicol\\miniconda3\\envs\\data_env\\Lib\\site-packages\\sklearn\\model_selection\\_validation.py:717: FutureWarning: Parameter 'base_estimator' of BaggingClassifier is deprecated in favor of 'estimator'. See BaggingClassifier's docstring for more details.\n",
      "  estimator = estimator.set_params(**clone(parameters, safe=False))\n",
      "c:\\Users\\nicol\\miniconda3\\envs\\data_env\\Lib\\site-packages\\sklearn\\model_selection\\_validation.py:717: FutureWarning: Parameter 'base_estimator' of BaggingClassifier is deprecated in favor of 'estimator'. See BaggingClassifier's docstring for more details.\n",
      "  estimator = estimator.set_params(**clone(parameters, safe=False))\n",
      "c:\\Users\\nicol\\miniconda3\\envs\\data_env\\Lib\\site-packages\\sklearn\\model_selection\\_validation.py:717: FutureWarning: Parameter 'base_estimator' of BaggingClassifier is deprecated in favor of 'estimator'. See BaggingClassifier's docstring for more details.\n",
      "  estimator = estimator.set_params(**clone(parameters, safe=False))\n",
      "c:\\Users\\nicol\\miniconda3\\envs\\data_env\\Lib\\site-packages\\sklearn\\model_selection\\_validation.py:717: FutureWarning: Parameter 'base_estimator' of BaggingClassifier is deprecated in favor of 'estimator'. See BaggingClassifier's docstring for more details.\n",
      "  estimator = estimator.set_params(**clone(parameters, safe=False))\n",
      "c:\\Users\\nicol\\miniconda3\\envs\\data_env\\Lib\\site-packages\\sklearn\\model_selection\\_validation.py:717: FutureWarning: Parameter 'base_estimator' of BaggingClassifier is deprecated in favor of 'estimator'. See BaggingClassifier's docstring for more details.\n",
      "  estimator = estimator.set_params(**clone(parameters, safe=False))\n",
      "c:\\Users\\nicol\\miniconda3\\envs\\data_env\\Lib\\site-packages\\sklearn\\model_selection\\_validation.py:717: FutureWarning: Parameter 'base_estimator' of BaggingClassifier is deprecated in favor of 'estimator'. See BaggingClassifier's docstring for more details.\n",
      "  estimator = estimator.set_params(**clone(parameters, safe=False))\n",
      "c:\\Users\\nicol\\miniconda3\\envs\\data_env\\Lib\\site-packages\\sklearn\\model_selection\\_validation.py:717: FutureWarning: Parameter 'base_estimator' of BaggingClassifier is deprecated in favor of 'estimator'. See BaggingClassifier's docstring for more details.\n",
      "  estimator = estimator.set_params(**clone(parameters, safe=False))\n",
      "c:\\Users\\nicol\\miniconda3\\envs\\data_env\\Lib\\site-packages\\sklearn\\model_selection\\_validation.py:717: FutureWarning: Parameter 'base_estimator' of BaggingClassifier is deprecated in favor of 'estimator'. See BaggingClassifier's docstring for more details.\n",
      "  estimator = estimator.set_params(**clone(parameters, safe=False))\n",
      "c:\\Users\\nicol\\miniconda3\\envs\\data_env\\Lib\\site-packages\\sklearn\\model_selection\\_validation.py:717: FutureWarning: Parameter 'base_estimator' of BaggingClassifier is deprecated in favor of 'estimator'. See BaggingClassifier's docstring for more details.\n",
      "  estimator = estimator.set_params(**clone(parameters, safe=False))\n",
      "c:\\Users\\nicol\\miniconda3\\envs\\data_env\\Lib\\site-packages\\sklearn\\model_selection\\_validation.py:717: FutureWarning: Parameter 'base_estimator' of BaggingClassifier is deprecated in favor of 'estimator'. See BaggingClassifier's docstring for more details.\n",
      "  estimator = estimator.set_params(**clone(parameters, safe=False))\n",
      "c:\\Users\\nicol\\miniconda3\\envs\\data_env\\Lib\\site-packages\\sklearn\\model_selection\\_validation.py:717: FutureWarning: Parameter 'base_estimator' of BaggingClassifier is deprecated in favor of 'estimator'. See BaggingClassifier's docstring for more details.\n",
      "  estimator = estimator.set_params(**clone(parameters, safe=False))\n",
      "c:\\Users\\nicol\\miniconda3\\envs\\data_env\\Lib\\site-packages\\sklearn\\model_selection\\_validation.py:717: FutureWarning: Parameter 'base_estimator' of BaggingClassifier is deprecated in favor of 'estimator'. See BaggingClassifier's docstring for more details.\n",
      "  estimator = estimator.set_params(**clone(parameters, safe=False))\n",
      "c:\\Users\\nicol\\miniconda3\\envs\\data_env\\Lib\\site-packages\\sklearn\\model_selection\\_validation.py:717: FutureWarning: Parameter 'base_estimator' of BaggingClassifier is deprecated in favor of 'estimator'. See BaggingClassifier's docstring for more details.\n",
      "  estimator = estimator.set_params(**clone(parameters, safe=False))\n",
      "c:\\Users\\nicol\\miniconda3\\envs\\data_env\\Lib\\site-packages\\sklearn\\model_selection\\_validation.py:717: FutureWarning: Parameter 'base_estimator' of BaggingClassifier is deprecated in favor of 'estimator'. See BaggingClassifier's docstring for more details.\n",
      "  estimator = estimator.set_params(**clone(parameters, safe=False))\n",
      "c:\\Users\\nicol\\miniconda3\\envs\\data_env\\Lib\\site-packages\\sklearn\\model_selection\\_validation.py:717: FutureWarning: Parameter 'base_estimator' of BaggingClassifier is deprecated in favor of 'estimator'. See BaggingClassifier's docstring for more details.\n",
      "  estimator = estimator.set_params(**clone(parameters, safe=False))\n",
      "c:\\Users\\nicol\\miniconda3\\envs\\data_env\\Lib\\site-packages\\sklearn\\model_selection\\_validation.py:717: FutureWarning: Parameter 'base_estimator' of BaggingClassifier is deprecated in favor of 'estimator'. See BaggingClassifier's docstring for more details.\n",
      "  estimator = estimator.set_params(**clone(parameters, safe=False))\n",
      "c:\\Users\\nicol\\miniconda3\\envs\\data_env\\Lib\\site-packages\\sklearn\\model_selection\\_validation.py:717: FutureWarning: Parameter 'base_estimator' of BaggingClassifier is deprecated in favor of 'estimator'. See BaggingClassifier's docstring for more details.\n",
      "  estimator = estimator.set_params(**clone(parameters, safe=False))\n",
      "c:\\Users\\nicol\\miniconda3\\envs\\data_env\\Lib\\site-packages\\sklearn\\model_selection\\_validation.py:717: FutureWarning: Parameter 'base_estimator' of BaggingClassifier is deprecated in favor of 'estimator'. See BaggingClassifier's docstring for more details.\n",
      "  estimator = estimator.set_params(**clone(parameters, safe=False))\n",
      "c:\\Users\\nicol\\miniconda3\\envs\\data_env\\Lib\\site-packages\\sklearn\\model_selection\\_validation.py:717: FutureWarning: Parameter 'base_estimator' of BaggingClassifier is deprecated in favor of 'estimator'. See BaggingClassifier's docstring for more details.\n",
      "  estimator = estimator.set_params(**clone(parameters, safe=False))\n",
      "c:\\Users\\nicol\\miniconda3\\envs\\data_env\\Lib\\site-packages\\sklearn\\model_selection\\_validation.py:717: FutureWarning: Parameter 'base_estimator' of BaggingClassifier is deprecated in favor of 'estimator'. See BaggingClassifier's docstring for more details.\n",
      "  estimator = estimator.set_params(**clone(parameters, safe=False))\n",
      "c:\\Users\\nicol\\miniconda3\\envs\\data_env\\Lib\\site-packages\\sklearn\\model_selection\\_validation.py:717: FutureWarning: Parameter 'base_estimator' of BaggingClassifier is deprecated in favor of 'estimator'. See BaggingClassifier's docstring for more details.\n",
      "  estimator = estimator.set_params(**clone(parameters, safe=False))\n",
      "c:\\Users\\nicol\\miniconda3\\envs\\data_env\\Lib\\site-packages\\sklearn\\model_selection\\_validation.py:717: FutureWarning: Parameter 'base_estimator' of BaggingClassifier is deprecated in favor of 'estimator'. See BaggingClassifier's docstring for more details.\n",
      "  estimator = estimator.set_params(**clone(parameters, safe=False))\n",
      "c:\\Users\\nicol\\miniconda3\\envs\\data_env\\Lib\\site-packages\\sklearn\\model_selection\\_validation.py:717: FutureWarning: Parameter 'base_estimator' of BaggingClassifier is deprecated in favor of 'estimator'. See BaggingClassifier's docstring for more details.\n",
      "  estimator = estimator.set_params(**clone(parameters, safe=False))\n",
      "c:\\Users\\nicol\\miniconda3\\envs\\data_env\\Lib\\site-packages\\sklearn\\model_selection\\_validation.py:717: FutureWarning: Parameter 'base_estimator' of BaggingClassifier is deprecated in favor of 'estimator'. See BaggingClassifier's docstring for more details.\n",
      "  estimator = estimator.set_params(**clone(parameters, safe=False))\n",
      "c:\\Users\\nicol\\miniconda3\\envs\\data_env\\Lib\\site-packages\\sklearn\\model_selection\\_validation.py:717: FutureWarning: Parameter 'base_estimator' of BaggingClassifier is deprecated in favor of 'estimator'. See BaggingClassifier's docstring for more details.\n",
      "  estimator = estimator.set_params(**clone(parameters, safe=False))\n",
      "c:\\Users\\nicol\\miniconda3\\envs\\data_env\\Lib\\site-packages\\sklearn\\model_selection\\_validation.py:717: FutureWarning: Parameter 'base_estimator' of BaggingClassifier is deprecated in favor of 'estimator'. See BaggingClassifier's docstring for more details.\n",
      "  estimator = estimator.set_params(**clone(parameters, safe=False))\n",
      "c:\\Users\\nicol\\miniconda3\\envs\\data_env\\Lib\\site-packages\\sklearn\\model_selection\\_validation.py:717: FutureWarning: Parameter 'base_estimator' of BaggingClassifier is deprecated in favor of 'estimator'. See BaggingClassifier's docstring for more details.\n",
      "  estimator = estimator.set_params(**clone(parameters, safe=False))\n",
      "c:\\Users\\nicol\\miniconda3\\envs\\data_env\\Lib\\site-packages\\sklearn\\model_selection\\_validation.py:717: FutureWarning: Parameter 'base_estimator' of BaggingClassifier is deprecated in favor of 'estimator'. See BaggingClassifier's docstring for more details.\n",
      "  estimator = estimator.set_params(**clone(parameters, safe=False))\n",
      "c:\\Users\\nicol\\miniconda3\\envs\\data_env\\Lib\\site-packages\\sklearn\\model_selection\\_validation.py:717: FutureWarning: Parameter 'base_estimator' of BaggingClassifier is deprecated in favor of 'estimator'. See BaggingClassifier's docstring for more details.\n",
      "  estimator = estimator.set_params(**clone(parameters, safe=False))\n",
      "c:\\Users\\nicol\\miniconda3\\envs\\data_env\\Lib\\site-packages\\sklearn\\model_selection\\_validation.py:717: FutureWarning: Parameter 'base_estimator' of BaggingClassifier is deprecated in favor of 'estimator'. See BaggingClassifier's docstring for more details.\n",
      "  estimator = estimator.set_params(**clone(parameters, safe=False))\n",
      "c:\\Users\\nicol\\miniconda3\\envs\\data_env\\Lib\\site-packages\\sklearn\\model_selection\\_validation.py:717: FutureWarning: Parameter 'base_estimator' of BaggingClassifier is deprecated in favor of 'estimator'. See BaggingClassifier's docstring for more details.\n",
      "  estimator = estimator.set_params(**clone(parameters, safe=False))\n",
      "c:\\Users\\nicol\\miniconda3\\envs\\data_env\\Lib\\site-packages\\sklearn\\model_selection\\_validation.py:717: FutureWarning: Parameter 'base_estimator' of BaggingClassifier is deprecated in favor of 'estimator'. See BaggingClassifier's docstring for more details.\n",
      "  estimator = estimator.set_params(**clone(parameters, safe=False))\n",
      "c:\\Users\\nicol\\miniconda3\\envs\\data_env\\Lib\\site-packages\\sklearn\\model_selection\\_validation.py:717: FutureWarning: Parameter 'base_estimator' of BaggingClassifier is deprecated in favor of 'estimator'. See BaggingClassifier's docstring for more details.\n",
      "  estimator = estimator.set_params(**clone(parameters, safe=False))\n",
      "c:\\Users\\nicol\\miniconda3\\envs\\data_env\\Lib\\site-packages\\sklearn\\model_selection\\_validation.py:717: FutureWarning: Parameter 'base_estimator' of BaggingClassifier is deprecated in favor of 'estimator'. See BaggingClassifier's docstring for more details.\n",
      "  estimator = estimator.set_params(**clone(parameters, safe=False))\n",
      "c:\\Users\\nicol\\miniconda3\\envs\\data_env\\Lib\\site-packages\\sklearn\\model_selection\\_validation.py:717: FutureWarning: Parameter 'base_estimator' of BaggingClassifier is deprecated in favor of 'estimator'. See BaggingClassifier's docstring for more details.\n",
      "  estimator = estimator.set_params(**clone(parameters, safe=False))\n",
      "c:\\Users\\nicol\\miniconda3\\envs\\data_env\\Lib\\site-packages\\sklearn\\model_selection\\_validation.py:717: FutureWarning: Parameter 'base_estimator' of BaggingClassifier is deprecated in favor of 'estimator'. See BaggingClassifier's docstring for more details.\n",
      "  estimator = estimator.set_params(**clone(parameters, safe=False))\n",
      "c:\\Users\\nicol\\miniconda3\\envs\\data_env\\Lib\\site-packages\\sklearn\\model_selection\\_validation.py:717: FutureWarning: Parameter 'base_estimator' of BaggingClassifier is deprecated in favor of 'estimator'. See BaggingClassifier's docstring for more details.\n",
      "  estimator = estimator.set_params(**clone(parameters, safe=False))\n",
      "c:\\Users\\nicol\\miniconda3\\envs\\data_env\\Lib\\site-packages\\sklearn\\model_selection\\_validation.py:717: FutureWarning: Parameter 'base_estimator' of BaggingClassifier is deprecated in favor of 'estimator'. See BaggingClassifier's docstring for more details.\n",
      "  estimator = estimator.set_params(**clone(parameters, safe=False))\n",
      "c:\\Users\\nicol\\miniconda3\\envs\\data_env\\Lib\\site-packages\\sklearn\\model_selection\\_validation.py:717: FutureWarning: Parameter 'base_estimator' of BaggingClassifier is deprecated in favor of 'estimator'. See BaggingClassifier's docstring for more details.\n",
      "  estimator = estimator.set_params(**clone(parameters, safe=False))\n",
      "c:\\Users\\nicol\\miniconda3\\envs\\data_env\\Lib\\site-packages\\sklearn\\model_selection\\_validation.py:717: FutureWarning: Parameter 'base_estimator' of BaggingClassifier is deprecated in favor of 'estimator'. See BaggingClassifier's docstring for more details.\n",
      "  estimator = estimator.set_params(**clone(parameters, safe=False))\n",
      "c:\\Users\\nicol\\miniconda3\\envs\\data_env\\Lib\\site-packages\\sklearn\\model_selection\\_validation.py:717: FutureWarning: Parameter 'base_estimator' of BaggingClassifier is deprecated in favor of 'estimator'. See BaggingClassifier's docstring for more details.\n",
      "  estimator = estimator.set_params(**clone(parameters, safe=False))\n",
      "c:\\Users\\nicol\\miniconda3\\envs\\data_env\\Lib\\site-packages\\sklearn\\model_selection\\_validation.py:717: FutureWarning: Parameter 'base_estimator' of BaggingClassifier is deprecated in favor of 'estimator'. See BaggingClassifier's docstring for more details.\n",
      "  estimator = estimator.set_params(**clone(parameters, safe=False))\n",
      "c:\\Users\\nicol\\miniconda3\\envs\\data_env\\Lib\\site-packages\\sklearn\\model_selection\\_validation.py:717: FutureWarning: Parameter 'base_estimator' of BaggingClassifier is deprecated in favor of 'estimator'. See BaggingClassifier's docstring for more details.\n",
      "  estimator = estimator.set_params(**clone(parameters, safe=False))\n",
      "c:\\Users\\nicol\\miniconda3\\envs\\data_env\\Lib\\site-packages\\sklearn\\model_selection\\_validation.py:717: FutureWarning: Parameter 'base_estimator' of BaggingClassifier is deprecated in favor of 'estimator'. See BaggingClassifier's docstring for more details.\n",
      "  estimator = estimator.set_params(**clone(parameters, safe=False))\n",
      "c:\\Users\\nicol\\miniconda3\\envs\\data_env\\Lib\\site-packages\\sklearn\\model_selection\\_validation.py:717: FutureWarning: Parameter 'base_estimator' of BaggingClassifier is deprecated in favor of 'estimator'. See BaggingClassifier's docstring for more details.\n",
      "  estimator = estimator.set_params(**clone(parameters, safe=False))\n",
      "c:\\Users\\nicol\\miniconda3\\envs\\data_env\\Lib\\site-packages\\sklearn\\model_selection\\_search.py:930: FutureWarning: Parameter 'base_estimator' of BaggingClassifier is deprecated in favor of 'estimator'. See BaggingClassifier's docstring for more details.\n",
      "  self.best_estimator_ = clone(base_estimator).set_params(\n"
     ]
    },
    {
     "name": "stdout",
     "output_type": "stream",
     "text": [
      "...Done.\n",
      "Best hyperparameters :  {'base_estimator__C': 0.5, 'n_estimators': 5}\n",
      "Best validation accuracy :  0.9862427633943264\n",
      "\n",
      "Accuracy on training set :  0.9862383709182911\n",
      "Accuracy on test set :  0.9861198959870686\n"
     ]
    }
   ],
   "source": [
    "# Perform grid search\n",
    "from sklearn.ensemble import BaggingClassifier\n",
    "\n",
    "\n",
    "print(\"Grid search...\")\n",
    "logistic_regression = LogisticRegression(max_iter = 1000) # max_iter changed because of convergence warning\n",
    "model = BaggingClassifier(logistic_regression)\n",
    "\n",
    "# Grid of values to be tested\n",
    "params = {\n",
    "    'base_estimator__C': [0.01, 0.05, 0.1, 0.5,], # base_estimator__ prefix because C is a parameter from LogisticRegression! \n",
    "    'n_estimators': [5, 10, 20, 30] # n_estimators is a hyperparameter of the ensemble method\n",
    "}\n",
    "print(params)\n",
    "gridsearch_bag_lr = GridSearchCV(model, param_grid = params, cv = 3) # cv : the number of folds to be used for CV\n",
    "gridsearch_bag_lr.fit(X_train, Y_train)\n",
    "print(\"...Done.\")\n",
    "print(\"Best hyperparameters : \", gridsearch_bag_lr.best_params_)\n",
    "print(\"Best validation accuracy : \", gridsearch_bag_lr.best_score_)\n",
    "print()\n",
    "print(\"Accuracy on training set : \", gridsearch_bag_lr.score(X_train, Y_train))\n",
    "print(\"Accuracy on test set : \", gridsearch_bag_lr.score(X_test, Y_test))"
   ]
  },
  {
   "cell_type": "code",
   "execution_count": 14,
   "metadata": {},
   "outputs": [
    {
     "name": "stdout",
     "output_type": "stream",
     "text": [
      "Predictions on training set...\n"
     ]
    },
    {
     "name": "stdout",
     "output_type": "stream",
     "text": [
      "...Done.\n",
      "[0 0 0 ... 0 0 0]\n",
      "\n",
      "Probabilities on training set...\n",
      "...Done.\n",
      "[[9.94626157e-01 5.37384329e-03]\n",
      " [9.99543001e-01 4.56998625e-04]\n",
      " [9.99940571e-01 5.94290607e-05]\n",
      " ...\n",
      " [9.99822255e-01 1.77745189e-04]\n",
      " [8.72880324e-01 1.27119676e-01]\n",
      " [9.95618450e-01 4.38155013e-03]]\n",
      "\n"
     ]
    }
   ],
   "source": [
    "# Predictions on training set\n",
    "print(\"Predictions on training set...\")\n",
    "Y_train_pred = gridsearch_bag_lr.predict(X_train)\n",
    "print(\"...Done.\")\n",
    "print(Y_train_pred)\n",
    "print()\n",
    "\n",
    "# It's also possible to get the probabilities estimated by the model:\n",
    "print(\"Probabilities on training set...\")\n",
    "Y_train_proba = gridsearch_bag_lr.predict_proba(X_train)\n",
    "print(\"...Done.\")\n",
    "print(Y_train_proba)\n",
    "print()"
   ]
  },
  {
   "cell_type": "code",
   "execution_count": 15,
   "metadata": {},
   "outputs": [
    {
     "name": "stdout",
     "output_type": "stream",
     "text": [
      "Predictions on test set...\n"
     ]
    },
    {
     "name": "stdout",
     "output_type": "stream",
     "text": [
      "...Done.\n",
      "[0 0 0 ... 0 0 0]\n",
      "\n",
      "Probabilities on test set...\n",
      "...Done.\n",
      "[[9.99962300e-01 3.77000410e-05]\n",
      " [9.95129351e-01 4.87064943e-03]\n",
      " [9.99987099e-01 1.29011604e-05]\n",
      " ...\n",
      " [9.99757881e-01 2.42118833e-04]\n",
      " [9.97376526e-01 2.62347406e-03]\n",
      " [9.99535081e-01 4.64919483e-04]]\n",
      "\n"
     ]
    }
   ],
   "source": [
    "# Predictions on test set\n",
    "print(\"Predictions on test set...\")\n",
    "Y_test_pred = gridsearch_bag_lr.predict(X_test)\n",
    "print(\"...Done.\")\n",
    "print(Y_test_pred)\n",
    "print()\n",
    "\n",
    "# It's also possible to get the probabilities estimated by the model:\n",
    "print(\"Probabilities on test set...\")\n",
    "Y_test_proba = gridsearch_bag_lr.predict_proba(X_test)\n",
    "print(\"...Done.\")\n",
    "print(Y_test_proba)\n",
    "print()"
   ]
  },
  {
   "cell_type": "code",
   "execution_count": 16,
   "metadata": {},
   "outputs": [
    {
     "name": "stdout",
     "output_type": "stream",
     "text": [
      "f1-score on training set :  0.762992662077313\n",
      "f1-score on test set :  0.76247745039086\n"
     ]
    }
   ],
   "source": [
    "print(\"f1-score on training set : \", f1_score(Y_train, Y_train_pred))\n",
    "print(\"f1-score on test set : \", f1_score(Y_test, Y_test_pred))"
   ]
  },
  {
   "cell_type": "code",
   "execution_count": 17,
   "metadata": {},
   "outputs": [
    {
     "name": "stderr",
     "output_type": "stream",
     "text": [
      "C:\\Users\\nicol\\AppData\\Local\\Temp\\ipykernel_3360\\3205769336.py:3: FutureWarning: The behavior of DataFrame concatenation with empty or all-NA entries is deprecated. In a future version, this will no longer exclude empty or all-NA columns when determining the result dtypes. To retain the old behavior, exclude the relevant entries before the concat operation.\n",
      "  model_score_df = pd.concat([model_score_df, rows_model_score], ignore_index=True)\n"
     ]
    }
   ],
   "source": [
    "rows_model_score = pd.DataFrame({'model': ['bagging_log_reg', 'bagging_log_reg'], 'f1_score': [f1_score(Y_train, Y_train_pred), f1_score(Y_test, Y_test_pred)], 'set': ['train', 'test']})\n",
    "\n",
    "model_score_df = pd.concat([model_score_df, rows_model_score], ignore_index=True)"
   ]
  },
  {
   "cell_type": "markdown",
   "metadata": {},
   "source": [
    "### Bagging with decision tree as base estimator"
   ]
  },
  {
   "cell_type": "code",
   "execution_count": 18,
   "metadata": {},
   "outputs": [
    {
     "name": "stderr",
     "output_type": "stream",
     "text": [
      "c:\\Users\\nicol\\miniconda3\\envs\\data_env\\Lib\\site-packages\\sklearn\\model_selection\\_validation.py:717: FutureWarning: Parameter 'base_estimator' of BaggingClassifier is deprecated in favor of 'estimator'. See BaggingClassifier's docstring for more details.\n",
      "  estimator = estimator.set_params(**clone(parameters, safe=False))\n"
     ]
    },
    {
     "name": "stdout",
     "output_type": "stream",
     "text": [
      "Grid search...\n",
      "{'base_estimator__max_depth': [1, 2, 3], 'base_estimator__min_samples_leaf': [1, 2, 3], 'base_estimator__min_samples_split': [2, 3, 4], 'n_estimators': [2, 4, 6, 8, 10]}\n"
     ]
    },
    {
     "name": "stderr",
     "output_type": "stream",
     "text": [
      "c:\\Users\\nicol\\miniconda3\\envs\\data_env\\Lib\\site-packages\\sklearn\\model_selection\\_validation.py:717: FutureWarning: Parameter 'base_estimator' of BaggingClassifier is deprecated in favor of 'estimator'. See BaggingClassifier's docstring for more details.\n",
      "  estimator = estimator.set_params(**clone(parameters, safe=False))\n",
      "c:\\Users\\nicol\\miniconda3\\envs\\data_env\\Lib\\site-packages\\sklearn\\model_selection\\_validation.py:717: FutureWarning: Parameter 'base_estimator' of BaggingClassifier is deprecated in favor of 'estimator'. See BaggingClassifier's docstring for more details.\n",
      "  estimator = estimator.set_params(**clone(parameters, safe=False))\n",
      "c:\\Users\\nicol\\miniconda3\\envs\\data_env\\Lib\\site-packages\\sklearn\\model_selection\\_validation.py:717: FutureWarning: Parameter 'base_estimator' of BaggingClassifier is deprecated in favor of 'estimator'. See BaggingClassifier's docstring for more details.\n",
      "  estimator = estimator.set_params(**clone(parameters, safe=False))\n",
      "c:\\Users\\nicol\\miniconda3\\envs\\data_env\\Lib\\site-packages\\sklearn\\model_selection\\_validation.py:717: FutureWarning: Parameter 'base_estimator' of BaggingClassifier is deprecated in favor of 'estimator'. See BaggingClassifier's docstring for more details.\n",
      "  estimator = estimator.set_params(**clone(parameters, safe=False))\n",
      "c:\\Users\\nicol\\miniconda3\\envs\\data_env\\Lib\\site-packages\\sklearn\\model_selection\\_validation.py:717: FutureWarning: Parameter 'base_estimator' of BaggingClassifier is deprecated in favor of 'estimator'. See BaggingClassifier's docstring for more details.\n",
      "  estimator = estimator.set_params(**clone(parameters, safe=False))\n",
      "c:\\Users\\nicol\\miniconda3\\envs\\data_env\\Lib\\site-packages\\sklearn\\model_selection\\_validation.py:717: FutureWarning: Parameter 'base_estimator' of BaggingClassifier is deprecated in favor of 'estimator'. See BaggingClassifier's docstring for more details.\n",
      "  estimator = estimator.set_params(**clone(parameters, safe=False))\n",
      "c:\\Users\\nicol\\miniconda3\\envs\\data_env\\Lib\\site-packages\\sklearn\\model_selection\\_validation.py:717: FutureWarning: Parameter 'base_estimator' of BaggingClassifier is deprecated in favor of 'estimator'. See BaggingClassifier's docstring for more details.\n",
      "  estimator = estimator.set_params(**clone(parameters, safe=False))\n",
      "c:\\Users\\nicol\\miniconda3\\envs\\data_env\\Lib\\site-packages\\sklearn\\model_selection\\_validation.py:717: FutureWarning: Parameter 'base_estimator' of BaggingClassifier is deprecated in favor of 'estimator'. See BaggingClassifier's docstring for more details.\n",
      "  estimator = estimator.set_params(**clone(parameters, safe=False))\n",
      "c:\\Users\\nicol\\miniconda3\\envs\\data_env\\Lib\\site-packages\\sklearn\\model_selection\\_validation.py:717: FutureWarning: Parameter 'base_estimator' of BaggingClassifier is deprecated in favor of 'estimator'. See BaggingClassifier's docstring for more details.\n",
      "  estimator = estimator.set_params(**clone(parameters, safe=False))\n",
      "c:\\Users\\nicol\\miniconda3\\envs\\data_env\\Lib\\site-packages\\sklearn\\model_selection\\_validation.py:717: FutureWarning: Parameter 'base_estimator' of BaggingClassifier is deprecated in favor of 'estimator'. See BaggingClassifier's docstring for more details.\n",
      "  estimator = estimator.set_params(**clone(parameters, safe=False))\n",
      "c:\\Users\\nicol\\miniconda3\\envs\\data_env\\Lib\\site-packages\\sklearn\\model_selection\\_validation.py:717: FutureWarning: Parameter 'base_estimator' of BaggingClassifier is deprecated in favor of 'estimator'. See BaggingClassifier's docstring for more details.\n",
      "  estimator = estimator.set_params(**clone(parameters, safe=False))\n",
      "c:\\Users\\nicol\\miniconda3\\envs\\data_env\\Lib\\site-packages\\sklearn\\model_selection\\_validation.py:717: FutureWarning: Parameter 'base_estimator' of BaggingClassifier is deprecated in favor of 'estimator'. See BaggingClassifier's docstring for more details.\n",
      "  estimator = estimator.set_params(**clone(parameters, safe=False))\n",
      "c:\\Users\\nicol\\miniconda3\\envs\\data_env\\Lib\\site-packages\\sklearn\\model_selection\\_validation.py:717: FutureWarning: Parameter 'base_estimator' of BaggingClassifier is deprecated in favor of 'estimator'. See BaggingClassifier's docstring for more details.\n",
      "  estimator = estimator.set_params(**clone(parameters, safe=False))\n",
      "c:\\Users\\nicol\\miniconda3\\envs\\data_env\\Lib\\site-packages\\sklearn\\model_selection\\_validation.py:717: FutureWarning: Parameter 'base_estimator' of BaggingClassifier is deprecated in favor of 'estimator'. See BaggingClassifier's docstring for more details.\n",
      "  estimator = estimator.set_params(**clone(parameters, safe=False))\n",
      "c:\\Users\\nicol\\miniconda3\\envs\\data_env\\Lib\\site-packages\\sklearn\\model_selection\\_validation.py:717: FutureWarning: Parameter 'base_estimator' of BaggingClassifier is deprecated in favor of 'estimator'. See BaggingClassifier's docstring for more details.\n",
      "  estimator = estimator.set_params(**clone(parameters, safe=False))\n",
      "c:\\Users\\nicol\\miniconda3\\envs\\data_env\\Lib\\site-packages\\sklearn\\model_selection\\_validation.py:717: FutureWarning: Parameter 'base_estimator' of BaggingClassifier is deprecated in favor of 'estimator'. See BaggingClassifier's docstring for more details.\n",
      "  estimator = estimator.set_params(**clone(parameters, safe=False))\n",
      "c:\\Users\\nicol\\miniconda3\\envs\\data_env\\Lib\\site-packages\\sklearn\\model_selection\\_validation.py:717: FutureWarning: Parameter 'base_estimator' of BaggingClassifier is deprecated in favor of 'estimator'. See BaggingClassifier's docstring for more details.\n",
      "  estimator = estimator.set_params(**clone(parameters, safe=False))\n",
      "c:\\Users\\nicol\\miniconda3\\envs\\data_env\\Lib\\site-packages\\sklearn\\model_selection\\_validation.py:717: FutureWarning: Parameter 'base_estimator' of BaggingClassifier is deprecated in favor of 'estimator'. See BaggingClassifier's docstring for more details.\n",
      "  estimator = estimator.set_params(**clone(parameters, safe=False))\n",
      "c:\\Users\\nicol\\miniconda3\\envs\\data_env\\Lib\\site-packages\\sklearn\\model_selection\\_validation.py:717: FutureWarning: Parameter 'base_estimator' of BaggingClassifier is deprecated in favor of 'estimator'. See BaggingClassifier's docstring for more details.\n",
      "  estimator = estimator.set_params(**clone(parameters, safe=False))\n",
      "c:\\Users\\nicol\\miniconda3\\envs\\data_env\\Lib\\site-packages\\sklearn\\model_selection\\_validation.py:717: FutureWarning: Parameter 'base_estimator' of BaggingClassifier is deprecated in favor of 'estimator'. See BaggingClassifier's docstring for more details.\n",
      "  estimator = estimator.set_params(**clone(parameters, safe=False))\n",
      "c:\\Users\\nicol\\miniconda3\\envs\\data_env\\Lib\\site-packages\\sklearn\\model_selection\\_validation.py:717: FutureWarning: Parameter 'base_estimator' of BaggingClassifier is deprecated in favor of 'estimator'. See BaggingClassifier's docstring for more details.\n",
      "  estimator = estimator.set_params(**clone(parameters, safe=False))\n",
      "c:\\Users\\nicol\\miniconda3\\envs\\data_env\\Lib\\site-packages\\sklearn\\model_selection\\_validation.py:717: FutureWarning: Parameter 'base_estimator' of BaggingClassifier is deprecated in favor of 'estimator'. See BaggingClassifier's docstring for more details.\n",
      "  estimator = estimator.set_params(**clone(parameters, safe=False))\n",
      "c:\\Users\\nicol\\miniconda3\\envs\\data_env\\Lib\\site-packages\\sklearn\\model_selection\\_validation.py:717: FutureWarning: Parameter 'base_estimator' of BaggingClassifier is deprecated in favor of 'estimator'. See BaggingClassifier's docstring for more details.\n",
      "  estimator = estimator.set_params(**clone(parameters, safe=False))\n",
      "c:\\Users\\nicol\\miniconda3\\envs\\data_env\\Lib\\site-packages\\sklearn\\model_selection\\_validation.py:717: FutureWarning: Parameter 'base_estimator' of BaggingClassifier is deprecated in favor of 'estimator'. See BaggingClassifier's docstring for more details.\n",
      "  estimator = estimator.set_params(**clone(parameters, safe=False))\n",
      "c:\\Users\\nicol\\miniconda3\\envs\\data_env\\Lib\\site-packages\\sklearn\\model_selection\\_validation.py:717: FutureWarning: Parameter 'base_estimator' of BaggingClassifier is deprecated in favor of 'estimator'. See BaggingClassifier's docstring for more details.\n",
      "  estimator = estimator.set_params(**clone(parameters, safe=False))\n",
      "c:\\Users\\nicol\\miniconda3\\envs\\data_env\\Lib\\site-packages\\sklearn\\model_selection\\_validation.py:717: FutureWarning: Parameter 'base_estimator' of BaggingClassifier is deprecated in favor of 'estimator'. See BaggingClassifier's docstring for more details.\n",
      "  estimator = estimator.set_params(**clone(parameters, safe=False))\n",
      "c:\\Users\\nicol\\miniconda3\\envs\\data_env\\Lib\\site-packages\\sklearn\\model_selection\\_validation.py:717: FutureWarning: Parameter 'base_estimator' of BaggingClassifier is deprecated in favor of 'estimator'. See BaggingClassifier's docstring for more details.\n",
      "  estimator = estimator.set_params(**clone(parameters, safe=False))\n",
      "c:\\Users\\nicol\\miniconda3\\envs\\data_env\\Lib\\site-packages\\sklearn\\model_selection\\_validation.py:717: FutureWarning: Parameter 'base_estimator' of BaggingClassifier is deprecated in favor of 'estimator'. See BaggingClassifier's docstring for more details.\n",
      "  estimator = estimator.set_params(**clone(parameters, safe=False))\n",
      "c:\\Users\\nicol\\miniconda3\\envs\\data_env\\Lib\\site-packages\\sklearn\\model_selection\\_validation.py:717: FutureWarning: Parameter 'base_estimator' of BaggingClassifier is deprecated in favor of 'estimator'. See BaggingClassifier's docstring for more details.\n",
      "  estimator = estimator.set_params(**clone(parameters, safe=False))\n",
      "c:\\Users\\nicol\\miniconda3\\envs\\data_env\\Lib\\site-packages\\sklearn\\model_selection\\_validation.py:717: FutureWarning: Parameter 'base_estimator' of BaggingClassifier is deprecated in favor of 'estimator'. See BaggingClassifier's docstring for more details.\n",
      "  estimator = estimator.set_params(**clone(parameters, safe=False))\n",
      "c:\\Users\\nicol\\miniconda3\\envs\\data_env\\Lib\\site-packages\\sklearn\\model_selection\\_validation.py:717: FutureWarning: Parameter 'base_estimator' of BaggingClassifier is deprecated in favor of 'estimator'. See BaggingClassifier's docstring for more details.\n",
      "  estimator = estimator.set_params(**clone(parameters, safe=False))\n",
      "c:\\Users\\nicol\\miniconda3\\envs\\data_env\\Lib\\site-packages\\sklearn\\model_selection\\_validation.py:717: FutureWarning: Parameter 'base_estimator' of BaggingClassifier is deprecated in favor of 'estimator'. See BaggingClassifier's docstring for more details.\n",
      "  estimator = estimator.set_params(**clone(parameters, safe=False))\n",
      "c:\\Users\\nicol\\miniconda3\\envs\\data_env\\Lib\\site-packages\\sklearn\\model_selection\\_validation.py:717: FutureWarning: Parameter 'base_estimator' of BaggingClassifier is deprecated in favor of 'estimator'. See BaggingClassifier's docstring for more details.\n",
      "  estimator = estimator.set_params(**clone(parameters, safe=False))\n",
      "c:\\Users\\nicol\\miniconda3\\envs\\data_env\\Lib\\site-packages\\sklearn\\model_selection\\_validation.py:717: FutureWarning: Parameter 'base_estimator' of BaggingClassifier is deprecated in favor of 'estimator'. See BaggingClassifier's docstring for more details.\n",
      "  estimator = estimator.set_params(**clone(parameters, safe=False))\n",
      "c:\\Users\\nicol\\miniconda3\\envs\\data_env\\Lib\\site-packages\\sklearn\\model_selection\\_validation.py:717: FutureWarning: Parameter 'base_estimator' of BaggingClassifier is deprecated in favor of 'estimator'. See BaggingClassifier's docstring for more details.\n",
      "  estimator = estimator.set_params(**clone(parameters, safe=False))\n",
      "c:\\Users\\nicol\\miniconda3\\envs\\data_env\\Lib\\site-packages\\sklearn\\model_selection\\_validation.py:717: FutureWarning: Parameter 'base_estimator' of BaggingClassifier is deprecated in favor of 'estimator'. See BaggingClassifier's docstring for more details.\n",
      "  estimator = estimator.set_params(**clone(parameters, safe=False))\n",
      "c:\\Users\\nicol\\miniconda3\\envs\\data_env\\Lib\\site-packages\\sklearn\\model_selection\\_validation.py:717: FutureWarning: Parameter 'base_estimator' of BaggingClassifier is deprecated in favor of 'estimator'. See BaggingClassifier's docstring for more details.\n",
      "  estimator = estimator.set_params(**clone(parameters, safe=False))\n",
      "c:\\Users\\nicol\\miniconda3\\envs\\data_env\\Lib\\site-packages\\sklearn\\model_selection\\_validation.py:717: FutureWarning: Parameter 'base_estimator' of BaggingClassifier is deprecated in favor of 'estimator'. See BaggingClassifier's docstring for more details.\n",
      "  estimator = estimator.set_params(**clone(parameters, safe=False))\n",
      "c:\\Users\\nicol\\miniconda3\\envs\\data_env\\Lib\\site-packages\\sklearn\\model_selection\\_validation.py:717: FutureWarning: Parameter 'base_estimator' of BaggingClassifier is deprecated in favor of 'estimator'. See BaggingClassifier's docstring for more details.\n",
      "  estimator = estimator.set_params(**clone(parameters, safe=False))\n",
      "c:\\Users\\nicol\\miniconda3\\envs\\data_env\\Lib\\site-packages\\sklearn\\model_selection\\_validation.py:717: FutureWarning: Parameter 'base_estimator' of BaggingClassifier is deprecated in favor of 'estimator'. See BaggingClassifier's docstring for more details.\n",
      "  estimator = estimator.set_params(**clone(parameters, safe=False))\n",
      "c:\\Users\\nicol\\miniconda3\\envs\\data_env\\Lib\\site-packages\\sklearn\\model_selection\\_validation.py:717: FutureWarning: Parameter 'base_estimator' of BaggingClassifier is deprecated in favor of 'estimator'. See BaggingClassifier's docstring for more details.\n",
      "  estimator = estimator.set_params(**clone(parameters, safe=False))\n",
      "c:\\Users\\nicol\\miniconda3\\envs\\data_env\\Lib\\site-packages\\sklearn\\model_selection\\_validation.py:717: FutureWarning: Parameter 'base_estimator' of BaggingClassifier is deprecated in favor of 'estimator'. See BaggingClassifier's docstring for more details.\n",
      "  estimator = estimator.set_params(**clone(parameters, safe=False))\n",
      "c:\\Users\\nicol\\miniconda3\\envs\\data_env\\Lib\\site-packages\\sklearn\\model_selection\\_validation.py:717: FutureWarning: Parameter 'base_estimator' of BaggingClassifier is deprecated in favor of 'estimator'. See BaggingClassifier's docstring for more details.\n",
      "  estimator = estimator.set_params(**clone(parameters, safe=False))\n",
      "c:\\Users\\nicol\\miniconda3\\envs\\data_env\\Lib\\site-packages\\sklearn\\model_selection\\_validation.py:717: FutureWarning: Parameter 'base_estimator' of BaggingClassifier is deprecated in favor of 'estimator'. See BaggingClassifier's docstring for more details.\n",
      "  estimator = estimator.set_params(**clone(parameters, safe=False))\n",
      "c:\\Users\\nicol\\miniconda3\\envs\\data_env\\Lib\\site-packages\\sklearn\\model_selection\\_validation.py:717: FutureWarning: Parameter 'base_estimator' of BaggingClassifier is deprecated in favor of 'estimator'. See BaggingClassifier's docstring for more details.\n",
      "  estimator = estimator.set_params(**clone(parameters, safe=False))\n",
      "c:\\Users\\nicol\\miniconda3\\envs\\data_env\\Lib\\site-packages\\sklearn\\model_selection\\_validation.py:717: FutureWarning: Parameter 'base_estimator' of BaggingClassifier is deprecated in favor of 'estimator'. See BaggingClassifier's docstring for more details.\n",
      "  estimator = estimator.set_params(**clone(parameters, safe=False))\n",
      "c:\\Users\\nicol\\miniconda3\\envs\\data_env\\Lib\\site-packages\\sklearn\\model_selection\\_validation.py:717: FutureWarning: Parameter 'base_estimator' of BaggingClassifier is deprecated in favor of 'estimator'. See BaggingClassifier's docstring for more details.\n",
      "  estimator = estimator.set_params(**clone(parameters, safe=False))\n",
      "c:\\Users\\nicol\\miniconda3\\envs\\data_env\\Lib\\site-packages\\sklearn\\model_selection\\_validation.py:717: FutureWarning: Parameter 'base_estimator' of BaggingClassifier is deprecated in favor of 'estimator'. See BaggingClassifier's docstring for more details.\n",
      "  estimator = estimator.set_params(**clone(parameters, safe=False))\n",
      "c:\\Users\\nicol\\miniconda3\\envs\\data_env\\Lib\\site-packages\\sklearn\\model_selection\\_validation.py:717: FutureWarning: Parameter 'base_estimator' of BaggingClassifier is deprecated in favor of 'estimator'. See BaggingClassifier's docstring for more details.\n",
      "  estimator = estimator.set_params(**clone(parameters, safe=False))\n",
      "c:\\Users\\nicol\\miniconda3\\envs\\data_env\\Lib\\site-packages\\sklearn\\model_selection\\_validation.py:717: FutureWarning: Parameter 'base_estimator' of BaggingClassifier is deprecated in favor of 'estimator'. See BaggingClassifier's docstring for more details.\n",
      "  estimator = estimator.set_params(**clone(parameters, safe=False))\n",
      "c:\\Users\\nicol\\miniconda3\\envs\\data_env\\Lib\\site-packages\\sklearn\\model_selection\\_validation.py:717: FutureWarning: Parameter 'base_estimator' of BaggingClassifier is deprecated in favor of 'estimator'. See BaggingClassifier's docstring for more details.\n",
      "  estimator = estimator.set_params(**clone(parameters, safe=False))\n",
      "c:\\Users\\nicol\\miniconda3\\envs\\data_env\\Lib\\site-packages\\sklearn\\model_selection\\_validation.py:717: FutureWarning: Parameter 'base_estimator' of BaggingClassifier is deprecated in favor of 'estimator'. See BaggingClassifier's docstring for more details.\n",
      "  estimator = estimator.set_params(**clone(parameters, safe=False))\n",
      "c:\\Users\\nicol\\miniconda3\\envs\\data_env\\Lib\\site-packages\\sklearn\\model_selection\\_validation.py:717: FutureWarning: Parameter 'base_estimator' of BaggingClassifier is deprecated in favor of 'estimator'. See BaggingClassifier's docstring for more details.\n",
      "  estimator = estimator.set_params(**clone(parameters, safe=False))\n",
      "c:\\Users\\nicol\\miniconda3\\envs\\data_env\\Lib\\site-packages\\sklearn\\model_selection\\_validation.py:717: FutureWarning: Parameter 'base_estimator' of BaggingClassifier is deprecated in favor of 'estimator'. See BaggingClassifier's docstring for more details.\n",
      "  estimator = estimator.set_params(**clone(parameters, safe=False))\n",
      "c:\\Users\\nicol\\miniconda3\\envs\\data_env\\Lib\\site-packages\\sklearn\\model_selection\\_validation.py:717: FutureWarning: Parameter 'base_estimator' of BaggingClassifier is deprecated in favor of 'estimator'. See BaggingClassifier's docstring for more details.\n",
      "  estimator = estimator.set_params(**clone(parameters, safe=False))\n",
      "c:\\Users\\nicol\\miniconda3\\envs\\data_env\\Lib\\site-packages\\sklearn\\model_selection\\_validation.py:717: FutureWarning: Parameter 'base_estimator' of BaggingClassifier is deprecated in favor of 'estimator'. See BaggingClassifier's docstring for more details.\n",
      "  estimator = estimator.set_params(**clone(parameters, safe=False))\n",
      "c:\\Users\\nicol\\miniconda3\\envs\\data_env\\Lib\\site-packages\\sklearn\\model_selection\\_validation.py:717: FutureWarning: Parameter 'base_estimator' of BaggingClassifier is deprecated in favor of 'estimator'. See BaggingClassifier's docstring for more details.\n",
      "  estimator = estimator.set_params(**clone(parameters, safe=False))\n",
      "c:\\Users\\nicol\\miniconda3\\envs\\data_env\\Lib\\site-packages\\sklearn\\model_selection\\_validation.py:717: FutureWarning: Parameter 'base_estimator' of BaggingClassifier is deprecated in favor of 'estimator'. See BaggingClassifier's docstring for more details.\n",
      "  estimator = estimator.set_params(**clone(parameters, safe=False))\n",
      "c:\\Users\\nicol\\miniconda3\\envs\\data_env\\Lib\\site-packages\\sklearn\\model_selection\\_validation.py:717: FutureWarning: Parameter 'base_estimator' of BaggingClassifier is deprecated in favor of 'estimator'. See BaggingClassifier's docstring for more details.\n",
      "  estimator = estimator.set_params(**clone(parameters, safe=False))\n",
      "c:\\Users\\nicol\\miniconda3\\envs\\data_env\\Lib\\site-packages\\sklearn\\model_selection\\_validation.py:717: FutureWarning: Parameter 'base_estimator' of BaggingClassifier is deprecated in favor of 'estimator'. See BaggingClassifier's docstring for more details.\n",
      "  estimator = estimator.set_params(**clone(parameters, safe=False))\n",
      "c:\\Users\\nicol\\miniconda3\\envs\\data_env\\Lib\\site-packages\\sklearn\\model_selection\\_validation.py:717: FutureWarning: Parameter 'base_estimator' of BaggingClassifier is deprecated in favor of 'estimator'. See BaggingClassifier's docstring for more details.\n",
      "  estimator = estimator.set_params(**clone(parameters, safe=False))\n",
      "c:\\Users\\nicol\\miniconda3\\envs\\data_env\\Lib\\site-packages\\sklearn\\model_selection\\_validation.py:717: FutureWarning: Parameter 'base_estimator' of BaggingClassifier is deprecated in favor of 'estimator'. See BaggingClassifier's docstring for more details.\n",
      "  estimator = estimator.set_params(**clone(parameters, safe=False))\n",
      "c:\\Users\\nicol\\miniconda3\\envs\\data_env\\Lib\\site-packages\\sklearn\\model_selection\\_validation.py:717: FutureWarning: Parameter 'base_estimator' of BaggingClassifier is deprecated in favor of 'estimator'. See BaggingClassifier's docstring for more details.\n",
      "  estimator = estimator.set_params(**clone(parameters, safe=False))\n",
      "c:\\Users\\nicol\\miniconda3\\envs\\data_env\\Lib\\site-packages\\sklearn\\model_selection\\_validation.py:717: FutureWarning: Parameter 'base_estimator' of BaggingClassifier is deprecated in favor of 'estimator'. See BaggingClassifier's docstring for more details.\n",
      "  estimator = estimator.set_params(**clone(parameters, safe=False))\n",
      "c:\\Users\\nicol\\miniconda3\\envs\\data_env\\Lib\\site-packages\\sklearn\\model_selection\\_validation.py:717: FutureWarning: Parameter 'base_estimator' of BaggingClassifier is deprecated in favor of 'estimator'. See BaggingClassifier's docstring for more details.\n",
      "  estimator = estimator.set_params(**clone(parameters, safe=False))\n",
      "c:\\Users\\nicol\\miniconda3\\envs\\data_env\\Lib\\site-packages\\sklearn\\model_selection\\_validation.py:717: FutureWarning: Parameter 'base_estimator' of BaggingClassifier is deprecated in favor of 'estimator'. See BaggingClassifier's docstring for more details.\n",
      "  estimator = estimator.set_params(**clone(parameters, safe=False))\n",
      "c:\\Users\\nicol\\miniconda3\\envs\\data_env\\Lib\\site-packages\\sklearn\\model_selection\\_validation.py:717: FutureWarning: Parameter 'base_estimator' of BaggingClassifier is deprecated in favor of 'estimator'. See BaggingClassifier's docstring for more details.\n",
      "  estimator = estimator.set_params(**clone(parameters, safe=False))\n",
      "c:\\Users\\nicol\\miniconda3\\envs\\data_env\\Lib\\site-packages\\sklearn\\model_selection\\_validation.py:717: FutureWarning: Parameter 'base_estimator' of BaggingClassifier is deprecated in favor of 'estimator'. See BaggingClassifier's docstring for more details.\n",
      "  estimator = estimator.set_params(**clone(parameters, safe=False))\n",
      "c:\\Users\\nicol\\miniconda3\\envs\\data_env\\Lib\\site-packages\\sklearn\\model_selection\\_validation.py:717: FutureWarning: Parameter 'base_estimator' of BaggingClassifier is deprecated in favor of 'estimator'. See BaggingClassifier's docstring for more details.\n",
      "  estimator = estimator.set_params(**clone(parameters, safe=False))\n",
      "c:\\Users\\nicol\\miniconda3\\envs\\data_env\\Lib\\site-packages\\sklearn\\model_selection\\_validation.py:717: FutureWarning: Parameter 'base_estimator' of BaggingClassifier is deprecated in favor of 'estimator'. See BaggingClassifier's docstring for more details.\n",
      "  estimator = estimator.set_params(**clone(parameters, safe=False))\n",
      "c:\\Users\\nicol\\miniconda3\\envs\\data_env\\Lib\\site-packages\\sklearn\\model_selection\\_validation.py:717: FutureWarning: Parameter 'base_estimator' of BaggingClassifier is deprecated in favor of 'estimator'. See BaggingClassifier's docstring for more details.\n",
      "  estimator = estimator.set_params(**clone(parameters, safe=False))\n",
      "c:\\Users\\nicol\\miniconda3\\envs\\data_env\\Lib\\site-packages\\sklearn\\model_selection\\_validation.py:717: FutureWarning: Parameter 'base_estimator' of BaggingClassifier is deprecated in favor of 'estimator'. See BaggingClassifier's docstring for more details.\n",
      "  estimator = estimator.set_params(**clone(parameters, safe=False))\n",
      "c:\\Users\\nicol\\miniconda3\\envs\\data_env\\Lib\\site-packages\\sklearn\\model_selection\\_validation.py:717: FutureWarning: Parameter 'base_estimator' of BaggingClassifier is deprecated in favor of 'estimator'. See BaggingClassifier's docstring for more details.\n",
      "  estimator = estimator.set_params(**clone(parameters, safe=False))\n",
      "c:\\Users\\nicol\\miniconda3\\envs\\data_env\\Lib\\site-packages\\sklearn\\model_selection\\_validation.py:717: FutureWarning: Parameter 'base_estimator' of BaggingClassifier is deprecated in favor of 'estimator'. See BaggingClassifier's docstring for more details.\n",
      "  estimator = estimator.set_params(**clone(parameters, safe=False))\n",
      "c:\\Users\\nicol\\miniconda3\\envs\\data_env\\Lib\\site-packages\\sklearn\\model_selection\\_validation.py:717: FutureWarning: Parameter 'base_estimator' of BaggingClassifier is deprecated in favor of 'estimator'. See BaggingClassifier's docstring for more details.\n",
      "  estimator = estimator.set_params(**clone(parameters, safe=False))\n",
      "c:\\Users\\nicol\\miniconda3\\envs\\data_env\\Lib\\site-packages\\sklearn\\model_selection\\_validation.py:717: FutureWarning: Parameter 'base_estimator' of BaggingClassifier is deprecated in favor of 'estimator'. See BaggingClassifier's docstring for more details.\n",
      "  estimator = estimator.set_params(**clone(parameters, safe=False))\n",
      "c:\\Users\\nicol\\miniconda3\\envs\\data_env\\Lib\\site-packages\\sklearn\\model_selection\\_validation.py:717: FutureWarning: Parameter 'base_estimator' of BaggingClassifier is deprecated in favor of 'estimator'. See BaggingClassifier's docstring for more details.\n",
      "  estimator = estimator.set_params(**clone(parameters, safe=False))\n",
      "c:\\Users\\nicol\\miniconda3\\envs\\data_env\\Lib\\site-packages\\sklearn\\model_selection\\_validation.py:717: FutureWarning: Parameter 'base_estimator' of BaggingClassifier is deprecated in favor of 'estimator'. See BaggingClassifier's docstring for more details.\n",
      "  estimator = estimator.set_params(**clone(parameters, safe=False))\n",
      "c:\\Users\\nicol\\miniconda3\\envs\\data_env\\Lib\\site-packages\\sklearn\\model_selection\\_validation.py:717: FutureWarning: Parameter 'base_estimator' of BaggingClassifier is deprecated in favor of 'estimator'. See BaggingClassifier's docstring for more details.\n",
      "  estimator = estimator.set_params(**clone(parameters, safe=False))\n",
      "c:\\Users\\nicol\\miniconda3\\envs\\data_env\\Lib\\site-packages\\sklearn\\model_selection\\_validation.py:717: FutureWarning: Parameter 'base_estimator' of BaggingClassifier is deprecated in favor of 'estimator'. See BaggingClassifier's docstring for more details.\n",
      "  estimator = estimator.set_params(**clone(parameters, safe=False))\n",
      "c:\\Users\\nicol\\miniconda3\\envs\\data_env\\Lib\\site-packages\\sklearn\\model_selection\\_validation.py:717: FutureWarning: Parameter 'base_estimator' of BaggingClassifier is deprecated in favor of 'estimator'. See BaggingClassifier's docstring for more details.\n",
      "  estimator = estimator.set_params(**clone(parameters, safe=False))\n",
      "c:\\Users\\nicol\\miniconda3\\envs\\data_env\\Lib\\site-packages\\sklearn\\model_selection\\_validation.py:717: FutureWarning: Parameter 'base_estimator' of BaggingClassifier is deprecated in favor of 'estimator'. See BaggingClassifier's docstring for more details.\n",
      "  estimator = estimator.set_params(**clone(parameters, safe=False))\n",
      "c:\\Users\\nicol\\miniconda3\\envs\\data_env\\Lib\\site-packages\\sklearn\\model_selection\\_validation.py:717: FutureWarning: Parameter 'base_estimator' of BaggingClassifier is deprecated in favor of 'estimator'. See BaggingClassifier's docstring for more details.\n",
      "  estimator = estimator.set_params(**clone(parameters, safe=False))\n",
      "c:\\Users\\nicol\\miniconda3\\envs\\data_env\\Lib\\site-packages\\sklearn\\model_selection\\_validation.py:717: FutureWarning: Parameter 'base_estimator' of BaggingClassifier is deprecated in favor of 'estimator'. See BaggingClassifier's docstring for more details.\n",
      "  estimator = estimator.set_params(**clone(parameters, safe=False))\n",
      "c:\\Users\\nicol\\miniconda3\\envs\\data_env\\Lib\\site-packages\\sklearn\\model_selection\\_validation.py:717: FutureWarning: Parameter 'base_estimator' of BaggingClassifier is deprecated in favor of 'estimator'. See BaggingClassifier's docstring for more details.\n",
      "  estimator = estimator.set_params(**clone(parameters, safe=False))\n",
      "c:\\Users\\nicol\\miniconda3\\envs\\data_env\\Lib\\site-packages\\sklearn\\model_selection\\_validation.py:717: FutureWarning: Parameter 'base_estimator' of BaggingClassifier is deprecated in favor of 'estimator'. See BaggingClassifier's docstring for more details.\n",
      "  estimator = estimator.set_params(**clone(parameters, safe=False))\n",
      "c:\\Users\\nicol\\miniconda3\\envs\\data_env\\Lib\\site-packages\\sklearn\\model_selection\\_validation.py:717: FutureWarning: Parameter 'base_estimator' of BaggingClassifier is deprecated in favor of 'estimator'. See BaggingClassifier's docstring for more details.\n",
      "  estimator = estimator.set_params(**clone(parameters, safe=False))\n",
      "c:\\Users\\nicol\\miniconda3\\envs\\data_env\\Lib\\site-packages\\sklearn\\model_selection\\_validation.py:717: FutureWarning: Parameter 'base_estimator' of BaggingClassifier is deprecated in favor of 'estimator'. See BaggingClassifier's docstring for more details.\n",
      "  estimator = estimator.set_params(**clone(parameters, safe=False))\n",
      "c:\\Users\\nicol\\miniconda3\\envs\\data_env\\Lib\\site-packages\\sklearn\\model_selection\\_validation.py:717: FutureWarning: Parameter 'base_estimator' of BaggingClassifier is deprecated in favor of 'estimator'. See BaggingClassifier's docstring for more details.\n",
      "  estimator = estimator.set_params(**clone(parameters, safe=False))\n",
      "c:\\Users\\nicol\\miniconda3\\envs\\data_env\\Lib\\site-packages\\sklearn\\model_selection\\_validation.py:717: FutureWarning: Parameter 'base_estimator' of BaggingClassifier is deprecated in favor of 'estimator'. See BaggingClassifier's docstring for more details.\n",
      "  estimator = estimator.set_params(**clone(parameters, safe=False))\n",
      "c:\\Users\\nicol\\miniconda3\\envs\\data_env\\Lib\\site-packages\\sklearn\\model_selection\\_validation.py:717: FutureWarning: Parameter 'base_estimator' of BaggingClassifier is deprecated in favor of 'estimator'. See BaggingClassifier's docstring for more details.\n",
      "  estimator = estimator.set_params(**clone(parameters, safe=False))\n",
      "c:\\Users\\nicol\\miniconda3\\envs\\data_env\\Lib\\site-packages\\sklearn\\model_selection\\_validation.py:717: FutureWarning: Parameter 'base_estimator' of BaggingClassifier is deprecated in favor of 'estimator'. See BaggingClassifier's docstring for more details.\n",
      "  estimator = estimator.set_params(**clone(parameters, safe=False))\n",
      "c:\\Users\\nicol\\miniconda3\\envs\\data_env\\Lib\\site-packages\\sklearn\\model_selection\\_validation.py:717: FutureWarning: Parameter 'base_estimator' of BaggingClassifier is deprecated in favor of 'estimator'. See BaggingClassifier's docstring for more details.\n",
      "  estimator = estimator.set_params(**clone(parameters, safe=False))\n",
      "c:\\Users\\nicol\\miniconda3\\envs\\data_env\\Lib\\site-packages\\sklearn\\model_selection\\_validation.py:717: FutureWarning: Parameter 'base_estimator' of BaggingClassifier is deprecated in favor of 'estimator'. See BaggingClassifier's docstring for more details.\n",
      "  estimator = estimator.set_params(**clone(parameters, safe=False))\n",
      "c:\\Users\\nicol\\miniconda3\\envs\\data_env\\Lib\\site-packages\\sklearn\\model_selection\\_validation.py:717: FutureWarning: Parameter 'base_estimator' of BaggingClassifier is deprecated in favor of 'estimator'. See BaggingClassifier's docstring for more details.\n",
      "  estimator = estimator.set_params(**clone(parameters, safe=False))\n",
      "c:\\Users\\nicol\\miniconda3\\envs\\data_env\\Lib\\site-packages\\sklearn\\model_selection\\_validation.py:717: FutureWarning: Parameter 'base_estimator' of BaggingClassifier is deprecated in favor of 'estimator'. See BaggingClassifier's docstring for more details.\n",
      "  estimator = estimator.set_params(**clone(parameters, safe=False))\n",
      "c:\\Users\\nicol\\miniconda3\\envs\\data_env\\Lib\\site-packages\\sklearn\\model_selection\\_validation.py:717: FutureWarning: Parameter 'base_estimator' of BaggingClassifier is deprecated in favor of 'estimator'. See BaggingClassifier's docstring for more details.\n",
      "  estimator = estimator.set_params(**clone(parameters, safe=False))\n",
      "c:\\Users\\nicol\\miniconda3\\envs\\data_env\\Lib\\site-packages\\sklearn\\model_selection\\_validation.py:717: FutureWarning: Parameter 'base_estimator' of BaggingClassifier is deprecated in favor of 'estimator'. See BaggingClassifier's docstring for more details.\n",
      "  estimator = estimator.set_params(**clone(parameters, safe=False))\n",
      "c:\\Users\\nicol\\miniconda3\\envs\\data_env\\Lib\\site-packages\\sklearn\\model_selection\\_validation.py:717: FutureWarning: Parameter 'base_estimator' of BaggingClassifier is deprecated in favor of 'estimator'. See BaggingClassifier's docstring for more details.\n",
      "  estimator = estimator.set_params(**clone(parameters, safe=False))\n",
      "c:\\Users\\nicol\\miniconda3\\envs\\data_env\\Lib\\site-packages\\sklearn\\model_selection\\_validation.py:717: FutureWarning: Parameter 'base_estimator' of BaggingClassifier is deprecated in favor of 'estimator'. See BaggingClassifier's docstring for more details.\n",
      "  estimator = estimator.set_params(**clone(parameters, safe=False))\n",
      "c:\\Users\\nicol\\miniconda3\\envs\\data_env\\Lib\\site-packages\\sklearn\\model_selection\\_validation.py:717: FutureWarning: Parameter 'base_estimator' of BaggingClassifier is deprecated in favor of 'estimator'. See BaggingClassifier's docstring for more details.\n",
      "  estimator = estimator.set_params(**clone(parameters, safe=False))\n",
      "c:\\Users\\nicol\\miniconda3\\envs\\data_env\\Lib\\site-packages\\sklearn\\model_selection\\_validation.py:717: FutureWarning: Parameter 'base_estimator' of BaggingClassifier is deprecated in favor of 'estimator'. See BaggingClassifier's docstring for more details.\n",
      "  estimator = estimator.set_params(**clone(parameters, safe=False))\n",
      "c:\\Users\\nicol\\miniconda3\\envs\\data_env\\Lib\\site-packages\\sklearn\\model_selection\\_validation.py:717: FutureWarning: Parameter 'base_estimator' of BaggingClassifier is deprecated in favor of 'estimator'. See BaggingClassifier's docstring for more details.\n",
      "  estimator = estimator.set_params(**clone(parameters, safe=False))\n",
      "c:\\Users\\nicol\\miniconda3\\envs\\data_env\\Lib\\site-packages\\sklearn\\model_selection\\_validation.py:717: FutureWarning: Parameter 'base_estimator' of BaggingClassifier is deprecated in favor of 'estimator'. See BaggingClassifier's docstring for more details.\n",
      "  estimator = estimator.set_params(**clone(parameters, safe=False))\n",
      "c:\\Users\\nicol\\miniconda3\\envs\\data_env\\Lib\\site-packages\\sklearn\\model_selection\\_validation.py:717: FutureWarning: Parameter 'base_estimator' of BaggingClassifier is deprecated in favor of 'estimator'. See BaggingClassifier's docstring for more details.\n",
      "  estimator = estimator.set_params(**clone(parameters, safe=False))\n",
      "c:\\Users\\nicol\\miniconda3\\envs\\data_env\\Lib\\site-packages\\sklearn\\model_selection\\_validation.py:717: FutureWarning: Parameter 'base_estimator' of BaggingClassifier is deprecated in favor of 'estimator'. See BaggingClassifier's docstring for more details.\n",
      "  estimator = estimator.set_params(**clone(parameters, safe=False))\n",
      "c:\\Users\\nicol\\miniconda3\\envs\\data_env\\Lib\\site-packages\\sklearn\\model_selection\\_validation.py:717: FutureWarning: Parameter 'base_estimator' of BaggingClassifier is deprecated in favor of 'estimator'. See BaggingClassifier's docstring for more details.\n",
      "  estimator = estimator.set_params(**clone(parameters, safe=False))\n",
      "c:\\Users\\nicol\\miniconda3\\envs\\data_env\\Lib\\site-packages\\sklearn\\model_selection\\_validation.py:717: FutureWarning: Parameter 'base_estimator' of BaggingClassifier is deprecated in favor of 'estimator'. See BaggingClassifier's docstring for more details.\n",
      "  estimator = estimator.set_params(**clone(parameters, safe=False))\n",
      "c:\\Users\\nicol\\miniconda3\\envs\\data_env\\Lib\\site-packages\\sklearn\\model_selection\\_validation.py:717: FutureWarning: Parameter 'base_estimator' of BaggingClassifier is deprecated in favor of 'estimator'. See BaggingClassifier's docstring for more details.\n",
      "  estimator = estimator.set_params(**clone(parameters, safe=False))\n",
      "c:\\Users\\nicol\\miniconda3\\envs\\data_env\\Lib\\site-packages\\sklearn\\model_selection\\_validation.py:717: FutureWarning: Parameter 'base_estimator' of BaggingClassifier is deprecated in favor of 'estimator'. See BaggingClassifier's docstring for more details.\n",
      "  estimator = estimator.set_params(**clone(parameters, safe=False))\n",
      "c:\\Users\\nicol\\miniconda3\\envs\\data_env\\Lib\\site-packages\\sklearn\\model_selection\\_validation.py:717: FutureWarning: Parameter 'base_estimator' of BaggingClassifier is deprecated in favor of 'estimator'. See BaggingClassifier's docstring for more details.\n",
      "  estimator = estimator.set_params(**clone(parameters, safe=False))\n",
      "c:\\Users\\nicol\\miniconda3\\envs\\data_env\\Lib\\site-packages\\sklearn\\model_selection\\_validation.py:717: FutureWarning: Parameter 'base_estimator' of BaggingClassifier is deprecated in favor of 'estimator'. See BaggingClassifier's docstring for more details.\n",
      "  estimator = estimator.set_params(**clone(parameters, safe=False))\n",
      "c:\\Users\\nicol\\miniconda3\\envs\\data_env\\Lib\\site-packages\\sklearn\\model_selection\\_validation.py:717: FutureWarning: Parameter 'base_estimator' of BaggingClassifier is deprecated in favor of 'estimator'. See BaggingClassifier's docstring for more details.\n",
      "  estimator = estimator.set_params(**clone(parameters, safe=False))\n",
      "c:\\Users\\nicol\\miniconda3\\envs\\data_env\\Lib\\site-packages\\sklearn\\model_selection\\_validation.py:717: FutureWarning: Parameter 'base_estimator' of BaggingClassifier is deprecated in favor of 'estimator'. See BaggingClassifier's docstring for more details.\n",
      "  estimator = estimator.set_params(**clone(parameters, safe=False))\n",
      "c:\\Users\\nicol\\miniconda3\\envs\\data_env\\Lib\\site-packages\\sklearn\\model_selection\\_validation.py:717: FutureWarning: Parameter 'base_estimator' of BaggingClassifier is deprecated in favor of 'estimator'. See BaggingClassifier's docstring for more details.\n",
      "  estimator = estimator.set_params(**clone(parameters, safe=False))\n",
      "c:\\Users\\nicol\\miniconda3\\envs\\data_env\\Lib\\site-packages\\sklearn\\model_selection\\_validation.py:717: FutureWarning: Parameter 'base_estimator' of BaggingClassifier is deprecated in favor of 'estimator'. See BaggingClassifier's docstring for more details.\n",
      "  estimator = estimator.set_params(**clone(parameters, safe=False))\n",
      "c:\\Users\\nicol\\miniconda3\\envs\\data_env\\Lib\\site-packages\\sklearn\\model_selection\\_validation.py:717: FutureWarning: Parameter 'base_estimator' of BaggingClassifier is deprecated in favor of 'estimator'. See BaggingClassifier's docstring for more details.\n",
      "  estimator = estimator.set_params(**clone(parameters, safe=False))\n",
      "c:\\Users\\nicol\\miniconda3\\envs\\data_env\\Lib\\site-packages\\sklearn\\model_selection\\_validation.py:717: FutureWarning: Parameter 'base_estimator' of BaggingClassifier is deprecated in favor of 'estimator'. See BaggingClassifier's docstring for more details.\n",
      "  estimator = estimator.set_params(**clone(parameters, safe=False))\n",
      "c:\\Users\\nicol\\miniconda3\\envs\\data_env\\Lib\\site-packages\\sklearn\\model_selection\\_validation.py:717: FutureWarning: Parameter 'base_estimator' of BaggingClassifier is deprecated in favor of 'estimator'. See BaggingClassifier's docstring for more details.\n",
      "  estimator = estimator.set_params(**clone(parameters, safe=False))\n",
      "c:\\Users\\nicol\\miniconda3\\envs\\data_env\\Lib\\site-packages\\sklearn\\model_selection\\_validation.py:717: FutureWarning: Parameter 'base_estimator' of BaggingClassifier is deprecated in favor of 'estimator'. See BaggingClassifier's docstring for more details.\n",
      "  estimator = estimator.set_params(**clone(parameters, safe=False))\n",
      "c:\\Users\\nicol\\miniconda3\\envs\\data_env\\Lib\\site-packages\\sklearn\\model_selection\\_validation.py:717: FutureWarning: Parameter 'base_estimator' of BaggingClassifier is deprecated in favor of 'estimator'. See BaggingClassifier's docstring for more details.\n",
      "  estimator = estimator.set_params(**clone(parameters, safe=False))\n",
      "c:\\Users\\nicol\\miniconda3\\envs\\data_env\\Lib\\site-packages\\sklearn\\model_selection\\_validation.py:717: FutureWarning: Parameter 'base_estimator' of BaggingClassifier is deprecated in favor of 'estimator'. See BaggingClassifier's docstring for more details.\n",
      "  estimator = estimator.set_params(**clone(parameters, safe=False))\n",
      "c:\\Users\\nicol\\miniconda3\\envs\\data_env\\Lib\\site-packages\\sklearn\\model_selection\\_validation.py:717: FutureWarning: Parameter 'base_estimator' of BaggingClassifier is deprecated in favor of 'estimator'. See BaggingClassifier's docstring for more details.\n",
      "  estimator = estimator.set_params(**clone(parameters, safe=False))\n",
      "c:\\Users\\nicol\\miniconda3\\envs\\data_env\\Lib\\site-packages\\sklearn\\model_selection\\_validation.py:717: FutureWarning: Parameter 'base_estimator' of BaggingClassifier is deprecated in favor of 'estimator'. See BaggingClassifier's docstring for more details.\n",
      "  estimator = estimator.set_params(**clone(parameters, safe=False))\n",
      "c:\\Users\\nicol\\miniconda3\\envs\\data_env\\Lib\\site-packages\\sklearn\\model_selection\\_validation.py:717: FutureWarning: Parameter 'base_estimator' of BaggingClassifier is deprecated in favor of 'estimator'. See BaggingClassifier's docstring for more details.\n",
      "  estimator = estimator.set_params(**clone(parameters, safe=False))\n",
      "c:\\Users\\nicol\\miniconda3\\envs\\data_env\\Lib\\site-packages\\sklearn\\model_selection\\_validation.py:717: FutureWarning: Parameter 'base_estimator' of BaggingClassifier is deprecated in favor of 'estimator'. See BaggingClassifier's docstring for more details.\n",
      "  estimator = estimator.set_params(**clone(parameters, safe=False))\n",
      "c:\\Users\\nicol\\miniconda3\\envs\\data_env\\Lib\\site-packages\\sklearn\\model_selection\\_validation.py:717: FutureWarning: Parameter 'base_estimator' of BaggingClassifier is deprecated in favor of 'estimator'. See BaggingClassifier's docstring for more details.\n",
      "  estimator = estimator.set_params(**clone(parameters, safe=False))\n",
      "c:\\Users\\nicol\\miniconda3\\envs\\data_env\\Lib\\site-packages\\sklearn\\model_selection\\_validation.py:717: FutureWarning: Parameter 'base_estimator' of BaggingClassifier is deprecated in favor of 'estimator'. See BaggingClassifier's docstring for more details.\n",
      "  estimator = estimator.set_params(**clone(parameters, safe=False))\n",
      "c:\\Users\\nicol\\miniconda3\\envs\\data_env\\Lib\\site-packages\\sklearn\\model_selection\\_validation.py:717: FutureWarning: Parameter 'base_estimator' of BaggingClassifier is deprecated in favor of 'estimator'. See BaggingClassifier's docstring for more details.\n",
      "  estimator = estimator.set_params(**clone(parameters, safe=False))\n",
      "c:\\Users\\nicol\\miniconda3\\envs\\data_env\\Lib\\site-packages\\sklearn\\model_selection\\_validation.py:717: FutureWarning: Parameter 'base_estimator' of BaggingClassifier is deprecated in favor of 'estimator'. See BaggingClassifier's docstring for more details.\n",
      "  estimator = estimator.set_params(**clone(parameters, safe=False))\n",
      "c:\\Users\\nicol\\miniconda3\\envs\\data_env\\Lib\\site-packages\\sklearn\\model_selection\\_validation.py:717: FutureWarning: Parameter 'base_estimator' of BaggingClassifier is deprecated in favor of 'estimator'. See BaggingClassifier's docstring for more details.\n",
      "  estimator = estimator.set_params(**clone(parameters, safe=False))\n",
      "c:\\Users\\nicol\\miniconda3\\envs\\data_env\\Lib\\site-packages\\sklearn\\model_selection\\_validation.py:717: FutureWarning: Parameter 'base_estimator' of BaggingClassifier is deprecated in favor of 'estimator'. See BaggingClassifier's docstring for more details.\n",
      "  estimator = estimator.set_params(**clone(parameters, safe=False))\n",
      "c:\\Users\\nicol\\miniconda3\\envs\\data_env\\Lib\\site-packages\\sklearn\\model_selection\\_validation.py:717: FutureWarning: Parameter 'base_estimator' of BaggingClassifier is deprecated in favor of 'estimator'. See BaggingClassifier's docstring for more details.\n",
      "  estimator = estimator.set_params(**clone(parameters, safe=False))\n",
      "c:\\Users\\nicol\\miniconda3\\envs\\data_env\\Lib\\site-packages\\sklearn\\model_selection\\_validation.py:717: FutureWarning: Parameter 'base_estimator' of BaggingClassifier is deprecated in favor of 'estimator'. See BaggingClassifier's docstring for more details.\n",
      "  estimator = estimator.set_params(**clone(parameters, safe=False))\n",
      "c:\\Users\\nicol\\miniconda3\\envs\\data_env\\Lib\\site-packages\\sklearn\\model_selection\\_validation.py:717: FutureWarning: Parameter 'base_estimator' of BaggingClassifier is deprecated in favor of 'estimator'. See BaggingClassifier's docstring for more details.\n",
      "  estimator = estimator.set_params(**clone(parameters, safe=False))\n",
      "c:\\Users\\nicol\\miniconda3\\envs\\data_env\\Lib\\site-packages\\sklearn\\model_selection\\_validation.py:717: FutureWarning: Parameter 'base_estimator' of BaggingClassifier is deprecated in favor of 'estimator'. See BaggingClassifier's docstring for more details.\n",
      "  estimator = estimator.set_params(**clone(parameters, safe=False))\n",
      "c:\\Users\\nicol\\miniconda3\\envs\\data_env\\Lib\\site-packages\\sklearn\\model_selection\\_validation.py:717: FutureWarning: Parameter 'base_estimator' of BaggingClassifier is deprecated in favor of 'estimator'. See BaggingClassifier's docstring for more details.\n",
      "  estimator = estimator.set_params(**clone(parameters, safe=False))\n",
      "c:\\Users\\nicol\\miniconda3\\envs\\data_env\\Lib\\site-packages\\sklearn\\model_selection\\_validation.py:717: FutureWarning: Parameter 'base_estimator' of BaggingClassifier is deprecated in favor of 'estimator'. See BaggingClassifier's docstring for more details.\n",
      "  estimator = estimator.set_params(**clone(parameters, safe=False))\n",
      "c:\\Users\\nicol\\miniconda3\\envs\\data_env\\Lib\\site-packages\\sklearn\\model_selection\\_validation.py:717: FutureWarning: Parameter 'base_estimator' of BaggingClassifier is deprecated in favor of 'estimator'. See BaggingClassifier's docstring for more details.\n",
      "  estimator = estimator.set_params(**clone(parameters, safe=False))\n",
      "c:\\Users\\nicol\\miniconda3\\envs\\data_env\\Lib\\site-packages\\sklearn\\model_selection\\_validation.py:717: FutureWarning: Parameter 'base_estimator' of BaggingClassifier is deprecated in favor of 'estimator'. See BaggingClassifier's docstring for more details.\n",
      "  estimator = estimator.set_params(**clone(parameters, safe=False))\n",
      "c:\\Users\\nicol\\miniconda3\\envs\\data_env\\Lib\\site-packages\\sklearn\\model_selection\\_validation.py:717: FutureWarning: Parameter 'base_estimator' of BaggingClassifier is deprecated in favor of 'estimator'. See BaggingClassifier's docstring for more details.\n",
      "  estimator = estimator.set_params(**clone(parameters, safe=False))\n",
      "c:\\Users\\nicol\\miniconda3\\envs\\data_env\\Lib\\site-packages\\sklearn\\model_selection\\_validation.py:717: FutureWarning: Parameter 'base_estimator' of BaggingClassifier is deprecated in favor of 'estimator'. See BaggingClassifier's docstring for more details.\n",
      "  estimator = estimator.set_params(**clone(parameters, safe=False))\n",
      "c:\\Users\\nicol\\miniconda3\\envs\\data_env\\Lib\\site-packages\\sklearn\\model_selection\\_validation.py:717: FutureWarning: Parameter 'base_estimator' of BaggingClassifier is deprecated in favor of 'estimator'. See BaggingClassifier's docstring for more details.\n",
      "  estimator = estimator.set_params(**clone(parameters, safe=False))\n",
      "c:\\Users\\nicol\\miniconda3\\envs\\data_env\\Lib\\site-packages\\sklearn\\model_selection\\_validation.py:717: FutureWarning: Parameter 'base_estimator' of BaggingClassifier is deprecated in favor of 'estimator'. See BaggingClassifier's docstring for more details.\n",
      "  estimator = estimator.set_params(**clone(parameters, safe=False))\n",
      "c:\\Users\\nicol\\miniconda3\\envs\\data_env\\Lib\\site-packages\\sklearn\\model_selection\\_validation.py:717: FutureWarning: Parameter 'base_estimator' of BaggingClassifier is deprecated in favor of 'estimator'. See BaggingClassifier's docstring for more details.\n",
      "  estimator = estimator.set_params(**clone(parameters, safe=False))\n",
      "c:\\Users\\nicol\\miniconda3\\envs\\data_env\\Lib\\site-packages\\sklearn\\model_selection\\_validation.py:717: FutureWarning: Parameter 'base_estimator' of BaggingClassifier is deprecated in favor of 'estimator'. See BaggingClassifier's docstring for more details.\n",
      "  estimator = estimator.set_params(**clone(parameters, safe=False))\n",
      "c:\\Users\\nicol\\miniconda3\\envs\\data_env\\Lib\\site-packages\\sklearn\\model_selection\\_validation.py:717: FutureWarning: Parameter 'base_estimator' of BaggingClassifier is deprecated in favor of 'estimator'. See BaggingClassifier's docstring for more details.\n",
      "  estimator = estimator.set_params(**clone(parameters, safe=False))\n",
      "c:\\Users\\nicol\\miniconda3\\envs\\data_env\\Lib\\site-packages\\sklearn\\model_selection\\_validation.py:717: FutureWarning: Parameter 'base_estimator' of BaggingClassifier is deprecated in favor of 'estimator'. See BaggingClassifier's docstring for more details.\n",
      "  estimator = estimator.set_params(**clone(parameters, safe=False))\n",
      "c:\\Users\\nicol\\miniconda3\\envs\\data_env\\Lib\\site-packages\\sklearn\\model_selection\\_validation.py:717: FutureWarning: Parameter 'base_estimator' of BaggingClassifier is deprecated in favor of 'estimator'. See BaggingClassifier's docstring for more details.\n",
      "  estimator = estimator.set_params(**clone(parameters, safe=False))\n",
      "c:\\Users\\nicol\\miniconda3\\envs\\data_env\\Lib\\site-packages\\sklearn\\model_selection\\_validation.py:717: FutureWarning: Parameter 'base_estimator' of BaggingClassifier is deprecated in favor of 'estimator'. See BaggingClassifier's docstring for more details.\n",
      "  estimator = estimator.set_params(**clone(parameters, safe=False))\n",
      "c:\\Users\\nicol\\miniconda3\\envs\\data_env\\Lib\\site-packages\\sklearn\\model_selection\\_validation.py:717: FutureWarning: Parameter 'base_estimator' of BaggingClassifier is deprecated in favor of 'estimator'. See BaggingClassifier's docstring for more details.\n",
      "  estimator = estimator.set_params(**clone(parameters, safe=False))\n",
      "c:\\Users\\nicol\\miniconda3\\envs\\data_env\\Lib\\site-packages\\sklearn\\model_selection\\_validation.py:717: FutureWarning: Parameter 'base_estimator' of BaggingClassifier is deprecated in favor of 'estimator'. See BaggingClassifier's docstring for more details.\n",
      "  estimator = estimator.set_params(**clone(parameters, safe=False))\n",
      "c:\\Users\\nicol\\miniconda3\\envs\\data_env\\Lib\\site-packages\\sklearn\\model_selection\\_validation.py:717: FutureWarning: Parameter 'base_estimator' of BaggingClassifier is deprecated in favor of 'estimator'. See BaggingClassifier's docstring for more details.\n",
      "  estimator = estimator.set_params(**clone(parameters, safe=False))\n",
      "c:\\Users\\nicol\\miniconda3\\envs\\data_env\\Lib\\site-packages\\sklearn\\model_selection\\_validation.py:717: FutureWarning: Parameter 'base_estimator' of BaggingClassifier is deprecated in favor of 'estimator'. See BaggingClassifier's docstring for more details.\n",
      "  estimator = estimator.set_params(**clone(parameters, safe=False))\n",
      "c:\\Users\\nicol\\miniconda3\\envs\\data_env\\Lib\\site-packages\\sklearn\\model_selection\\_validation.py:717: FutureWarning: Parameter 'base_estimator' of BaggingClassifier is deprecated in favor of 'estimator'. See BaggingClassifier's docstring for more details.\n",
      "  estimator = estimator.set_params(**clone(parameters, safe=False))\n",
      "c:\\Users\\nicol\\miniconda3\\envs\\data_env\\Lib\\site-packages\\sklearn\\model_selection\\_validation.py:717: FutureWarning: Parameter 'base_estimator' of BaggingClassifier is deprecated in favor of 'estimator'. See BaggingClassifier's docstring for more details.\n",
      "  estimator = estimator.set_params(**clone(parameters, safe=False))\n",
      "c:\\Users\\nicol\\miniconda3\\envs\\data_env\\Lib\\site-packages\\sklearn\\model_selection\\_validation.py:717: FutureWarning: Parameter 'base_estimator' of BaggingClassifier is deprecated in favor of 'estimator'. See BaggingClassifier's docstring for more details.\n",
      "  estimator = estimator.set_params(**clone(parameters, safe=False))\n",
      "c:\\Users\\nicol\\miniconda3\\envs\\data_env\\Lib\\site-packages\\sklearn\\model_selection\\_validation.py:717: FutureWarning: Parameter 'base_estimator' of BaggingClassifier is deprecated in favor of 'estimator'. See BaggingClassifier's docstring for more details.\n",
      "  estimator = estimator.set_params(**clone(parameters, safe=False))\n",
      "c:\\Users\\nicol\\miniconda3\\envs\\data_env\\Lib\\site-packages\\sklearn\\model_selection\\_validation.py:717: FutureWarning: Parameter 'base_estimator' of BaggingClassifier is deprecated in favor of 'estimator'. See BaggingClassifier's docstring for more details.\n",
      "  estimator = estimator.set_params(**clone(parameters, safe=False))\n",
      "c:\\Users\\nicol\\miniconda3\\envs\\data_env\\Lib\\site-packages\\sklearn\\model_selection\\_validation.py:717: FutureWarning: Parameter 'base_estimator' of BaggingClassifier is deprecated in favor of 'estimator'. See BaggingClassifier's docstring for more details.\n",
      "  estimator = estimator.set_params(**clone(parameters, safe=False))\n",
      "c:\\Users\\nicol\\miniconda3\\envs\\data_env\\Lib\\site-packages\\sklearn\\model_selection\\_validation.py:717: FutureWarning: Parameter 'base_estimator' of BaggingClassifier is deprecated in favor of 'estimator'. See BaggingClassifier's docstring for more details.\n",
      "  estimator = estimator.set_params(**clone(parameters, safe=False))\n",
      "c:\\Users\\nicol\\miniconda3\\envs\\data_env\\Lib\\site-packages\\sklearn\\model_selection\\_validation.py:717: FutureWarning: Parameter 'base_estimator' of BaggingClassifier is deprecated in favor of 'estimator'. See BaggingClassifier's docstring for more details.\n",
      "  estimator = estimator.set_params(**clone(parameters, safe=False))\n",
      "c:\\Users\\nicol\\miniconda3\\envs\\data_env\\Lib\\site-packages\\sklearn\\model_selection\\_validation.py:717: FutureWarning: Parameter 'base_estimator' of BaggingClassifier is deprecated in favor of 'estimator'. See BaggingClassifier's docstring for more details.\n",
      "  estimator = estimator.set_params(**clone(parameters, safe=False))\n",
      "c:\\Users\\nicol\\miniconda3\\envs\\data_env\\Lib\\site-packages\\sklearn\\model_selection\\_validation.py:717: FutureWarning: Parameter 'base_estimator' of BaggingClassifier is deprecated in favor of 'estimator'. See BaggingClassifier's docstring for more details.\n",
      "  estimator = estimator.set_params(**clone(parameters, safe=False))\n",
      "c:\\Users\\nicol\\miniconda3\\envs\\data_env\\Lib\\site-packages\\sklearn\\model_selection\\_validation.py:717: FutureWarning: Parameter 'base_estimator' of BaggingClassifier is deprecated in favor of 'estimator'. See BaggingClassifier's docstring for more details.\n",
      "  estimator = estimator.set_params(**clone(parameters, safe=False))\n",
      "c:\\Users\\nicol\\miniconda3\\envs\\data_env\\Lib\\site-packages\\sklearn\\model_selection\\_validation.py:717: FutureWarning: Parameter 'base_estimator' of BaggingClassifier is deprecated in favor of 'estimator'. See BaggingClassifier's docstring for more details.\n",
      "  estimator = estimator.set_params(**clone(parameters, safe=False))\n",
      "c:\\Users\\nicol\\miniconda3\\envs\\data_env\\Lib\\site-packages\\sklearn\\model_selection\\_validation.py:717: FutureWarning: Parameter 'base_estimator' of BaggingClassifier is deprecated in favor of 'estimator'. See BaggingClassifier's docstring for more details.\n",
      "  estimator = estimator.set_params(**clone(parameters, safe=False))\n",
      "c:\\Users\\nicol\\miniconda3\\envs\\data_env\\Lib\\site-packages\\sklearn\\model_selection\\_validation.py:717: FutureWarning: Parameter 'base_estimator' of BaggingClassifier is deprecated in favor of 'estimator'. See BaggingClassifier's docstring for more details.\n",
      "  estimator = estimator.set_params(**clone(parameters, safe=False))\n",
      "c:\\Users\\nicol\\miniconda3\\envs\\data_env\\Lib\\site-packages\\sklearn\\model_selection\\_validation.py:717: FutureWarning: Parameter 'base_estimator' of BaggingClassifier is deprecated in favor of 'estimator'. See BaggingClassifier's docstring for more details.\n",
      "  estimator = estimator.set_params(**clone(parameters, safe=False))\n",
      "c:\\Users\\nicol\\miniconda3\\envs\\data_env\\Lib\\site-packages\\sklearn\\model_selection\\_validation.py:717: FutureWarning: Parameter 'base_estimator' of BaggingClassifier is deprecated in favor of 'estimator'. See BaggingClassifier's docstring for more details.\n",
      "  estimator = estimator.set_params(**clone(parameters, safe=False))\n",
      "c:\\Users\\nicol\\miniconda3\\envs\\data_env\\Lib\\site-packages\\sklearn\\model_selection\\_validation.py:717: FutureWarning: Parameter 'base_estimator' of BaggingClassifier is deprecated in favor of 'estimator'. See BaggingClassifier's docstring for more details.\n",
      "  estimator = estimator.set_params(**clone(parameters, safe=False))\n",
      "c:\\Users\\nicol\\miniconda3\\envs\\data_env\\Lib\\site-packages\\sklearn\\model_selection\\_validation.py:717: FutureWarning: Parameter 'base_estimator' of BaggingClassifier is deprecated in favor of 'estimator'. See BaggingClassifier's docstring for more details.\n",
      "  estimator = estimator.set_params(**clone(parameters, safe=False))\n",
      "c:\\Users\\nicol\\miniconda3\\envs\\data_env\\Lib\\site-packages\\sklearn\\model_selection\\_validation.py:717: FutureWarning: Parameter 'base_estimator' of BaggingClassifier is deprecated in favor of 'estimator'. See BaggingClassifier's docstring for more details.\n",
      "  estimator = estimator.set_params(**clone(parameters, safe=False))\n",
      "c:\\Users\\nicol\\miniconda3\\envs\\data_env\\Lib\\site-packages\\sklearn\\model_selection\\_validation.py:717: FutureWarning: Parameter 'base_estimator' of BaggingClassifier is deprecated in favor of 'estimator'. See BaggingClassifier's docstring for more details.\n",
      "  estimator = estimator.set_params(**clone(parameters, safe=False))\n",
      "c:\\Users\\nicol\\miniconda3\\envs\\data_env\\Lib\\site-packages\\sklearn\\model_selection\\_validation.py:717: FutureWarning: Parameter 'base_estimator' of BaggingClassifier is deprecated in favor of 'estimator'. See BaggingClassifier's docstring for more details.\n",
      "  estimator = estimator.set_params(**clone(parameters, safe=False))\n",
      "c:\\Users\\nicol\\miniconda3\\envs\\data_env\\Lib\\site-packages\\sklearn\\model_selection\\_validation.py:717: FutureWarning: Parameter 'base_estimator' of BaggingClassifier is deprecated in favor of 'estimator'. See BaggingClassifier's docstring for more details.\n",
      "  estimator = estimator.set_params(**clone(parameters, safe=False))\n",
      "c:\\Users\\nicol\\miniconda3\\envs\\data_env\\Lib\\site-packages\\sklearn\\model_selection\\_validation.py:717: FutureWarning: Parameter 'base_estimator' of BaggingClassifier is deprecated in favor of 'estimator'. See BaggingClassifier's docstring for more details.\n",
      "  estimator = estimator.set_params(**clone(parameters, safe=False))\n",
      "c:\\Users\\nicol\\miniconda3\\envs\\data_env\\Lib\\site-packages\\sklearn\\model_selection\\_validation.py:717: FutureWarning: Parameter 'base_estimator' of BaggingClassifier is deprecated in favor of 'estimator'. See BaggingClassifier's docstring for more details.\n",
      "  estimator = estimator.set_params(**clone(parameters, safe=False))\n",
      "c:\\Users\\nicol\\miniconda3\\envs\\data_env\\Lib\\site-packages\\sklearn\\model_selection\\_validation.py:717: FutureWarning: Parameter 'base_estimator' of BaggingClassifier is deprecated in favor of 'estimator'. See BaggingClassifier's docstring for more details.\n",
      "  estimator = estimator.set_params(**clone(parameters, safe=False))\n",
      "c:\\Users\\nicol\\miniconda3\\envs\\data_env\\Lib\\site-packages\\sklearn\\model_selection\\_validation.py:717: FutureWarning: Parameter 'base_estimator' of BaggingClassifier is deprecated in favor of 'estimator'. See BaggingClassifier's docstring for more details.\n",
      "  estimator = estimator.set_params(**clone(parameters, safe=False))\n",
      "c:\\Users\\nicol\\miniconda3\\envs\\data_env\\Lib\\site-packages\\sklearn\\model_selection\\_validation.py:717: FutureWarning: Parameter 'base_estimator' of BaggingClassifier is deprecated in favor of 'estimator'. See BaggingClassifier's docstring for more details.\n",
      "  estimator = estimator.set_params(**clone(parameters, safe=False))\n",
      "c:\\Users\\nicol\\miniconda3\\envs\\data_env\\Lib\\site-packages\\sklearn\\model_selection\\_validation.py:717: FutureWarning: Parameter 'base_estimator' of BaggingClassifier is deprecated in favor of 'estimator'. See BaggingClassifier's docstring for more details.\n",
      "  estimator = estimator.set_params(**clone(parameters, safe=False))\n",
      "c:\\Users\\nicol\\miniconda3\\envs\\data_env\\Lib\\site-packages\\sklearn\\model_selection\\_validation.py:717: FutureWarning: Parameter 'base_estimator' of BaggingClassifier is deprecated in favor of 'estimator'. See BaggingClassifier's docstring for more details.\n",
      "  estimator = estimator.set_params(**clone(parameters, safe=False))\n",
      "c:\\Users\\nicol\\miniconda3\\envs\\data_env\\Lib\\site-packages\\sklearn\\model_selection\\_validation.py:717: FutureWarning: Parameter 'base_estimator' of BaggingClassifier is deprecated in favor of 'estimator'. See BaggingClassifier's docstring for more details.\n",
      "  estimator = estimator.set_params(**clone(parameters, safe=False))\n",
      "c:\\Users\\nicol\\miniconda3\\envs\\data_env\\Lib\\site-packages\\sklearn\\model_selection\\_validation.py:717: FutureWarning: Parameter 'base_estimator' of BaggingClassifier is deprecated in favor of 'estimator'. See BaggingClassifier's docstring for more details.\n",
      "  estimator = estimator.set_params(**clone(parameters, safe=False))\n",
      "c:\\Users\\nicol\\miniconda3\\envs\\data_env\\Lib\\site-packages\\sklearn\\model_selection\\_validation.py:717: FutureWarning: Parameter 'base_estimator' of BaggingClassifier is deprecated in favor of 'estimator'. See BaggingClassifier's docstring for more details.\n",
      "  estimator = estimator.set_params(**clone(parameters, safe=False))\n",
      "c:\\Users\\nicol\\miniconda3\\envs\\data_env\\Lib\\site-packages\\sklearn\\model_selection\\_validation.py:717: FutureWarning: Parameter 'base_estimator' of BaggingClassifier is deprecated in favor of 'estimator'. See BaggingClassifier's docstring for more details.\n",
      "  estimator = estimator.set_params(**clone(parameters, safe=False))\n",
      "c:\\Users\\nicol\\miniconda3\\envs\\data_env\\Lib\\site-packages\\sklearn\\model_selection\\_validation.py:717: FutureWarning: Parameter 'base_estimator' of BaggingClassifier is deprecated in favor of 'estimator'. See BaggingClassifier's docstring for more details.\n",
      "  estimator = estimator.set_params(**clone(parameters, safe=False))\n",
      "c:\\Users\\nicol\\miniconda3\\envs\\data_env\\Lib\\site-packages\\sklearn\\model_selection\\_validation.py:717: FutureWarning: Parameter 'base_estimator' of BaggingClassifier is deprecated in favor of 'estimator'. See BaggingClassifier's docstring for more details.\n",
      "  estimator = estimator.set_params(**clone(parameters, safe=False))\n",
      "c:\\Users\\nicol\\miniconda3\\envs\\data_env\\Lib\\site-packages\\sklearn\\model_selection\\_validation.py:717: FutureWarning: Parameter 'base_estimator' of BaggingClassifier is deprecated in favor of 'estimator'. See BaggingClassifier's docstring for more details.\n",
      "  estimator = estimator.set_params(**clone(parameters, safe=False))\n",
      "c:\\Users\\nicol\\miniconda3\\envs\\data_env\\Lib\\site-packages\\sklearn\\model_selection\\_validation.py:717: FutureWarning: Parameter 'base_estimator' of BaggingClassifier is deprecated in favor of 'estimator'. See BaggingClassifier's docstring for more details.\n",
      "  estimator = estimator.set_params(**clone(parameters, safe=False))\n",
      "c:\\Users\\nicol\\miniconda3\\envs\\data_env\\Lib\\site-packages\\sklearn\\model_selection\\_validation.py:717: FutureWarning: Parameter 'base_estimator' of BaggingClassifier is deprecated in favor of 'estimator'. See BaggingClassifier's docstring for more details.\n",
      "  estimator = estimator.set_params(**clone(parameters, safe=False))\n",
      "c:\\Users\\nicol\\miniconda3\\envs\\data_env\\Lib\\site-packages\\sklearn\\model_selection\\_validation.py:717: FutureWarning: Parameter 'base_estimator' of BaggingClassifier is deprecated in favor of 'estimator'. See BaggingClassifier's docstring for more details.\n",
      "  estimator = estimator.set_params(**clone(parameters, safe=False))\n",
      "c:\\Users\\nicol\\miniconda3\\envs\\data_env\\Lib\\site-packages\\sklearn\\model_selection\\_validation.py:717: FutureWarning: Parameter 'base_estimator' of BaggingClassifier is deprecated in favor of 'estimator'. See BaggingClassifier's docstring for more details.\n",
      "  estimator = estimator.set_params(**clone(parameters, safe=False))\n",
      "c:\\Users\\nicol\\miniconda3\\envs\\data_env\\Lib\\site-packages\\sklearn\\model_selection\\_validation.py:717: FutureWarning: Parameter 'base_estimator' of BaggingClassifier is deprecated in favor of 'estimator'. See BaggingClassifier's docstring for more details.\n",
      "  estimator = estimator.set_params(**clone(parameters, safe=False))\n",
      "c:\\Users\\nicol\\miniconda3\\envs\\data_env\\Lib\\site-packages\\sklearn\\model_selection\\_validation.py:717: FutureWarning: Parameter 'base_estimator' of BaggingClassifier is deprecated in favor of 'estimator'. See BaggingClassifier's docstring for more details.\n",
      "  estimator = estimator.set_params(**clone(parameters, safe=False))\n",
      "c:\\Users\\nicol\\miniconda3\\envs\\data_env\\Lib\\site-packages\\sklearn\\model_selection\\_validation.py:717: FutureWarning: Parameter 'base_estimator' of BaggingClassifier is deprecated in favor of 'estimator'. See BaggingClassifier's docstring for more details.\n",
      "  estimator = estimator.set_params(**clone(parameters, safe=False))\n",
      "c:\\Users\\nicol\\miniconda3\\envs\\data_env\\Lib\\site-packages\\sklearn\\model_selection\\_validation.py:717: FutureWarning: Parameter 'base_estimator' of BaggingClassifier is deprecated in favor of 'estimator'. See BaggingClassifier's docstring for more details.\n",
      "  estimator = estimator.set_params(**clone(parameters, safe=False))\n",
      "c:\\Users\\nicol\\miniconda3\\envs\\data_env\\Lib\\site-packages\\sklearn\\model_selection\\_validation.py:717: FutureWarning: Parameter 'base_estimator' of BaggingClassifier is deprecated in favor of 'estimator'. See BaggingClassifier's docstring for more details.\n",
      "  estimator = estimator.set_params(**clone(parameters, safe=False))\n",
      "c:\\Users\\nicol\\miniconda3\\envs\\data_env\\Lib\\site-packages\\sklearn\\model_selection\\_validation.py:717: FutureWarning: Parameter 'base_estimator' of BaggingClassifier is deprecated in favor of 'estimator'. See BaggingClassifier's docstring for more details.\n",
      "  estimator = estimator.set_params(**clone(parameters, safe=False))\n",
      "c:\\Users\\nicol\\miniconda3\\envs\\data_env\\Lib\\site-packages\\sklearn\\model_selection\\_validation.py:717: FutureWarning: Parameter 'base_estimator' of BaggingClassifier is deprecated in favor of 'estimator'. See BaggingClassifier's docstring for more details.\n",
      "  estimator = estimator.set_params(**clone(parameters, safe=False))\n",
      "c:\\Users\\nicol\\miniconda3\\envs\\data_env\\Lib\\site-packages\\sklearn\\model_selection\\_validation.py:717: FutureWarning: Parameter 'base_estimator' of BaggingClassifier is deprecated in favor of 'estimator'. See BaggingClassifier's docstring for more details.\n",
      "  estimator = estimator.set_params(**clone(parameters, safe=False))\n",
      "c:\\Users\\nicol\\miniconda3\\envs\\data_env\\Lib\\site-packages\\sklearn\\model_selection\\_validation.py:717: FutureWarning: Parameter 'base_estimator' of BaggingClassifier is deprecated in favor of 'estimator'. See BaggingClassifier's docstring for more details.\n",
      "  estimator = estimator.set_params(**clone(parameters, safe=False))\n",
      "c:\\Users\\nicol\\miniconda3\\envs\\data_env\\Lib\\site-packages\\sklearn\\model_selection\\_validation.py:717: FutureWarning: Parameter 'base_estimator' of BaggingClassifier is deprecated in favor of 'estimator'. See BaggingClassifier's docstring for more details.\n",
      "  estimator = estimator.set_params(**clone(parameters, safe=False))\n",
      "c:\\Users\\nicol\\miniconda3\\envs\\data_env\\Lib\\site-packages\\sklearn\\model_selection\\_validation.py:717: FutureWarning: Parameter 'base_estimator' of BaggingClassifier is deprecated in favor of 'estimator'. See BaggingClassifier's docstring for more details.\n",
      "  estimator = estimator.set_params(**clone(parameters, safe=False))\n",
      "c:\\Users\\nicol\\miniconda3\\envs\\data_env\\Lib\\site-packages\\sklearn\\model_selection\\_validation.py:717: FutureWarning: Parameter 'base_estimator' of BaggingClassifier is deprecated in favor of 'estimator'. See BaggingClassifier's docstring for more details.\n",
      "  estimator = estimator.set_params(**clone(parameters, safe=False))\n",
      "c:\\Users\\nicol\\miniconda3\\envs\\data_env\\Lib\\site-packages\\sklearn\\model_selection\\_validation.py:717: FutureWarning: Parameter 'base_estimator' of BaggingClassifier is deprecated in favor of 'estimator'. See BaggingClassifier's docstring for more details.\n",
      "  estimator = estimator.set_params(**clone(parameters, safe=False))\n",
      "c:\\Users\\nicol\\miniconda3\\envs\\data_env\\Lib\\site-packages\\sklearn\\model_selection\\_validation.py:717: FutureWarning: Parameter 'base_estimator' of BaggingClassifier is deprecated in favor of 'estimator'. See BaggingClassifier's docstring for more details.\n",
      "  estimator = estimator.set_params(**clone(parameters, safe=False))\n",
      "c:\\Users\\nicol\\miniconda3\\envs\\data_env\\Lib\\site-packages\\sklearn\\model_selection\\_validation.py:717: FutureWarning: Parameter 'base_estimator' of BaggingClassifier is deprecated in favor of 'estimator'. See BaggingClassifier's docstring for more details.\n",
      "  estimator = estimator.set_params(**clone(parameters, safe=False))\n",
      "c:\\Users\\nicol\\miniconda3\\envs\\data_env\\Lib\\site-packages\\sklearn\\model_selection\\_validation.py:717: FutureWarning: Parameter 'base_estimator' of BaggingClassifier is deprecated in favor of 'estimator'. See BaggingClassifier's docstring for more details.\n",
      "  estimator = estimator.set_params(**clone(parameters, safe=False))\n",
      "c:\\Users\\nicol\\miniconda3\\envs\\data_env\\Lib\\site-packages\\sklearn\\model_selection\\_validation.py:717: FutureWarning: Parameter 'base_estimator' of BaggingClassifier is deprecated in favor of 'estimator'. See BaggingClassifier's docstring for more details.\n",
      "  estimator = estimator.set_params(**clone(parameters, safe=False))\n",
      "c:\\Users\\nicol\\miniconda3\\envs\\data_env\\Lib\\site-packages\\sklearn\\model_selection\\_validation.py:717: FutureWarning: Parameter 'base_estimator' of BaggingClassifier is deprecated in favor of 'estimator'. See BaggingClassifier's docstring for more details.\n",
      "  estimator = estimator.set_params(**clone(parameters, safe=False))\n",
      "c:\\Users\\nicol\\miniconda3\\envs\\data_env\\Lib\\site-packages\\sklearn\\model_selection\\_validation.py:717: FutureWarning: Parameter 'base_estimator' of BaggingClassifier is deprecated in favor of 'estimator'. See BaggingClassifier's docstring for more details.\n",
      "  estimator = estimator.set_params(**clone(parameters, safe=False))\n",
      "c:\\Users\\nicol\\miniconda3\\envs\\data_env\\Lib\\site-packages\\sklearn\\model_selection\\_validation.py:717: FutureWarning: Parameter 'base_estimator' of BaggingClassifier is deprecated in favor of 'estimator'. See BaggingClassifier's docstring for more details.\n",
      "  estimator = estimator.set_params(**clone(parameters, safe=False))\n",
      "c:\\Users\\nicol\\miniconda3\\envs\\data_env\\Lib\\site-packages\\sklearn\\model_selection\\_validation.py:717: FutureWarning: Parameter 'base_estimator' of BaggingClassifier is deprecated in favor of 'estimator'. See BaggingClassifier's docstring for more details.\n",
      "  estimator = estimator.set_params(**clone(parameters, safe=False))\n",
      "c:\\Users\\nicol\\miniconda3\\envs\\data_env\\Lib\\site-packages\\sklearn\\model_selection\\_validation.py:717: FutureWarning: Parameter 'base_estimator' of BaggingClassifier is deprecated in favor of 'estimator'. See BaggingClassifier's docstring for more details.\n",
      "  estimator = estimator.set_params(**clone(parameters, safe=False))\n",
      "c:\\Users\\nicol\\miniconda3\\envs\\data_env\\Lib\\site-packages\\sklearn\\model_selection\\_validation.py:717: FutureWarning: Parameter 'base_estimator' of BaggingClassifier is deprecated in favor of 'estimator'. See BaggingClassifier's docstring for more details.\n",
      "  estimator = estimator.set_params(**clone(parameters, safe=False))\n",
      "c:\\Users\\nicol\\miniconda3\\envs\\data_env\\Lib\\site-packages\\sklearn\\model_selection\\_validation.py:717: FutureWarning: Parameter 'base_estimator' of BaggingClassifier is deprecated in favor of 'estimator'. See BaggingClassifier's docstring for more details.\n",
      "  estimator = estimator.set_params(**clone(parameters, safe=False))\n",
      "c:\\Users\\nicol\\miniconda3\\envs\\data_env\\Lib\\site-packages\\sklearn\\model_selection\\_validation.py:717: FutureWarning: Parameter 'base_estimator' of BaggingClassifier is deprecated in favor of 'estimator'. See BaggingClassifier's docstring for more details.\n",
      "  estimator = estimator.set_params(**clone(parameters, safe=False))\n",
      "c:\\Users\\nicol\\miniconda3\\envs\\data_env\\Lib\\site-packages\\sklearn\\model_selection\\_validation.py:717: FutureWarning: Parameter 'base_estimator' of BaggingClassifier is deprecated in favor of 'estimator'. See BaggingClassifier's docstring for more details.\n",
      "  estimator = estimator.set_params(**clone(parameters, safe=False))\n",
      "c:\\Users\\nicol\\miniconda3\\envs\\data_env\\Lib\\site-packages\\sklearn\\model_selection\\_validation.py:717: FutureWarning: Parameter 'base_estimator' of BaggingClassifier is deprecated in favor of 'estimator'. See BaggingClassifier's docstring for more details.\n",
      "  estimator = estimator.set_params(**clone(parameters, safe=False))\n",
      "c:\\Users\\nicol\\miniconda3\\envs\\data_env\\Lib\\site-packages\\sklearn\\model_selection\\_validation.py:717: FutureWarning: Parameter 'base_estimator' of BaggingClassifier is deprecated in favor of 'estimator'. See BaggingClassifier's docstring for more details.\n",
      "  estimator = estimator.set_params(**clone(parameters, safe=False))\n",
      "c:\\Users\\nicol\\miniconda3\\envs\\data_env\\Lib\\site-packages\\sklearn\\model_selection\\_validation.py:717: FutureWarning: Parameter 'base_estimator' of BaggingClassifier is deprecated in favor of 'estimator'. See BaggingClassifier's docstring for more details.\n",
      "  estimator = estimator.set_params(**clone(parameters, safe=False))\n",
      "c:\\Users\\nicol\\miniconda3\\envs\\data_env\\Lib\\site-packages\\sklearn\\model_selection\\_validation.py:717: FutureWarning: Parameter 'base_estimator' of BaggingClassifier is deprecated in favor of 'estimator'. See BaggingClassifier's docstring for more details.\n",
      "  estimator = estimator.set_params(**clone(parameters, safe=False))\n",
      "c:\\Users\\nicol\\miniconda3\\envs\\data_env\\Lib\\site-packages\\sklearn\\model_selection\\_validation.py:717: FutureWarning: Parameter 'base_estimator' of BaggingClassifier is deprecated in favor of 'estimator'. See BaggingClassifier's docstring for more details.\n",
      "  estimator = estimator.set_params(**clone(parameters, safe=False))\n",
      "c:\\Users\\nicol\\miniconda3\\envs\\data_env\\Lib\\site-packages\\sklearn\\model_selection\\_validation.py:717: FutureWarning: Parameter 'base_estimator' of BaggingClassifier is deprecated in favor of 'estimator'. See BaggingClassifier's docstring for more details.\n",
      "  estimator = estimator.set_params(**clone(parameters, safe=False))\n",
      "c:\\Users\\nicol\\miniconda3\\envs\\data_env\\Lib\\site-packages\\sklearn\\model_selection\\_validation.py:717: FutureWarning: Parameter 'base_estimator' of BaggingClassifier is deprecated in favor of 'estimator'. See BaggingClassifier's docstring for more details.\n",
      "  estimator = estimator.set_params(**clone(parameters, safe=False))\n",
      "c:\\Users\\nicol\\miniconda3\\envs\\data_env\\Lib\\site-packages\\sklearn\\model_selection\\_validation.py:717: FutureWarning: Parameter 'base_estimator' of BaggingClassifier is deprecated in favor of 'estimator'. See BaggingClassifier's docstring for more details.\n",
      "  estimator = estimator.set_params(**clone(parameters, safe=False))\n",
      "c:\\Users\\nicol\\miniconda3\\envs\\data_env\\Lib\\site-packages\\sklearn\\model_selection\\_validation.py:717: FutureWarning: Parameter 'base_estimator' of BaggingClassifier is deprecated in favor of 'estimator'. See BaggingClassifier's docstring for more details.\n",
      "  estimator = estimator.set_params(**clone(parameters, safe=False))\n",
      "c:\\Users\\nicol\\miniconda3\\envs\\data_env\\Lib\\site-packages\\sklearn\\model_selection\\_validation.py:717: FutureWarning: Parameter 'base_estimator' of BaggingClassifier is deprecated in favor of 'estimator'. See BaggingClassifier's docstring for more details.\n",
      "  estimator = estimator.set_params(**clone(parameters, safe=False))\n",
      "c:\\Users\\nicol\\miniconda3\\envs\\data_env\\Lib\\site-packages\\sklearn\\model_selection\\_validation.py:717: FutureWarning: Parameter 'base_estimator' of BaggingClassifier is deprecated in favor of 'estimator'. See BaggingClassifier's docstring for more details.\n",
      "  estimator = estimator.set_params(**clone(parameters, safe=False))\n",
      "c:\\Users\\nicol\\miniconda3\\envs\\data_env\\Lib\\site-packages\\sklearn\\model_selection\\_validation.py:717: FutureWarning: Parameter 'base_estimator' of BaggingClassifier is deprecated in favor of 'estimator'. See BaggingClassifier's docstring for more details.\n",
      "  estimator = estimator.set_params(**clone(parameters, safe=False))\n",
      "c:\\Users\\nicol\\miniconda3\\envs\\data_env\\Lib\\site-packages\\sklearn\\model_selection\\_validation.py:717: FutureWarning: Parameter 'base_estimator' of BaggingClassifier is deprecated in favor of 'estimator'. See BaggingClassifier's docstring for more details.\n",
      "  estimator = estimator.set_params(**clone(parameters, safe=False))\n",
      "c:\\Users\\nicol\\miniconda3\\envs\\data_env\\Lib\\site-packages\\sklearn\\model_selection\\_validation.py:717: FutureWarning: Parameter 'base_estimator' of BaggingClassifier is deprecated in favor of 'estimator'. See BaggingClassifier's docstring for more details.\n",
      "  estimator = estimator.set_params(**clone(parameters, safe=False))\n",
      "c:\\Users\\nicol\\miniconda3\\envs\\data_env\\Lib\\site-packages\\sklearn\\model_selection\\_validation.py:717: FutureWarning: Parameter 'base_estimator' of BaggingClassifier is deprecated in favor of 'estimator'. See BaggingClassifier's docstring for more details.\n",
      "  estimator = estimator.set_params(**clone(parameters, safe=False))\n",
      "c:\\Users\\nicol\\miniconda3\\envs\\data_env\\Lib\\site-packages\\sklearn\\model_selection\\_validation.py:717: FutureWarning: Parameter 'base_estimator' of BaggingClassifier is deprecated in favor of 'estimator'. See BaggingClassifier's docstring for more details.\n",
      "  estimator = estimator.set_params(**clone(parameters, safe=False))\n",
      "c:\\Users\\nicol\\miniconda3\\envs\\data_env\\Lib\\site-packages\\sklearn\\model_selection\\_validation.py:717: FutureWarning: Parameter 'base_estimator' of BaggingClassifier is deprecated in favor of 'estimator'. See BaggingClassifier's docstring for more details.\n",
      "  estimator = estimator.set_params(**clone(parameters, safe=False))\n",
      "c:\\Users\\nicol\\miniconda3\\envs\\data_env\\Lib\\site-packages\\sklearn\\model_selection\\_validation.py:717: FutureWarning: Parameter 'base_estimator' of BaggingClassifier is deprecated in favor of 'estimator'. See BaggingClassifier's docstring for more details.\n",
      "  estimator = estimator.set_params(**clone(parameters, safe=False))\n",
      "c:\\Users\\nicol\\miniconda3\\envs\\data_env\\Lib\\site-packages\\sklearn\\model_selection\\_validation.py:717: FutureWarning: Parameter 'base_estimator' of BaggingClassifier is deprecated in favor of 'estimator'. See BaggingClassifier's docstring for more details.\n",
      "  estimator = estimator.set_params(**clone(parameters, safe=False))\n",
      "c:\\Users\\nicol\\miniconda3\\envs\\data_env\\Lib\\site-packages\\sklearn\\model_selection\\_validation.py:717: FutureWarning: Parameter 'base_estimator' of BaggingClassifier is deprecated in favor of 'estimator'. See BaggingClassifier's docstring for more details.\n",
      "  estimator = estimator.set_params(**clone(parameters, safe=False))\n",
      "c:\\Users\\nicol\\miniconda3\\envs\\data_env\\Lib\\site-packages\\sklearn\\model_selection\\_validation.py:717: FutureWarning: Parameter 'base_estimator' of BaggingClassifier is deprecated in favor of 'estimator'. See BaggingClassifier's docstring for more details.\n",
      "  estimator = estimator.set_params(**clone(parameters, safe=False))\n",
      "c:\\Users\\nicol\\miniconda3\\envs\\data_env\\Lib\\site-packages\\sklearn\\model_selection\\_validation.py:717: FutureWarning: Parameter 'base_estimator' of BaggingClassifier is deprecated in favor of 'estimator'. See BaggingClassifier's docstring for more details.\n",
      "  estimator = estimator.set_params(**clone(parameters, safe=False))\n",
      "c:\\Users\\nicol\\miniconda3\\envs\\data_env\\Lib\\site-packages\\sklearn\\model_selection\\_validation.py:717: FutureWarning: Parameter 'base_estimator' of BaggingClassifier is deprecated in favor of 'estimator'. See BaggingClassifier's docstring for more details.\n",
      "  estimator = estimator.set_params(**clone(parameters, safe=False))\n",
      "c:\\Users\\nicol\\miniconda3\\envs\\data_env\\Lib\\site-packages\\sklearn\\model_selection\\_validation.py:717: FutureWarning: Parameter 'base_estimator' of BaggingClassifier is deprecated in favor of 'estimator'. See BaggingClassifier's docstring for more details.\n",
      "  estimator = estimator.set_params(**clone(parameters, safe=False))\n",
      "c:\\Users\\nicol\\miniconda3\\envs\\data_env\\Lib\\site-packages\\sklearn\\model_selection\\_validation.py:717: FutureWarning: Parameter 'base_estimator' of BaggingClassifier is deprecated in favor of 'estimator'. See BaggingClassifier's docstring for more details.\n",
      "  estimator = estimator.set_params(**clone(parameters, safe=False))\n",
      "c:\\Users\\nicol\\miniconda3\\envs\\data_env\\Lib\\site-packages\\sklearn\\model_selection\\_validation.py:717: FutureWarning: Parameter 'base_estimator' of BaggingClassifier is deprecated in favor of 'estimator'. See BaggingClassifier's docstring for more details.\n",
      "  estimator = estimator.set_params(**clone(parameters, safe=False))\n",
      "c:\\Users\\nicol\\miniconda3\\envs\\data_env\\Lib\\site-packages\\sklearn\\model_selection\\_validation.py:717: FutureWarning: Parameter 'base_estimator' of BaggingClassifier is deprecated in favor of 'estimator'. See BaggingClassifier's docstring for more details.\n",
      "  estimator = estimator.set_params(**clone(parameters, safe=False))\n",
      "c:\\Users\\nicol\\miniconda3\\envs\\data_env\\Lib\\site-packages\\sklearn\\model_selection\\_validation.py:717: FutureWarning: Parameter 'base_estimator' of BaggingClassifier is deprecated in favor of 'estimator'. See BaggingClassifier's docstring for more details.\n",
      "  estimator = estimator.set_params(**clone(parameters, safe=False))\n",
      "c:\\Users\\nicol\\miniconda3\\envs\\data_env\\Lib\\site-packages\\sklearn\\model_selection\\_validation.py:717: FutureWarning: Parameter 'base_estimator' of BaggingClassifier is deprecated in favor of 'estimator'. See BaggingClassifier's docstring for more details.\n",
      "  estimator = estimator.set_params(**clone(parameters, safe=False))\n",
      "c:\\Users\\nicol\\miniconda3\\envs\\data_env\\Lib\\site-packages\\sklearn\\model_selection\\_validation.py:717: FutureWarning: Parameter 'base_estimator' of BaggingClassifier is deprecated in favor of 'estimator'. See BaggingClassifier's docstring for more details.\n",
      "  estimator = estimator.set_params(**clone(parameters, safe=False))\n",
      "c:\\Users\\nicol\\miniconda3\\envs\\data_env\\Lib\\site-packages\\sklearn\\model_selection\\_validation.py:717: FutureWarning: Parameter 'base_estimator' of BaggingClassifier is deprecated in favor of 'estimator'. See BaggingClassifier's docstring for more details.\n",
      "  estimator = estimator.set_params(**clone(parameters, safe=False))\n",
      "c:\\Users\\nicol\\miniconda3\\envs\\data_env\\Lib\\site-packages\\sklearn\\model_selection\\_validation.py:717: FutureWarning: Parameter 'base_estimator' of BaggingClassifier is deprecated in favor of 'estimator'. See BaggingClassifier's docstring for more details.\n",
      "  estimator = estimator.set_params(**clone(parameters, safe=False))\n",
      "c:\\Users\\nicol\\miniconda3\\envs\\data_env\\Lib\\site-packages\\sklearn\\model_selection\\_validation.py:717: FutureWarning: Parameter 'base_estimator' of BaggingClassifier is deprecated in favor of 'estimator'. See BaggingClassifier's docstring for more details.\n",
      "  estimator = estimator.set_params(**clone(parameters, safe=False))\n",
      "c:\\Users\\nicol\\miniconda3\\envs\\data_env\\Lib\\site-packages\\sklearn\\model_selection\\_validation.py:717: FutureWarning: Parameter 'base_estimator' of BaggingClassifier is deprecated in favor of 'estimator'. See BaggingClassifier's docstring for more details.\n",
      "  estimator = estimator.set_params(**clone(parameters, safe=False))\n",
      "c:\\Users\\nicol\\miniconda3\\envs\\data_env\\Lib\\site-packages\\sklearn\\model_selection\\_validation.py:717: FutureWarning: Parameter 'base_estimator' of BaggingClassifier is deprecated in favor of 'estimator'. See BaggingClassifier's docstring for more details.\n",
      "  estimator = estimator.set_params(**clone(parameters, safe=False))\n",
      "c:\\Users\\nicol\\miniconda3\\envs\\data_env\\Lib\\site-packages\\sklearn\\model_selection\\_validation.py:717: FutureWarning: Parameter 'base_estimator' of BaggingClassifier is deprecated in favor of 'estimator'. See BaggingClassifier's docstring for more details.\n",
      "  estimator = estimator.set_params(**clone(parameters, safe=False))\n",
      "c:\\Users\\nicol\\miniconda3\\envs\\data_env\\Lib\\site-packages\\sklearn\\model_selection\\_validation.py:717: FutureWarning: Parameter 'base_estimator' of BaggingClassifier is deprecated in favor of 'estimator'. See BaggingClassifier's docstring for more details.\n",
      "  estimator = estimator.set_params(**clone(parameters, safe=False))\n",
      "c:\\Users\\nicol\\miniconda3\\envs\\data_env\\Lib\\site-packages\\sklearn\\model_selection\\_validation.py:717: FutureWarning: Parameter 'base_estimator' of BaggingClassifier is deprecated in favor of 'estimator'. See BaggingClassifier's docstring for more details.\n",
      "  estimator = estimator.set_params(**clone(parameters, safe=False))\n",
      "c:\\Users\\nicol\\miniconda3\\envs\\data_env\\Lib\\site-packages\\sklearn\\model_selection\\_validation.py:717: FutureWarning: Parameter 'base_estimator' of BaggingClassifier is deprecated in favor of 'estimator'. See BaggingClassifier's docstring for more details.\n",
      "  estimator = estimator.set_params(**clone(parameters, safe=False))\n",
      "c:\\Users\\nicol\\miniconda3\\envs\\data_env\\Lib\\site-packages\\sklearn\\model_selection\\_validation.py:717: FutureWarning: Parameter 'base_estimator' of BaggingClassifier is deprecated in favor of 'estimator'. See BaggingClassifier's docstring for more details.\n",
      "  estimator = estimator.set_params(**clone(parameters, safe=False))\n",
      "c:\\Users\\nicol\\miniconda3\\envs\\data_env\\Lib\\site-packages\\sklearn\\model_selection\\_validation.py:717: FutureWarning: Parameter 'base_estimator' of BaggingClassifier is deprecated in favor of 'estimator'. See BaggingClassifier's docstring for more details.\n",
      "  estimator = estimator.set_params(**clone(parameters, safe=False))\n",
      "c:\\Users\\nicol\\miniconda3\\envs\\data_env\\Lib\\site-packages\\sklearn\\model_selection\\_validation.py:717: FutureWarning: Parameter 'base_estimator' of BaggingClassifier is deprecated in favor of 'estimator'. See BaggingClassifier's docstring for more details.\n",
      "  estimator = estimator.set_params(**clone(parameters, safe=False))\n",
      "c:\\Users\\nicol\\miniconda3\\envs\\data_env\\Lib\\site-packages\\sklearn\\model_selection\\_validation.py:717: FutureWarning: Parameter 'base_estimator' of BaggingClassifier is deprecated in favor of 'estimator'. See BaggingClassifier's docstring for more details.\n",
      "  estimator = estimator.set_params(**clone(parameters, safe=False))\n",
      "c:\\Users\\nicol\\miniconda3\\envs\\data_env\\Lib\\site-packages\\sklearn\\model_selection\\_validation.py:717: FutureWarning: Parameter 'base_estimator' of BaggingClassifier is deprecated in favor of 'estimator'. See BaggingClassifier's docstring for more details.\n",
      "  estimator = estimator.set_params(**clone(parameters, safe=False))\n",
      "c:\\Users\\nicol\\miniconda3\\envs\\data_env\\Lib\\site-packages\\sklearn\\model_selection\\_validation.py:717: FutureWarning: Parameter 'base_estimator' of BaggingClassifier is deprecated in favor of 'estimator'. See BaggingClassifier's docstring for more details.\n",
      "  estimator = estimator.set_params(**clone(parameters, safe=False))\n",
      "c:\\Users\\nicol\\miniconda3\\envs\\data_env\\Lib\\site-packages\\sklearn\\model_selection\\_validation.py:717: FutureWarning: Parameter 'base_estimator' of BaggingClassifier is deprecated in favor of 'estimator'. See BaggingClassifier's docstring for more details.\n",
      "  estimator = estimator.set_params(**clone(parameters, safe=False))\n",
      "c:\\Users\\nicol\\miniconda3\\envs\\data_env\\Lib\\site-packages\\sklearn\\model_selection\\_validation.py:717: FutureWarning: Parameter 'base_estimator' of BaggingClassifier is deprecated in favor of 'estimator'. See BaggingClassifier's docstring for more details.\n",
      "  estimator = estimator.set_params(**clone(parameters, safe=False))\n",
      "c:\\Users\\nicol\\miniconda3\\envs\\data_env\\Lib\\site-packages\\sklearn\\model_selection\\_validation.py:717: FutureWarning: Parameter 'base_estimator' of BaggingClassifier is deprecated in favor of 'estimator'. See BaggingClassifier's docstring for more details.\n",
      "  estimator = estimator.set_params(**clone(parameters, safe=False))\n",
      "c:\\Users\\nicol\\miniconda3\\envs\\data_env\\Lib\\site-packages\\sklearn\\model_selection\\_validation.py:717: FutureWarning: Parameter 'base_estimator' of BaggingClassifier is deprecated in favor of 'estimator'. See BaggingClassifier's docstring for more details.\n",
      "  estimator = estimator.set_params(**clone(parameters, safe=False))\n",
      "c:\\Users\\nicol\\miniconda3\\envs\\data_env\\Lib\\site-packages\\sklearn\\model_selection\\_validation.py:717: FutureWarning: Parameter 'base_estimator' of BaggingClassifier is deprecated in favor of 'estimator'. See BaggingClassifier's docstring for more details.\n",
      "  estimator = estimator.set_params(**clone(parameters, safe=False))\n",
      "c:\\Users\\nicol\\miniconda3\\envs\\data_env\\Lib\\site-packages\\sklearn\\model_selection\\_validation.py:717: FutureWarning: Parameter 'base_estimator' of BaggingClassifier is deprecated in favor of 'estimator'. See BaggingClassifier's docstring for more details.\n",
      "  estimator = estimator.set_params(**clone(parameters, safe=False))\n",
      "c:\\Users\\nicol\\miniconda3\\envs\\data_env\\Lib\\site-packages\\sklearn\\model_selection\\_validation.py:717: FutureWarning: Parameter 'base_estimator' of BaggingClassifier is deprecated in favor of 'estimator'. See BaggingClassifier's docstring for more details.\n",
      "  estimator = estimator.set_params(**clone(parameters, safe=False))\n",
      "c:\\Users\\nicol\\miniconda3\\envs\\data_env\\Lib\\site-packages\\sklearn\\model_selection\\_validation.py:717: FutureWarning: Parameter 'base_estimator' of BaggingClassifier is deprecated in favor of 'estimator'. See BaggingClassifier's docstring for more details.\n",
      "  estimator = estimator.set_params(**clone(parameters, safe=False))\n",
      "c:\\Users\\nicol\\miniconda3\\envs\\data_env\\Lib\\site-packages\\sklearn\\model_selection\\_validation.py:717: FutureWarning: Parameter 'base_estimator' of BaggingClassifier is deprecated in favor of 'estimator'. See BaggingClassifier's docstring for more details.\n",
      "  estimator = estimator.set_params(**clone(parameters, safe=False))\n",
      "c:\\Users\\nicol\\miniconda3\\envs\\data_env\\Lib\\site-packages\\sklearn\\model_selection\\_validation.py:717: FutureWarning: Parameter 'base_estimator' of BaggingClassifier is deprecated in favor of 'estimator'. See BaggingClassifier's docstring for more details.\n",
      "  estimator = estimator.set_params(**clone(parameters, safe=False))\n",
      "c:\\Users\\nicol\\miniconda3\\envs\\data_env\\Lib\\site-packages\\sklearn\\model_selection\\_validation.py:717: FutureWarning: Parameter 'base_estimator' of BaggingClassifier is deprecated in favor of 'estimator'. See BaggingClassifier's docstring for more details.\n",
      "  estimator = estimator.set_params(**clone(parameters, safe=False))\n",
      "c:\\Users\\nicol\\miniconda3\\envs\\data_env\\Lib\\site-packages\\sklearn\\model_selection\\_validation.py:717: FutureWarning: Parameter 'base_estimator' of BaggingClassifier is deprecated in favor of 'estimator'. See BaggingClassifier's docstring for more details.\n",
      "  estimator = estimator.set_params(**clone(parameters, safe=False))\n",
      "c:\\Users\\nicol\\miniconda3\\envs\\data_env\\Lib\\site-packages\\sklearn\\model_selection\\_validation.py:717: FutureWarning: Parameter 'base_estimator' of BaggingClassifier is deprecated in favor of 'estimator'. See BaggingClassifier's docstring for more details.\n",
      "  estimator = estimator.set_params(**clone(parameters, safe=False))\n",
      "c:\\Users\\nicol\\miniconda3\\envs\\data_env\\Lib\\site-packages\\sklearn\\model_selection\\_validation.py:717: FutureWarning: Parameter 'base_estimator' of BaggingClassifier is deprecated in favor of 'estimator'. See BaggingClassifier's docstring for more details.\n",
      "  estimator = estimator.set_params(**clone(parameters, safe=False))\n",
      "c:\\Users\\nicol\\miniconda3\\envs\\data_env\\Lib\\site-packages\\sklearn\\model_selection\\_validation.py:717: FutureWarning: Parameter 'base_estimator' of BaggingClassifier is deprecated in favor of 'estimator'. See BaggingClassifier's docstring for more details.\n",
      "  estimator = estimator.set_params(**clone(parameters, safe=False))\n",
      "c:\\Users\\nicol\\miniconda3\\envs\\data_env\\Lib\\site-packages\\sklearn\\model_selection\\_validation.py:717: FutureWarning: Parameter 'base_estimator' of BaggingClassifier is deprecated in favor of 'estimator'. See BaggingClassifier's docstring for more details.\n",
      "  estimator = estimator.set_params(**clone(parameters, safe=False))\n",
      "c:\\Users\\nicol\\miniconda3\\envs\\data_env\\Lib\\site-packages\\sklearn\\model_selection\\_validation.py:717: FutureWarning: Parameter 'base_estimator' of BaggingClassifier is deprecated in favor of 'estimator'. See BaggingClassifier's docstring for more details.\n",
      "  estimator = estimator.set_params(**clone(parameters, safe=False))\n",
      "c:\\Users\\nicol\\miniconda3\\envs\\data_env\\Lib\\site-packages\\sklearn\\model_selection\\_validation.py:717: FutureWarning: Parameter 'base_estimator' of BaggingClassifier is deprecated in favor of 'estimator'. See BaggingClassifier's docstring for more details.\n",
      "  estimator = estimator.set_params(**clone(parameters, safe=False))\n",
      "c:\\Users\\nicol\\miniconda3\\envs\\data_env\\Lib\\site-packages\\sklearn\\model_selection\\_validation.py:717: FutureWarning: Parameter 'base_estimator' of BaggingClassifier is deprecated in favor of 'estimator'. See BaggingClassifier's docstring for more details.\n",
      "  estimator = estimator.set_params(**clone(parameters, safe=False))\n",
      "c:\\Users\\nicol\\miniconda3\\envs\\data_env\\Lib\\site-packages\\sklearn\\model_selection\\_validation.py:717: FutureWarning: Parameter 'base_estimator' of BaggingClassifier is deprecated in favor of 'estimator'. See BaggingClassifier's docstring for more details.\n",
      "  estimator = estimator.set_params(**clone(parameters, safe=False))\n",
      "c:\\Users\\nicol\\miniconda3\\envs\\data_env\\Lib\\site-packages\\sklearn\\model_selection\\_validation.py:717: FutureWarning: Parameter 'base_estimator' of BaggingClassifier is deprecated in favor of 'estimator'. See BaggingClassifier's docstring for more details.\n",
      "  estimator = estimator.set_params(**clone(parameters, safe=False))\n",
      "c:\\Users\\nicol\\miniconda3\\envs\\data_env\\Lib\\site-packages\\sklearn\\model_selection\\_validation.py:717: FutureWarning: Parameter 'base_estimator' of BaggingClassifier is deprecated in favor of 'estimator'. See BaggingClassifier's docstring for more details.\n",
      "  estimator = estimator.set_params(**clone(parameters, safe=False))\n",
      "c:\\Users\\nicol\\miniconda3\\envs\\data_env\\Lib\\site-packages\\sklearn\\model_selection\\_validation.py:717: FutureWarning: Parameter 'base_estimator' of BaggingClassifier is deprecated in favor of 'estimator'. See BaggingClassifier's docstring for more details.\n",
      "  estimator = estimator.set_params(**clone(parameters, safe=False))\n",
      "c:\\Users\\nicol\\miniconda3\\envs\\data_env\\Lib\\site-packages\\sklearn\\model_selection\\_validation.py:717: FutureWarning: Parameter 'base_estimator' of BaggingClassifier is deprecated in favor of 'estimator'. See BaggingClassifier's docstring for more details.\n",
      "  estimator = estimator.set_params(**clone(parameters, safe=False))\n",
      "c:\\Users\\nicol\\miniconda3\\envs\\data_env\\Lib\\site-packages\\sklearn\\model_selection\\_validation.py:717: FutureWarning: Parameter 'base_estimator' of BaggingClassifier is deprecated in favor of 'estimator'. See BaggingClassifier's docstring for more details.\n",
      "  estimator = estimator.set_params(**clone(parameters, safe=False))\n",
      "c:\\Users\\nicol\\miniconda3\\envs\\data_env\\Lib\\site-packages\\sklearn\\model_selection\\_validation.py:717: FutureWarning: Parameter 'base_estimator' of BaggingClassifier is deprecated in favor of 'estimator'. See BaggingClassifier's docstring for more details.\n",
      "  estimator = estimator.set_params(**clone(parameters, safe=False))\n",
      "c:\\Users\\nicol\\miniconda3\\envs\\data_env\\Lib\\site-packages\\sklearn\\model_selection\\_validation.py:717: FutureWarning: Parameter 'base_estimator' of BaggingClassifier is deprecated in favor of 'estimator'. See BaggingClassifier's docstring for more details.\n",
      "  estimator = estimator.set_params(**clone(parameters, safe=False))\n",
      "c:\\Users\\nicol\\miniconda3\\envs\\data_env\\Lib\\site-packages\\sklearn\\model_selection\\_validation.py:717: FutureWarning: Parameter 'base_estimator' of BaggingClassifier is deprecated in favor of 'estimator'. See BaggingClassifier's docstring for more details.\n",
      "  estimator = estimator.set_params(**clone(parameters, safe=False))\n",
      "c:\\Users\\nicol\\miniconda3\\envs\\data_env\\Lib\\site-packages\\sklearn\\model_selection\\_validation.py:717: FutureWarning: Parameter 'base_estimator' of BaggingClassifier is deprecated in favor of 'estimator'. See BaggingClassifier's docstring for more details.\n",
      "  estimator = estimator.set_params(**clone(parameters, safe=False))\n",
      "c:\\Users\\nicol\\miniconda3\\envs\\data_env\\Lib\\site-packages\\sklearn\\model_selection\\_validation.py:717: FutureWarning: Parameter 'base_estimator' of BaggingClassifier is deprecated in favor of 'estimator'. See BaggingClassifier's docstring for more details.\n",
      "  estimator = estimator.set_params(**clone(parameters, safe=False))\n",
      "c:\\Users\\nicol\\miniconda3\\envs\\data_env\\Lib\\site-packages\\sklearn\\model_selection\\_validation.py:717: FutureWarning: Parameter 'base_estimator' of BaggingClassifier is deprecated in favor of 'estimator'. See BaggingClassifier's docstring for more details.\n",
      "  estimator = estimator.set_params(**clone(parameters, safe=False))\n",
      "c:\\Users\\nicol\\miniconda3\\envs\\data_env\\Lib\\site-packages\\sklearn\\model_selection\\_validation.py:717: FutureWarning: Parameter 'base_estimator' of BaggingClassifier is deprecated in favor of 'estimator'. See BaggingClassifier's docstring for more details.\n",
      "  estimator = estimator.set_params(**clone(parameters, safe=False))\n",
      "c:\\Users\\nicol\\miniconda3\\envs\\data_env\\Lib\\site-packages\\sklearn\\model_selection\\_validation.py:717: FutureWarning: Parameter 'base_estimator' of BaggingClassifier is deprecated in favor of 'estimator'. See BaggingClassifier's docstring for more details.\n",
      "  estimator = estimator.set_params(**clone(parameters, safe=False))\n",
      "c:\\Users\\nicol\\miniconda3\\envs\\data_env\\Lib\\site-packages\\sklearn\\model_selection\\_validation.py:717: FutureWarning: Parameter 'base_estimator' of BaggingClassifier is deprecated in favor of 'estimator'. See BaggingClassifier's docstring for more details.\n",
      "  estimator = estimator.set_params(**clone(parameters, safe=False))\n",
      "c:\\Users\\nicol\\miniconda3\\envs\\data_env\\Lib\\site-packages\\sklearn\\model_selection\\_validation.py:717: FutureWarning: Parameter 'base_estimator' of BaggingClassifier is deprecated in favor of 'estimator'. See BaggingClassifier's docstring for more details.\n",
      "  estimator = estimator.set_params(**clone(parameters, safe=False))\n",
      "c:\\Users\\nicol\\miniconda3\\envs\\data_env\\Lib\\site-packages\\sklearn\\model_selection\\_validation.py:717: FutureWarning: Parameter 'base_estimator' of BaggingClassifier is deprecated in favor of 'estimator'. See BaggingClassifier's docstring for more details.\n",
      "  estimator = estimator.set_params(**clone(parameters, safe=False))\n",
      "c:\\Users\\nicol\\miniconda3\\envs\\data_env\\Lib\\site-packages\\sklearn\\model_selection\\_validation.py:717: FutureWarning: Parameter 'base_estimator' of BaggingClassifier is deprecated in favor of 'estimator'. See BaggingClassifier's docstring for more details.\n",
      "  estimator = estimator.set_params(**clone(parameters, safe=False))\n",
      "c:\\Users\\nicol\\miniconda3\\envs\\data_env\\Lib\\site-packages\\sklearn\\model_selection\\_validation.py:717: FutureWarning: Parameter 'base_estimator' of BaggingClassifier is deprecated in favor of 'estimator'. See BaggingClassifier's docstring for more details.\n",
      "  estimator = estimator.set_params(**clone(parameters, safe=False))\n",
      "c:\\Users\\nicol\\miniconda3\\envs\\data_env\\Lib\\site-packages\\sklearn\\model_selection\\_validation.py:717: FutureWarning: Parameter 'base_estimator' of BaggingClassifier is deprecated in favor of 'estimator'. See BaggingClassifier's docstring for more details.\n",
      "  estimator = estimator.set_params(**clone(parameters, safe=False))\n",
      "c:\\Users\\nicol\\miniconda3\\envs\\data_env\\Lib\\site-packages\\sklearn\\model_selection\\_validation.py:717: FutureWarning: Parameter 'base_estimator' of BaggingClassifier is deprecated in favor of 'estimator'. See BaggingClassifier's docstring for more details.\n",
      "  estimator = estimator.set_params(**clone(parameters, safe=False))\n",
      "c:\\Users\\nicol\\miniconda3\\envs\\data_env\\Lib\\site-packages\\sklearn\\model_selection\\_validation.py:717: FutureWarning: Parameter 'base_estimator' of BaggingClassifier is deprecated in favor of 'estimator'. See BaggingClassifier's docstring for more details.\n",
      "  estimator = estimator.set_params(**clone(parameters, safe=False))\n",
      "c:\\Users\\nicol\\miniconda3\\envs\\data_env\\Lib\\site-packages\\sklearn\\model_selection\\_validation.py:717: FutureWarning: Parameter 'base_estimator' of BaggingClassifier is deprecated in favor of 'estimator'. See BaggingClassifier's docstring for more details.\n",
      "  estimator = estimator.set_params(**clone(parameters, safe=False))\n",
      "c:\\Users\\nicol\\miniconda3\\envs\\data_env\\Lib\\site-packages\\sklearn\\model_selection\\_validation.py:717: FutureWarning: Parameter 'base_estimator' of BaggingClassifier is deprecated in favor of 'estimator'. See BaggingClassifier's docstring for more details.\n",
      "  estimator = estimator.set_params(**clone(parameters, safe=False))\n",
      "c:\\Users\\nicol\\miniconda3\\envs\\data_env\\Lib\\site-packages\\sklearn\\model_selection\\_validation.py:717: FutureWarning: Parameter 'base_estimator' of BaggingClassifier is deprecated in favor of 'estimator'. See BaggingClassifier's docstring for more details.\n",
      "  estimator = estimator.set_params(**clone(parameters, safe=False))\n",
      "c:\\Users\\nicol\\miniconda3\\envs\\data_env\\Lib\\site-packages\\sklearn\\model_selection\\_validation.py:717: FutureWarning: Parameter 'base_estimator' of BaggingClassifier is deprecated in favor of 'estimator'. See BaggingClassifier's docstring for more details.\n",
      "  estimator = estimator.set_params(**clone(parameters, safe=False))\n",
      "c:\\Users\\nicol\\miniconda3\\envs\\data_env\\Lib\\site-packages\\sklearn\\model_selection\\_validation.py:717: FutureWarning: Parameter 'base_estimator' of BaggingClassifier is deprecated in favor of 'estimator'. See BaggingClassifier's docstring for more details.\n",
      "  estimator = estimator.set_params(**clone(parameters, safe=False))\n",
      "c:\\Users\\nicol\\miniconda3\\envs\\data_env\\Lib\\site-packages\\sklearn\\model_selection\\_validation.py:717: FutureWarning: Parameter 'base_estimator' of BaggingClassifier is deprecated in favor of 'estimator'. See BaggingClassifier's docstring for more details.\n",
      "  estimator = estimator.set_params(**clone(parameters, safe=False))\n",
      "c:\\Users\\nicol\\miniconda3\\envs\\data_env\\Lib\\site-packages\\sklearn\\model_selection\\_validation.py:717: FutureWarning: Parameter 'base_estimator' of BaggingClassifier is deprecated in favor of 'estimator'. See BaggingClassifier's docstring for more details.\n",
      "  estimator = estimator.set_params(**clone(parameters, safe=False))\n",
      "c:\\Users\\nicol\\miniconda3\\envs\\data_env\\Lib\\site-packages\\sklearn\\model_selection\\_validation.py:717: FutureWarning: Parameter 'base_estimator' of BaggingClassifier is deprecated in favor of 'estimator'. See BaggingClassifier's docstring for more details.\n",
      "  estimator = estimator.set_params(**clone(parameters, safe=False))\n",
      "c:\\Users\\nicol\\miniconda3\\envs\\data_env\\Lib\\site-packages\\sklearn\\model_selection\\_validation.py:717: FutureWarning: Parameter 'base_estimator' of BaggingClassifier is deprecated in favor of 'estimator'. See BaggingClassifier's docstring for more details.\n",
      "  estimator = estimator.set_params(**clone(parameters, safe=False))\n",
      "c:\\Users\\nicol\\miniconda3\\envs\\data_env\\Lib\\site-packages\\sklearn\\model_selection\\_validation.py:717: FutureWarning: Parameter 'base_estimator' of BaggingClassifier is deprecated in favor of 'estimator'. See BaggingClassifier's docstring for more details.\n",
      "  estimator = estimator.set_params(**clone(parameters, safe=False))\n",
      "c:\\Users\\nicol\\miniconda3\\envs\\data_env\\Lib\\site-packages\\sklearn\\model_selection\\_validation.py:717: FutureWarning: Parameter 'base_estimator' of BaggingClassifier is deprecated in favor of 'estimator'. See BaggingClassifier's docstring for more details.\n",
      "  estimator = estimator.set_params(**clone(parameters, safe=False))\n",
      "c:\\Users\\nicol\\miniconda3\\envs\\data_env\\Lib\\site-packages\\sklearn\\model_selection\\_validation.py:717: FutureWarning: Parameter 'base_estimator' of BaggingClassifier is deprecated in favor of 'estimator'. See BaggingClassifier's docstring for more details.\n",
      "  estimator = estimator.set_params(**clone(parameters, safe=False))\n",
      "c:\\Users\\nicol\\miniconda3\\envs\\data_env\\Lib\\site-packages\\sklearn\\model_selection\\_validation.py:717: FutureWarning: Parameter 'base_estimator' of BaggingClassifier is deprecated in favor of 'estimator'. See BaggingClassifier's docstring for more details.\n",
      "  estimator = estimator.set_params(**clone(parameters, safe=False))\n",
      "c:\\Users\\nicol\\miniconda3\\envs\\data_env\\Lib\\site-packages\\sklearn\\model_selection\\_validation.py:717: FutureWarning: Parameter 'base_estimator' of BaggingClassifier is deprecated in favor of 'estimator'. See BaggingClassifier's docstring for more details.\n",
      "  estimator = estimator.set_params(**clone(parameters, safe=False))\n",
      "c:\\Users\\nicol\\miniconda3\\envs\\data_env\\Lib\\site-packages\\sklearn\\model_selection\\_validation.py:717: FutureWarning: Parameter 'base_estimator' of BaggingClassifier is deprecated in favor of 'estimator'. See BaggingClassifier's docstring for more details.\n",
      "  estimator = estimator.set_params(**clone(parameters, safe=False))\n",
      "c:\\Users\\nicol\\miniconda3\\envs\\data_env\\Lib\\site-packages\\sklearn\\model_selection\\_validation.py:717: FutureWarning: Parameter 'base_estimator' of BaggingClassifier is deprecated in favor of 'estimator'. See BaggingClassifier's docstring for more details.\n",
      "  estimator = estimator.set_params(**clone(parameters, safe=False))\n",
      "c:\\Users\\nicol\\miniconda3\\envs\\data_env\\Lib\\site-packages\\sklearn\\model_selection\\_validation.py:717: FutureWarning: Parameter 'base_estimator' of BaggingClassifier is deprecated in favor of 'estimator'. See BaggingClassifier's docstring for more details.\n",
      "  estimator = estimator.set_params(**clone(parameters, safe=False))\n",
      "c:\\Users\\nicol\\miniconda3\\envs\\data_env\\Lib\\site-packages\\sklearn\\model_selection\\_validation.py:717: FutureWarning: Parameter 'base_estimator' of BaggingClassifier is deprecated in favor of 'estimator'. See BaggingClassifier's docstring for more details.\n",
      "  estimator = estimator.set_params(**clone(parameters, safe=False))\n",
      "c:\\Users\\nicol\\miniconda3\\envs\\data_env\\Lib\\site-packages\\sklearn\\model_selection\\_validation.py:717: FutureWarning: Parameter 'base_estimator' of BaggingClassifier is deprecated in favor of 'estimator'. See BaggingClassifier's docstring for more details.\n",
      "  estimator = estimator.set_params(**clone(parameters, safe=False))\n",
      "c:\\Users\\nicol\\miniconda3\\envs\\data_env\\Lib\\site-packages\\sklearn\\model_selection\\_validation.py:717: FutureWarning: Parameter 'base_estimator' of BaggingClassifier is deprecated in favor of 'estimator'. See BaggingClassifier's docstring for more details.\n",
      "  estimator = estimator.set_params(**clone(parameters, safe=False))\n",
      "c:\\Users\\nicol\\miniconda3\\envs\\data_env\\Lib\\site-packages\\sklearn\\model_selection\\_validation.py:717: FutureWarning: Parameter 'base_estimator' of BaggingClassifier is deprecated in favor of 'estimator'. See BaggingClassifier's docstring for more details.\n",
      "  estimator = estimator.set_params(**clone(parameters, safe=False))\n",
      "c:\\Users\\nicol\\miniconda3\\envs\\data_env\\Lib\\site-packages\\sklearn\\model_selection\\_validation.py:717: FutureWarning: Parameter 'base_estimator' of BaggingClassifier is deprecated in favor of 'estimator'. See BaggingClassifier's docstring for more details.\n",
      "  estimator = estimator.set_params(**clone(parameters, safe=False))\n",
      "c:\\Users\\nicol\\miniconda3\\envs\\data_env\\Lib\\site-packages\\sklearn\\model_selection\\_validation.py:717: FutureWarning: Parameter 'base_estimator' of BaggingClassifier is deprecated in favor of 'estimator'. See BaggingClassifier's docstring for more details.\n",
      "  estimator = estimator.set_params(**clone(parameters, safe=False))\n",
      "c:\\Users\\nicol\\miniconda3\\envs\\data_env\\Lib\\site-packages\\sklearn\\model_selection\\_validation.py:717: FutureWarning: Parameter 'base_estimator' of BaggingClassifier is deprecated in favor of 'estimator'. See BaggingClassifier's docstring for more details.\n",
      "  estimator = estimator.set_params(**clone(parameters, safe=False))\n",
      "c:\\Users\\nicol\\miniconda3\\envs\\data_env\\Lib\\site-packages\\sklearn\\model_selection\\_validation.py:717: FutureWarning: Parameter 'base_estimator' of BaggingClassifier is deprecated in favor of 'estimator'. See BaggingClassifier's docstring for more details.\n",
      "  estimator = estimator.set_params(**clone(parameters, safe=False))\n",
      "c:\\Users\\nicol\\miniconda3\\envs\\data_env\\Lib\\site-packages\\sklearn\\model_selection\\_validation.py:717: FutureWarning: Parameter 'base_estimator' of BaggingClassifier is deprecated in favor of 'estimator'. See BaggingClassifier's docstring for more details.\n",
      "  estimator = estimator.set_params(**clone(parameters, safe=False))\n",
      "c:\\Users\\nicol\\miniconda3\\envs\\data_env\\Lib\\site-packages\\sklearn\\model_selection\\_validation.py:717: FutureWarning: Parameter 'base_estimator' of BaggingClassifier is deprecated in favor of 'estimator'. See BaggingClassifier's docstring for more details.\n",
      "  estimator = estimator.set_params(**clone(parameters, safe=False))\n",
      "c:\\Users\\nicol\\miniconda3\\envs\\data_env\\Lib\\site-packages\\sklearn\\model_selection\\_validation.py:717: FutureWarning: Parameter 'base_estimator' of BaggingClassifier is deprecated in favor of 'estimator'. See BaggingClassifier's docstring for more details.\n",
      "  estimator = estimator.set_params(**clone(parameters, safe=False))\n",
      "c:\\Users\\nicol\\miniconda3\\envs\\data_env\\Lib\\site-packages\\sklearn\\model_selection\\_validation.py:717: FutureWarning: Parameter 'base_estimator' of BaggingClassifier is deprecated in favor of 'estimator'. See BaggingClassifier's docstring for more details.\n",
      "  estimator = estimator.set_params(**clone(parameters, safe=False))\n",
      "c:\\Users\\nicol\\miniconda3\\envs\\data_env\\Lib\\site-packages\\sklearn\\model_selection\\_validation.py:717: FutureWarning: Parameter 'base_estimator' of BaggingClassifier is deprecated in favor of 'estimator'. See BaggingClassifier's docstring for more details.\n",
      "  estimator = estimator.set_params(**clone(parameters, safe=False))\n",
      "c:\\Users\\nicol\\miniconda3\\envs\\data_env\\Lib\\site-packages\\sklearn\\model_selection\\_validation.py:717: FutureWarning: Parameter 'base_estimator' of BaggingClassifier is deprecated in favor of 'estimator'. See BaggingClassifier's docstring for more details.\n",
      "  estimator = estimator.set_params(**clone(parameters, safe=False))\n",
      "c:\\Users\\nicol\\miniconda3\\envs\\data_env\\Lib\\site-packages\\sklearn\\model_selection\\_validation.py:717: FutureWarning: Parameter 'base_estimator' of BaggingClassifier is deprecated in favor of 'estimator'. See BaggingClassifier's docstring for more details.\n",
      "  estimator = estimator.set_params(**clone(parameters, safe=False))\n",
      "c:\\Users\\nicol\\miniconda3\\envs\\data_env\\Lib\\site-packages\\sklearn\\model_selection\\_validation.py:717: FutureWarning: Parameter 'base_estimator' of BaggingClassifier is deprecated in favor of 'estimator'. See BaggingClassifier's docstring for more details.\n",
      "  estimator = estimator.set_params(**clone(parameters, safe=False))\n",
      "c:\\Users\\nicol\\miniconda3\\envs\\data_env\\Lib\\site-packages\\sklearn\\model_selection\\_validation.py:717: FutureWarning: Parameter 'base_estimator' of BaggingClassifier is deprecated in favor of 'estimator'. See BaggingClassifier's docstring for more details.\n",
      "  estimator = estimator.set_params(**clone(parameters, safe=False))\n",
      "c:\\Users\\nicol\\miniconda3\\envs\\data_env\\Lib\\site-packages\\sklearn\\model_selection\\_validation.py:717: FutureWarning: Parameter 'base_estimator' of BaggingClassifier is deprecated in favor of 'estimator'. See BaggingClassifier's docstring for more details.\n",
      "  estimator = estimator.set_params(**clone(parameters, safe=False))\n",
      "c:\\Users\\nicol\\miniconda3\\envs\\data_env\\Lib\\site-packages\\sklearn\\model_selection\\_validation.py:717: FutureWarning: Parameter 'base_estimator' of BaggingClassifier is deprecated in favor of 'estimator'. See BaggingClassifier's docstring for more details.\n",
      "  estimator = estimator.set_params(**clone(parameters, safe=False))\n",
      "c:\\Users\\nicol\\miniconda3\\envs\\data_env\\Lib\\site-packages\\sklearn\\model_selection\\_validation.py:717: FutureWarning: Parameter 'base_estimator' of BaggingClassifier is deprecated in favor of 'estimator'. See BaggingClassifier's docstring for more details.\n",
      "  estimator = estimator.set_params(**clone(parameters, safe=False))\n",
      "c:\\Users\\nicol\\miniconda3\\envs\\data_env\\Lib\\site-packages\\sklearn\\model_selection\\_validation.py:717: FutureWarning: Parameter 'base_estimator' of BaggingClassifier is deprecated in favor of 'estimator'. See BaggingClassifier's docstring for more details.\n",
      "  estimator = estimator.set_params(**clone(parameters, safe=False))\n",
      "c:\\Users\\nicol\\miniconda3\\envs\\data_env\\Lib\\site-packages\\sklearn\\model_selection\\_validation.py:717: FutureWarning: Parameter 'base_estimator' of BaggingClassifier is deprecated in favor of 'estimator'. See BaggingClassifier's docstring for more details.\n",
      "  estimator = estimator.set_params(**clone(parameters, safe=False))\n",
      "c:\\Users\\nicol\\miniconda3\\envs\\data_env\\Lib\\site-packages\\sklearn\\model_selection\\_validation.py:717: FutureWarning: Parameter 'base_estimator' of BaggingClassifier is deprecated in favor of 'estimator'. See BaggingClassifier's docstring for more details.\n",
      "  estimator = estimator.set_params(**clone(parameters, safe=False))\n",
      "c:\\Users\\nicol\\miniconda3\\envs\\data_env\\Lib\\site-packages\\sklearn\\model_selection\\_validation.py:717: FutureWarning: Parameter 'base_estimator' of BaggingClassifier is deprecated in favor of 'estimator'. See BaggingClassifier's docstring for more details.\n",
      "  estimator = estimator.set_params(**clone(parameters, safe=False))\n",
      "c:\\Users\\nicol\\miniconda3\\envs\\data_env\\Lib\\site-packages\\sklearn\\model_selection\\_validation.py:717: FutureWarning: Parameter 'base_estimator' of BaggingClassifier is deprecated in favor of 'estimator'. See BaggingClassifier's docstring for more details.\n",
      "  estimator = estimator.set_params(**clone(parameters, safe=False))\n",
      "c:\\Users\\nicol\\miniconda3\\envs\\data_env\\Lib\\site-packages\\sklearn\\model_selection\\_validation.py:717: FutureWarning: Parameter 'base_estimator' of BaggingClassifier is deprecated in favor of 'estimator'. See BaggingClassifier's docstring for more details.\n",
      "  estimator = estimator.set_params(**clone(parameters, safe=False))\n",
      "c:\\Users\\nicol\\miniconda3\\envs\\data_env\\Lib\\site-packages\\sklearn\\model_selection\\_validation.py:717: FutureWarning: Parameter 'base_estimator' of BaggingClassifier is deprecated in favor of 'estimator'. See BaggingClassifier's docstring for more details.\n",
      "  estimator = estimator.set_params(**clone(parameters, safe=False))\n",
      "c:\\Users\\nicol\\miniconda3\\envs\\data_env\\Lib\\site-packages\\sklearn\\model_selection\\_validation.py:717: FutureWarning: Parameter 'base_estimator' of BaggingClassifier is deprecated in favor of 'estimator'. See BaggingClassifier's docstring for more details.\n",
      "  estimator = estimator.set_params(**clone(parameters, safe=False))\n",
      "c:\\Users\\nicol\\miniconda3\\envs\\data_env\\Lib\\site-packages\\sklearn\\model_selection\\_validation.py:717: FutureWarning: Parameter 'base_estimator' of BaggingClassifier is deprecated in favor of 'estimator'. See BaggingClassifier's docstring for more details.\n",
      "  estimator = estimator.set_params(**clone(parameters, safe=False))\n",
      "c:\\Users\\nicol\\miniconda3\\envs\\data_env\\Lib\\site-packages\\sklearn\\model_selection\\_validation.py:717: FutureWarning: Parameter 'base_estimator' of BaggingClassifier is deprecated in favor of 'estimator'. See BaggingClassifier's docstring for more details.\n",
      "  estimator = estimator.set_params(**clone(parameters, safe=False))\n",
      "c:\\Users\\nicol\\miniconda3\\envs\\data_env\\Lib\\site-packages\\sklearn\\model_selection\\_validation.py:717: FutureWarning: Parameter 'base_estimator' of BaggingClassifier is deprecated in favor of 'estimator'. See BaggingClassifier's docstring for more details.\n",
      "  estimator = estimator.set_params(**clone(parameters, safe=False))\n",
      "c:\\Users\\nicol\\miniconda3\\envs\\data_env\\Lib\\site-packages\\sklearn\\model_selection\\_validation.py:717: FutureWarning: Parameter 'base_estimator' of BaggingClassifier is deprecated in favor of 'estimator'. See BaggingClassifier's docstring for more details.\n",
      "  estimator = estimator.set_params(**clone(parameters, safe=False))\n",
      "c:\\Users\\nicol\\miniconda3\\envs\\data_env\\Lib\\site-packages\\sklearn\\model_selection\\_validation.py:717: FutureWarning: Parameter 'base_estimator' of BaggingClassifier is deprecated in favor of 'estimator'. See BaggingClassifier's docstring for more details.\n",
      "  estimator = estimator.set_params(**clone(parameters, safe=False))\n",
      "c:\\Users\\nicol\\miniconda3\\envs\\data_env\\Lib\\site-packages\\sklearn\\model_selection\\_validation.py:717: FutureWarning: Parameter 'base_estimator' of BaggingClassifier is deprecated in favor of 'estimator'. See BaggingClassifier's docstring for more details.\n",
      "  estimator = estimator.set_params(**clone(parameters, safe=False))\n",
      "c:\\Users\\nicol\\miniconda3\\envs\\data_env\\Lib\\site-packages\\sklearn\\model_selection\\_validation.py:717: FutureWarning: Parameter 'base_estimator' of BaggingClassifier is deprecated in favor of 'estimator'. See BaggingClassifier's docstring for more details.\n",
      "  estimator = estimator.set_params(**clone(parameters, safe=False))\n",
      "c:\\Users\\nicol\\miniconda3\\envs\\data_env\\Lib\\site-packages\\sklearn\\model_selection\\_validation.py:717: FutureWarning: Parameter 'base_estimator' of BaggingClassifier is deprecated in favor of 'estimator'. See BaggingClassifier's docstring for more details.\n",
      "  estimator = estimator.set_params(**clone(parameters, safe=False))\n",
      "c:\\Users\\nicol\\miniconda3\\envs\\data_env\\Lib\\site-packages\\sklearn\\model_selection\\_validation.py:717: FutureWarning: Parameter 'base_estimator' of BaggingClassifier is deprecated in favor of 'estimator'. See BaggingClassifier's docstring for more details.\n",
      "  estimator = estimator.set_params(**clone(parameters, safe=False))\n",
      "c:\\Users\\nicol\\miniconda3\\envs\\data_env\\Lib\\site-packages\\sklearn\\model_selection\\_validation.py:717: FutureWarning: Parameter 'base_estimator' of BaggingClassifier is deprecated in favor of 'estimator'. See BaggingClassifier's docstring for more details.\n",
      "  estimator = estimator.set_params(**clone(parameters, safe=False))\n",
      "c:\\Users\\nicol\\miniconda3\\envs\\data_env\\Lib\\site-packages\\sklearn\\model_selection\\_validation.py:717: FutureWarning: Parameter 'base_estimator' of BaggingClassifier is deprecated in favor of 'estimator'. See BaggingClassifier's docstring for more details.\n",
      "  estimator = estimator.set_params(**clone(parameters, safe=False))\n",
      "c:\\Users\\nicol\\miniconda3\\envs\\data_env\\Lib\\site-packages\\sklearn\\model_selection\\_validation.py:717: FutureWarning: Parameter 'base_estimator' of BaggingClassifier is deprecated in favor of 'estimator'. See BaggingClassifier's docstring for more details.\n",
      "  estimator = estimator.set_params(**clone(parameters, safe=False))\n",
      "c:\\Users\\nicol\\miniconda3\\envs\\data_env\\Lib\\site-packages\\sklearn\\model_selection\\_validation.py:717: FutureWarning: Parameter 'base_estimator' of BaggingClassifier is deprecated in favor of 'estimator'. See BaggingClassifier's docstring for more details.\n",
      "  estimator = estimator.set_params(**clone(parameters, safe=False))\n",
      "c:\\Users\\nicol\\miniconda3\\envs\\data_env\\Lib\\site-packages\\sklearn\\model_selection\\_validation.py:717: FutureWarning: Parameter 'base_estimator' of BaggingClassifier is deprecated in favor of 'estimator'. See BaggingClassifier's docstring for more details.\n",
      "  estimator = estimator.set_params(**clone(parameters, safe=False))\n",
      "c:\\Users\\nicol\\miniconda3\\envs\\data_env\\Lib\\site-packages\\sklearn\\model_selection\\_validation.py:717: FutureWarning: Parameter 'base_estimator' of BaggingClassifier is deprecated in favor of 'estimator'. See BaggingClassifier's docstring for more details.\n",
      "  estimator = estimator.set_params(**clone(parameters, safe=False))\n",
      "c:\\Users\\nicol\\miniconda3\\envs\\data_env\\Lib\\site-packages\\sklearn\\model_selection\\_validation.py:717: FutureWarning: Parameter 'base_estimator' of BaggingClassifier is deprecated in favor of 'estimator'. See BaggingClassifier's docstring for more details.\n",
      "  estimator = estimator.set_params(**clone(parameters, safe=False))\n",
      "c:\\Users\\nicol\\miniconda3\\envs\\data_env\\Lib\\site-packages\\sklearn\\model_selection\\_validation.py:717: FutureWarning: Parameter 'base_estimator' of BaggingClassifier is deprecated in favor of 'estimator'. See BaggingClassifier's docstring for more details.\n",
      "  estimator = estimator.set_params(**clone(parameters, safe=False))\n",
      "c:\\Users\\nicol\\miniconda3\\envs\\data_env\\Lib\\site-packages\\sklearn\\model_selection\\_validation.py:717: FutureWarning: Parameter 'base_estimator' of BaggingClassifier is deprecated in favor of 'estimator'. See BaggingClassifier's docstring for more details.\n",
      "  estimator = estimator.set_params(**clone(parameters, safe=False))\n",
      "c:\\Users\\nicol\\miniconda3\\envs\\data_env\\Lib\\site-packages\\sklearn\\model_selection\\_validation.py:717: FutureWarning: Parameter 'base_estimator' of BaggingClassifier is deprecated in favor of 'estimator'. See BaggingClassifier's docstring for more details.\n",
      "  estimator = estimator.set_params(**clone(parameters, safe=False))\n",
      "c:\\Users\\nicol\\miniconda3\\envs\\data_env\\Lib\\site-packages\\sklearn\\model_selection\\_validation.py:717: FutureWarning: Parameter 'base_estimator' of BaggingClassifier is deprecated in favor of 'estimator'. See BaggingClassifier's docstring for more details.\n",
      "  estimator = estimator.set_params(**clone(parameters, safe=False))\n",
      "c:\\Users\\nicol\\miniconda3\\envs\\data_env\\Lib\\site-packages\\sklearn\\model_selection\\_validation.py:717: FutureWarning: Parameter 'base_estimator' of BaggingClassifier is deprecated in favor of 'estimator'. See BaggingClassifier's docstring for more details.\n",
      "  estimator = estimator.set_params(**clone(parameters, safe=False))\n",
      "c:\\Users\\nicol\\miniconda3\\envs\\data_env\\Lib\\site-packages\\sklearn\\model_selection\\_validation.py:717: FutureWarning: Parameter 'base_estimator' of BaggingClassifier is deprecated in favor of 'estimator'. See BaggingClassifier's docstring for more details.\n",
      "  estimator = estimator.set_params(**clone(parameters, safe=False))\n",
      "c:\\Users\\nicol\\miniconda3\\envs\\data_env\\Lib\\site-packages\\sklearn\\model_selection\\_validation.py:717: FutureWarning: Parameter 'base_estimator' of BaggingClassifier is deprecated in favor of 'estimator'. See BaggingClassifier's docstring for more details.\n",
      "  estimator = estimator.set_params(**clone(parameters, safe=False))\n",
      "c:\\Users\\nicol\\miniconda3\\envs\\data_env\\Lib\\site-packages\\sklearn\\model_selection\\_validation.py:717: FutureWarning: Parameter 'base_estimator' of BaggingClassifier is deprecated in favor of 'estimator'. See BaggingClassifier's docstring for more details.\n",
      "  estimator = estimator.set_params(**clone(parameters, safe=False))\n",
      "c:\\Users\\nicol\\miniconda3\\envs\\data_env\\Lib\\site-packages\\sklearn\\model_selection\\_validation.py:717: FutureWarning: Parameter 'base_estimator' of BaggingClassifier is deprecated in favor of 'estimator'. See BaggingClassifier's docstring for more details.\n",
      "  estimator = estimator.set_params(**clone(parameters, safe=False))\n",
      "c:\\Users\\nicol\\miniconda3\\envs\\data_env\\Lib\\site-packages\\sklearn\\model_selection\\_validation.py:717: FutureWarning: Parameter 'base_estimator' of BaggingClassifier is deprecated in favor of 'estimator'. See BaggingClassifier's docstring for more details.\n",
      "  estimator = estimator.set_params(**clone(parameters, safe=False))\n",
      "c:\\Users\\nicol\\miniconda3\\envs\\data_env\\Lib\\site-packages\\sklearn\\model_selection\\_validation.py:717: FutureWarning: Parameter 'base_estimator' of BaggingClassifier is deprecated in favor of 'estimator'. See BaggingClassifier's docstring for more details.\n",
      "  estimator = estimator.set_params(**clone(parameters, safe=False))\n",
      "c:\\Users\\nicol\\miniconda3\\envs\\data_env\\Lib\\site-packages\\sklearn\\model_selection\\_validation.py:717: FutureWarning: Parameter 'base_estimator' of BaggingClassifier is deprecated in favor of 'estimator'. See BaggingClassifier's docstring for more details.\n",
      "  estimator = estimator.set_params(**clone(parameters, safe=False))\n",
      "c:\\Users\\nicol\\miniconda3\\envs\\data_env\\Lib\\site-packages\\sklearn\\model_selection\\_validation.py:717: FutureWarning: Parameter 'base_estimator' of BaggingClassifier is deprecated in favor of 'estimator'. See BaggingClassifier's docstring for more details.\n",
      "  estimator = estimator.set_params(**clone(parameters, safe=False))\n",
      "c:\\Users\\nicol\\miniconda3\\envs\\data_env\\Lib\\site-packages\\sklearn\\model_selection\\_validation.py:717: FutureWarning: Parameter 'base_estimator' of BaggingClassifier is deprecated in favor of 'estimator'. See BaggingClassifier's docstring for more details.\n",
      "  estimator = estimator.set_params(**clone(parameters, safe=False))\n",
      "c:\\Users\\nicol\\miniconda3\\envs\\data_env\\Lib\\site-packages\\sklearn\\model_selection\\_validation.py:717: FutureWarning: Parameter 'base_estimator' of BaggingClassifier is deprecated in favor of 'estimator'. See BaggingClassifier's docstring for more details.\n",
      "  estimator = estimator.set_params(**clone(parameters, safe=False))\n",
      "c:\\Users\\nicol\\miniconda3\\envs\\data_env\\Lib\\site-packages\\sklearn\\model_selection\\_validation.py:717: FutureWarning: Parameter 'base_estimator' of BaggingClassifier is deprecated in favor of 'estimator'. See BaggingClassifier's docstring for more details.\n",
      "  estimator = estimator.set_params(**clone(parameters, safe=False))\n",
      "c:\\Users\\nicol\\miniconda3\\envs\\data_env\\Lib\\site-packages\\sklearn\\model_selection\\_validation.py:717: FutureWarning: Parameter 'base_estimator' of BaggingClassifier is deprecated in favor of 'estimator'. See BaggingClassifier's docstring for more details.\n",
      "  estimator = estimator.set_params(**clone(parameters, safe=False))\n",
      "c:\\Users\\nicol\\miniconda3\\envs\\data_env\\Lib\\site-packages\\sklearn\\model_selection\\_validation.py:717: FutureWarning: Parameter 'base_estimator' of BaggingClassifier is deprecated in favor of 'estimator'. See BaggingClassifier's docstring for more details.\n",
      "  estimator = estimator.set_params(**clone(parameters, safe=False))\n",
      "c:\\Users\\nicol\\miniconda3\\envs\\data_env\\Lib\\site-packages\\sklearn\\model_selection\\_validation.py:717: FutureWarning: Parameter 'base_estimator' of BaggingClassifier is deprecated in favor of 'estimator'. See BaggingClassifier's docstring for more details.\n",
      "  estimator = estimator.set_params(**clone(parameters, safe=False))\n",
      "c:\\Users\\nicol\\miniconda3\\envs\\data_env\\Lib\\site-packages\\sklearn\\model_selection\\_validation.py:717: FutureWarning: Parameter 'base_estimator' of BaggingClassifier is deprecated in favor of 'estimator'. See BaggingClassifier's docstring for more details.\n",
      "  estimator = estimator.set_params(**clone(parameters, safe=False))\n",
      "c:\\Users\\nicol\\miniconda3\\envs\\data_env\\Lib\\site-packages\\sklearn\\model_selection\\_validation.py:717: FutureWarning: Parameter 'base_estimator' of BaggingClassifier is deprecated in favor of 'estimator'. See BaggingClassifier's docstring for more details.\n",
      "  estimator = estimator.set_params(**clone(parameters, safe=False))\n",
      "c:\\Users\\nicol\\miniconda3\\envs\\data_env\\Lib\\site-packages\\sklearn\\model_selection\\_validation.py:717: FutureWarning: Parameter 'base_estimator' of BaggingClassifier is deprecated in favor of 'estimator'. See BaggingClassifier's docstring for more details.\n",
      "  estimator = estimator.set_params(**clone(parameters, safe=False))\n",
      "c:\\Users\\nicol\\miniconda3\\envs\\data_env\\Lib\\site-packages\\sklearn\\model_selection\\_validation.py:717: FutureWarning: Parameter 'base_estimator' of BaggingClassifier is deprecated in favor of 'estimator'. See BaggingClassifier's docstring for more details.\n",
      "  estimator = estimator.set_params(**clone(parameters, safe=False))\n",
      "c:\\Users\\nicol\\miniconda3\\envs\\data_env\\Lib\\site-packages\\sklearn\\model_selection\\_validation.py:717: FutureWarning: Parameter 'base_estimator' of BaggingClassifier is deprecated in favor of 'estimator'. See BaggingClassifier's docstring for more details.\n",
      "  estimator = estimator.set_params(**clone(parameters, safe=False))\n",
      "c:\\Users\\nicol\\miniconda3\\envs\\data_env\\Lib\\site-packages\\sklearn\\model_selection\\_validation.py:717: FutureWarning: Parameter 'base_estimator' of BaggingClassifier is deprecated in favor of 'estimator'. See BaggingClassifier's docstring for more details.\n",
      "  estimator = estimator.set_params(**clone(parameters, safe=False))\n",
      "c:\\Users\\nicol\\miniconda3\\envs\\data_env\\Lib\\site-packages\\sklearn\\model_selection\\_validation.py:717: FutureWarning: Parameter 'base_estimator' of BaggingClassifier is deprecated in favor of 'estimator'. See BaggingClassifier's docstring for more details.\n",
      "  estimator = estimator.set_params(**clone(parameters, safe=False))\n",
      "c:\\Users\\nicol\\miniconda3\\envs\\data_env\\Lib\\site-packages\\sklearn\\model_selection\\_validation.py:717: FutureWarning: Parameter 'base_estimator' of BaggingClassifier is deprecated in favor of 'estimator'. See BaggingClassifier's docstring for more details.\n",
      "  estimator = estimator.set_params(**clone(parameters, safe=False))\n",
      "c:\\Users\\nicol\\miniconda3\\envs\\data_env\\Lib\\site-packages\\sklearn\\model_selection\\_validation.py:717: FutureWarning: Parameter 'base_estimator' of BaggingClassifier is deprecated in favor of 'estimator'. See BaggingClassifier's docstring for more details.\n",
      "  estimator = estimator.set_params(**clone(parameters, safe=False))\n",
      "c:\\Users\\nicol\\miniconda3\\envs\\data_env\\Lib\\site-packages\\sklearn\\model_selection\\_validation.py:717: FutureWarning: Parameter 'base_estimator' of BaggingClassifier is deprecated in favor of 'estimator'. See BaggingClassifier's docstring for more details.\n",
      "  estimator = estimator.set_params(**clone(parameters, safe=False))\n",
      "c:\\Users\\nicol\\miniconda3\\envs\\data_env\\Lib\\site-packages\\sklearn\\model_selection\\_validation.py:717: FutureWarning: Parameter 'base_estimator' of BaggingClassifier is deprecated in favor of 'estimator'. See BaggingClassifier's docstring for more details.\n",
      "  estimator = estimator.set_params(**clone(parameters, safe=False))\n",
      "c:\\Users\\nicol\\miniconda3\\envs\\data_env\\Lib\\site-packages\\sklearn\\model_selection\\_validation.py:717: FutureWarning: Parameter 'base_estimator' of BaggingClassifier is deprecated in favor of 'estimator'. See BaggingClassifier's docstring for more details.\n",
      "  estimator = estimator.set_params(**clone(parameters, safe=False))\n",
      "c:\\Users\\nicol\\miniconda3\\envs\\data_env\\Lib\\site-packages\\sklearn\\model_selection\\_validation.py:717: FutureWarning: Parameter 'base_estimator' of BaggingClassifier is deprecated in favor of 'estimator'. See BaggingClassifier's docstring for more details.\n",
      "  estimator = estimator.set_params(**clone(parameters, safe=False))\n",
      "c:\\Users\\nicol\\miniconda3\\envs\\data_env\\Lib\\site-packages\\sklearn\\model_selection\\_validation.py:717: FutureWarning: Parameter 'base_estimator' of BaggingClassifier is deprecated in favor of 'estimator'. See BaggingClassifier's docstring for more details.\n",
      "  estimator = estimator.set_params(**clone(parameters, safe=False))\n",
      "c:\\Users\\nicol\\miniconda3\\envs\\data_env\\Lib\\site-packages\\sklearn\\model_selection\\_validation.py:717: FutureWarning: Parameter 'base_estimator' of BaggingClassifier is deprecated in favor of 'estimator'. See BaggingClassifier's docstring for more details.\n",
      "  estimator = estimator.set_params(**clone(parameters, safe=False))\n",
      "c:\\Users\\nicol\\miniconda3\\envs\\data_env\\Lib\\site-packages\\sklearn\\model_selection\\_validation.py:717: FutureWarning: Parameter 'base_estimator' of BaggingClassifier is deprecated in favor of 'estimator'. See BaggingClassifier's docstring for more details.\n",
      "  estimator = estimator.set_params(**clone(parameters, safe=False))\n",
      "c:\\Users\\nicol\\miniconda3\\envs\\data_env\\Lib\\site-packages\\sklearn\\model_selection\\_validation.py:717: FutureWarning: Parameter 'base_estimator' of BaggingClassifier is deprecated in favor of 'estimator'. See BaggingClassifier's docstring for more details.\n",
      "  estimator = estimator.set_params(**clone(parameters, safe=False))\n",
      "c:\\Users\\nicol\\miniconda3\\envs\\data_env\\Lib\\site-packages\\sklearn\\model_selection\\_validation.py:717: FutureWarning: Parameter 'base_estimator' of BaggingClassifier is deprecated in favor of 'estimator'. See BaggingClassifier's docstring for more details.\n",
      "  estimator = estimator.set_params(**clone(parameters, safe=False))\n",
      "c:\\Users\\nicol\\miniconda3\\envs\\data_env\\Lib\\site-packages\\sklearn\\model_selection\\_search.py:930: FutureWarning: Parameter 'base_estimator' of BaggingClassifier is deprecated in favor of 'estimator'. See BaggingClassifier's docstring for more details.\n",
      "  self.best_estimator_ = clone(base_estimator).set_params(\n"
     ]
    },
    {
     "name": "stdout",
     "output_type": "stream",
     "text": [
      "...Done.\n",
      "Best hyperparameters :  {'base_estimator__max_depth': 3, 'base_estimator__min_samples_leaf': 1, 'base_estimator__min_samples_split': 2, 'n_estimators': 2}\n",
      "Best validation accuracy :  0.9845033424425437\n",
      "\n",
      "Accuracy on training set :  0.9845033426746669\n",
      "Accuracy on test set :  0.9843804905474735\n"
     ]
    }
   ],
   "source": [
    "# Perform grid search\n",
    "from sklearn.tree import DecisionTreeClassifier\n",
    "\n",
    "\n",
    "print(\"Grid search...\")\n",
    "decision_tree = DecisionTreeClassifier()\n",
    "model = BaggingClassifier(decision_tree)\n",
    "\n",
    "# Grid of values to be tested\n",
    "params = {\n",
    "    'base_estimator__max_depth': [1, 2, 3],\n",
    "    'base_estimator__min_samples_leaf': [1, 2, 3],\n",
    "    'base_estimator__min_samples_split': [2, 3, 4],\n",
    "    'n_estimators': [2, 4, 6, 8, 10]\n",
    "}\n",
    "print(params)\n",
    "gridsearch_bag_dec_tr = GridSearchCV(model, param_grid = params, cv = 3) # cv : the number of folds to be used for CV\n",
    "gridsearch_bag_dec_tr.fit(X_train, Y_train)\n",
    "print(\"...Done.\")\n",
    "print(\"Best hyperparameters : \", gridsearch_bag_dec_tr.best_params_)\n",
    "print(\"Best validation accuracy : \", gridsearch_bag_dec_tr.best_score_)\n",
    "print()\n",
    "print(\"Accuracy on training set : \", gridsearch_bag_dec_tr.score(X_train, Y_train))\n",
    "print(\"Accuracy on test set : \", gridsearch_bag_dec_tr.score(X_test, Y_test))"
   ]
  },
  {
   "cell_type": "code",
   "execution_count": 19,
   "metadata": {},
   "outputs": [
    {
     "name": "stdout",
     "output_type": "stream",
     "text": [
      "Predictions on training set...\n",
      "...Done.\n",
      "[0 0 0 ... 0 0 0]\n",
      "\n",
      "Probabilities on training set...\n",
      "...Done.\n",
      "[[0.99775517 0.00224483]\n",
      " [0.99775517 0.00224483]\n",
      " [0.99775517 0.00224483]\n",
      " ...\n",
      " [0.99775517 0.00224483]\n",
      " [0.9569952  0.0430048 ]\n",
      " [0.99775517 0.00224483]]\n",
      "\n",
      "Predictions on test set...\n",
      "...Done.\n",
      "[0 0 0 ... 0 0 0]\n",
      "\n",
      "Probabilities on test set...\n",
      "...Done.\n",
      "[[0.99775517 0.00224483]\n",
      " [0.99775517 0.00224483]\n",
      " [0.99775517 0.00224483]\n",
      " ...\n",
      " [0.99775517 0.00224483]\n",
      " [0.99775517 0.00224483]\n",
      " [0.99775517 0.00224483]]\n",
      "\n",
      "f1-score on training set :  0.7282809611829943\n",
      "f1-score on test set :  0.7265456782528452\n"
     ]
    }
   ],
   "source": [
    "# Predictions on training set\n",
    "print(\"Predictions on training set...\")\n",
    "Y_train_pred = gridsearch_bag_dec_tr.predict(X_train)\n",
    "print(\"...Done.\")\n",
    "print(Y_train_pred)\n",
    "print()\n",
    "\n",
    "# It's also possible to get the probabilities estimated by the model:\n",
    "print(\"Probabilities on training set...\")\n",
    "Y_train_proba = gridsearch_bag_dec_tr.predict_proba(X_train)\n",
    "print(\"...Done.\")\n",
    "print(Y_train_proba)\n",
    "print()\n",
    "\n",
    "# Predictions on test set\n",
    "print(\"Predictions on test set...\")\n",
    "Y_test_pred = gridsearch_bag_dec_tr.predict(X_test)\n",
    "print(\"...Done.\")\n",
    "print(Y_test_pred)\n",
    "print()\n",
    "\n",
    "# It's also possible to get the probabilities estimated by the model:\n",
    "print(\"Probabilities on test set...\")\n",
    "Y_test_proba = gridsearch_bag_dec_tr.predict_proba(X_test)\n",
    "print(\"...Done.\")\n",
    "print(Y_test_proba)\n",
    "print()\n",
    "\n",
    "print(\"f1-score on training set : \", f1_score(Y_train, Y_train_pred))\n",
    "print(\"f1-score on test set : \", f1_score(Y_test, Y_test_pred))"
   ]
  },
  {
   "cell_type": "code",
   "execution_count": 20,
   "metadata": {},
   "outputs": [],
   "source": [
    "rows_model_score = pd.DataFrame({'model': ['bagging_dec_tree', 'bagging_dec_tree'], 'f1_score': [f1_score(Y_train, Y_train_pred), f1_score(Y_test, Y_test_pred)], 'set': ['train', 'test']})\n",
    "\n",
    "model_score_df = pd.concat([model_score_df, rows_model_score], ignore_index=True)"
   ]
  },
  {
   "cell_type": "markdown",
   "metadata": {},
   "source": [
    "### Adaboost with logistic regression as base estimator\n"
   ]
  },
  {
   "cell_type": "code",
   "execution_count": 21,
   "metadata": {},
   "outputs": [
    {
     "name": "stdout",
     "output_type": "stream",
     "text": [
      "Grid search...\n",
      "{'base_estimator__C': [0.01, 0.05, 0.1, 0.5], 'n_estimators': [5, 10, 20, 30]}\n"
     ]
    },
    {
     "name": "stderr",
     "output_type": "stream",
     "text": [
      "c:\\Users\\nicol\\miniconda3\\envs\\data_env\\Lib\\site-packages\\sklearn\\model_selection\\_validation.py:717: FutureWarning: Parameter 'base_estimator' of AdaBoostClassifier is deprecated in favor of 'estimator'. See AdaBoostClassifier's docstring for more details.\n",
      "  estimator = estimator.set_params(**clone(parameters, safe=False))\n",
      "c:\\Users\\nicol\\miniconda3\\envs\\data_env\\Lib\\site-packages\\sklearn\\model_selection\\_validation.py:717: FutureWarning: Parameter 'base_estimator' of AdaBoostClassifier is deprecated in favor of 'estimator'. See AdaBoostClassifier's docstring for more details.\n",
      "  estimator = estimator.set_params(**clone(parameters, safe=False))\n",
      "c:\\Users\\nicol\\miniconda3\\envs\\data_env\\Lib\\site-packages\\sklearn\\model_selection\\_validation.py:717: FutureWarning: Parameter 'base_estimator' of AdaBoostClassifier is deprecated in favor of 'estimator'. See AdaBoostClassifier's docstring for more details.\n",
      "  estimator = estimator.set_params(**clone(parameters, safe=False))\n",
      "c:\\Users\\nicol\\miniconda3\\envs\\data_env\\Lib\\site-packages\\sklearn\\model_selection\\_validation.py:717: FutureWarning: Parameter 'base_estimator' of AdaBoostClassifier is deprecated in favor of 'estimator'. See AdaBoostClassifier's docstring for more details.\n",
      "  estimator = estimator.set_params(**clone(parameters, safe=False))\n",
      "c:\\Users\\nicol\\miniconda3\\envs\\data_env\\Lib\\site-packages\\sklearn\\model_selection\\_validation.py:717: FutureWarning: Parameter 'base_estimator' of AdaBoostClassifier is deprecated in favor of 'estimator'. See AdaBoostClassifier's docstring for more details.\n",
      "  estimator = estimator.set_params(**clone(parameters, safe=False))\n",
      "c:\\Users\\nicol\\miniconda3\\envs\\data_env\\Lib\\site-packages\\sklearn\\model_selection\\_validation.py:717: FutureWarning: Parameter 'base_estimator' of AdaBoostClassifier is deprecated in favor of 'estimator'. See AdaBoostClassifier's docstring for more details.\n",
      "  estimator = estimator.set_params(**clone(parameters, safe=False))\n",
      "c:\\Users\\nicol\\miniconda3\\envs\\data_env\\Lib\\site-packages\\sklearn\\model_selection\\_validation.py:717: FutureWarning: Parameter 'base_estimator' of AdaBoostClassifier is deprecated in favor of 'estimator'. See AdaBoostClassifier's docstring for more details.\n",
      "  estimator = estimator.set_params(**clone(parameters, safe=False))\n",
      "c:\\Users\\nicol\\miniconda3\\envs\\data_env\\Lib\\site-packages\\sklearn\\model_selection\\_validation.py:717: FutureWarning: Parameter 'base_estimator' of AdaBoostClassifier is deprecated in favor of 'estimator'. See AdaBoostClassifier's docstring for more details.\n",
      "  estimator = estimator.set_params(**clone(parameters, safe=False))\n",
      "c:\\Users\\nicol\\miniconda3\\envs\\data_env\\Lib\\site-packages\\sklearn\\model_selection\\_validation.py:717: FutureWarning: Parameter 'base_estimator' of AdaBoostClassifier is deprecated in favor of 'estimator'. See AdaBoostClassifier's docstring for more details.\n",
      "  estimator = estimator.set_params(**clone(parameters, safe=False))\n",
      "c:\\Users\\nicol\\miniconda3\\envs\\data_env\\Lib\\site-packages\\sklearn\\model_selection\\_validation.py:717: FutureWarning: Parameter 'base_estimator' of AdaBoostClassifier is deprecated in favor of 'estimator'. See AdaBoostClassifier's docstring for more details.\n",
      "  estimator = estimator.set_params(**clone(parameters, safe=False))\n",
      "c:\\Users\\nicol\\miniconda3\\envs\\data_env\\Lib\\site-packages\\sklearn\\model_selection\\_validation.py:717: FutureWarning: Parameter 'base_estimator' of AdaBoostClassifier is deprecated in favor of 'estimator'. See AdaBoostClassifier's docstring for more details.\n",
      "  estimator = estimator.set_params(**clone(parameters, safe=False))\n",
      "c:\\Users\\nicol\\miniconda3\\envs\\data_env\\Lib\\site-packages\\sklearn\\model_selection\\_validation.py:717: FutureWarning: Parameter 'base_estimator' of AdaBoostClassifier is deprecated in favor of 'estimator'. See AdaBoostClassifier's docstring for more details.\n",
      "  estimator = estimator.set_params(**clone(parameters, safe=False))\n",
      "c:\\Users\\nicol\\miniconda3\\envs\\data_env\\Lib\\site-packages\\sklearn\\model_selection\\_validation.py:717: FutureWarning: Parameter 'base_estimator' of AdaBoostClassifier is deprecated in favor of 'estimator'. See AdaBoostClassifier's docstring for more details.\n",
      "  estimator = estimator.set_params(**clone(parameters, safe=False))\n",
      "c:\\Users\\nicol\\miniconda3\\envs\\data_env\\Lib\\site-packages\\sklearn\\model_selection\\_validation.py:717: FutureWarning: Parameter 'base_estimator' of AdaBoostClassifier is deprecated in favor of 'estimator'. See AdaBoostClassifier's docstring for more details.\n",
      "  estimator = estimator.set_params(**clone(parameters, safe=False))\n",
      "c:\\Users\\nicol\\miniconda3\\envs\\data_env\\Lib\\site-packages\\sklearn\\model_selection\\_validation.py:717: FutureWarning: Parameter 'base_estimator' of AdaBoostClassifier is deprecated in favor of 'estimator'. See AdaBoostClassifier's docstring for more details.\n",
      "  estimator = estimator.set_params(**clone(parameters, safe=False))\n",
      "c:\\Users\\nicol\\miniconda3\\envs\\data_env\\Lib\\site-packages\\sklearn\\model_selection\\_validation.py:717: FutureWarning: Parameter 'base_estimator' of AdaBoostClassifier is deprecated in favor of 'estimator'. See AdaBoostClassifier's docstring for more details.\n",
      "  estimator = estimator.set_params(**clone(parameters, safe=False))\n",
      "c:\\Users\\nicol\\miniconda3\\envs\\data_env\\Lib\\site-packages\\sklearn\\model_selection\\_validation.py:717: FutureWarning: Parameter 'base_estimator' of AdaBoostClassifier is deprecated in favor of 'estimator'. See AdaBoostClassifier's docstring for more details.\n",
      "  estimator = estimator.set_params(**clone(parameters, safe=False))\n",
      "c:\\Users\\nicol\\miniconda3\\envs\\data_env\\Lib\\site-packages\\sklearn\\model_selection\\_validation.py:717: FutureWarning: Parameter 'base_estimator' of AdaBoostClassifier is deprecated in favor of 'estimator'. See AdaBoostClassifier's docstring for more details.\n",
      "  estimator = estimator.set_params(**clone(parameters, safe=False))\n",
      "c:\\Users\\nicol\\miniconda3\\envs\\data_env\\Lib\\site-packages\\sklearn\\model_selection\\_validation.py:717: FutureWarning: Parameter 'base_estimator' of AdaBoostClassifier is deprecated in favor of 'estimator'. See AdaBoostClassifier's docstring for more details.\n",
      "  estimator = estimator.set_params(**clone(parameters, safe=False))\n",
      "c:\\Users\\nicol\\miniconda3\\envs\\data_env\\Lib\\site-packages\\sklearn\\model_selection\\_validation.py:717: FutureWarning: Parameter 'base_estimator' of AdaBoostClassifier is deprecated in favor of 'estimator'. See AdaBoostClassifier's docstring for more details.\n",
      "  estimator = estimator.set_params(**clone(parameters, safe=False))\n",
      "c:\\Users\\nicol\\miniconda3\\envs\\data_env\\Lib\\site-packages\\sklearn\\model_selection\\_validation.py:717: FutureWarning: Parameter 'base_estimator' of AdaBoostClassifier is deprecated in favor of 'estimator'. See AdaBoostClassifier's docstring for more details.\n",
      "  estimator = estimator.set_params(**clone(parameters, safe=False))\n",
      "c:\\Users\\nicol\\miniconda3\\envs\\data_env\\Lib\\site-packages\\sklearn\\model_selection\\_validation.py:717: FutureWarning: Parameter 'base_estimator' of AdaBoostClassifier is deprecated in favor of 'estimator'. See AdaBoostClassifier's docstring for more details.\n",
      "  estimator = estimator.set_params(**clone(parameters, safe=False))\n",
      "c:\\Users\\nicol\\miniconda3\\envs\\data_env\\Lib\\site-packages\\sklearn\\model_selection\\_validation.py:717: FutureWarning: Parameter 'base_estimator' of AdaBoostClassifier is deprecated in favor of 'estimator'. See AdaBoostClassifier's docstring for more details.\n",
      "  estimator = estimator.set_params(**clone(parameters, safe=False))\n",
      "c:\\Users\\nicol\\miniconda3\\envs\\data_env\\Lib\\site-packages\\sklearn\\model_selection\\_validation.py:717: FutureWarning: Parameter 'base_estimator' of AdaBoostClassifier is deprecated in favor of 'estimator'. See AdaBoostClassifier's docstring for more details.\n",
      "  estimator = estimator.set_params(**clone(parameters, safe=False))\n",
      "c:\\Users\\nicol\\miniconda3\\envs\\data_env\\Lib\\site-packages\\sklearn\\model_selection\\_validation.py:717: FutureWarning: Parameter 'base_estimator' of AdaBoostClassifier is deprecated in favor of 'estimator'. See AdaBoostClassifier's docstring for more details.\n",
      "  estimator = estimator.set_params(**clone(parameters, safe=False))\n",
      "c:\\Users\\nicol\\miniconda3\\envs\\data_env\\Lib\\site-packages\\sklearn\\model_selection\\_validation.py:717: FutureWarning: Parameter 'base_estimator' of AdaBoostClassifier is deprecated in favor of 'estimator'. See AdaBoostClassifier's docstring for more details.\n",
      "  estimator = estimator.set_params(**clone(parameters, safe=False))\n",
      "c:\\Users\\nicol\\miniconda3\\envs\\data_env\\Lib\\site-packages\\sklearn\\model_selection\\_validation.py:717: FutureWarning: Parameter 'base_estimator' of AdaBoostClassifier is deprecated in favor of 'estimator'. See AdaBoostClassifier's docstring for more details.\n",
      "  estimator = estimator.set_params(**clone(parameters, safe=False))\n",
      "c:\\Users\\nicol\\miniconda3\\envs\\data_env\\Lib\\site-packages\\sklearn\\model_selection\\_validation.py:717: FutureWarning: Parameter 'base_estimator' of AdaBoostClassifier is deprecated in favor of 'estimator'. See AdaBoostClassifier's docstring for more details.\n",
      "  estimator = estimator.set_params(**clone(parameters, safe=False))\n",
      "c:\\Users\\nicol\\miniconda3\\envs\\data_env\\Lib\\site-packages\\sklearn\\model_selection\\_validation.py:717: FutureWarning: Parameter 'base_estimator' of AdaBoostClassifier is deprecated in favor of 'estimator'. See AdaBoostClassifier's docstring for more details.\n",
      "  estimator = estimator.set_params(**clone(parameters, safe=False))\n",
      "c:\\Users\\nicol\\miniconda3\\envs\\data_env\\Lib\\site-packages\\sklearn\\model_selection\\_validation.py:717: FutureWarning: Parameter 'base_estimator' of AdaBoostClassifier is deprecated in favor of 'estimator'. See AdaBoostClassifier's docstring for more details.\n",
      "  estimator = estimator.set_params(**clone(parameters, safe=False))\n",
      "c:\\Users\\nicol\\miniconda3\\envs\\data_env\\Lib\\site-packages\\sklearn\\model_selection\\_validation.py:717: FutureWarning: Parameter 'base_estimator' of AdaBoostClassifier is deprecated in favor of 'estimator'. See AdaBoostClassifier's docstring for more details.\n",
      "  estimator = estimator.set_params(**clone(parameters, safe=False))\n",
      "c:\\Users\\nicol\\miniconda3\\envs\\data_env\\Lib\\site-packages\\sklearn\\model_selection\\_validation.py:717: FutureWarning: Parameter 'base_estimator' of AdaBoostClassifier is deprecated in favor of 'estimator'. See AdaBoostClassifier's docstring for more details.\n",
      "  estimator = estimator.set_params(**clone(parameters, safe=False))\n",
      "c:\\Users\\nicol\\miniconda3\\envs\\data_env\\Lib\\site-packages\\sklearn\\model_selection\\_validation.py:717: FutureWarning: Parameter 'base_estimator' of AdaBoostClassifier is deprecated in favor of 'estimator'. See AdaBoostClassifier's docstring for more details.\n",
      "  estimator = estimator.set_params(**clone(parameters, safe=False))\n",
      "c:\\Users\\nicol\\miniconda3\\envs\\data_env\\Lib\\site-packages\\sklearn\\model_selection\\_validation.py:717: FutureWarning: Parameter 'base_estimator' of AdaBoostClassifier is deprecated in favor of 'estimator'. See AdaBoostClassifier's docstring for more details.\n",
      "  estimator = estimator.set_params(**clone(parameters, safe=False))\n",
      "c:\\Users\\nicol\\miniconda3\\envs\\data_env\\Lib\\site-packages\\sklearn\\model_selection\\_validation.py:717: FutureWarning: Parameter 'base_estimator' of AdaBoostClassifier is deprecated in favor of 'estimator'. See AdaBoostClassifier's docstring for more details.\n",
      "  estimator = estimator.set_params(**clone(parameters, safe=False))\n",
      "c:\\Users\\nicol\\miniconda3\\envs\\data_env\\Lib\\site-packages\\sklearn\\model_selection\\_validation.py:717: FutureWarning: Parameter 'base_estimator' of AdaBoostClassifier is deprecated in favor of 'estimator'. See AdaBoostClassifier's docstring for more details.\n",
      "  estimator = estimator.set_params(**clone(parameters, safe=False))\n",
      "c:\\Users\\nicol\\miniconda3\\envs\\data_env\\Lib\\site-packages\\sklearn\\model_selection\\_validation.py:717: FutureWarning: Parameter 'base_estimator' of AdaBoostClassifier is deprecated in favor of 'estimator'. See AdaBoostClassifier's docstring for more details.\n",
      "  estimator = estimator.set_params(**clone(parameters, safe=False))\n",
      "c:\\Users\\nicol\\miniconda3\\envs\\data_env\\Lib\\site-packages\\sklearn\\model_selection\\_validation.py:717: FutureWarning: Parameter 'base_estimator' of AdaBoostClassifier is deprecated in favor of 'estimator'. See AdaBoostClassifier's docstring for more details.\n",
      "  estimator = estimator.set_params(**clone(parameters, safe=False))\n",
      "c:\\Users\\nicol\\miniconda3\\envs\\data_env\\Lib\\site-packages\\sklearn\\model_selection\\_validation.py:717: FutureWarning: Parameter 'base_estimator' of AdaBoostClassifier is deprecated in favor of 'estimator'. See AdaBoostClassifier's docstring for more details.\n",
      "  estimator = estimator.set_params(**clone(parameters, safe=False))\n",
      "c:\\Users\\nicol\\miniconda3\\envs\\data_env\\Lib\\site-packages\\sklearn\\model_selection\\_validation.py:717: FutureWarning: Parameter 'base_estimator' of AdaBoostClassifier is deprecated in favor of 'estimator'. See AdaBoostClassifier's docstring for more details.\n",
      "  estimator = estimator.set_params(**clone(parameters, safe=False))\n",
      "c:\\Users\\nicol\\miniconda3\\envs\\data_env\\Lib\\site-packages\\sklearn\\model_selection\\_validation.py:717: FutureWarning: Parameter 'base_estimator' of AdaBoostClassifier is deprecated in favor of 'estimator'. See AdaBoostClassifier's docstring for more details.\n",
      "  estimator = estimator.set_params(**clone(parameters, safe=False))\n",
      "c:\\Users\\nicol\\miniconda3\\envs\\data_env\\Lib\\site-packages\\sklearn\\model_selection\\_validation.py:717: FutureWarning: Parameter 'base_estimator' of AdaBoostClassifier is deprecated in favor of 'estimator'. See AdaBoostClassifier's docstring for more details.\n",
      "  estimator = estimator.set_params(**clone(parameters, safe=False))\n",
      "c:\\Users\\nicol\\miniconda3\\envs\\data_env\\Lib\\site-packages\\sklearn\\model_selection\\_validation.py:717: FutureWarning: Parameter 'base_estimator' of AdaBoostClassifier is deprecated in favor of 'estimator'. See AdaBoostClassifier's docstring for more details.\n",
      "  estimator = estimator.set_params(**clone(parameters, safe=False))\n",
      "c:\\Users\\nicol\\miniconda3\\envs\\data_env\\Lib\\site-packages\\sklearn\\model_selection\\_validation.py:717: FutureWarning: Parameter 'base_estimator' of AdaBoostClassifier is deprecated in favor of 'estimator'. See AdaBoostClassifier's docstring for more details.\n",
      "  estimator = estimator.set_params(**clone(parameters, safe=False))\n",
      "c:\\Users\\nicol\\miniconda3\\envs\\data_env\\Lib\\site-packages\\sklearn\\model_selection\\_validation.py:717: FutureWarning: Parameter 'base_estimator' of AdaBoostClassifier is deprecated in favor of 'estimator'. See AdaBoostClassifier's docstring for more details.\n",
      "  estimator = estimator.set_params(**clone(parameters, safe=False))\n",
      "c:\\Users\\nicol\\miniconda3\\envs\\data_env\\Lib\\site-packages\\sklearn\\model_selection\\_validation.py:717: FutureWarning: Parameter 'base_estimator' of AdaBoostClassifier is deprecated in favor of 'estimator'. See AdaBoostClassifier's docstring for more details.\n",
      "  estimator = estimator.set_params(**clone(parameters, safe=False))\n",
      "c:\\Users\\nicol\\miniconda3\\envs\\data_env\\Lib\\site-packages\\sklearn\\model_selection\\_validation.py:717: FutureWarning: Parameter 'base_estimator' of AdaBoostClassifier is deprecated in favor of 'estimator'. See AdaBoostClassifier's docstring for more details.\n",
      "  estimator = estimator.set_params(**clone(parameters, safe=False))\n",
      "c:\\Users\\nicol\\miniconda3\\envs\\data_env\\Lib\\site-packages\\sklearn\\model_selection\\_validation.py:717: FutureWarning: Parameter 'base_estimator' of AdaBoostClassifier is deprecated in favor of 'estimator'. See AdaBoostClassifier's docstring for more details.\n",
      "  estimator = estimator.set_params(**clone(parameters, safe=False))\n",
      "c:\\Users\\nicol\\miniconda3\\envs\\data_env\\Lib\\site-packages\\sklearn\\model_selection\\_search.py:930: FutureWarning: Parameter 'base_estimator' of AdaBoostClassifier is deprecated in favor of 'estimator'. See AdaBoostClassifier's docstring for more details.\n",
      "  self.best_estimator_ = clone(base_estimator).set_params(\n"
     ]
    },
    {
     "name": "stdout",
     "output_type": "stream",
     "text": [
      "...Done.\n",
      "Best hyperparameters :  {'base_estimator__C': 0.5, 'n_estimators': 30}\n",
      "Best validation accuracy :  0.9853466982905624\n",
      "\n",
      "Accuracy on training set :  0.9852983809331377\n",
      "Accuracy on test set :  0.9852765478951437\n"
     ]
    }
   ],
   "source": [
    "# Perform grid search\n",
    "from sklearn.ensemble import AdaBoostClassifier\n",
    "\n",
    "\n",
    "print(\"Grid search...\")\n",
    "logistic_regression = LogisticRegression(max_iter = 1000) # max_iter changed because of convergence warning\n",
    "model = AdaBoostClassifier(logistic_regression)\n",
    "\n",
    "# Grid of values to be tested\n",
    "params = {\n",
    "    'base_estimator__C': [0.01, 0.05, 0.1, 0.5,], # base_estimator__ prefix because C is a parameter from LogisticRegression! \n",
    "    'n_estimators': [5, 10, 20, 30] # n_estimators is a hyperparameter of the ensemble method\n",
    "}\n",
    "print(params)\n",
    "gridsearch_adboost_lr = GridSearchCV(model, param_grid = params, cv = 3) # cv : the number of folds to be used for CV\n",
    "gridsearch_adboost_lr.fit(X_train, Y_train)\n",
    "print(\"...Done.\")\n",
    "print(\"Best hyperparameters : \", gridsearch_adboost_lr.best_params_)\n",
    "print(\"Best validation accuracy : \", gridsearch_adboost_lr.best_score_)\n",
    "print()\n",
    "print(\"Accuracy on training set : \", gridsearch_adboost_lr.score(X_train, Y_train))\n",
    "print(\"Accuracy on test set : \", gridsearch_adboost_lr.score(X_test, Y_test))"
   ]
  },
  {
   "cell_type": "code",
   "execution_count": 22,
   "metadata": {},
   "outputs": [
    {
     "name": "stdout",
     "output_type": "stream",
     "text": [
      "Predictions on training set...\n",
      "...Done.\n",
      "[0 0 0 ... 0 0 0]\n",
      "\n",
      "Probabilities on training set...\n",
      "...Done.\n",
      "[[0.54351849 0.45648151]\n",
      " [0.56414407 0.43585593]\n",
      " [0.58500618 0.41499382]\n",
      " ...\n",
      " [0.57213483 0.42786517]\n",
      " [0.52053715 0.47946285]\n",
      " [0.5452761  0.4547239 ]]\n",
      "\n",
      "Predictions on test set...\n",
      "...Done.\n",
      "[0 0 0 ... 0 0 0]\n",
      "\n",
      "Probabilities on test set...\n",
      "...Done.\n",
      "[[0.58702708 0.41297292]\n",
      " [0.54822317 0.45177683]\n",
      " [0.59245591 0.40754409]\n",
      " ...\n",
      " [0.56872437 0.43127563]\n",
      " [0.55264805 0.44735195]\n",
      " [0.54294059 0.45705941]]\n",
      "\n",
      "f1-score on training set :  0.7423600954506966\n",
      "f1-score on test set :  0.7445121951219512\n"
     ]
    }
   ],
   "source": [
    "# Predictions on training set\n",
    "print(\"Predictions on training set...\")\n",
    "Y_train_pred = gridsearch_adboost_lr.predict(X_train)\n",
    "print(\"...Done.\")\n",
    "print(Y_train_pred)\n",
    "print()\n",
    "\n",
    "# It's also possible to get the probabilities estimated by the model:\n",
    "print(\"Probabilities on training set...\")\n",
    "Y_train_proba = gridsearch_adboost_lr.predict_proba(X_train)\n",
    "print(\"...Done.\")\n",
    "print(Y_train_proba)\n",
    "print()\n",
    "\n",
    "# Predictions on test set\n",
    "print(\"Predictions on test set...\")\n",
    "Y_test_pred = gridsearch_adboost_lr.predict(X_test)\n",
    "print(\"...Done.\")\n",
    "print(Y_test_pred)\n",
    "print()\n",
    "\n",
    "# It's also possible to get the probabilities estimated by the model:\n",
    "print(\"Probabilities on test set...\")\n",
    "Y_test_proba = gridsearch_adboost_lr.predict_proba(X_test)\n",
    "print(\"...Done.\")\n",
    "print(Y_test_proba)\n",
    "print()\n",
    "\n",
    "print(\"f1-score on training set : \", f1_score(Y_train, Y_train_pred))\n",
    "print(\"f1-score on test set : \", f1_score(Y_test, Y_test_pred))"
   ]
  },
  {
   "cell_type": "code",
   "execution_count": 23,
   "metadata": {},
   "outputs": [],
   "source": [
    "rows_model_score = pd.DataFrame({'model': ['adboost_log_reg', 'adboost_log_reg'], 'f1_score': [f1_score(Y_train, Y_train_pred), f1_score(Y_test, Y_test_pred)], 'set': ['train', 'test']})\n",
    "\n",
    "model_score_df = pd.concat([model_score_df, rows_model_score], ignore_index=True)"
   ]
  },
  {
   "cell_type": "markdown",
   "metadata": {},
   "source": [
    "### Adaboost with decision tree as base estimator\n"
   ]
  },
  {
   "cell_type": "code",
   "execution_count": 24,
   "metadata": {},
   "outputs": [
    {
     "name": "stdout",
     "output_type": "stream",
     "text": [
      "Grid search...\n",
      "{'base_estimator__max_depth': [1, 2, 3], 'base_estimator__min_samples_leaf': [1, 2, 3], 'base_estimator__min_samples_split': [2, 3, 4], 'n_estimators': [2, 4, 6, 8, 10]}\n"
     ]
    },
    {
     "name": "stderr",
     "output_type": "stream",
     "text": [
      "c:\\Users\\nicol\\miniconda3\\envs\\data_env\\Lib\\site-packages\\sklearn\\model_selection\\_validation.py:717: FutureWarning: Parameter 'base_estimator' of AdaBoostClassifier is deprecated in favor of 'estimator'. See AdaBoostClassifier's docstring for more details.\n",
      "  estimator = estimator.set_params(**clone(parameters, safe=False))\n",
      "c:\\Users\\nicol\\miniconda3\\envs\\data_env\\Lib\\site-packages\\sklearn\\model_selection\\_validation.py:717: FutureWarning: Parameter 'base_estimator' of AdaBoostClassifier is deprecated in favor of 'estimator'. See AdaBoostClassifier's docstring for more details.\n",
      "  estimator = estimator.set_params(**clone(parameters, safe=False))\n",
      "c:\\Users\\nicol\\miniconda3\\envs\\data_env\\Lib\\site-packages\\sklearn\\model_selection\\_validation.py:717: FutureWarning: Parameter 'base_estimator' of AdaBoostClassifier is deprecated in favor of 'estimator'. See AdaBoostClassifier's docstring for more details.\n",
      "  estimator = estimator.set_params(**clone(parameters, safe=False))\n",
      "c:\\Users\\nicol\\miniconda3\\envs\\data_env\\Lib\\site-packages\\sklearn\\model_selection\\_validation.py:717: FutureWarning: Parameter 'base_estimator' of AdaBoostClassifier is deprecated in favor of 'estimator'. See AdaBoostClassifier's docstring for more details.\n",
      "  estimator = estimator.set_params(**clone(parameters, safe=False))\n",
      "c:\\Users\\nicol\\miniconda3\\envs\\data_env\\Lib\\site-packages\\sklearn\\model_selection\\_validation.py:717: FutureWarning: Parameter 'base_estimator' of AdaBoostClassifier is deprecated in favor of 'estimator'. See AdaBoostClassifier's docstring for more details.\n",
      "  estimator = estimator.set_params(**clone(parameters, safe=False))\n",
      "c:\\Users\\nicol\\miniconda3\\envs\\data_env\\Lib\\site-packages\\sklearn\\model_selection\\_validation.py:717: FutureWarning: Parameter 'base_estimator' of AdaBoostClassifier is deprecated in favor of 'estimator'. See AdaBoostClassifier's docstring for more details.\n",
      "  estimator = estimator.set_params(**clone(parameters, safe=False))\n",
      "c:\\Users\\nicol\\miniconda3\\envs\\data_env\\Lib\\site-packages\\sklearn\\model_selection\\_validation.py:717: FutureWarning: Parameter 'base_estimator' of AdaBoostClassifier is deprecated in favor of 'estimator'. See AdaBoostClassifier's docstring for more details.\n",
      "  estimator = estimator.set_params(**clone(parameters, safe=False))\n",
      "c:\\Users\\nicol\\miniconda3\\envs\\data_env\\Lib\\site-packages\\sklearn\\model_selection\\_validation.py:717: FutureWarning: Parameter 'base_estimator' of AdaBoostClassifier is deprecated in favor of 'estimator'. See AdaBoostClassifier's docstring for more details.\n",
      "  estimator = estimator.set_params(**clone(parameters, safe=False))\n",
      "c:\\Users\\nicol\\miniconda3\\envs\\data_env\\Lib\\site-packages\\sklearn\\model_selection\\_validation.py:717: FutureWarning: Parameter 'base_estimator' of AdaBoostClassifier is deprecated in favor of 'estimator'. See AdaBoostClassifier's docstring for more details.\n",
      "  estimator = estimator.set_params(**clone(parameters, safe=False))\n",
      "c:\\Users\\nicol\\miniconda3\\envs\\data_env\\Lib\\site-packages\\sklearn\\model_selection\\_validation.py:717: FutureWarning: Parameter 'base_estimator' of AdaBoostClassifier is deprecated in favor of 'estimator'. See AdaBoostClassifier's docstring for more details.\n",
      "  estimator = estimator.set_params(**clone(parameters, safe=False))\n",
      "c:\\Users\\nicol\\miniconda3\\envs\\data_env\\Lib\\site-packages\\sklearn\\model_selection\\_validation.py:717: FutureWarning: Parameter 'base_estimator' of AdaBoostClassifier is deprecated in favor of 'estimator'. See AdaBoostClassifier's docstring for more details.\n",
      "  estimator = estimator.set_params(**clone(parameters, safe=False))\n",
      "c:\\Users\\nicol\\miniconda3\\envs\\data_env\\Lib\\site-packages\\sklearn\\model_selection\\_validation.py:717: FutureWarning: Parameter 'base_estimator' of AdaBoostClassifier is deprecated in favor of 'estimator'. See AdaBoostClassifier's docstring for more details.\n",
      "  estimator = estimator.set_params(**clone(parameters, safe=False))\n",
      "c:\\Users\\nicol\\miniconda3\\envs\\data_env\\Lib\\site-packages\\sklearn\\model_selection\\_validation.py:717: FutureWarning: Parameter 'base_estimator' of AdaBoostClassifier is deprecated in favor of 'estimator'. See AdaBoostClassifier's docstring for more details.\n",
      "  estimator = estimator.set_params(**clone(parameters, safe=False))\n",
      "c:\\Users\\nicol\\miniconda3\\envs\\data_env\\Lib\\site-packages\\sklearn\\model_selection\\_validation.py:717: FutureWarning: Parameter 'base_estimator' of AdaBoostClassifier is deprecated in favor of 'estimator'. See AdaBoostClassifier's docstring for more details.\n",
      "  estimator = estimator.set_params(**clone(parameters, safe=False))\n",
      "c:\\Users\\nicol\\miniconda3\\envs\\data_env\\Lib\\site-packages\\sklearn\\model_selection\\_validation.py:717: FutureWarning: Parameter 'base_estimator' of AdaBoostClassifier is deprecated in favor of 'estimator'. See AdaBoostClassifier's docstring for more details.\n",
      "  estimator = estimator.set_params(**clone(parameters, safe=False))\n",
      "c:\\Users\\nicol\\miniconda3\\envs\\data_env\\Lib\\site-packages\\sklearn\\model_selection\\_validation.py:717: FutureWarning: Parameter 'base_estimator' of AdaBoostClassifier is deprecated in favor of 'estimator'. See AdaBoostClassifier's docstring for more details.\n",
      "  estimator = estimator.set_params(**clone(parameters, safe=False))\n",
      "c:\\Users\\nicol\\miniconda3\\envs\\data_env\\Lib\\site-packages\\sklearn\\model_selection\\_validation.py:717: FutureWarning: Parameter 'base_estimator' of AdaBoostClassifier is deprecated in favor of 'estimator'. See AdaBoostClassifier's docstring for more details.\n",
      "  estimator = estimator.set_params(**clone(parameters, safe=False))\n",
      "c:\\Users\\nicol\\miniconda3\\envs\\data_env\\Lib\\site-packages\\sklearn\\model_selection\\_validation.py:717: FutureWarning: Parameter 'base_estimator' of AdaBoostClassifier is deprecated in favor of 'estimator'. See AdaBoostClassifier's docstring for more details.\n",
      "  estimator = estimator.set_params(**clone(parameters, safe=False))\n",
      "c:\\Users\\nicol\\miniconda3\\envs\\data_env\\Lib\\site-packages\\sklearn\\model_selection\\_validation.py:717: FutureWarning: Parameter 'base_estimator' of AdaBoostClassifier is deprecated in favor of 'estimator'. See AdaBoostClassifier's docstring for more details.\n",
      "  estimator = estimator.set_params(**clone(parameters, safe=False))\n",
      "c:\\Users\\nicol\\miniconda3\\envs\\data_env\\Lib\\site-packages\\sklearn\\model_selection\\_validation.py:717: FutureWarning: Parameter 'base_estimator' of AdaBoostClassifier is deprecated in favor of 'estimator'. See AdaBoostClassifier's docstring for more details.\n",
      "  estimator = estimator.set_params(**clone(parameters, safe=False))\n",
      "c:\\Users\\nicol\\miniconda3\\envs\\data_env\\Lib\\site-packages\\sklearn\\model_selection\\_validation.py:717: FutureWarning: Parameter 'base_estimator' of AdaBoostClassifier is deprecated in favor of 'estimator'. See AdaBoostClassifier's docstring for more details.\n",
      "  estimator = estimator.set_params(**clone(parameters, safe=False))\n",
      "c:\\Users\\nicol\\miniconda3\\envs\\data_env\\Lib\\site-packages\\sklearn\\model_selection\\_validation.py:717: FutureWarning: Parameter 'base_estimator' of AdaBoostClassifier is deprecated in favor of 'estimator'. See AdaBoostClassifier's docstring for more details.\n",
      "  estimator = estimator.set_params(**clone(parameters, safe=False))\n",
      "c:\\Users\\nicol\\miniconda3\\envs\\data_env\\Lib\\site-packages\\sklearn\\model_selection\\_validation.py:717: FutureWarning: Parameter 'base_estimator' of AdaBoostClassifier is deprecated in favor of 'estimator'. See AdaBoostClassifier's docstring for more details.\n",
      "  estimator = estimator.set_params(**clone(parameters, safe=False))\n",
      "c:\\Users\\nicol\\miniconda3\\envs\\data_env\\Lib\\site-packages\\sklearn\\model_selection\\_validation.py:717: FutureWarning: Parameter 'base_estimator' of AdaBoostClassifier is deprecated in favor of 'estimator'. See AdaBoostClassifier's docstring for more details.\n",
      "  estimator = estimator.set_params(**clone(parameters, safe=False))\n",
      "c:\\Users\\nicol\\miniconda3\\envs\\data_env\\Lib\\site-packages\\sklearn\\model_selection\\_validation.py:717: FutureWarning: Parameter 'base_estimator' of AdaBoostClassifier is deprecated in favor of 'estimator'. See AdaBoostClassifier's docstring for more details.\n",
      "  estimator = estimator.set_params(**clone(parameters, safe=False))\n",
      "c:\\Users\\nicol\\miniconda3\\envs\\data_env\\Lib\\site-packages\\sklearn\\model_selection\\_validation.py:717: FutureWarning: Parameter 'base_estimator' of AdaBoostClassifier is deprecated in favor of 'estimator'. See AdaBoostClassifier's docstring for more details.\n",
      "  estimator = estimator.set_params(**clone(parameters, safe=False))\n",
      "c:\\Users\\nicol\\miniconda3\\envs\\data_env\\Lib\\site-packages\\sklearn\\model_selection\\_validation.py:717: FutureWarning: Parameter 'base_estimator' of AdaBoostClassifier is deprecated in favor of 'estimator'. See AdaBoostClassifier's docstring for more details.\n",
      "  estimator = estimator.set_params(**clone(parameters, safe=False))\n",
      "c:\\Users\\nicol\\miniconda3\\envs\\data_env\\Lib\\site-packages\\sklearn\\model_selection\\_validation.py:717: FutureWarning: Parameter 'base_estimator' of AdaBoostClassifier is deprecated in favor of 'estimator'. See AdaBoostClassifier's docstring for more details.\n",
      "  estimator = estimator.set_params(**clone(parameters, safe=False))\n",
      "c:\\Users\\nicol\\miniconda3\\envs\\data_env\\Lib\\site-packages\\sklearn\\model_selection\\_validation.py:717: FutureWarning: Parameter 'base_estimator' of AdaBoostClassifier is deprecated in favor of 'estimator'. See AdaBoostClassifier's docstring for more details.\n",
      "  estimator = estimator.set_params(**clone(parameters, safe=False))\n",
      "c:\\Users\\nicol\\miniconda3\\envs\\data_env\\Lib\\site-packages\\sklearn\\model_selection\\_validation.py:717: FutureWarning: Parameter 'base_estimator' of AdaBoostClassifier is deprecated in favor of 'estimator'. See AdaBoostClassifier's docstring for more details.\n",
      "  estimator = estimator.set_params(**clone(parameters, safe=False))\n",
      "c:\\Users\\nicol\\miniconda3\\envs\\data_env\\Lib\\site-packages\\sklearn\\model_selection\\_validation.py:717: FutureWarning: Parameter 'base_estimator' of AdaBoostClassifier is deprecated in favor of 'estimator'. See AdaBoostClassifier's docstring for more details.\n",
      "  estimator = estimator.set_params(**clone(parameters, safe=False))\n",
      "c:\\Users\\nicol\\miniconda3\\envs\\data_env\\Lib\\site-packages\\sklearn\\model_selection\\_validation.py:717: FutureWarning: Parameter 'base_estimator' of AdaBoostClassifier is deprecated in favor of 'estimator'. See AdaBoostClassifier's docstring for more details.\n",
      "  estimator = estimator.set_params(**clone(parameters, safe=False))\n",
      "c:\\Users\\nicol\\miniconda3\\envs\\data_env\\Lib\\site-packages\\sklearn\\model_selection\\_validation.py:717: FutureWarning: Parameter 'base_estimator' of AdaBoostClassifier is deprecated in favor of 'estimator'. See AdaBoostClassifier's docstring for more details.\n",
      "  estimator = estimator.set_params(**clone(parameters, safe=False))\n",
      "c:\\Users\\nicol\\miniconda3\\envs\\data_env\\Lib\\site-packages\\sklearn\\model_selection\\_validation.py:717: FutureWarning: Parameter 'base_estimator' of AdaBoostClassifier is deprecated in favor of 'estimator'. See AdaBoostClassifier's docstring for more details.\n",
      "  estimator = estimator.set_params(**clone(parameters, safe=False))\n",
      "c:\\Users\\nicol\\miniconda3\\envs\\data_env\\Lib\\site-packages\\sklearn\\model_selection\\_validation.py:717: FutureWarning: Parameter 'base_estimator' of AdaBoostClassifier is deprecated in favor of 'estimator'. See AdaBoostClassifier's docstring for more details.\n",
      "  estimator = estimator.set_params(**clone(parameters, safe=False))\n",
      "c:\\Users\\nicol\\miniconda3\\envs\\data_env\\Lib\\site-packages\\sklearn\\model_selection\\_validation.py:717: FutureWarning: Parameter 'base_estimator' of AdaBoostClassifier is deprecated in favor of 'estimator'. See AdaBoostClassifier's docstring for more details.\n",
      "  estimator = estimator.set_params(**clone(parameters, safe=False))\n",
      "c:\\Users\\nicol\\miniconda3\\envs\\data_env\\Lib\\site-packages\\sklearn\\model_selection\\_validation.py:717: FutureWarning: Parameter 'base_estimator' of AdaBoostClassifier is deprecated in favor of 'estimator'. See AdaBoostClassifier's docstring for more details.\n",
      "  estimator = estimator.set_params(**clone(parameters, safe=False))\n",
      "c:\\Users\\nicol\\miniconda3\\envs\\data_env\\Lib\\site-packages\\sklearn\\model_selection\\_validation.py:717: FutureWarning: Parameter 'base_estimator' of AdaBoostClassifier is deprecated in favor of 'estimator'. See AdaBoostClassifier's docstring for more details.\n",
      "  estimator = estimator.set_params(**clone(parameters, safe=False))\n",
      "c:\\Users\\nicol\\miniconda3\\envs\\data_env\\Lib\\site-packages\\sklearn\\model_selection\\_validation.py:717: FutureWarning: Parameter 'base_estimator' of AdaBoostClassifier is deprecated in favor of 'estimator'. See AdaBoostClassifier's docstring for more details.\n",
      "  estimator = estimator.set_params(**clone(parameters, safe=False))\n",
      "c:\\Users\\nicol\\miniconda3\\envs\\data_env\\Lib\\site-packages\\sklearn\\model_selection\\_validation.py:717: FutureWarning: Parameter 'base_estimator' of AdaBoostClassifier is deprecated in favor of 'estimator'. See AdaBoostClassifier's docstring for more details.\n",
      "  estimator = estimator.set_params(**clone(parameters, safe=False))\n",
      "c:\\Users\\nicol\\miniconda3\\envs\\data_env\\Lib\\site-packages\\sklearn\\model_selection\\_validation.py:717: FutureWarning: Parameter 'base_estimator' of AdaBoostClassifier is deprecated in favor of 'estimator'. See AdaBoostClassifier's docstring for more details.\n",
      "  estimator = estimator.set_params(**clone(parameters, safe=False))\n",
      "c:\\Users\\nicol\\miniconda3\\envs\\data_env\\Lib\\site-packages\\sklearn\\model_selection\\_validation.py:717: FutureWarning: Parameter 'base_estimator' of AdaBoostClassifier is deprecated in favor of 'estimator'. See AdaBoostClassifier's docstring for more details.\n",
      "  estimator = estimator.set_params(**clone(parameters, safe=False))\n",
      "c:\\Users\\nicol\\miniconda3\\envs\\data_env\\Lib\\site-packages\\sklearn\\model_selection\\_validation.py:717: FutureWarning: Parameter 'base_estimator' of AdaBoostClassifier is deprecated in favor of 'estimator'. See AdaBoostClassifier's docstring for more details.\n",
      "  estimator = estimator.set_params(**clone(parameters, safe=False))\n",
      "c:\\Users\\nicol\\miniconda3\\envs\\data_env\\Lib\\site-packages\\sklearn\\model_selection\\_validation.py:717: FutureWarning: Parameter 'base_estimator' of AdaBoostClassifier is deprecated in favor of 'estimator'. See AdaBoostClassifier's docstring for more details.\n",
      "  estimator = estimator.set_params(**clone(parameters, safe=False))\n",
      "c:\\Users\\nicol\\miniconda3\\envs\\data_env\\Lib\\site-packages\\sklearn\\model_selection\\_validation.py:717: FutureWarning: Parameter 'base_estimator' of AdaBoostClassifier is deprecated in favor of 'estimator'. See AdaBoostClassifier's docstring for more details.\n",
      "  estimator = estimator.set_params(**clone(parameters, safe=False))\n",
      "c:\\Users\\nicol\\miniconda3\\envs\\data_env\\Lib\\site-packages\\sklearn\\model_selection\\_validation.py:717: FutureWarning: Parameter 'base_estimator' of AdaBoostClassifier is deprecated in favor of 'estimator'. See AdaBoostClassifier's docstring for more details.\n",
      "  estimator = estimator.set_params(**clone(parameters, safe=False))\n",
      "c:\\Users\\nicol\\miniconda3\\envs\\data_env\\Lib\\site-packages\\sklearn\\model_selection\\_validation.py:717: FutureWarning: Parameter 'base_estimator' of AdaBoostClassifier is deprecated in favor of 'estimator'. See AdaBoostClassifier's docstring for more details.\n",
      "  estimator = estimator.set_params(**clone(parameters, safe=False))\n",
      "c:\\Users\\nicol\\miniconda3\\envs\\data_env\\Lib\\site-packages\\sklearn\\model_selection\\_validation.py:717: FutureWarning: Parameter 'base_estimator' of AdaBoostClassifier is deprecated in favor of 'estimator'. See AdaBoostClassifier's docstring for more details.\n",
      "  estimator = estimator.set_params(**clone(parameters, safe=False))\n",
      "c:\\Users\\nicol\\miniconda3\\envs\\data_env\\Lib\\site-packages\\sklearn\\model_selection\\_validation.py:717: FutureWarning: Parameter 'base_estimator' of AdaBoostClassifier is deprecated in favor of 'estimator'. See AdaBoostClassifier's docstring for more details.\n",
      "  estimator = estimator.set_params(**clone(parameters, safe=False))\n",
      "c:\\Users\\nicol\\miniconda3\\envs\\data_env\\Lib\\site-packages\\sklearn\\model_selection\\_validation.py:717: FutureWarning: Parameter 'base_estimator' of AdaBoostClassifier is deprecated in favor of 'estimator'. See AdaBoostClassifier's docstring for more details.\n",
      "  estimator = estimator.set_params(**clone(parameters, safe=False))\n",
      "c:\\Users\\nicol\\miniconda3\\envs\\data_env\\Lib\\site-packages\\sklearn\\model_selection\\_validation.py:717: FutureWarning: Parameter 'base_estimator' of AdaBoostClassifier is deprecated in favor of 'estimator'. See AdaBoostClassifier's docstring for more details.\n",
      "  estimator = estimator.set_params(**clone(parameters, safe=False))\n",
      "c:\\Users\\nicol\\miniconda3\\envs\\data_env\\Lib\\site-packages\\sklearn\\model_selection\\_validation.py:717: FutureWarning: Parameter 'base_estimator' of AdaBoostClassifier is deprecated in favor of 'estimator'. See AdaBoostClassifier's docstring for more details.\n",
      "  estimator = estimator.set_params(**clone(parameters, safe=False))\n",
      "c:\\Users\\nicol\\miniconda3\\envs\\data_env\\Lib\\site-packages\\sklearn\\model_selection\\_validation.py:717: FutureWarning: Parameter 'base_estimator' of AdaBoostClassifier is deprecated in favor of 'estimator'. See AdaBoostClassifier's docstring for more details.\n",
      "  estimator = estimator.set_params(**clone(parameters, safe=False))\n",
      "c:\\Users\\nicol\\miniconda3\\envs\\data_env\\Lib\\site-packages\\sklearn\\model_selection\\_validation.py:717: FutureWarning: Parameter 'base_estimator' of AdaBoostClassifier is deprecated in favor of 'estimator'. See AdaBoostClassifier's docstring for more details.\n",
      "  estimator = estimator.set_params(**clone(parameters, safe=False))\n",
      "c:\\Users\\nicol\\miniconda3\\envs\\data_env\\Lib\\site-packages\\sklearn\\model_selection\\_validation.py:717: FutureWarning: Parameter 'base_estimator' of AdaBoostClassifier is deprecated in favor of 'estimator'. See AdaBoostClassifier's docstring for more details.\n",
      "  estimator = estimator.set_params(**clone(parameters, safe=False))\n",
      "c:\\Users\\nicol\\miniconda3\\envs\\data_env\\Lib\\site-packages\\sklearn\\model_selection\\_validation.py:717: FutureWarning: Parameter 'base_estimator' of AdaBoostClassifier is deprecated in favor of 'estimator'. See AdaBoostClassifier's docstring for more details.\n",
      "  estimator = estimator.set_params(**clone(parameters, safe=False))\n",
      "c:\\Users\\nicol\\miniconda3\\envs\\data_env\\Lib\\site-packages\\sklearn\\model_selection\\_validation.py:717: FutureWarning: Parameter 'base_estimator' of AdaBoostClassifier is deprecated in favor of 'estimator'. See AdaBoostClassifier's docstring for more details.\n",
      "  estimator = estimator.set_params(**clone(parameters, safe=False))\n",
      "c:\\Users\\nicol\\miniconda3\\envs\\data_env\\Lib\\site-packages\\sklearn\\model_selection\\_validation.py:717: FutureWarning: Parameter 'base_estimator' of AdaBoostClassifier is deprecated in favor of 'estimator'. See AdaBoostClassifier's docstring for more details.\n",
      "  estimator = estimator.set_params(**clone(parameters, safe=False))\n",
      "c:\\Users\\nicol\\miniconda3\\envs\\data_env\\Lib\\site-packages\\sklearn\\model_selection\\_validation.py:717: FutureWarning: Parameter 'base_estimator' of AdaBoostClassifier is deprecated in favor of 'estimator'. See AdaBoostClassifier's docstring for more details.\n",
      "  estimator = estimator.set_params(**clone(parameters, safe=False))\n",
      "c:\\Users\\nicol\\miniconda3\\envs\\data_env\\Lib\\site-packages\\sklearn\\model_selection\\_validation.py:717: FutureWarning: Parameter 'base_estimator' of AdaBoostClassifier is deprecated in favor of 'estimator'. See AdaBoostClassifier's docstring for more details.\n",
      "  estimator = estimator.set_params(**clone(parameters, safe=False))\n",
      "c:\\Users\\nicol\\miniconda3\\envs\\data_env\\Lib\\site-packages\\sklearn\\model_selection\\_validation.py:717: FutureWarning: Parameter 'base_estimator' of AdaBoostClassifier is deprecated in favor of 'estimator'. See AdaBoostClassifier's docstring for more details.\n",
      "  estimator = estimator.set_params(**clone(parameters, safe=False))\n",
      "c:\\Users\\nicol\\miniconda3\\envs\\data_env\\Lib\\site-packages\\sklearn\\model_selection\\_validation.py:717: FutureWarning: Parameter 'base_estimator' of AdaBoostClassifier is deprecated in favor of 'estimator'. See AdaBoostClassifier's docstring for more details.\n",
      "  estimator = estimator.set_params(**clone(parameters, safe=False))\n",
      "c:\\Users\\nicol\\miniconda3\\envs\\data_env\\Lib\\site-packages\\sklearn\\model_selection\\_validation.py:717: FutureWarning: Parameter 'base_estimator' of AdaBoostClassifier is deprecated in favor of 'estimator'. See AdaBoostClassifier's docstring for more details.\n",
      "  estimator = estimator.set_params(**clone(parameters, safe=False))\n",
      "c:\\Users\\nicol\\miniconda3\\envs\\data_env\\Lib\\site-packages\\sklearn\\model_selection\\_validation.py:717: FutureWarning: Parameter 'base_estimator' of AdaBoostClassifier is deprecated in favor of 'estimator'. See AdaBoostClassifier's docstring for more details.\n",
      "  estimator = estimator.set_params(**clone(parameters, safe=False))\n",
      "c:\\Users\\nicol\\miniconda3\\envs\\data_env\\Lib\\site-packages\\sklearn\\model_selection\\_validation.py:717: FutureWarning: Parameter 'base_estimator' of AdaBoostClassifier is deprecated in favor of 'estimator'. See AdaBoostClassifier's docstring for more details.\n",
      "  estimator = estimator.set_params(**clone(parameters, safe=False))\n",
      "c:\\Users\\nicol\\miniconda3\\envs\\data_env\\Lib\\site-packages\\sklearn\\model_selection\\_validation.py:717: FutureWarning: Parameter 'base_estimator' of AdaBoostClassifier is deprecated in favor of 'estimator'. See AdaBoostClassifier's docstring for more details.\n",
      "  estimator = estimator.set_params(**clone(parameters, safe=False))\n",
      "c:\\Users\\nicol\\miniconda3\\envs\\data_env\\Lib\\site-packages\\sklearn\\model_selection\\_validation.py:717: FutureWarning: Parameter 'base_estimator' of AdaBoostClassifier is deprecated in favor of 'estimator'. See AdaBoostClassifier's docstring for more details.\n",
      "  estimator = estimator.set_params(**clone(parameters, safe=False))\n",
      "c:\\Users\\nicol\\miniconda3\\envs\\data_env\\Lib\\site-packages\\sklearn\\model_selection\\_validation.py:717: FutureWarning: Parameter 'base_estimator' of AdaBoostClassifier is deprecated in favor of 'estimator'. See AdaBoostClassifier's docstring for more details.\n",
      "  estimator = estimator.set_params(**clone(parameters, safe=False))\n",
      "c:\\Users\\nicol\\miniconda3\\envs\\data_env\\Lib\\site-packages\\sklearn\\model_selection\\_validation.py:717: FutureWarning: Parameter 'base_estimator' of AdaBoostClassifier is deprecated in favor of 'estimator'. See AdaBoostClassifier's docstring for more details.\n",
      "  estimator = estimator.set_params(**clone(parameters, safe=False))\n",
      "c:\\Users\\nicol\\miniconda3\\envs\\data_env\\Lib\\site-packages\\sklearn\\model_selection\\_validation.py:717: FutureWarning: Parameter 'base_estimator' of AdaBoostClassifier is deprecated in favor of 'estimator'. See AdaBoostClassifier's docstring for more details.\n",
      "  estimator = estimator.set_params(**clone(parameters, safe=False))\n",
      "c:\\Users\\nicol\\miniconda3\\envs\\data_env\\Lib\\site-packages\\sklearn\\model_selection\\_validation.py:717: FutureWarning: Parameter 'base_estimator' of AdaBoostClassifier is deprecated in favor of 'estimator'. See AdaBoostClassifier's docstring for more details.\n",
      "  estimator = estimator.set_params(**clone(parameters, safe=False))\n",
      "c:\\Users\\nicol\\miniconda3\\envs\\data_env\\Lib\\site-packages\\sklearn\\model_selection\\_validation.py:717: FutureWarning: Parameter 'base_estimator' of AdaBoostClassifier is deprecated in favor of 'estimator'. See AdaBoostClassifier's docstring for more details.\n",
      "  estimator = estimator.set_params(**clone(parameters, safe=False))\n",
      "c:\\Users\\nicol\\miniconda3\\envs\\data_env\\Lib\\site-packages\\sklearn\\model_selection\\_validation.py:717: FutureWarning: Parameter 'base_estimator' of AdaBoostClassifier is deprecated in favor of 'estimator'. See AdaBoostClassifier's docstring for more details.\n",
      "  estimator = estimator.set_params(**clone(parameters, safe=False))\n",
      "c:\\Users\\nicol\\miniconda3\\envs\\data_env\\Lib\\site-packages\\sklearn\\model_selection\\_validation.py:717: FutureWarning: Parameter 'base_estimator' of AdaBoostClassifier is deprecated in favor of 'estimator'. See AdaBoostClassifier's docstring for more details.\n",
      "  estimator = estimator.set_params(**clone(parameters, safe=False))\n",
      "c:\\Users\\nicol\\miniconda3\\envs\\data_env\\Lib\\site-packages\\sklearn\\model_selection\\_validation.py:717: FutureWarning: Parameter 'base_estimator' of AdaBoostClassifier is deprecated in favor of 'estimator'. See AdaBoostClassifier's docstring for more details.\n",
      "  estimator = estimator.set_params(**clone(parameters, safe=False))\n",
      "c:\\Users\\nicol\\miniconda3\\envs\\data_env\\Lib\\site-packages\\sklearn\\model_selection\\_validation.py:717: FutureWarning: Parameter 'base_estimator' of AdaBoostClassifier is deprecated in favor of 'estimator'. See AdaBoostClassifier's docstring for more details.\n",
      "  estimator = estimator.set_params(**clone(parameters, safe=False))\n",
      "c:\\Users\\nicol\\miniconda3\\envs\\data_env\\Lib\\site-packages\\sklearn\\model_selection\\_validation.py:717: FutureWarning: Parameter 'base_estimator' of AdaBoostClassifier is deprecated in favor of 'estimator'. See AdaBoostClassifier's docstring for more details.\n",
      "  estimator = estimator.set_params(**clone(parameters, safe=False))\n",
      "c:\\Users\\nicol\\miniconda3\\envs\\data_env\\Lib\\site-packages\\sklearn\\model_selection\\_validation.py:717: FutureWarning: Parameter 'base_estimator' of AdaBoostClassifier is deprecated in favor of 'estimator'. See AdaBoostClassifier's docstring for more details.\n",
      "  estimator = estimator.set_params(**clone(parameters, safe=False))\n",
      "c:\\Users\\nicol\\miniconda3\\envs\\data_env\\Lib\\site-packages\\sklearn\\model_selection\\_validation.py:717: FutureWarning: Parameter 'base_estimator' of AdaBoostClassifier is deprecated in favor of 'estimator'. See AdaBoostClassifier's docstring for more details.\n",
      "  estimator = estimator.set_params(**clone(parameters, safe=False))\n",
      "c:\\Users\\nicol\\miniconda3\\envs\\data_env\\Lib\\site-packages\\sklearn\\model_selection\\_validation.py:717: FutureWarning: Parameter 'base_estimator' of AdaBoostClassifier is deprecated in favor of 'estimator'. See AdaBoostClassifier's docstring for more details.\n",
      "  estimator = estimator.set_params(**clone(parameters, safe=False))\n",
      "c:\\Users\\nicol\\miniconda3\\envs\\data_env\\Lib\\site-packages\\sklearn\\model_selection\\_validation.py:717: FutureWarning: Parameter 'base_estimator' of AdaBoostClassifier is deprecated in favor of 'estimator'. See AdaBoostClassifier's docstring for more details.\n",
      "  estimator = estimator.set_params(**clone(parameters, safe=False))\n",
      "c:\\Users\\nicol\\miniconda3\\envs\\data_env\\Lib\\site-packages\\sklearn\\model_selection\\_validation.py:717: FutureWarning: Parameter 'base_estimator' of AdaBoostClassifier is deprecated in favor of 'estimator'. See AdaBoostClassifier's docstring for more details.\n",
      "  estimator = estimator.set_params(**clone(parameters, safe=False))\n",
      "c:\\Users\\nicol\\miniconda3\\envs\\data_env\\Lib\\site-packages\\sklearn\\model_selection\\_validation.py:717: FutureWarning: Parameter 'base_estimator' of AdaBoostClassifier is deprecated in favor of 'estimator'. See AdaBoostClassifier's docstring for more details.\n",
      "  estimator = estimator.set_params(**clone(parameters, safe=False))\n",
      "c:\\Users\\nicol\\miniconda3\\envs\\data_env\\Lib\\site-packages\\sklearn\\model_selection\\_validation.py:717: FutureWarning: Parameter 'base_estimator' of AdaBoostClassifier is deprecated in favor of 'estimator'. See AdaBoostClassifier's docstring for more details.\n",
      "  estimator = estimator.set_params(**clone(parameters, safe=False))\n",
      "c:\\Users\\nicol\\miniconda3\\envs\\data_env\\Lib\\site-packages\\sklearn\\model_selection\\_validation.py:717: FutureWarning: Parameter 'base_estimator' of AdaBoostClassifier is deprecated in favor of 'estimator'. See AdaBoostClassifier's docstring for more details.\n",
      "  estimator = estimator.set_params(**clone(parameters, safe=False))\n",
      "c:\\Users\\nicol\\miniconda3\\envs\\data_env\\Lib\\site-packages\\sklearn\\model_selection\\_validation.py:717: FutureWarning: Parameter 'base_estimator' of AdaBoostClassifier is deprecated in favor of 'estimator'. See AdaBoostClassifier's docstring for more details.\n",
      "  estimator = estimator.set_params(**clone(parameters, safe=False))\n",
      "c:\\Users\\nicol\\miniconda3\\envs\\data_env\\Lib\\site-packages\\sklearn\\model_selection\\_validation.py:717: FutureWarning: Parameter 'base_estimator' of AdaBoostClassifier is deprecated in favor of 'estimator'. See AdaBoostClassifier's docstring for more details.\n",
      "  estimator = estimator.set_params(**clone(parameters, safe=False))\n",
      "c:\\Users\\nicol\\miniconda3\\envs\\data_env\\Lib\\site-packages\\sklearn\\model_selection\\_validation.py:717: FutureWarning: Parameter 'base_estimator' of AdaBoostClassifier is deprecated in favor of 'estimator'. See AdaBoostClassifier's docstring for more details.\n",
      "  estimator = estimator.set_params(**clone(parameters, safe=False))\n",
      "c:\\Users\\nicol\\miniconda3\\envs\\data_env\\Lib\\site-packages\\sklearn\\model_selection\\_validation.py:717: FutureWarning: Parameter 'base_estimator' of AdaBoostClassifier is deprecated in favor of 'estimator'. See AdaBoostClassifier's docstring for more details.\n",
      "  estimator = estimator.set_params(**clone(parameters, safe=False))\n",
      "c:\\Users\\nicol\\miniconda3\\envs\\data_env\\Lib\\site-packages\\sklearn\\model_selection\\_validation.py:717: FutureWarning: Parameter 'base_estimator' of AdaBoostClassifier is deprecated in favor of 'estimator'. See AdaBoostClassifier's docstring for more details.\n",
      "  estimator = estimator.set_params(**clone(parameters, safe=False))\n",
      "c:\\Users\\nicol\\miniconda3\\envs\\data_env\\Lib\\site-packages\\sklearn\\model_selection\\_validation.py:717: FutureWarning: Parameter 'base_estimator' of AdaBoostClassifier is deprecated in favor of 'estimator'. See AdaBoostClassifier's docstring for more details.\n",
      "  estimator = estimator.set_params(**clone(parameters, safe=False))\n",
      "c:\\Users\\nicol\\miniconda3\\envs\\data_env\\Lib\\site-packages\\sklearn\\model_selection\\_validation.py:717: FutureWarning: Parameter 'base_estimator' of AdaBoostClassifier is deprecated in favor of 'estimator'. See AdaBoostClassifier's docstring for more details.\n",
      "  estimator = estimator.set_params(**clone(parameters, safe=False))\n",
      "c:\\Users\\nicol\\miniconda3\\envs\\data_env\\Lib\\site-packages\\sklearn\\model_selection\\_validation.py:717: FutureWarning: Parameter 'base_estimator' of AdaBoostClassifier is deprecated in favor of 'estimator'. See AdaBoostClassifier's docstring for more details.\n",
      "  estimator = estimator.set_params(**clone(parameters, safe=False))\n",
      "c:\\Users\\nicol\\miniconda3\\envs\\data_env\\Lib\\site-packages\\sklearn\\model_selection\\_validation.py:717: FutureWarning: Parameter 'base_estimator' of AdaBoostClassifier is deprecated in favor of 'estimator'. See AdaBoostClassifier's docstring for more details.\n",
      "  estimator = estimator.set_params(**clone(parameters, safe=False))\n",
      "c:\\Users\\nicol\\miniconda3\\envs\\data_env\\Lib\\site-packages\\sklearn\\model_selection\\_validation.py:717: FutureWarning: Parameter 'base_estimator' of AdaBoostClassifier is deprecated in favor of 'estimator'. See AdaBoostClassifier's docstring for more details.\n",
      "  estimator = estimator.set_params(**clone(parameters, safe=False))\n",
      "c:\\Users\\nicol\\miniconda3\\envs\\data_env\\Lib\\site-packages\\sklearn\\model_selection\\_validation.py:717: FutureWarning: Parameter 'base_estimator' of AdaBoostClassifier is deprecated in favor of 'estimator'. See AdaBoostClassifier's docstring for more details.\n",
      "  estimator = estimator.set_params(**clone(parameters, safe=False))\n",
      "c:\\Users\\nicol\\miniconda3\\envs\\data_env\\Lib\\site-packages\\sklearn\\model_selection\\_validation.py:717: FutureWarning: Parameter 'base_estimator' of AdaBoostClassifier is deprecated in favor of 'estimator'. See AdaBoostClassifier's docstring for more details.\n",
      "  estimator = estimator.set_params(**clone(parameters, safe=False))\n",
      "c:\\Users\\nicol\\miniconda3\\envs\\data_env\\Lib\\site-packages\\sklearn\\model_selection\\_validation.py:717: FutureWarning: Parameter 'base_estimator' of AdaBoostClassifier is deprecated in favor of 'estimator'. See AdaBoostClassifier's docstring for more details.\n",
      "  estimator = estimator.set_params(**clone(parameters, safe=False))\n",
      "c:\\Users\\nicol\\miniconda3\\envs\\data_env\\Lib\\site-packages\\sklearn\\model_selection\\_validation.py:717: FutureWarning: Parameter 'base_estimator' of AdaBoostClassifier is deprecated in favor of 'estimator'. See AdaBoostClassifier's docstring for more details.\n",
      "  estimator = estimator.set_params(**clone(parameters, safe=False))\n",
      "c:\\Users\\nicol\\miniconda3\\envs\\data_env\\Lib\\site-packages\\sklearn\\model_selection\\_validation.py:717: FutureWarning: Parameter 'base_estimator' of AdaBoostClassifier is deprecated in favor of 'estimator'. See AdaBoostClassifier's docstring for more details.\n",
      "  estimator = estimator.set_params(**clone(parameters, safe=False))\n",
      "c:\\Users\\nicol\\miniconda3\\envs\\data_env\\Lib\\site-packages\\sklearn\\model_selection\\_validation.py:717: FutureWarning: Parameter 'base_estimator' of AdaBoostClassifier is deprecated in favor of 'estimator'. See AdaBoostClassifier's docstring for more details.\n",
      "  estimator = estimator.set_params(**clone(parameters, safe=False))\n",
      "c:\\Users\\nicol\\miniconda3\\envs\\data_env\\Lib\\site-packages\\sklearn\\model_selection\\_validation.py:717: FutureWarning: Parameter 'base_estimator' of AdaBoostClassifier is deprecated in favor of 'estimator'. See AdaBoostClassifier's docstring for more details.\n",
      "  estimator = estimator.set_params(**clone(parameters, safe=False))\n",
      "c:\\Users\\nicol\\miniconda3\\envs\\data_env\\Lib\\site-packages\\sklearn\\model_selection\\_validation.py:717: FutureWarning: Parameter 'base_estimator' of AdaBoostClassifier is deprecated in favor of 'estimator'. See AdaBoostClassifier's docstring for more details.\n",
      "  estimator = estimator.set_params(**clone(parameters, safe=False))\n",
      "c:\\Users\\nicol\\miniconda3\\envs\\data_env\\Lib\\site-packages\\sklearn\\model_selection\\_validation.py:717: FutureWarning: Parameter 'base_estimator' of AdaBoostClassifier is deprecated in favor of 'estimator'. See AdaBoostClassifier's docstring for more details.\n",
      "  estimator = estimator.set_params(**clone(parameters, safe=False))\n",
      "c:\\Users\\nicol\\miniconda3\\envs\\data_env\\Lib\\site-packages\\sklearn\\model_selection\\_validation.py:717: FutureWarning: Parameter 'base_estimator' of AdaBoostClassifier is deprecated in favor of 'estimator'. See AdaBoostClassifier's docstring for more details.\n",
      "  estimator = estimator.set_params(**clone(parameters, safe=False))\n",
      "c:\\Users\\nicol\\miniconda3\\envs\\data_env\\Lib\\site-packages\\sklearn\\model_selection\\_validation.py:717: FutureWarning: Parameter 'base_estimator' of AdaBoostClassifier is deprecated in favor of 'estimator'. See AdaBoostClassifier's docstring for more details.\n",
      "  estimator = estimator.set_params(**clone(parameters, safe=False))\n",
      "c:\\Users\\nicol\\miniconda3\\envs\\data_env\\Lib\\site-packages\\sklearn\\model_selection\\_validation.py:717: FutureWarning: Parameter 'base_estimator' of AdaBoostClassifier is deprecated in favor of 'estimator'. See AdaBoostClassifier's docstring for more details.\n",
      "  estimator = estimator.set_params(**clone(parameters, safe=False))\n",
      "c:\\Users\\nicol\\miniconda3\\envs\\data_env\\Lib\\site-packages\\sklearn\\model_selection\\_validation.py:717: FutureWarning: Parameter 'base_estimator' of AdaBoostClassifier is deprecated in favor of 'estimator'. See AdaBoostClassifier's docstring for more details.\n",
      "  estimator = estimator.set_params(**clone(parameters, safe=False))\n",
      "c:\\Users\\nicol\\miniconda3\\envs\\data_env\\Lib\\site-packages\\sklearn\\model_selection\\_validation.py:717: FutureWarning: Parameter 'base_estimator' of AdaBoostClassifier is deprecated in favor of 'estimator'. See AdaBoostClassifier's docstring for more details.\n",
      "  estimator = estimator.set_params(**clone(parameters, safe=False))\n",
      "c:\\Users\\nicol\\miniconda3\\envs\\data_env\\Lib\\site-packages\\sklearn\\model_selection\\_validation.py:717: FutureWarning: Parameter 'base_estimator' of AdaBoostClassifier is deprecated in favor of 'estimator'. See AdaBoostClassifier's docstring for more details.\n",
      "  estimator = estimator.set_params(**clone(parameters, safe=False))\n",
      "c:\\Users\\nicol\\miniconda3\\envs\\data_env\\Lib\\site-packages\\sklearn\\model_selection\\_validation.py:717: FutureWarning: Parameter 'base_estimator' of AdaBoostClassifier is deprecated in favor of 'estimator'. See AdaBoostClassifier's docstring for more details.\n",
      "  estimator = estimator.set_params(**clone(parameters, safe=False))\n",
      "c:\\Users\\nicol\\miniconda3\\envs\\data_env\\Lib\\site-packages\\sklearn\\model_selection\\_validation.py:717: FutureWarning: Parameter 'base_estimator' of AdaBoostClassifier is deprecated in favor of 'estimator'. See AdaBoostClassifier's docstring for more details.\n",
      "  estimator = estimator.set_params(**clone(parameters, safe=False))\n",
      "c:\\Users\\nicol\\miniconda3\\envs\\data_env\\Lib\\site-packages\\sklearn\\model_selection\\_validation.py:717: FutureWarning: Parameter 'base_estimator' of AdaBoostClassifier is deprecated in favor of 'estimator'. See AdaBoostClassifier's docstring for more details.\n",
      "  estimator = estimator.set_params(**clone(parameters, safe=False))\n",
      "c:\\Users\\nicol\\miniconda3\\envs\\data_env\\Lib\\site-packages\\sklearn\\model_selection\\_validation.py:717: FutureWarning: Parameter 'base_estimator' of AdaBoostClassifier is deprecated in favor of 'estimator'. See AdaBoostClassifier's docstring for more details.\n",
      "  estimator = estimator.set_params(**clone(parameters, safe=False))\n",
      "c:\\Users\\nicol\\miniconda3\\envs\\data_env\\Lib\\site-packages\\sklearn\\model_selection\\_validation.py:717: FutureWarning: Parameter 'base_estimator' of AdaBoostClassifier is deprecated in favor of 'estimator'. See AdaBoostClassifier's docstring for more details.\n",
      "  estimator = estimator.set_params(**clone(parameters, safe=False))\n",
      "c:\\Users\\nicol\\miniconda3\\envs\\data_env\\Lib\\site-packages\\sklearn\\model_selection\\_validation.py:717: FutureWarning: Parameter 'base_estimator' of AdaBoostClassifier is deprecated in favor of 'estimator'. See AdaBoostClassifier's docstring for more details.\n",
      "  estimator = estimator.set_params(**clone(parameters, safe=False))\n",
      "c:\\Users\\nicol\\miniconda3\\envs\\data_env\\Lib\\site-packages\\sklearn\\model_selection\\_validation.py:717: FutureWarning: Parameter 'base_estimator' of AdaBoostClassifier is deprecated in favor of 'estimator'. See AdaBoostClassifier's docstring for more details.\n",
      "  estimator = estimator.set_params(**clone(parameters, safe=False))\n",
      "c:\\Users\\nicol\\miniconda3\\envs\\data_env\\Lib\\site-packages\\sklearn\\model_selection\\_validation.py:717: FutureWarning: Parameter 'base_estimator' of AdaBoostClassifier is deprecated in favor of 'estimator'. See AdaBoostClassifier's docstring for more details.\n",
      "  estimator = estimator.set_params(**clone(parameters, safe=False))\n",
      "c:\\Users\\nicol\\miniconda3\\envs\\data_env\\Lib\\site-packages\\sklearn\\model_selection\\_validation.py:717: FutureWarning: Parameter 'base_estimator' of AdaBoostClassifier is deprecated in favor of 'estimator'. See AdaBoostClassifier's docstring for more details.\n",
      "  estimator = estimator.set_params(**clone(parameters, safe=False))\n",
      "c:\\Users\\nicol\\miniconda3\\envs\\data_env\\Lib\\site-packages\\sklearn\\model_selection\\_validation.py:717: FutureWarning: Parameter 'base_estimator' of AdaBoostClassifier is deprecated in favor of 'estimator'. See AdaBoostClassifier's docstring for more details.\n",
      "  estimator = estimator.set_params(**clone(parameters, safe=False))\n",
      "c:\\Users\\nicol\\miniconda3\\envs\\data_env\\Lib\\site-packages\\sklearn\\model_selection\\_validation.py:717: FutureWarning: Parameter 'base_estimator' of AdaBoostClassifier is deprecated in favor of 'estimator'. See AdaBoostClassifier's docstring for more details.\n",
      "  estimator = estimator.set_params(**clone(parameters, safe=False))\n",
      "c:\\Users\\nicol\\miniconda3\\envs\\data_env\\Lib\\site-packages\\sklearn\\model_selection\\_validation.py:717: FutureWarning: Parameter 'base_estimator' of AdaBoostClassifier is deprecated in favor of 'estimator'. See AdaBoostClassifier's docstring for more details.\n",
      "  estimator = estimator.set_params(**clone(parameters, safe=False))\n",
      "c:\\Users\\nicol\\miniconda3\\envs\\data_env\\Lib\\site-packages\\sklearn\\model_selection\\_validation.py:717: FutureWarning: Parameter 'base_estimator' of AdaBoostClassifier is deprecated in favor of 'estimator'. See AdaBoostClassifier's docstring for more details.\n",
      "  estimator = estimator.set_params(**clone(parameters, safe=False))\n",
      "c:\\Users\\nicol\\miniconda3\\envs\\data_env\\Lib\\site-packages\\sklearn\\model_selection\\_validation.py:717: FutureWarning: Parameter 'base_estimator' of AdaBoostClassifier is deprecated in favor of 'estimator'. See AdaBoostClassifier's docstring for more details.\n",
      "  estimator = estimator.set_params(**clone(parameters, safe=False))\n",
      "c:\\Users\\nicol\\miniconda3\\envs\\data_env\\Lib\\site-packages\\sklearn\\model_selection\\_validation.py:717: FutureWarning: Parameter 'base_estimator' of AdaBoostClassifier is deprecated in favor of 'estimator'. See AdaBoostClassifier's docstring for more details.\n",
      "  estimator = estimator.set_params(**clone(parameters, safe=False))\n",
      "c:\\Users\\nicol\\miniconda3\\envs\\data_env\\Lib\\site-packages\\sklearn\\model_selection\\_validation.py:717: FutureWarning: Parameter 'base_estimator' of AdaBoostClassifier is deprecated in favor of 'estimator'. See AdaBoostClassifier's docstring for more details.\n",
      "  estimator = estimator.set_params(**clone(parameters, safe=False))\n",
      "c:\\Users\\nicol\\miniconda3\\envs\\data_env\\Lib\\site-packages\\sklearn\\model_selection\\_validation.py:717: FutureWarning: Parameter 'base_estimator' of AdaBoostClassifier is deprecated in favor of 'estimator'. See AdaBoostClassifier's docstring for more details.\n",
      "  estimator = estimator.set_params(**clone(parameters, safe=False))\n",
      "c:\\Users\\nicol\\miniconda3\\envs\\data_env\\Lib\\site-packages\\sklearn\\model_selection\\_validation.py:717: FutureWarning: Parameter 'base_estimator' of AdaBoostClassifier is deprecated in favor of 'estimator'. See AdaBoostClassifier's docstring for more details.\n",
      "  estimator = estimator.set_params(**clone(parameters, safe=False))\n",
      "c:\\Users\\nicol\\miniconda3\\envs\\data_env\\Lib\\site-packages\\sklearn\\model_selection\\_validation.py:717: FutureWarning: Parameter 'base_estimator' of AdaBoostClassifier is deprecated in favor of 'estimator'. See AdaBoostClassifier's docstring for more details.\n",
      "  estimator = estimator.set_params(**clone(parameters, safe=False))\n",
      "c:\\Users\\nicol\\miniconda3\\envs\\data_env\\Lib\\site-packages\\sklearn\\model_selection\\_validation.py:717: FutureWarning: Parameter 'base_estimator' of AdaBoostClassifier is deprecated in favor of 'estimator'. See AdaBoostClassifier's docstring for more details.\n",
      "  estimator = estimator.set_params(**clone(parameters, safe=False))\n",
      "c:\\Users\\nicol\\miniconda3\\envs\\data_env\\Lib\\site-packages\\sklearn\\model_selection\\_validation.py:717: FutureWarning: Parameter 'base_estimator' of AdaBoostClassifier is deprecated in favor of 'estimator'. See AdaBoostClassifier's docstring for more details.\n",
      "  estimator = estimator.set_params(**clone(parameters, safe=False))\n",
      "c:\\Users\\nicol\\miniconda3\\envs\\data_env\\Lib\\site-packages\\sklearn\\model_selection\\_validation.py:717: FutureWarning: Parameter 'base_estimator' of AdaBoostClassifier is deprecated in favor of 'estimator'. See AdaBoostClassifier's docstring for more details.\n",
      "  estimator = estimator.set_params(**clone(parameters, safe=False))\n",
      "c:\\Users\\nicol\\miniconda3\\envs\\data_env\\Lib\\site-packages\\sklearn\\model_selection\\_validation.py:717: FutureWarning: Parameter 'base_estimator' of AdaBoostClassifier is deprecated in favor of 'estimator'. See AdaBoostClassifier's docstring for more details.\n",
      "  estimator = estimator.set_params(**clone(parameters, safe=False))\n",
      "c:\\Users\\nicol\\miniconda3\\envs\\data_env\\Lib\\site-packages\\sklearn\\model_selection\\_validation.py:717: FutureWarning: Parameter 'base_estimator' of AdaBoostClassifier is deprecated in favor of 'estimator'. See AdaBoostClassifier's docstring for more details.\n",
      "  estimator = estimator.set_params(**clone(parameters, safe=False))\n",
      "c:\\Users\\nicol\\miniconda3\\envs\\data_env\\Lib\\site-packages\\sklearn\\model_selection\\_validation.py:717: FutureWarning: Parameter 'base_estimator' of AdaBoostClassifier is deprecated in favor of 'estimator'. See AdaBoostClassifier's docstring for more details.\n",
      "  estimator = estimator.set_params(**clone(parameters, safe=False))\n",
      "c:\\Users\\nicol\\miniconda3\\envs\\data_env\\Lib\\site-packages\\sklearn\\model_selection\\_validation.py:717: FutureWarning: Parameter 'base_estimator' of AdaBoostClassifier is deprecated in favor of 'estimator'. See AdaBoostClassifier's docstring for more details.\n",
      "  estimator = estimator.set_params(**clone(parameters, safe=False))\n",
      "c:\\Users\\nicol\\miniconda3\\envs\\data_env\\Lib\\site-packages\\sklearn\\model_selection\\_validation.py:717: FutureWarning: Parameter 'base_estimator' of AdaBoostClassifier is deprecated in favor of 'estimator'. See AdaBoostClassifier's docstring for more details.\n",
      "  estimator = estimator.set_params(**clone(parameters, safe=False))\n",
      "c:\\Users\\nicol\\miniconda3\\envs\\data_env\\Lib\\site-packages\\sklearn\\model_selection\\_validation.py:717: FutureWarning: Parameter 'base_estimator' of AdaBoostClassifier is deprecated in favor of 'estimator'. See AdaBoostClassifier's docstring for more details.\n",
      "  estimator = estimator.set_params(**clone(parameters, safe=False))\n",
      "c:\\Users\\nicol\\miniconda3\\envs\\data_env\\Lib\\site-packages\\sklearn\\model_selection\\_validation.py:717: FutureWarning: Parameter 'base_estimator' of AdaBoostClassifier is deprecated in favor of 'estimator'. See AdaBoostClassifier's docstring for more details.\n",
      "  estimator = estimator.set_params(**clone(parameters, safe=False))\n",
      "c:\\Users\\nicol\\miniconda3\\envs\\data_env\\Lib\\site-packages\\sklearn\\model_selection\\_validation.py:717: FutureWarning: Parameter 'base_estimator' of AdaBoostClassifier is deprecated in favor of 'estimator'. See AdaBoostClassifier's docstring for more details.\n",
      "  estimator = estimator.set_params(**clone(parameters, safe=False))\n",
      "c:\\Users\\nicol\\miniconda3\\envs\\data_env\\Lib\\site-packages\\sklearn\\model_selection\\_validation.py:717: FutureWarning: Parameter 'base_estimator' of AdaBoostClassifier is deprecated in favor of 'estimator'. See AdaBoostClassifier's docstring for more details.\n",
      "  estimator = estimator.set_params(**clone(parameters, safe=False))\n",
      "c:\\Users\\nicol\\miniconda3\\envs\\data_env\\Lib\\site-packages\\sklearn\\model_selection\\_validation.py:717: FutureWarning: Parameter 'base_estimator' of AdaBoostClassifier is deprecated in favor of 'estimator'. See AdaBoostClassifier's docstring for more details.\n",
      "  estimator = estimator.set_params(**clone(parameters, safe=False))\n",
      "c:\\Users\\nicol\\miniconda3\\envs\\data_env\\Lib\\site-packages\\sklearn\\model_selection\\_validation.py:717: FutureWarning: Parameter 'base_estimator' of AdaBoostClassifier is deprecated in favor of 'estimator'. See AdaBoostClassifier's docstring for more details.\n",
      "  estimator = estimator.set_params(**clone(parameters, safe=False))\n",
      "c:\\Users\\nicol\\miniconda3\\envs\\data_env\\Lib\\site-packages\\sklearn\\model_selection\\_validation.py:717: FutureWarning: Parameter 'base_estimator' of AdaBoostClassifier is deprecated in favor of 'estimator'. See AdaBoostClassifier's docstring for more details.\n",
      "  estimator = estimator.set_params(**clone(parameters, safe=False))\n",
      "c:\\Users\\nicol\\miniconda3\\envs\\data_env\\Lib\\site-packages\\sklearn\\model_selection\\_validation.py:717: FutureWarning: Parameter 'base_estimator' of AdaBoostClassifier is deprecated in favor of 'estimator'. See AdaBoostClassifier's docstring for more details.\n",
      "  estimator = estimator.set_params(**clone(parameters, safe=False))\n",
      "c:\\Users\\nicol\\miniconda3\\envs\\data_env\\Lib\\site-packages\\sklearn\\model_selection\\_validation.py:717: FutureWarning: Parameter 'base_estimator' of AdaBoostClassifier is deprecated in favor of 'estimator'. See AdaBoostClassifier's docstring for more details.\n",
      "  estimator = estimator.set_params(**clone(parameters, safe=False))\n",
      "c:\\Users\\nicol\\miniconda3\\envs\\data_env\\Lib\\site-packages\\sklearn\\model_selection\\_validation.py:717: FutureWarning: Parameter 'base_estimator' of AdaBoostClassifier is deprecated in favor of 'estimator'. See AdaBoostClassifier's docstring for more details.\n",
      "  estimator = estimator.set_params(**clone(parameters, safe=False))\n",
      "c:\\Users\\nicol\\miniconda3\\envs\\data_env\\Lib\\site-packages\\sklearn\\model_selection\\_validation.py:717: FutureWarning: Parameter 'base_estimator' of AdaBoostClassifier is deprecated in favor of 'estimator'. See AdaBoostClassifier's docstring for more details.\n",
      "  estimator = estimator.set_params(**clone(parameters, safe=False))\n",
      "c:\\Users\\nicol\\miniconda3\\envs\\data_env\\Lib\\site-packages\\sklearn\\model_selection\\_validation.py:717: FutureWarning: Parameter 'base_estimator' of AdaBoostClassifier is deprecated in favor of 'estimator'. See AdaBoostClassifier's docstring for more details.\n",
      "  estimator = estimator.set_params(**clone(parameters, safe=False))\n",
      "c:\\Users\\nicol\\miniconda3\\envs\\data_env\\Lib\\site-packages\\sklearn\\model_selection\\_validation.py:717: FutureWarning: Parameter 'base_estimator' of AdaBoostClassifier is deprecated in favor of 'estimator'. See AdaBoostClassifier's docstring for more details.\n",
      "  estimator = estimator.set_params(**clone(parameters, safe=False))\n",
      "c:\\Users\\nicol\\miniconda3\\envs\\data_env\\Lib\\site-packages\\sklearn\\model_selection\\_validation.py:717: FutureWarning: Parameter 'base_estimator' of AdaBoostClassifier is deprecated in favor of 'estimator'. See AdaBoostClassifier's docstring for more details.\n",
      "  estimator = estimator.set_params(**clone(parameters, safe=False))\n",
      "c:\\Users\\nicol\\miniconda3\\envs\\data_env\\Lib\\site-packages\\sklearn\\model_selection\\_validation.py:717: FutureWarning: Parameter 'base_estimator' of AdaBoostClassifier is deprecated in favor of 'estimator'. See AdaBoostClassifier's docstring for more details.\n",
      "  estimator = estimator.set_params(**clone(parameters, safe=False))\n",
      "c:\\Users\\nicol\\miniconda3\\envs\\data_env\\Lib\\site-packages\\sklearn\\model_selection\\_validation.py:717: FutureWarning: Parameter 'base_estimator' of AdaBoostClassifier is deprecated in favor of 'estimator'. See AdaBoostClassifier's docstring for more details.\n",
      "  estimator = estimator.set_params(**clone(parameters, safe=False))\n",
      "c:\\Users\\nicol\\miniconda3\\envs\\data_env\\Lib\\site-packages\\sklearn\\model_selection\\_validation.py:717: FutureWarning: Parameter 'base_estimator' of AdaBoostClassifier is deprecated in favor of 'estimator'. See AdaBoostClassifier's docstring for more details.\n",
      "  estimator = estimator.set_params(**clone(parameters, safe=False))\n",
      "c:\\Users\\nicol\\miniconda3\\envs\\data_env\\Lib\\site-packages\\sklearn\\model_selection\\_validation.py:717: FutureWarning: Parameter 'base_estimator' of AdaBoostClassifier is deprecated in favor of 'estimator'. See AdaBoostClassifier's docstring for more details.\n",
      "  estimator = estimator.set_params(**clone(parameters, safe=False))\n",
      "c:\\Users\\nicol\\miniconda3\\envs\\data_env\\Lib\\site-packages\\sklearn\\model_selection\\_validation.py:717: FutureWarning: Parameter 'base_estimator' of AdaBoostClassifier is deprecated in favor of 'estimator'. See AdaBoostClassifier's docstring for more details.\n",
      "  estimator = estimator.set_params(**clone(parameters, safe=False))\n",
      "c:\\Users\\nicol\\miniconda3\\envs\\data_env\\Lib\\site-packages\\sklearn\\model_selection\\_validation.py:717: FutureWarning: Parameter 'base_estimator' of AdaBoostClassifier is deprecated in favor of 'estimator'. See AdaBoostClassifier's docstring for more details.\n",
      "  estimator = estimator.set_params(**clone(parameters, safe=False))\n",
      "c:\\Users\\nicol\\miniconda3\\envs\\data_env\\Lib\\site-packages\\sklearn\\model_selection\\_validation.py:717: FutureWarning: Parameter 'base_estimator' of AdaBoostClassifier is deprecated in favor of 'estimator'. See AdaBoostClassifier's docstring for more details.\n",
      "  estimator = estimator.set_params(**clone(parameters, safe=False))\n",
      "c:\\Users\\nicol\\miniconda3\\envs\\data_env\\Lib\\site-packages\\sklearn\\model_selection\\_validation.py:717: FutureWarning: Parameter 'base_estimator' of AdaBoostClassifier is deprecated in favor of 'estimator'. See AdaBoostClassifier's docstring for more details.\n",
      "  estimator = estimator.set_params(**clone(parameters, safe=False))\n",
      "c:\\Users\\nicol\\miniconda3\\envs\\data_env\\Lib\\site-packages\\sklearn\\model_selection\\_validation.py:717: FutureWarning: Parameter 'base_estimator' of AdaBoostClassifier is deprecated in favor of 'estimator'. See AdaBoostClassifier's docstring for more details.\n",
      "  estimator = estimator.set_params(**clone(parameters, safe=False))\n",
      "c:\\Users\\nicol\\miniconda3\\envs\\data_env\\Lib\\site-packages\\sklearn\\model_selection\\_validation.py:717: FutureWarning: Parameter 'base_estimator' of AdaBoostClassifier is deprecated in favor of 'estimator'. See AdaBoostClassifier's docstring for more details.\n",
      "  estimator = estimator.set_params(**clone(parameters, safe=False))\n",
      "c:\\Users\\nicol\\miniconda3\\envs\\data_env\\Lib\\site-packages\\sklearn\\model_selection\\_validation.py:717: FutureWarning: Parameter 'base_estimator' of AdaBoostClassifier is deprecated in favor of 'estimator'. See AdaBoostClassifier's docstring for more details.\n",
      "  estimator = estimator.set_params(**clone(parameters, safe=False))\n",
      "c:\\Users\\nicol\\miniconda3\\envs\\data_env\\Lib\\site-packages\\sklearn\\model_selection\\_validation.py:717: FutureWarning: Parameter 'base_estimator' of AdaBoostClassifier is deprecated in favor of 'estimator'. See AdaBoostClassifier's docstring for more details.\n",
      "  estimator = estimator.set_params(**clone(parameters, safe=False))\n",
      "c:\\Users\\nicol\\miniconda3\\envs\\data_env\\Lib\\site-packages\\sklearn\\model_selection\\_validation.py:717: FutureWarning: Parameter 'base_estimator' of AdaBoostClassifier is deprecated in favor of 'estimator'. See AdaBoostClassifier's docstring for more details.\n",
      "  estimator = estimator.set_params(**clone(parameters, safe=False))\n",
      "c:\\Users\\nicol\\miniconda3\\envs\\data_env\\Lib\\site-packages\\sklearn\\model_selection\\_validation.py:717: FutureWarning: Parameter 'base_estimator' of AdaBoostClassifier is deprecated in favor of 'estimator'. See AdaBoostClassifier's docstring for more details.\n",
      "  estimator = estimator.set_params(**clone(parameters, safe=False))\n",
      "c:\\Users\\nicol\\miniconda3\\envs\\data_env\\Lib\\site-packages\\sklearn\\model_selection\\_validation.py:717: FutureWarning: Parameter 'base_estimator' of AdaBoostClassifier is deprecated in favor of 'estimator'. See AdaBoostClassifier's docstring for more details.\n",
      "  estimator = estimator.set_params(**clone(parameters, safe=False))\n",
      "c:\\Users\\nicol\\miniconda3\\envs\\data_env\\Lib\\site-packages\\sklearn\\model_selection\\_validation.py:717: FutureWarning: Parameter 'base_estimator' of AdaBoostClassifier is deprecated in favor of 'estimator'. See AdaBoostClassifier's docstring for more details.\n",
      "  estimator = estimator.set_params(**clone(parameters, safe=False))\n",
      "c:\\Users\\nicol\\miniconda3\\envs\\data_env\\Lib\\site-packages\\sklearn\\model_selection\\_validation.py:717: FutureWarning: Parameter 'base_estimator' of AdaBoostClassifier is deprecated in favor of 'estimator'. See AdaBoostClassifier's docstring for more details.\n",
      "  estimator = estimator.set_params(**clone(parameters, safe=False))\n",
      "c:\\Users\\nicol\\miniconda3\\envs\\data_env\\Lib\\site-packages\\sklearn\\model_selection\\_validation.py:717: FutureWarning: Parameter 'base_estimator' of AdaBoostClassifier is deprecated in favor of 'estimator'. See AdaBoostClassifier's docstring for more details.\n",
      "  estimator = estimator.set_params(**clone(parameters, safe=False))\n",
      "c:\\Users\\nicol\\miniconda3\\envs\\data_env\\Lib\\site-packages\\sklearn\\model_selection\\_validation.py:717: FutureWarning: Parameter 'base_estimator' of AdaBoostClassifier is deprecated in favor of 'estimator'. See AdaBoostClassifier's docstring for more details.\n",
      "  estimator = estimator.set_params(**clone(parameters, safe=False))\n",
      "c:\\Users\\nicol\\miniconda3\\envs\\data_env\\Lib\\site-packages\\sklearn\\model_selection\\_validation.py:717: FutureWarning: Parameter 'base_estimator' of AdaBoostClassifier is deprecated in favor of 'estimator'. See AdaBoostClassifier's docstring for more details.\n",
      "  estimator = estimator.set_params(**clone(parameters, safe=False))\n",
      "c:\\Users\\nicol\\miniconda3\\envs\\data_env\\Lib\\site-packages\\sklearn\\model_selection\\_validation.py:717: FutureWarning: Parameter 'base_estimator' of AdaBoostClassifier is deprecated in favor of 'estimator'. See AdaBoostClassifier's docstring for more details.\n",
      "  estimator = estimator.set_params(**clone(parameters, safe=False))\n",
      "c:\\Users\\nicol\\miniconda3\\envs\\data_env\\Lib\\site-packages\\sklearn\\model_selection\\_validation.py:717: FutureWarning: Parameter 'base_estimator' of AdaBoostClassifier is deprecated in favor of 'estimator'. See AdaBoostClassifier's docstring for more details.\n",
      "  estimator = estimator.set_params(**clone(parameters, safe=False))\n",
      "c:\\Users\\nicol\\miniconda3\\envs\\data_env\\Lib\\site-packages\\sklearn\\model_selection\\_validation.py:717: FutureWarning: Parameter 'base_estimator' of AdaBoostClassifier is deprecated in favor of 'estimator'. See AdaBoostClassifier's docstring for more details.\n",
      "  estimator = estimator.set_params(**clone(parameters, safe=False))\n",
      "c:\\Users\\nicol\\miniconda3\\envs\\data_env\\Lib\\site-packages\\sklearn\\model_selection\\_validation.py:717: FutureWarning: Parameter 'base_estimator' of AdaBoostClassifier is deprecated in favor of 'estimator'. See AdaBoostClassifier's docstring for more details.\n",
      "  estimator = estimator.set_params(**clone(parameters, safe=False))\n",
      "c:\\Users\\nicol\\miniconda3\\envs\\data_env\\Lib\\site-packages\\sklearn\\model_selection\\_validation.py:717: FutureWarning: Parameter 'base_estimator' of AdaBoostClassifier is deprecated in favor of 'estimator'. See AdaBoostClassifier's docstring for more details.\n",
      "  estimator = estimator.set_params(**clone(parameters, safe=False))\n",
      "c:\\Users\\nicol\\miniconda3\\envs\\data_env\\Lib\\site-packages\\sklearn\\model_selection\\_validation.py:717: FutureWarning: Parameter 'base_estimator' of AdaBoostClassifier is deprecated in favor of 'estimator'. See AdaBoostClassifier's docstring for more details.\n",
      "  estimator = estimator.set_params(**clone(parameters, safe=False))\n",
      "c:\\Users\\nicol\\miniconda3\\envs\\data_env\\Lib\\site-packages\\sklearn\\model_selection\\_validation.py:717: FutureWarning: Parameter 'base_estimator' of AdaBoostClassifier is deprecated in favor of 'estimator'. See AdaBoostClassifier's docstring for more details.\n",
      "  estimator = estimator.set_params(**clone(parameters, safe=False))\n",
      "c:\\Users\\nicol\\miniconda3\\envs\\data_env\\Lib\\site-packages\\sklearn\\model_selection\\_validation.py:717: FutureWarning: Parameter 'base_estimator' of AdaBoostClassifier is deprecated in favor of 'estimator'. See AdaBoostClassifier's docstring for more details.\n",
      "  estimator = estimator.set_params(**clone(parameters, safe=False))\n",
      "c:\\Users\\nicol\\miniconda3\\envs\\data_env\\Lib\\site-packages\\sklearn\\model_selection\\_validation.py:717: FutureWarning: Parameter 'base_estimator' of AdaBoostClassifier is deprecated in favor of 'estimator'. See AdaBoostClassifier's docstring for more details.\n",
      "  estimator = estimator.set_params(**clone(parameters, safe=False))\n",
      "c:\\Users\\nicol\\miniconda3\\envs\\data_env\\Lib\\site-packages\\sklearn\\model_selection\\_validation.py:717: FutureWarning: Parameter 'base_estimator' of AdaBoostClassifier is deprecated in favor of 'estimator'. See AdaBoostClassifier's docstring for more details.\n",
      "  estimator = estimator.set_params(**clone(parameters, safe=False))\n",
      "c:\\Users\\nicol\\miniconda3\\envs\\data_env\\Lib\\site-packages\\sklearn\\model_selection\\_validation.py:717: FutureWarning: Parameter 'base_estimator' of AdaBoostClassifier is deprecated in favor of 'estimator'. See AdaBoostClassifier's docstring for more details.\n",
      "  estimator = estimator.set_params(**clone(parameters, safe=False))\n",
      "c:\\Users\\nicol\\miniconda3\\envs\\data_env\\Lib\\site-packages\\sklearn\\model_selection\\_validation.py:717: FutureWarning: Parameter 'base_estimator' of AdaBoostClassifier is deprecated in favor of 'estimator'. See AdaBoostClassifier's docstring for more details.\n",
      "  estimator = estimator.set_params(**clone(parameters, safe=False))\n",
      "c:\\Users\\nicol\\miniconda3\\envs\\data_env\\Lib\\site-packages\\sklearn\\model_selection\\_validation.py:717: FutureWarning: Parameter 'base_estimator' of AdaBoostClassifier is deprecated in favor of 'estimator'. See AdaBoostClassifier's docstring for more details.\n",
      "  estimator = estimator.set_params(**clone(parameters, safe=False))\n",
      "c:\\Users\\nicol\\miniconda3\\envs\\data_env\\Lib\\site-packages\\sklearn\\model_selection\\_validation.py:717: FutureWarning: Parameter 'base_estimator' of AdaBoostClassifier is deprecated in favor of 'estimator'. See AdaBoostClassifier's docstring for more details.\n",
      "  estimator = estimator.set_params(**clone(parameters, safe=False))\n",
      "c:\\Users\\nicol\\miniconda3\\envs\\data_env\\Lib\\site-packages\\sklearn\\model_selection\\_validation.py:717: FutureWarning: Parameter 'base_estimator' of AdaBoostClassifier is deprecated in favor of 'estimator'. See AdaBoostClassifier's docstring for more details.\n",
      "  estimator = estimator.set_params(**clone(parameters, safe=False))\n",
      "c:\\Users\\nicol\\miniconda3\\envs\\data_env\\Lib\\site-packages\\sklearn\\model_selection\\_validation.py:717: FutureWarning: Parameter 'base_estimator' of AdaBoostClassifier is deprecated in favor of 'estimator'. See AdaBoostClassifier's docstring for more details.\n",
      "  estimator = estimator.set_params(**clone(parameters, safe=False))\n",
      "c:\\Users\\nicol\\miniconda3\\envs\\data_env\\Lib\\site-packages\\sklearn\\model_selection\\_validation.py:717: FutureWarning: Parameter 'base_estimator' of AdaBoostClassifier is deprecated in favor of 'estimator'. See AdaBoostClassifier's docstring for more details.\n",
      "  estimator = estimator.set_params(**clone(parameters, safe=False))\n",
      "c:\\Users\\nicol\\miniconda3\\envs\\data_env\\Lib\\site-packages\\sklearn\\model_selection\\_validation.py:717: FutureWarning: Parameter 'base_estimator' of AdaBoostClassifier is deprecated in favor of 'estimator'. See AdaBoostClassifier's docstring for more details.\n",
      "  estimator = estimator.set_params(**clone(parameters, safe=False))\n",
      "c:\\Users\\nicol\\miniconda3\\envs\\data_env\\Lib\\site-packages\\sklearn\\model_selection\\_validation.py:717: FutureWarning: Parameter 'base_estimator' of AdaBoostClassifier is deprecated in favor of 'estimator'. See AdaBoostClassifier's docstring for more details.\n",
      "  estimator = estimator.set_params(**clone(parameters, safe=False))\n",
      "c:\\Users\\nicol\\miniconda3\\envs\\data_env\\Lib\\site-packages\\sklearn\\model_selection\\_validation.py:717: FutureWarning: Parameter 'base_estimator' of AdaBoostClassifier is deprecated in favor of 'estimator'. See AdaBoostClassifier's docstring for more details.\n",
      "  estimator = estimator.set_params(**clone(parameters, safe=False))\n",
      "c:\\Users\\nicol\\miniconda3\\envs\\data_env\\Lib\\site-packages\\sklearn\\model_selection\\_validation.py:717: FutureWarning: Parameter 'base_estimator' of AdaBoostClassifier is deprecated in favor of 'estimator'. See AdaBoostClassifier's docstring for more details.\n",
      "  estimator = estimator.set_params(**clone(parameters, safe=False))\n",
      "c:\\Users\\nicol\\miniconda3\\envs\\data_env\\Lib\\site-packages\\sklearn\\model_selection\\_validation.py:717: FutureWarning: Parameter 'base_estimator' of AdaBoostClassifier is deprecated in favor of 'estimator'. See AdaBoostClassifier's docstring for more details.\n",
      "  estimator = estimator.set_params(**clone(parameters, safe=False))\n",
      "c:\\Users\\nicol\\miniconda3\\envs\\data_env\\Lib\\site-packages\\sklearn\\model_selection\\_validation.py:717: FutureWarning: Parameter 'base_estimator' of AdaBoostClassifier is deprecated in favor of 'estimator'. See AdaBoostClassifier's docstring for more details.\n",
      "  estimator = estimator.set_params(**clone(parameters, safe=False))\n",
      "c:\\Users\\nicol\\miniconda3\\envs\\data_env\\Lib\\site-packages\\sklearn\\model_selection\\_validation.py:717: FutureWarning: Parameter 'base_estimator' of AdaBoostClassifier is deprecated in favor of 'estimator'. See AdaBoostClassifier's docstring for more details.\n",
      "  estimator = estimator.set_params(**clone(parameters, safe=False))\n",
      "c:\\Users\\nicol\\miniconda3\\envs\\data_env\\Lib\\site-packages\\sklearn\\model_selection\\_validation.py:717: FutureWarning: Parameter 'base_estimator' of AdaBoostClassifier is deprecated in favor of 'estimator'. See AdaBoostClassifier's docstring for more details.\n",
      "  estimator = estimator.set_params(**clone(parameters, safe=False))\n",
      "c:\\Users\\nicol\\miniconda3\\envs\\data_env\\Lib\\site-packages\\sklearn\\model_selection\\_validation.py:717: FutureWarning: Parameter 'base_estimator' of AdaBoostClassifier is deprecated in favor of 'estimator'. See AdaBoostClassifier's docstring for more details.\n",
      "  estimator = estimator.set_params(**clone(parameters, safe=False))\n",
      "c:\\Users\\nicol\\miniconda3\\envs\\data_env\\Lib\\site-packages\\sklearn\\model_selection\\_validation.py:717: FutureWarning: Parameter 'base_estimator' of AdaBoostClassifier is deprecated in favor of 'estimator'. See AdaBoostClassifier's docstring for more details.\n",
      "  estimator = estimator.set_params(**clone(parameters, safe=False))\n",
      "c:\\Users\\nicol\\miniconda3\\envs\\data_env\\Lib\\site-packages\\sklearn\\model_selection\\_validation.py:717: FutureWarning: Parameter 'base_estimator' of AdaBoostClassifier is deprecated in favor of 'estimator'. See AdaBoostClassifier's docstring for more details.\n",
      "  estimator = estimator.set_params(**clone(parameters, safe=False))\n",
      "c:\\Users\\nicol\\miniconda3\\envs\\data_env\\Lib\\site-packages\\sklearn\\model_selection\\_validation.py:717: FutureWarning: Parameter 'base_estimator' of AdaBoostClassifier is deprecated in favor of 'estimator'. See AdaBoostClassifier's docstring for more details.\n",
      "  estimator = estimator.set_params(**clone(parameters, safe=False))\n",
      "c:\\Users\\nicol\\miniconda3\\envs\\data_env\\Lib\\site-packages\\sklearn\\model_selection\\_validation.py:717: FutureWarning: Parameter 'base_estimator' of AdaBoostClassifier is deprecated in favor of 'estimator'. See AdaBoostClassifier's docstring for more details.\n",
      "  estimator = estimator.set_params(**clone(parameters, safe=False))\n",
      "c:\\Users\\nicol\\miniconda3\\envs\\data_env\\Lib\\site-packages\\sklearn\\model_selection\\_validation.py:717: FutureWarning: Parameter 'base_estimator' of AdaBoostClassifier is deprecated in favor of 'estimator'. See AdaBoostClassifier's docstring for more details.\n",
      "  estimator = estimator.set_params(**clone(parameters, safe=False))\n",
      "c:\\Users\\nicol\\miniconda3\\envs\\data_env\\Lib\\site-packages\\sklearn\\model_selection\\_validation.py:717: FutureWarning: Parameter 'base_estimator' of AdaBoostClassifier is deprecated in favor of 'estimator'. See AdaBoostClassifier's docstring for more details.\n",
      "  estimator = estimator.set_params(**clone(parameters, safe=False))\n",
      "c:\\Users\\nicol\\miniconda3\\envs\\data_env\\Lib\\site-packages\\sklearn\\model_selection\\_validation.py:717: FutureWarning: Parameter 'base_estimator' of AdaBoostClassifier is deprecated in favor of 'estimator'. See AdaBoostClassifier's docstring for more details.\n",
      "  estimator = estimator.set_params(**clone(parameters, safe=False))\n",
      "c:\\Users\\nicol\\miniconda3\\envs\\data_env\\Lib\\site-packages\\sklearn\\model_selection\\_validation.py:717: FutureWarning: Parameter 'base_estimator' of AdaBoostClassifier is deprecated in favor of 'estimator'. See AdaBoostClassifier's docstring for more details.\n",
      "  estimator = estimator.set_params(**clone(parameters, safe=False))\n",
      "c:\\Users\\nicol\\miniconda3\\envs\\data_env\\Lib\\site-packages\\sklearn\\model_selection\\_validation.py:717: FutureWarning: Parameter 'base_estimator' of AdaBoostClassifier is deprecated in favor of 'estimator'. See AdaBoostClassifier's docstring for more details.\n",
      "  estimator = estimator.set_params(**clone(parameters, safe=False))\n",
      "c:\\Users\\nicol\\miniconda3\\envs\\data_env\\Lib\\site-packages\\sklearn\\model_selection\\_validation.py:717: FutureWarning: Parameter 'base_estimator' of AdaBoostClassifier is deprecated in favor of 'estimator'. See AdaBoostClassifier's docstring for more details.\n",
      "  estimator = estimator.set_params(**clone(parameters, safe=False))\n",
      "c:\\Users\\nicol\\miniconda3\\envs\\data_env\\Lib\\site-packages\\sklearn\\model_selection\\_validation.py:717: FutureWarning: Parameter 'base_estimator' of AdaBoostClassifier is deprecated in favor of 'estimator'. See AdaBoostClassifier's docstring for more details.\n",
      "  estimator = estimator.set_params(**clone(parameters, safe=False))\n",
      "c:\\Users\\nicol\\miniconda3\\envs\\data_env\\Lib\\site-packages\\sklearn\\model_selection\\_validation.py:717: FutureWarning: Parameter 'base_estimator' of AdaBoostClassifier is deprecated in favor of 'estimator'. See AdaBoostClassifier's docstring for more details.\n",
      "  estimator = estimator.set_params(**clone(parameters, safe=False))\n",
      "c:\\Users\\nicol\\miniconda3\\envs\\data_env\\Lib\\site-packages\\sklearn\\model_selection\\_validation.py:717: FutureWarning: Parameter 'base_estimator' of AdaBoostClassifier is deprecated in favor of 'estimator'. See AdaBoostClassifier's docstring for more details.\n",
      "  estimator = estimator.set_params(**clone(parameters, safe=False))\n",
      "c:\\Users\\nicol\\miniconda3\\envs\\data_env\\Lib\\site-packages\\sklearn\\model_selection\\_validation.py:717: FutureWarning: Parameter 'base_estimator' of AdaBoostClassifier is deprecated in favor of 'estimator'. See AdaBoostClassifier's docstring for more details.\n",
      "  estimator = estimator.set_params(**clone(parameters, safe=False))\n",
      "c:\\Users\\nicol\\miniconda3\\envs\\data_env\\Lib\\site-packages\\sklearn\\model_selection\\_validation.py:717: FutureWarning: Parameter 'base_estimator' of AdaBoostClassifier is deprecated in favor of 'estimator'. See AdaBoostClassifier's docstring for more details.\n",
      "  estimator = estimator.set_params(**clone(parameters, safe=False))\n",
      "c:\\Users\\nicol\\miniconda3\\envs\\data_env\\Lib\\site-packages\\sklearn\\model_selection\\_validation.py:717: FutureWarning: Parameter 'base_estimator' of AdaBoostClassifier is deprecated in favor of 'estimator'. See AdaBoostClassifier's docstring for more details.\n",
      "  estimator = estimator.set_params(**clone(parameters, safe=False))\n",
      "c:\\Users\\nicol\\miniconda3\\envs\\data_env\\Lib\\site-packages\\sklearn\\model_selection\\_validation.py:717: FutureWarning: Parameter 'base_estimator' of AdaBoostClassifier is deprecated in favor of 'estimator'. See AdaBoostClassifier's docstring for more details.\n",
      "  estimator = estimator.set_params(**clone(parameters, safe=False))\n",
      "c:\\Users\\nicol\\miniconda3\\envs\\data_env\\Lib\\site-packages\\sklearn\\model_selection\\_validation.py:717: FutureWarning: Parameter 'base_estimator' of AdaBoostClassifier is deprecated in favor of 'estimator'. See AdaBoostClassifier's docstring for more details.\n",
      "  estimator = estimator.set_params(**clone(parameters, safe=False))\n",
      "c:\\Users\\nicol\\miniconda3\\envs\\data_env\\Lib\\site-packages\\sklearn\\model_selection\\_validation.py:717: FutureWarning: Parameter 'base_estimator' of AdaBoostClassifier is deprecated in favor of 'estimator'. See AdaBoostClassifier's docstring for more details.\n",
      "  estimator = estimator.set_params(**clone(parameters, safe=False))\n",
      "c:\\Users\\nicol\\miniconda3\\envs\\data_env\\Lib\\site-packages\\sklearn\\model_selection\\_validation.py:717: FutureWarning: Parameter 'base_estimator' of AdaBoostClassifier is deprecated in favor of 'estimator'. See AdaBoostClassifier's docstring for more details.\n",
      "  estimator = estimator.set_params(**clone(parameters, safe=False))\n",
      "c:\\Users\\nicol\\miniconda3\\envs\\data_env\\Lib\\site-packages\\sklearn\\model_selection\\_validation.py:717: FutureWarning: Parameter 'base_estimator' of AdaBoostClassifier is deprecated in favor of 'estimator'. See AdaBoostClassifier's docstring for more details.\n",
      "  estimator = estimator.set_params(**clone(parameters, safe=False))\n",
      "c:\\Users\\nicol\\miniconda3\\envs\\data_env\\Lib\\site-packages\\sklearn\\model_selection\\_validation.py:717: FutureWarning: Parameter 'base_estimator' of AdaBoostClassifier is deprecated in favor of 'estimator'. See AdaBoostClassifier's docstring for more details.\n",
      "  estimator = estimator.set_params(**clone(parameters, safe=False))\n",
      "c:\\Users\\nicol\\miniconda3\\envs\\data_env\\Lib\\site-packages\\sklearn\\model_selection\\_validation.py:717: FutureWarning: Parameter 'base_estimator' of AdaBoostClassifier is deprecated in favor of 'estimator'. See AdaBoostClassifier's docstring for more details.\n",
      "  estimator = estimator.set_params(**clone(parameters, safe=False))\n",
      "c:\\Users\\nicol\\miniconda3\\envs\\data_env\\Lib\\site-packages\\sklearn\\model_selection\\_validation.py:717: FutureWarning: Parameter 'base_estimator' of AdaBoostClassifier is deprecated in favor of 'estimator'. See AdaBoostClassifier's docstring for more details.\n",
      "  estimator = estimator.set_params(**clone(parameters, safe=False))\n",
      "c:\\Users\\nicol\\miniconda3\\envs\\data_env\\Lib\\site-packages\\sklearn\\model_selection\\_validation.py:717: FutureWarning: Parameter 'base_estimator' of AdaBoostClassifier is deprecated in favor of 'estimator'. See AdaBoostClassifier's docstring for more details.\n",
      "  estimator = estimator.set_params(**clone(parameters, safe=False))\n",
      "c:\\Users\\nicol\\miniconda3\\envs\\data_env\\Lib\\site-packages\\sklearn\\model_selection\\_validation.py:717: FutureWarning: Parameter 'base_estimator' of AdaBoostClassifier is deprecated in favor of 'estimator'. See AdaBoostClassifier's docstring for more details.\n",
      "  estimator = estimator.set_params(**clone(parameters, safe=False))\n",
      "c:\\Users\\nicol\\miniconda3\\envs\\data_env\\Lib\\site-packages\\sklearn\\model_selection\\_validation.py:717: FutureWarning: Parameter 'base_estimator' of AdaBoostClassifier is deprecated in favor of 'estimator'. See AdaBoostClassifier's docstring for more details.\n",
      "  estimator = estimator.set_params(**clone(parameters, safe=False))\n",
      "c:\\Users\\nicol\\miniconda3\\envs\\data_env\\Lib\\site-packages\\sklearn\\model_selection\\_validation.py:717: FutureWarning: Parameter 'base_estimator' of AdaBoostClassifier is deprecated in favor of 'estimator'. See AdaBoostClassifier's docstring for more details.\n",
      "  estimator = estimator.set_params(**clone(parameters, safe=False))\n",
      "c:\\Users\\nicol\\miniconda3\\envs\\data_env\\Lib\\site-packages\\sklearn\\model_selection\\_validation.py:717: FutureWarning: Parameter 'base_estimator' of AdaBoostClassifier is deprecated in favor of 'estimator'. See AdaBoostClassifier's docstring for more details.\n",
      "  estimator = estimator.set_params(**clone(parameters, safe=False))\n",
      "c:\\Users\\nicol\\miniconda3\\envs\\data_env\\Lib\\site-packages\\sklearn\\model_selection\\_validation.py:717: FutureWarning: Parameter 'base_estimator' of AdaBoostClassifier is deprecated in favor of 'estimator'. See AdaBoostClassifier's docstring for more details.\n",
      "  estimator = estimator.set_params(**clone(parameters, safe=False))\n",
      "c:\\Users\\nicol\\miniconda3\\envs\\data_env\\Lib\\site-packages\\sklearn\\model_selection\\_validation.py:717: FutureWarning: Parameter 'base_estimator' of AdaBoostClassifier is deprecated in favor of 'estimator'. See AdaBoostClassifier's docstring for more details.\n",
      "  estimator = estimator.set_params(**clone(parameters, safe=False))\n",
      "c:\\Users\\nicol\\miniconda3\\envs\\data_env\\Lib\\site-packages\\sklearn\\model_selection\\_validation.py:717: FutureWarning: Parameter 'base_estimator' of AdaBoostClassifier is deprecated in favor of 'estimator'. See AdaBoostClassifier's docstring for more details.\n",
      "  estimator = estimator.set_params(**clone(parameters, safe=False))\n",
      "c:\\Users\\nicol\\miniconda3\\envs\\data_env\\Lib\\site-packages\\sklearn\\model_selection\\_validation.py:717: FutureWarning: Parameter 'base_estimator' of AdaBoostClassifier is deprecated in favor of 'estimator'. See AdaBoostClassifier's docstring for more details.\n",
      "  estimator = estimator.set_params(**clone(parameters, safe=False))\n",
      "c:\\Users\\nicol\\miniconda3\\envs\\data_env\\Lib\\site-packages\\sklearn\\model_selection\\_validation.py:717: FutureWarning: Parameter 'base_estimator' of AdaBoostClassifier is deprecated in favor of 'estimator'. See AdaBoostClassifier's docstring for more details.\n",
      "  estimator = estimator.set_params(**clone(parameters, safe=False))\n",
      "c:\\Users\\nicol\\miniconda3\\envs\\data_env\\Lib\\site-packages\\sklearn\\model_selection\\_validation.py:717: FutureWarning: Parameter 'base_estimator' of AdaBoostClassifier is deprecated in favor of 'estimator'. See AdaBoostClassifier's docstring for more details.\n",
      "  estimator = estimator.set_params(**clone(parameters, safe=False))\n",
      "c:\\Users\\nicol\\miniconda3\\envs\\data_env\\Lib\\site-packages\\sklearn\\model_selection\\_validation.py:717: FutureWarning: Parameter 'base_estimator' of AdaBoostClassifier is deprecated in favor of 'estimator'. See AdaBoostClassifier's docstring for more details.\n",
      "  estimator = estimator.set_params(**clone(parameters, safe=False))\n",
      "c:\\Users\\nicol\\miniconda3\\envs\\data_env\\Lib\\site-packages\\sklearn\\model_selection\\_validation.py:717: FutureWarning: Parameter 'base_estimator' of AdaBoostClassifier is deprecated in favor of 'estimator'. See AdaBoostClassifier's docstring for more details.\n",
      "  estimator = estimator.set_params(**clone(parameters, safe=False))\n",
      "c:\\Users\\nicol\\miniconda3\\envs\\data_env\\Lib\\site-packages\\sklearn\\model_selection\\_validation.py:717: FutureWarning: Parameter 'base_estimator' of AdaBoostClassifier is deprecated in favor of 'estimator'. See AdaBoostClassifier's docstring for more details.\n",
      "  estimator = estimator.set_params(**clone(parameters, safe=False))\n",
      "c:\\Users\\nicol\\miniconda3\\envs\\data_env\\Lib\\site-packages\\sklearn\\model_selection\\_validation.py:717: FutureWarning: Parameter 'base_estimator' of AdaBoostClassifier is deprecated in favor of 'estimator'. See AdaBoostClassifier's docstring for more details.\n",
      "  estimator = estimator.set_params(**clone(parameters, safe=False))\n",
      "c:\\Users\\nicol\\miniconda3\\envs\\data_env\\Lib\\site-packages\\sklearn\\model_selection\\_validation.py:717: FutureWarning: Parameter 'base_estimator' of AdaBoostClassifier is deprecated in favor of 'estimator'. See AdaBoostClassifier's docstring for more details.\n",
      "  estimator = estimator.set_params(**clone(parameters, safe=False))\n",
      "c:\\Users\\nicol\\miniconda3\\envs\\data_env\\Lib\\site-packages\\sklearn\\model_selection\\_validation.py:717: FutureWarning: Parameter 'base_estimator' of AdaBoostClassifier is deprecated in favor of 'estimator'. See AdaBoostClassifier's docstring for more details.\n",
      "  estimator = estimator.set_params(**clone(parameters, safe=False))\n",
      "c:\\Users\\nicol\\miniconda3\\envs\\data_env\\Lib\\site-packages\\sklearn\\model_selection\\_validation.py:717: FutureWarning: Parameter 'base_estimator' of AdaBoostClassifier is deprecated in favor of 'estimator'. See AdaBoostClassifier's docstring for more details.\n",
      "  estimator = estimator.set_params(**clone(parameters, safe=False))\n",
      "c:\\Users\\nicol\\miniconda3\\envs\\data_env\\Lib\\site-packages\\sklearn\\model_selection\\_validation.py:717: FutureWarning: Parameter 'base_estimator' of AdaBoostClassifier is deprecated in favor of 'estimator'. See AdaBoostClassifier's docstring for more details.\n",
      "  estimator = estimator.set_params(**clone(parameters, safe=False))\n",
      "c:\\Users\\nicol\\miniconda3\\envs\\data_env\\Lib\\site-packages\\sklearn\\model_selection\\_validation.py:717: FutureWarning: Parameter 'base_estimator' of AdaBoostClassifier is deprecated in favor of 'estimator'. See AdaBoostClassifier's docstring for more details.\n",
      "  estimator = estimator.set_params(**clone(parameters, safe=False))\n",
      "c:\\Users\\nicol\\miniconda3\\envs\\data_env\\Lib\\site-packages\\sklearn\\model_selection\\_validation.py:717: FutureWarning: Parameter 'base_estimator' of AdaBoostClassifier is deprecated in favor of 'estimator'. See AdaBoostClassifier's docstring for more details.\n",
      "  estimator = estimator.set_params(**clone(parameters, safe=False))\n",
      "c:\\Users\\nicol\\miniconda3\\envs\\data_env\\Lib\\site-packages\\sklearn\\model_selection\\_validation.py:717: FutureWarning: Parameter 'base_estimator' of AdaBoostClassifier is deprecated in favor of 'estimator'. See AdaBoostClassifier's docstring for more details.\n",
      "  estimator = estimator.set_params(**clone(parameters, safe=False))\n",
      "c:\\Users\\nicol\\miniconda3\\envs\\data_env\\Lib\\site-packages\\sklearn\\model_selection\\_validation.py:717: FutureWarning: Parameter 'base_estimator' of AdaBoostClassifier is deprecated in favor of 'estimator'. See AdaBoostClassifier's docstring for more details.\n",
      "  estimator = estimator.set_params(**clone(parameters, safe=False))\n",
      "c:\\Users\\nicol\\miniconda3\\envs\\data_env\\Lib\\site-packages\\sklearn\\model_selection\\_validation.py:717: FutureWarning: Parameter 'base_estimator' of AdaBoostClassifier is deprecated in favor of 'estimator'. See AdaBoostClassifier's docstring for more details.\n",
      "  estimator = estimator.set_params(**clone(parameters, safe=False))\n",
      "c:\\Users\\nicol\\miniconda3\\envs\\data_env\\Lib\\site-packages\\sklearn\\model_selection\\_validation.py:717: FutureWarning: Parameter 'base_estimator' of AdaBoostClassifier is deprecated in favor of 'estimator'. See AdaBoostClassifier's docstring for more details.\n",
      "  estimator = estimator.set_params(**clone(parameters, safe=False))\n",
      "c:\\Users\\nicol\\miniconda3\\envs\\data_env\\Lib\\site-packages\\sklearn\\model_selection\\_validation.py:717: FutureWarning: Parameter 'base_estimator' of AdaBoostClassifier is deprecated in favor of 'estimator'. See AdaBoostClassifier's docstring for more details.\n",
      "  estimator = estimator.set_params(**clone(parameters, safe=False))\n",
      "c:\\Users\\nicol\\miniconda3\\envs\\data_env\\Lib\\site-packages\\sklearn\\model_selection\\_validation.py:717: FutureWarning: Parameter 'base_estimator' of AdaBoostClassifier is deprecated in favor of 'estimator'. See AdaBoostClassifier's docstring for more details.\n",
      "  estimator = estimator.set_params(**clone(parameters, safe=False))\n",
      "c:\\Users\\nicol\\miniconda3\\envs\\data_env\\Lib\\site-packages\\sklearn\\model_selection\\_validation.py:717: FutureWarning: Parameter 'base_estimator' of AdaBoostClassifier is deprecated in favor of 'estimator'. See AdaBoostClassifier's docstring for more details.\n",
      "  estimator = estimator.set_params(**clone(parameters, safe=False))\n",
      "c:\\Users\\nicol\\miniconda3\\envs\\data_env\\Lib\\site-packages\\sklearn\\model_selection\\_validation.py:717: FutureWarning: Parameter 'base_estimator' of AdaBoostClassifier is deprecated in favor of 'estimator'. See AdaBoostClassifier's docstring for more details.\n",
      "  estimator = estimator.set_params(**clone(parameters, safe=False))\n",
      "c:\\Users\\nicol\\miniconda3\\envs\\data_env\\Lib\\site-packages\\sklearn\\model_selection\\_validation.py:717: FutureWarning: Parameter 'base_estimator' of AdaBoostClassifier is deprecated in favor of 'estimator'. See AdaBoostClassifier's docstring for more details.\n",
      "  estimator = estimator.set_params(**clone(parameters, safe=False))\n",
      "c:\\Users\\nicol\\miniconda3\\envs\\data_env\\Lib\\site-packages\\sklearn\\model_selection\\_validation.py:717: FutureWarning: Parameter 'base_estimator' of AdaBoostClassifier is deprecated in favor of 'estimator'. See AdaBoostClassifier's docstring for more details.\n",
      "  estimator = estimator.set_params(**clone(parameters, safe=False))\n",
      "c:\\Users\\nicol\\miniconda3\\envs\\data_env\\Lib\\site-packages\\sklearn\\model_selection\\_validation.py:717: FutureWarning: Parameter 'base_estimator' of AdaBoostClassifier is deprecated in favor of 'estimator'. See AdaBoostClassifier's docstring for more details.\n",
      "  estimator = estimator.set_params(**clone(parameters, safe=False))\n",
      "c:\\Users\\nicol\\miniconda3\\envs\\data_env\\Lib\\site-packages\\sklearn\\model_selection\\_validation.py:717: FutureWarning: Parameter 'base_estimator' of AdaBoostClassifier is deprecated in favor of 'estimator'. See AdaBoostClassifier's docstring for more details.\n",
      "  estimator = estimator.set_params(**clone(parameters, safe=False))\n",
      "c:\\Users\\nicol\\miniconda3\\envs\\data_env\\Lib\\site-packages\\sklearn\\model_selection\\_validation.py:717: FutureWarning: Parameter 'base_estimator' of AdaBoostClassifier is deprecated in favor of 'estimator'. See AdaBoostClassifier's docstring for more details.\n",
      "  estimator = estimator.set_params(**clone(parameters, safe=False))\n",
      "c:\\Users\\nicol\\miniconda3\\envs\\data_env\\Lib\\site-packages\\sklearn\\model_selection\\_validation.py:717: FutureWarning: Parameter 'base_estimator' of AdaBoostClassifier is deprecated in favor of 'estimator'. See AdaBoostClassifier's docstring for more details.\n",
      "  estimator = estimator.set_params(**clone(parameters, safe=False))\n",
      "c:\\Users\\nicol\\miniconda3\\envs\\data_env\\Lib\\site-packages\\sklearn\\model_selection\\_validation.py:717: FutureWarning: Parameter 'base_estimator' of AdaBoostClassifier is deprecated in favor of 'estimator'. See AdaBoostClassifier's docstring for more details.\n",
      "  estimator = estimator.set_params(**clone(parameters, safe=False))\n",
      "c:\\Users\\nicol\\miniconda3\\envs\\data_env\\Lib\\site-packages\\sklearn\\model_selection\\_validation.py:717: FutureWarning: Parameter 'base_estimator' of AdaBoostClassifier is deprecated in favor of 'estimator'. See AdaBoostClassifier's docstring for more details.\n",
      "  estimator = estimator.set_params(**clone(parameters, safe=False))\n",
      "c:\\Users\\nicol\\miniconda3\\envs\\data_env\\Lib\\site-packages\\sklearn\\model_selection\\_validation.py:717: FutureWarning: Parameter 'base_estimator' of AdaBoostClassifier is deprecated in favor of 'estimator'. See AdaBoostClassifier's docstring for more details.\n",
      "  estimator = estimator.set_params(**clone(parameters, safe=False))\n",
      "c:\\Users\\nicol\\miniconda3\\envs\\data_env\\Lib\\site-packages\\sklearn\\model_selection\\_validation.py:717: FutureWarning: Parameter 'base_estimator' of AdaBoostClassifier is deprecated in favor of 'estimator'. See AdaBoostClassifier's docstring for more details.\n",
      "  estimator = estimator.set_params(**clone(parameters, safe=False))\n",
      "c:\\Users\\nicol\\miniconda3\\envs\\data_env\\Lib\\site-packages\\sklearn\\model_selection\\_validation.py:717: FutureWarning: Parameter 'base_estimator' of AdaBoostClassifier is deprecated in favor of 'estimator'. See AdaBoostClassifier's docstring for more details.\n",
      "  estimator = estimator.set_params(**clone(parameters, safe=False))\n",
      "c:\\Users\\nicol\\miniconda3\\envs\\data_env\\Lib\\site-packages\\sklearn\\model_selection\\_validation.py:717: FutureWarning: Parameter 'base_estimator' of AdaBoostClassifier is deprecated in favor of 'estimator'. See AdaBoostClassifier's docstring for more details.\n",
      "  estimator = estimator.set_params(**clone(parameters, safe=False))\n",
      "c:\\Users\\nicol\\miniconda3\\envs\\data_env\\Lib\\site-packages\\sklearn\\model_selection\\_validation.py:717: FutureWarning: Parameter 'base_estimator' of AdaBoostClassifier is deprecated in favor of 'estimator'. See AdaBoostClassifier's docstring for more details.\n",
      "  estimator = estimator.set_params(**clone(parameters, safe=False))\n",
      "c:\\Users\\nicol\\miniconda3\\envs\\data_env\\Lib\\site-packages\\sklearn\\model_selection\\_validation.py:717: FutureWarning: Parameter 'base_estimator' of AdaBoostClassifier is deprecated in favor of 'estimator'. See AdaBoostClassifier's docstring for more details.\n",
      "  estimator = estimator.set_params(**clone(parameters, safe=False))\n",
      "c:\\Users\\nicol\\miniconda3\\envs\\data_env\\Lib\\site-packages\\sklearn\\model_selection\\_validation.py:717: FutureWarning: Parameter 'base_estimator' of AdaBoostClassifier is deprecated in favor of 'estimator'. See AdaBoostClassifier's docstring for more details.\n",
      "  estimator = estimator.set_params(**clone(parameters, safe=False))\n",
      "c:\\Users\\nicol\\miniconda3\\envs\\data_env\\Lib\\site-packages\\sklearn\\model_selection\\_validation.py:717: FutureWarning: Parameter 'base_estimator' of AdaBoostClassifier is deprecated in favor of 'estimator'. See AdaBoostClassifier's docstring for more details.\n",
      "  estimator = estimator.set_params(**clone(parameters, safe=False))\n",
      "c:\\Users\\nicol\\miniconda3\\envs\\data_env\\Lib\\site-packages\\sklearn\\model_selection\\_validation.py:717: FutureWarning: Parameter 'base_estimator' of AdaBoostClassifier is deprecated in favor of 'estimator'. See AdaBoostClassifier's docstring for more details.\n",
      "  estimator = estimator.set_params(**clone(parameters, safe=False))\n",
      "c:\\Users\\nicol\\miniconda3\\envs\\data_env\\Lib\\site-packages\\sklearn\\model_selection\\_validation.py:717: FutureWarning: Parameter 'base_estimator' of AdaBoostClassifier is deprecated in favor of 'estimator'. See AdaBoostClassifier's docstring for more details.\n",
      "  estimator = estimator.set_params(**clone(parameters, safe=False))\n",
      "c:\\Users\\nicol\\miniconda3\\envs\\data_env\\Lib\\site-packages\\sklearn\\model_selection\\_validation.py:717: FutureWarning: Parameter 'base_estimator' of AdaBoostClassifier is deprecated in favor of 'estimator'. See AdaBoostClassifier's docstring for more details.\n",
      "  estimator = estimator.set_params(**clone(parameters, safe=False))\n",
      "c:\\Users\\nicol\\miniconda3\\envs\\data_env\\Lib\\site-packages\\sklearn\\model_selection\\_validation.py:717: FutureWarning: Parameter 'base_estimator' of AdaBoostClassifier is deprecated in favor of 'estimator'. See AdaBoostClassifier's docstring for more details.\n",
      "  estimator = estimator.set_params(**clone(parameters, safe=False))\n",
      "c:\\Users\\nicol\\miniconda3\\envs\\data_env\\Lib\\site-packages\\sklearn\\model_selection\\_validation.py:717: FutureWarning: Parameter 'base_estimator' of AdaBoostClassifier is deprecated in favor of 'estimator'. See AdaBoostClassifier's docstring for more details.\n",
      "  estimator = estimator.set_params(**clone(parameters, safe=False))\n",
      "c:\\Users\\nicol\\miniconda3\\envs\\data_env\\Lib\\site-packages\\sklearn\\model_selection\\_validation.py:717: FutureWarning: Parameter 'base_estimator' of AdaBoostClassifier is deprecated in favor of 'estimator'. See AdaBoostClassifier's docstring for more details.\n",
      "  estimator = estimator.set_params(**clone(parameters, safe=False))\n",
      "c:\\Users\\nicol\\miniconda3\\envs\\data_env\\Lib\\site-packages\\sklearn\\model_selection\\_validation.py:717: FutureWarning: Parameter 'base_estimator' of AdaBoostClassifier is deprecated in favor of 'estimator'. See AdaBoostClassifier's docstring for more details.\n",
      "  estimator = estimator.set_params(**clone(parameters, safe=False))\n",
      "c:\\Users\\nicol\\miniconda3\\envs\\data_env\\Lib\\site-packages\\sklearn\\model_selection\\_validation.py:717: FutureWarning: Parameter 'base_estimator' of AdaBoostClassifier is deprecated in favor of 'estimator'. See AdaBoostClassifier's docstring for more details.\n",
      "  estimator = estimator.set_params(**clone(parameters, safe=False))\n",
      "c:\\Users\\nicol\\miniconda3\\envs\\data_env\\Lib\\site-packages\\sklearn\\model_selection\\_validation.py:717: FutureWarning: Parameter 'base_estimator' of AdaBoostClassifier is deprecated in favor of 'estimator'. See AdaBoostClassifier's docstring for more details.\n",
      "  estimator = estimator.set_params(**clone(parameters, safe=False))\n",
      "c:\\Users\\nicol\\miniconda3\\envs\\data_env\\Lib\\site-packages\\sklearn\\model_selection\\_validation.py:717: FutureWarning: Parameter 'base_estimator' of AdaBoostClassifier is deprecated in favor of 'estimator'. See AdaBoostClassifier's docstring for more details.\n",
      "  estimator = estimator.set_params(**clone(parameters, safe=False))\n",
      "c:\\Users\\nicol\\miniconda3\\envs\\data_env\\Lib\\site-packages\\sklearn\\model_selection\\_validation.py:717: FutureWarning: Parameter 'base_estimator' of AdaBoostClassifier is deprecated in favor of 'estimator'. See AdaBoostClassifier's docstring for more details.\n",
      "  estimator = estimator.set_params(**clone(parameters, safe=False))\n",
      "c:\\Users\\nicol\\miniconda3\\envs\\data_env\\Lib\\site-packages\\sklearn\\model_selection\\_validation.py:717: FutureWarning: Parameter 'base_estimator' of AdaBoostClassifier is deprecated in favor of 'estimator'. See AdaBoostClassifier's docstring for more details.\n",
      "  estimator = estimator.set_params(**clone(parameters, safe=False))\n",
      "c:\\Users\\nicol\\miniconda3\\envs\\data_env\\Lib\\site-packages\\sklearn\\model_selection\\_validation.py:717: FutureWarning: Parameter 'base_estimator' of AdaBoostClassifier is deprecated in favor of 'estimator'. See AdaBoostClassifier's docstring for more details.\n",
      "  estimator = estimator.set_params(**clone(parameters, safe=False))\n",
      "c:\\Users\\nicol\\miniconda3\\envs\\data_env\\Lib\\site-packages\\sklearn\\model_selection\\_validation.py:717: FutureWarning: Parameter 'base_estimator' of AdaBoostClassifier is deprecated in favor of 'estimator'. See AdaBoostClassifier's docstring for more details.\n",
      "  estimator = estimator.set_params(**clone(parameters, safe=False))\n",
      "c:\\Users\\nicol\\miniconda3\\envs\\data_env\\Lib\\site-packages\\sklearn\\model_selection\\_validation.py:717: FutureWarning: Parameter 'base_estimator' of AdaBoostClassifier is deprecated in favor of 'estimator'. See AdaBoostClassifier's docstring for more details.\n",
      "  estimator = estimator.set_params(**clone(parameters, safe=False))\n",
      "c:\\Users\\nicol\\miniconda3\\envs\\data_env\\Lib\\site-packages\\sklearn\\model_selection\\_validation.py:717: FutureWarning: Parameter 'base_estimator' of AdaBoostClassifier is deprecated in favor of 'estimator'. See AdaBoostClassifier's docstring for more details.\n",
      "  estimator = estimator.set_params(**clone(parameters, safe=False))\n",
      "c:\\Users\\nicol\\miniconda3\\envs\\data_env\\Lib\\site-packages\\sklearn\\model_selection\\_validation.py:717: FutureWarning: Parameter 'base_estimator' of AdaBoostClassifier is deprecated in favor of 'estimator'. See AdaBoostClassifier's docstring for more details.\n",
      "  estimator = estimator.set_params(**clone(parameters, safe=False))\n",
      "c:\\Users\\nicol\\miniconda3\\envs\\data_env\\Lib\\site-packages\\sklearn\\model_selection\\_validation.py:717: FutureWarning: Parameter 'base_estimator' of AdaBoostClassifier is deprecated in favor of 'estimator'. See AdaBoostClassifier's docstring for more details.\n",
      "  estimator = estimator.set_params(**clone(parameters, safe=False))\n",
      "c:\\Users\\nicol\\miniconda3\\envs\\data_env\\Lib\\site-packages\\sklearn\\model_selection\\_validation.py:717: FutureWarning: Parameter 'base_estimator' of AdaBoostClassifier is deprecated in favor of 'estimator'. See AdaBoostClassifier's docstring for more details.\n",
      "  estimator = estimator.set_params(**clone(parameters, safe=False))\n",
      "c:\\Users\\nicol\\miniconda3\\envs\\data_env\\Lib\\site-packages\\sklearn\\model_selection\\_validation.py:717: FutureWarning: Parameter 'base_estimator' of AdaBoostClassifier is deprecated in favor of 'estimator'. See AdaBoostClassifier's docstring for more details.\n",
      "  estimator = estimator.set_params(**clone(parameters, safe=False))\n",
      "c:\\Users\\nicol\\miniconda3\\envs\\data_env\\Lib\\site-packages\\sklearn\\model_selection\\_validation.py:717: FutureWarning: Parameter 'base_estimator' of AdaBoostClassifier is deprecated in favor of 'estimator'. See AdaBoostClassifier's docstring for more details.\n",
      "  estimator = estimator.set_params(**clone(parameters, safe=False))\n",
      "c:\\Users\\nicol\\miniconda3\\envs\\data_env\\Lib\\site-packages\\sklearn\\model_selection\\_validation.py:717: FutureWarning: Parameter 'base_estimator' of AdaBoostClassifier is deprecated in favor of 'estimator'. See AdaBoostClassifier's docstring for more details.\n",
      "  estimator = estimator.set_params(**clone(parameters, safe=False))\n",
      "c:\\Users\\nicol\\miniconda3\\envs\\data_env\\Lib\\site-packages\\sklearn\\model_selection\\_validation.py:717: FutureWarning: Parameter 'base_estimator' of AdaBoostClassifier is deprecated in favor of 'estimator'. See AdaBoostClassifier's docstring for more details.\n",
      "  estimator = estimator.set_params(**clone(parameters, safe=False))\n",
      "c:\\Users\\nicol\\miniconda3\\envs\\data_env\\Lib\\site-packages\\sklearn\\model_selection\\_validation.py:717: FutureWarning: Parameter 'base_estimator' of AdaBoostClassifier is deprecated in favor of 'estimator'. See AdaBoostClassifier's docstring for more details.\n",
      "  estimator = estimator.set_params(**clone(parameters, safe=False))\n",
      "c:\\Users\\nicol\\miniconda3\\envs\\data_env\\Lib\\site-packages\\sklearn\\model_selection\\_validation.py:717: FutureWarning: Parameter 'base_estimator' of AdaBoostClassifier is deprecated in favor of 'estimator'. See AdaBoostClassifier's docstring for more details.\n",
      "  estimator = estimator.set_params(**clone(parameters, safe=False))\n",
      "c:\\Users\\nicol\\miniconda3\\envs\\data_env\\Lib\\site-packages\\sklearn\\model_selection\\_validation.py:717: FutureWarning: Parameter 'base_estimator' of AdaBoostClassifier is deprecated in favor of 'estimator'. See AdaBoostClassifier's docstring for more details.\n",
      "  estimator = estimator.set_params(**clone(parameters, safe=False))\n",
      "c:\\Users\\nicol\\miniconda3\\envs\\data_env\\Lib\\site-packages\\sklearn\\model_selection\\_validation.py:717: FutureWarning: Parameter 'base_estimator' of AdaBoostClassifier is deprecated in favor of 'estimator'. See AdaBoostClassifier's docstring for more details.\n",
      "  estimator = estimator.set_params(**clone(parameters, safe=False))\n",
      "c:\\Users\\nicol\\miniconda3\\envs\\data_env\\Lib\\site-packages\\sklearn\\model_selection\\_validation.py:717: FutureWarning: Parameter 'base_estimator' of AdaBoostClassifier is deprecated in favor of 'estimator'. See AdaBoostClassifier's docstring for more details.\n",
      "  estimator = estimator.set_params(**clone(parameters, safe=False))\n",
      "c:\\Users\\nicol\\miniconda3\\envs\\data_env\\Lib\\site-packages\\sklearn\\model_selection\\_validation.py:717: FutureWarning: Parameter 'base_estimator' of AdaBoostClassifier is deprecated in favor of 'estimator'. See AdaBoostClassifier's docstring for more details.\n",
      "  estimator = estimator.set_params(**clone(parameters, safe=False))\n",
      "c:\\Users\\nicol\\miniconda3\\envs\\data_env\\Lib\\site-packages\\sklearn\\model_selection\\_validation.py:717: FutureWarning: Parameter 'base_estimator' of AdaBoostClassifier is deprecated in favor of 'estimator'. See AdaBoostClassifier's docstring for more details.\n",
      "  estimator = estimator.set_params(**clone(parameters, safe=False))\n",
      "c:\\Users\\nicol\\miniconda3\\envs\\data_env\\Lib\\site-packages\\sklearn\\model_selection\\_validation.py:717: FutureWarning: Parameter 'base_estimator' of AdaBoostClassifier is deprecated in favor of 'estimator'. See AdaBoostClassifier's docstring for more details.\n",
      "  estimator = estimator.set_params(**clone(parameters, safe=False))\n",
      "c:\\Users\\nicol\\miniconda3\\envs\\data_env\\Lib\\site-packages\\sklearn\\model_selection\\_validation.py:717: FutureWarning: Parameter 'base_estimator' of AdaBoostClassifier is deprecated in favor of 'estimator'. See AdaBoostClassifier's docstring for more details.\n",
      "  estimator = estimator.set_params(**clone(parameters, safe=False))\n",
      "c:\\Users\\nicol\\miniconda3\\envs\\data_env\\Lib\\site-packages\\sklearn\\model_selection\\_validation.py:717: FutureWarning: Parameter 'base_estimator' of AdaBoostClassifier is deprecated in favor of 'estimator'. See AdaBoostClassifier's docstring for more details.\n",
      "  estimator = estimator.set_params(**clone(parameters, safe=False))\n",
      "c:\\Users\\nicol\\miniconda3\\envs\\data_env\\Lib\\site-packages\\sklearn\\model_selection\\_validation.py:717: FutureWarning: Parameter 'base_estimator' of AdaBoostClassifier is deprecated in favor of 'estimator'. See AdaBoostClassifier's docstring for more details.\n",
      "  estimator = estimator.set_params(**clone(parameters, safe=False))\n",
      "c:\\Users\\nicol\\miniconda3\\envs\\data_env\\Lib\\site-packages\\sklearn\\model_selection\\_validation.py:717: FutureWarning: Parameter 'base_estimator' of AdaBoostClassifier is deprecated in favor of 'estimator'. See AdaBoostClassifier's docstring for more details.\n",
      "  estimator = estimator.set_params(**clone(parameters, safe=False))\n",
      "c:\\Users\\nicol\\miniconda3\\envs\\data_env\\Lib\\site-packages\\sklearn\\model_selection\\_validation.py:717: FutureWarning: Parameter 'base_estimator' of AdaBoostClassifier is deprecated in favor of 'estimator'. See AdaBoostClassifier's docstring for more details.\n",
      "  estimator = estimator.set_params(**clone(parameters, safe=False))\n",
      "c:\\Users\\nicol\\miniconda3\\envs\\data_env\\Lib\\site-packages\\sklearn\\model_selection\\_validation.py:717: FutureWarning: Parameter 'base_estimator' of AdaBoostClassifier is deprecated in favor of 'estimator'. See AdaBoostClassifier's docstring for more details.\n",
      "  estimator = estimator.set_params(**clone(parameters, safe=False))\n",
      "c:\\Users\\nicol\\miniconda3\\envs\\data_env\\Lib\\site-packages\\sklearn\\model_selection\\_validation.py:717: FutureWarning: Parameter 'base_estimator' of AdaBoostClassifier is deprecated in favor of 'estimator'. See AdaBoostClassifier's docstring for more details.\n",
      "  estimator = estimator.set_params(**clone(parameters, safe=False))\n",
      "c:\\Users\\nicol\\miniconda3\\envs\\data_env\\Lib\\site-packages\\sklearn\\model_selection\\_validation.py:717: FutureWarning: Parameter 'base_estimator' of AdaBoostClassifier is deprecated in favor of 'estimator'. See AdaBoostClassifier's docstring for more details.\n",
      "  estimator = estimator.set_params(**clone(parameters, safe=False))\n",
      "c:\\Users\\nicol\\miniconda3\\envs\\data_env\\Lib\\site-packages\\sklearn\\model_selection\\_validation.py:717: FutureWarning: Parameter 'base_estimator' of AdaBoostClassifier is deprecated in favor of 'estimator'. See AdaBoostClassifier's docstring for more details.\n",
      "  estimator = estimator.set_params(**clone(parameters, safe=False))\n",
      "c:\\Users\\nicol\\miniconda3\\envs\\data_env\\Lib\\site-packages\\sklearn\\model_selection\\_validation.py:717: FutureWarning: Parameter 'base_estimator' of AdaBoostClassifier is deprecated in favor of 'estimator'. See AdaBoostClassifier's docstring for more details.\n",
      "  estimator = estimator.set_params(**clone(parameters, safe=False))\n",
      "c:\\Users\\nicol\\miniconda3\\envs\\data_env\\Lib\\site-packages\\sklearn\\model_selection\\_validation.py:717: FutureWarning: Parameter 'base_estimator' of AdaBoostClassifier is deprecated in favor of 'estimator'. See AdaBoostClassifier's docstring for more details.\n",
      "  estimator = estimator.set_params(**clone(parameters, safe=False))\n",
      "c:\\Users\\nicol\\miniconda3\\envs\\data_env\\Lib\\site-packages\\sklearn\\model_selection\\_validation.py:717: FutureWarning: Parameter 'base_estimator' of AdaBoostClassifier is deprecated in favor of 'estimator'. See AdaBoostClassifier's docstring for more details.\n",
      "  estimator = estimator.set_params(**clone(parameters, safe=False))\n",
      "c:\\Users\\nicol\\miniconda3\\envs\\data_env\\Lib\\site-packages\\sklearn\\model_selection\\_validation.py:717: FutureWarning: Parameter 'base_estimator' of AdaBoostClassifier is deprecated in favor of 'estimator'. See AdaBoostClassifier's docstring for more details.\n",
      "  estimator = estimator.set_params(**clone(parameters, safe=False))\n",
      "c:\\Users\\nicol\\miniconda3\\envs\\data_env\\Lib\\site-packages\\sklearn\\model_selection\\_validation.py:717: FutureWarning: Parameter 'base_estimator' of AdaBoostClassifier is deprecated in favor of 'estimator'. See AdaBoostClassifier's docstring for more details.\n",
      "  estimator = estimator.set_params(**clone(parameters, safe=False))\n",
      "c:\\Users\\nicol\\miniconda3\\envs\\data_env\\Lib\\site-packages\\sklearn\\model_selection\\_validation.py:717: FutureWarning: Parameter 'base_estimator' of AdaBoostClassifier is deprecated in favor of 'estimator'. See AdaBoostClassifier's docstring for more details.\n",
      "  estimator = estimator.set_params(**clone(parameters, safe=False))\n",
      "c:\\Users\\nicol\\miniconda3\\envs\\data_env\\Lib\\site-packages\\sklearn\\model_selection\\_validation.py:717: FutureWarning: Parameter 'base_estimator' of AdaBoostClassifier is deprecated in favor of 'estimator'. See AdaBoostClassifier's docstring for more details.\n",
      "  estimator = estimator.set_params(**clone(parameters, safe=False))\n",
      "c:\\Users\\nicol\\miniconda3\\envs\\data_env\\Lib\\site-packages\\sklearn\\model_selection\\_validation.py:717: FutureWarning: Parameter 'base_estimator' of AdaBoostClassifier is deprecated in favor of 'estimator'. See AdaBoostClassifier's docstring for more details.\n",
      "  estimator = estimator.set_params(**clone(parameters, safe=False))\n",
      "c:\\Users\\nicol\\miniconda3\\envs\\data_env\\Lib\\site-packages\\sklearn\\model_selection\\_validation.py:717: FutureWarning: Parameter 'base_estimator' of AdaBoostClassifier is deprecated in favor of 'estimator'. See AdaBoostClassifier's docstring for more details.\n",
      "  estimator = estimator.set_params(**clone(parameters, safe=False))\n",
      "c:\\Users\\nicol\\miniconda3\\envs\\data_env\\Lib\\site-packages\\sklearn\\model_selection\\_validation.py:717: FutureWarning: Parameter 'base_estimator' of AdaBoostClassifier is deprecated in favor of 'estimator'. See AdaBoostClassifier's docstring for more details.\n",
      "  estimator = estimator.set_params(**clone(parameters, safe=False))\n",
      "c:\\Users\\nicol\\miniconda3\\envs\\data_env\\Lib\\site-packages\\sklearn\\model_selection\\_validation.py:717: FutureWarning: Parameter 'base_estimator' of AdaBoostClassifier is deprecated in favor of 'estimator'. See AdaBoostClassifier's docstring for more details.\n",
      "  estimator = estimator.set_params(**clone(parameters, safe=False))\n",
      "c:\\Users\\nicol\\miniconda3\\envs\\data_env\\Lib\\site-packages\\sklearn\\model_selection\\_validation.py:717: FutureWarning: Parameter 'base_estimator' of AdaBoostClassifier is deprecated in favor of 'estimator'. See AdaBoostClassifier's docstring for more details.\n",
      "  estimator = estimator.set_params(**clone(parameters, safe=False))\n",
      "c:\\Users\\nicol\\miniconda3\\envs\\data_env\\Lib\\site-packages\\sklearn\\model_selection\\_validation.py:717: FutureWarning: Parameter 'base_estimator' of AdaBoostClassifier is deprecated in favor of 'estimator'. See AdaBoostClassifier's docstring for more details.\n",
      "  estimator = estimator.set_params(**clone(parameters, safe=False))\n",
      "c:\\Users\\nicol\\miniconda3\\envs\\data_env\\Lib\\site-packages\\sklearn\\model_selection\\_validation.py:717: FutureWarning: Parameter 'base_estimator' of AdaBoostClassifier is deprecated in favor of 'estimator'. See AdaBoostClassifier's docstring for more details.\n",
      "  estimator = estimator.set_params(**clone(parameters, safe=False))\n",
      "c:\\Users\\nicol\\miniconda3\\envs\\data_env\\Lib\\site-packages\\sklearn\\model_selection\\_validation.py:717: FutureWarning: Parameter 'base_estimator' of AdaBoostClassifier is deprecated in favor of 'estimator'. See AdaBoostClassifier's docstring for more details.\n",
      "  estimator = estimator.set_params(**clone(parameters, safe=False))\n",
      "c:\\Users\\nicol\\miniconda3\\envs\\data_env\\Lib\\site-packages\\sklearn\\model_selection\\_validation.py:717: FutureWarning: Parameter 'base_estimator' of AdaBoostClassifier is deprecated in favor of 'estimator'. See AdaBoostClassifier's docstring for more details.\n",
      "  estimator = estimator.set_params(**clone(parameters, safe=False))\n",
      "c:\\Users\\nicol\\miniconda3\\envs\\data_env\\Lib\\site-packages\\sklearn\\model_selection\\_validation.py:717: FutureWarning: Parameter 'base_estimator' of AdaBoostClassifier is deprecated in favor of 'estimator'. See AdaBoostClassifier's docstring for more details.\n",
      "  estimator = estimator.set_params(**clone(parameters, safe=False))\n",
      "c:\\Users\\nicol\\miniconda3\\envs\\data_env\\Lib\\site-packages\\sklearn\\model_selection\\_validation.py:717: FutureWarning: Parameter 'base_estimator' of AdaBoostClassifier is deprecated in favor of 'estimator'. See AdaBoostClassifier's docstring for more details.\n",
      "  estimator = estimator.set_params(**clone(parameters, safe=False))\n",
      "c:\\Users\\nicol\\miniconda3\\envs\\data_env\\Lib\\site-packages\\sklearn\\model_selection\\_validation.py:717: FutureWarning: Parameter 'base_estimator' of AdaBoostClassifier is deprecated in favor of 'estimator'. See AdaBoostClassifier's docstring for more details.\n",
      "  estimator = estimator.set_params(**clone(parameters, safe=False))\n",
      "c:\\Users\\nicol\\miniconda3\\envs\\data_env\\Lib\\site-packages\\sklearn\\model_selection\\_validation.py:717: FutureWarning: Parameter 'base_estimator' of AdaBoostClassifier is deprecated in favor of 'estimator'. See AdaBoostClassifier's docstring for more details.\n",
      "  estimator = estimator.set_params(**clone(parameters, safe=False))\n",
      "c:\\Users\\nicol\\miniconda3\\envs\\data_env\\Lib\\site-packages\\sklearn\\model_selection\\_validation.py:717: FutureWarning: Parameter 'base_estimator' of AdaBoostClassifier is deprecated in favor of 'estimator'. See AdaBoostClassifier's docstring for more details.\n",
      "  estimator = estimator.set_params(**clone(parameters, safe=False))\n",
      "c:\\Users\\nicol\\miniconda3\\envs\\data_env\\Lib\\site-packages\\sklearn\\model_selection\\_validation.py:717: FutureWarning: Parameter 'base_estimator' of AdaBoostClassifier is deprecated in favor of 'estimator'. See AdaBoostClassifier's docstring for more details.\n",
      "  estimator = estimator.set_params(**clone(parameters, safe=False))\n",
      "c:\\Users\\nicol\\miniconda3\\envs\\data_env\\Lib\\site-packages\\sklearn\\model_selection\\_validation.py:717: FutureWarning: Parameter 'base_estimator' of AdaBoostClassifier is deprecated in favor of 'estimator'. See AdaBoostClassifier's docstring for more details.\n",
      "  estimator = estimator.set_params(**clone(parameters, safe=False))\n",
      "c:\\Users\\nicol\\miniconda3\\envs\\data_env\\Lib\\site-packages\\sklearn\\model_selection\\_validation.py:717: FutureWarning: Parameter 'base_estimator' of AdaBoostClassifier is deprecated in favor of 'estimator'. See AdaBoostClassifier's docstring for more details.\n",
      "  estimator = estimator.set_params(**clone(parameters, safe=False))\n",
      "c:\\Users\\nicol\\miniconda3\\envs\\data_env\\Lib\\site-packages\\sklearn\\model_selection\\_validation.py:717: FutureWarning: Parameter 'base_estimator' of AdaBoostClassifier is deprecated in favor of 'estimator'. See AdaBoostClassifier's docstring for more details.\n",
      "  estimator = estimator.set_params(**clone(parameters, safe=False))\n",
      "c:\\Users\\nicol\\miniconda3\\envs\\data_env\\Lib\\site-packages\\sklearn\\model_selection\\_validation.py:717: FutureWarning: Parameter 'base_estimator' of AdaBoostClassifier is deprecated in favor of 'estimator'. See AdaBoostClassifier's docstring for more details.\n",
      "  estimator = estimator.set_params(**clone(parameters, safe=False))\n",
      "c:\\Users\\nicol\\miniconda3\\envs\\data_env\\Lib\\site-packages\\sklearn\\model_selection\\_validation.py:717: FutureWarning: Parameter 'base_estimator' of AdaBoostClassifier is deprecated in favor of 'estimator'. See AdaBoostClassifier's docstring for more details.\n",
      "  estimator = estimator.set_params(**clone(parameters, safe=False))\n",
      "c:\\Users\\nicol\\miniconda3\\envs\\data_env\\Lib\\site-packages\\sklearn\\model_selection\\_validation.py:717: FutureWarning: Parameter 'base_estimator' of AdaBoostClassifier is deprecated in favor of 'estimator'. See AdaBoostClassifier's docstring for more details.\n",
      "  estimator = estimator.set_params(**clone(parameters, safe=False))\n",
      "c:\\Users\\nicol\\miniconda3\\envs\\data_env\\Lib\\site-packages\\sklearn\\model_selection\\_validation.py:717: FutureWarning: Parameter 'base_estimator' of AdaBoostClassifier is deprecated in favor of 'estimator'. See AdaBoostClassifier's docstring for more details.\n",
      "  estimator = estimator.set_params(**clone(parameters, safe=False))\n",
      "c:\\Users\\nicol\\miniconda3\\envs\\data_env\\Lib\\site-packages\\sklearn\\model_selection\\_validation.py:717: FutureWarning: Parameter 'base_estimator' of AdaBoostClassifier is deprecated in favor of 'estimator'. See AdaBoostClassifier's docstring for more details.\n",
      "  estimator = estimator.set_params(**clone(parameters, safe=False))\n",
      "c:\\Users\\nicol\\miniconda3\\envs\\data_env\\Lib\\site-packages\\sklearn\\model_selection\\_validation.py:717: FutureWarning: Parameter 'base_estimator' of AdaBoostClassifier is deprecated in favor of 'estimator'. See AdaBoostClassifier's docstring for more details.\n",
      "  estimator = estimator.set_params(**clone(parameters, safe=False))\n",
      "c:\\Users\\nicol\\miniconda3\\envs\\data_env\\Lib\\site-packages\\sklearn\\model_selection\\_validation.py:717: FutureWarning: Parameter 'base_estimator' of AdaBoostClassifier is deprecated in favor of 'estimator'. See AdaBoostClassifier's docstring for more details.\n",
      "  estimator = estimator.set_params(**clone(parameters, safe=False))\n",
      "c:\\Users\\nicol\\miniconda3\\envs\\data_env\\Lib\\site-packages\\sklearn\\model_selection\\_validation.py:717: FutureWarning: Parameter 'base_estimator' of AdaBoostClassifier is deprecated in favor of 'estimator'. See AdaBoostClassifier's docstring for more details.\n",
      "  estimator = estimator.set_params(**clone(parameters, safe=False))\n",
      "c:\\Users\\nicol\\miniconda3\\envs\\data_env\\Lib\\site-packages\\sklearn\\model_selection\\_validation.py:717: FutureWarning: Parameter 'base_estimator' of AdaBoostClassifier is deprecated in favor of 'estimator'. See AdaBoostClassifier's docstring for more details.\n",
      "  estimator = estimator.set_params(**clone(parameters, safe=False))\n",
      "c:\\Users\\nicol\\miniconda3\\envs\\data_env\\Lib\\site-packages\\sklearn\\model_selection\\_validation.py:717: FutureWarning: Parameter 'base_estimator' of AdaBoostClassifier is deprecated in favor of 'estimator'. See AdaBoostClassifier's docstring for more details.\n",
      "  estimator = estimator.set_params(**clone(parameters, safe=False))\n",
      "c:\\Users\\nicol\\miniconda3\\envs\\data_env\\Lib\\site-packages\\sklearn\\model_selection\\_validation.py:717: FutureWarning: Parameter 'base_estimator' of AdaBoostClassifier is deprecated in favor of 'estimator'. See AdaBoostClassifier's docstring for more details.\n",
      "  estimator = estimator.set_params(**clone(parameters, safe=False))\n",
      "c:\\Users\\nicol\\miniconda3\\envs\\data_env\\Lib\\site-packages\\sklearn\\model_selection\\_validation.py:717: FutureWarning: Parameter 'base_estimator' of AdaBoostClassifier is deprecated in favor of 'estimator'. See AdaBoostClassifier's docstring for more details.\n",
      "  estimator = estimator.set_params(**clone(parameters, safe=False))\n",
      "c:\\Users\\nicol\\miniconda3\\envs\\data_env\\Lib\\site-packages\\sklearn\\model_selection\\_validation.py:717: FutureWarning: Parameter 'base_estimator' of AdaBoostClassifier is deprecated in favor of 'estimator'. See AdaBoostClassifier's docstring for more details.\n",
      "  estimator = estimator.set_params(**clone(parameters, safe=False))\n",
      "c:\\Users\\nicol\\miniconda3\\envs\\data_env\\Lib\\site-packages\\sklearn\\model_selection\\_validation.py:717: FutureWarning: Parameter 'base_estimator' of AdaBoostClassifier is deprecated in favor of 'estimator'. See AdaBoostClassifier's docstring for more details.\n",
      "  estimator = estimator.set_params(**clone(parameters, safe=False))\n",
      "c:\\Users\\nicol\\miniconda3\\envs\\data_env\\Lib\\site-packages\\sklearn\\model_selection\\_validation.py:717: FutureWarning: Parameter 'base_estimator' of AdaBoostClassifier is deprecated in favor of 'estimator'. See AdaBoostClassifier's docstring for more details.\n",
      "  estimator = estimator.set_params(**clone(parameters, safe=False))\n",
      "c:\\Users\\nicol\\miniconda3\\envs\\data_env\\Lib\\site-packages\\sklearn\\model_selection\\_validation.py:717: FutureWarning: Parameter 'base_estimator' of AdaBoostClassifier is deprecated in favor of 'estimator'. See AdaBoostClassifier's docstring for more details.\n",
      "  estimator = estimator.set_params(**clone(parameters, safe=False))\n",
      "c:\\Users\\nicol\\miniconda3\\envs\\data_env\\Lib\\site-packages\\sklearn\\model_selection\\_validation.py:717: FutureWarning: Parameter 'base_estimator' of AdaBoostClassifier is deprecated in favor of 'estimator'. See AdaBoostClassifier's docstring for more details.\n",
      "  estimator = estimator.set_params(**clone(parameters, safe=False))\n",
      "c:\\Users\\nicol\\miniconda3\\envs\\data_env\\Lib\\site-packages\\sklearn\\model_selection\\_validation.py:717: FutureWarning: Parameter 'base_estimator' of AdaBoostClassifier is deprecated in favor of 'estimator'. See AdaBoostClassifier's docstring for more details.\n",
      "  estimator = estimator.set_params(**clone(parameters, safe=False))\n",
      "c:\\Users\\nicol\\miniconda3\\envs\\data_env\\Lib\\site-packages\\sklearn\\model_selection\\_validation.py:717: FutureWarning: Parameter 'base_estimator' of AdaBoostClassifier is deprecated in favor of 'estimator'. See AdaBoostClassifier's docstring for more details.\n",
      "  estimator = estimator.set_params(**clone(parameters, safe=False))\n",
      "c:\\Users\\nicol\\miniconda3\\envs\\data_env\\Lib\\site-packages\\sklearn\\model_selection\\_validation.py:717: FutureWarning: Parameter 'base_estimator' of AdaBoostClassifier is deprecated in favor of 'estimator'. See AdaBoostClassifier's docstring for more details.\n",
      "  estimator = estimator.set_params(**clone(parameters, safe=False))\n",
      "c:\\Users\\nicol\\miniconda3\\envs\\data_env\\Lib\\site-packages\\sklearn\\model_selection\\_validation.py:717: FutureWarning: Parameter 'base_estimator' of AdaBoostClassifier is deprecated in favor of 'estimator'. See AdaBoostClassifier's docstring for more details.\n",
      "  estimator = estimator.set_params(**clone(parameters, safe=False))\n",
      "c:\\Users\\nicol\\miniconda3\\envs\\data_env\\Lib\\site-packages\\sklearn\\model_selection\\_validation.py:717: FutureWarning: Parameter 'base_estimator' of AdaBoostClassifier is deprecated in favor of 'estimator'. See AdaBoostClassifier's docstring for more details.\n",
      "  estimator = estimator.set_params(**clone(parameters, safe=False))\n",
      "c:\\Users\\nicol\\miniconda3\\envs\\data_env\\Lib\\site-packages\\sklearn\\model_selection\\_validation.py:717: FutureWarning: Parameter 'base_estimator' of AdaBoostClassifier is deprecated in favor of 'estimator'. See AdaBoostClassifier's docstring for more details.\n",
      "  estimator = estimator.set_params(**clone(parameters, safe=False))\n",
      "c:\\Users\\nicol\\miniconda3\\envs\\data_env\\Lib\\site-packages\\sklearn\\model_selection\\_validation.py:717: FutureWarning: Parameter 'base_estimator' of AdaBoostClassifier is deprecated in favor of 'estimator'. See AdaBoostClassifier's docstring for more details.\n",
      "  estimator = estimator.set_params(**clone(parameters, safe=False))\n",
      "c:\\Users\\nicol\\miniconda3\\envs\\data_env\\Lib\\site-packages\\sklearn\\model_selection\\_validation.py:717: FutureWarning: Parameter 'base_estimator' of AdaBoostClassifier is deprecated in favor of 'estimator'. See AdaBoostClassifier's docstring for more details.\n",
      "  estimator = estimator.set_params(**clone(parameters, safe=False))\n",
      "c:\\Users\\nicol\\miniconda3\\envs\\data_env\\Lib\\site-packages\\sklearn\\model_selection\\_validation.py:717: FutureWarning: Parameter 'base_estimator' of AdaBoostClassifier is deprecated in favor of 'estimator'. See AdaBoostClassifier's docstring for more details.\n",
      "  estimator = estimator.set_params(**clone(parameters, safe=False))\n",
      "c:\\Users\\nicol\\miniconda3\\envs\\data_env\\Lib\\site-packages\\sklearn\\model_selection\\_validation.py:717: FutureWarning: Parameter 'base_estimator' of AdaBoostClassifier is deprecated in favor of 'estimator'. See AdaBoostClassifier's docstring for more details.\n",
      "  estimator = estimator.set_params(**clone(parameters, safe=False))\n",
      "c:\\Users\\nicol\\miniconda3\\envs\\data_env\\Lib\\site-packages\\sklearn\\model_selection\\_validation.py:717: FutureWarning: Parameter 'base_estimator' of AdaBoostClassifier is deprecated in favor of 'estimator'. See AdaBoostClassifier's docstring for more details.\n",
      "  estimator = estimator.set_params(**clone(parameters, safe=False))\n",
      "c:\\Users\\nicol\\miniconda3\\envs\\data_env\\Lib\\site-packages\\sklearn\\model_selection\\_validation.py:717: FutureWarning: Parameter 'base_estimator' of AdaBoostClassifier is deprecated in favor of 'estimator'. See AdaBoostClassifier's docstring for more details.\n",
      "  estimator = estimator.set_params(**clone(parameters, safe=False))\n",
      "c:\\Users\\nicol\\miniconda3\\envs\\data_env\\Lib\\site-packages\\sklearn\\model_selection\\_validation.py:717: FutureWarning: Parameter 'base_estimator' of AdaBoostClassifier is deprecated in favor of 'estimator'. See AdaBoostClassifier's docstring for more details.\n",
      "  estimator = estimator.set_params(**clone(parameters, safe=False))\n",
      "c:\\Users\\nicol\\miniconda3\\envs\\data_env\\Lib\\site-packages\\sklearn\\model_selection\\_validation.py:717: FutureWarning: Parameter 'base_estimator' of AdaBoostClassifier is deprecated in favor of 'estimator'. See AdaBoostClassifier's docstring for more details.\n",
      "  estimator = estimator.set_params(**clone(parameters, safe=False))\n",
      "c:\\Users\\nicol\\miniconda3\\envs\\data_env\\Lib\\site-packages\\sklearn\\model_selection\\_validation.py:717: FutureWarning: Parameter 'base_estimator' of AdaBoostClassifier is deprecated in favor of 'estimator'. See AdaBoostClassifier's docstring for more details.\n",
      "  estimator = estimator.set_params(**clone(parameters, safe=False))\n",
      "c:\\Users\\nicol\\miniconda3\\envs\\data_env\\Lib\\site-packages\\sklearn\\model_selection\\_validation.py:717: FutureWarning: Parameter 'base_estimator' of AdaBoostClassifier is deprecated in favor of 'estimator'. See AdaBoostClassifier's docstring for more details.\n",
      "  estimator = estimator.set_params(**clone(parameters, safe=False))\n",
      "c:\\Users\\nicol\\miniconda3\\envs\\data_env\\Lib\\site-packages\\sklearn\\model_selection\\_validation.py:717: FutureWarning: Parameter 'base_estimator' of AdaBoostClassifier is deprecated in favor of 'estimator'. See AdaBoostClassifier's docstring for more details.\n",
      "  estimator = estimator.set_params(**clone(parameters, safe=False))\n",
      "c:\\Users\\nicol\\miniconda3\\envs\\data_env\\Lib\\site-packages\\sklearn\\model_selection\\_validation.py:717: FutureWarning: Parameter 'base_estimator' of AdaBoostClassifier is deprecated in favor of 'estimator'. See AdaBoostClassifier's docstring for more details.\n",
      "  estimator = estimator.set_params(**clone(parameters, safe=False))\n",
      "c:\\Users\\nicol\\miniconda3\\envs\\data_env\\Lib\\site-packages\\sklearn\\model_selection\\_validation.py:717: FutureWarning: Parameter 'base_estimator' of AdaBoostClassifier is deprecated in favor of 'estimator'. See AdaBoostClassifier's docstring for more details.\n",
      "  estimator = estimator.set_params(**clone(parameters, safe=False))\n",
      "c:\\Users\\nicol\\miniconda3\\envs\\data_env\\Lib\\site-packages\\sklearn\\model_selection\\_validation.py:717: FutureWarning: Parameter 'base_estimator' of AdaBoostClassifier is deprecated in favor of 'estimator'. See AdaBoostClassifier's docstring for more details.\n",
      "  estimator = estimator.set_params(**clone(parameters, safe=False))\n",
      "c:\\Users\\nicol\\miniconda3\\envs\\data_env\\Lib\\site-packages\\sklearn\\model_selection\\_validation.py:717: FutureWarning: Parameter 'base_estimator' of AdaBoostClassifier is deprecated in favor of 'estimator'. See AdaBoostClassifier's docstring for more details.\n",
      "  estimator = estimator.set_params(**clone(parameters, safe=False))\n",
      "c:\\Users\\nicol\\miniconda3\\envs\\data_env\\Lib\\site-packages\\sklearn\\model_selection\\_validation.py:717: FutureWarning: Parameter 'base_estimator' of AdaBoostClassifier is deprecated in favor of 'estimator'. See AdaBoostClassifier's docstring for more details.\n",
      "  estimator = estimator.set_params(**clone(parameters, safe=False))\n",
      "c:\\Users\\nicol\\miniconda3\\envs\\data_env\\Lib\\site-packages\\sklearn\\model_selection\\_validation.py:717: FutureWarning: Parameter 'base_estimator' of AdaBoostClassifier is deprecated in favor of 'estimator'. See AdaBoostClassifier's docstring for more details.\n",
      "  estimator = estimator.set_params(**clone(parameters, safe=False))\n",
      "c:\\Users\\nicol\\miniconda3\\envs\\data_env\\Lib\\site-packages\\sklearn\\model_selection\\_validation.py:717: FutureWarning: Parameter 'base_estimator' of AdaBoostClassifier is deprecated in favor of 'estimator'. See AdaBoostClassifier's docstring for more details.\n",
      "  estimator = estimator.set_params(**clone(parameters, safe=False))\n",
      "c:\\Users\\nicol\\miniconda3\\envs\\data_env\\Lib\\site-packages\\sklearn\\model_selection\\_validation.py:717: FutureWarning: Parameter 'base_estimator' of AdaBoostClassifier is deprecated in favor of 'estimator'. See AdaBoostClassifier's docstring for more details.\n",
      "  estimator = estimator.set_params(**clone(parameters, safe=False))\n",
      "c:\\Users\\nicol\\miniconda3\\envs\\data_env\\Lib\\site-packages\\sklearn\\model_selection\\_validation.py:717: FutureWarning: Parameter 'base_estimator' of AdaBoostClassifier is deprecated in favor of 'estimator'. See AdaBoostClassifier's docstring for more details.\n",
      "  estimator = estimator.set_params(**clone(parameters, safe=False))\n",
      "c:\\Users\\nicol\\miniconda3\\envs\\data_env\\Lib\\site-packages\\sklearn\\model_selection\\_validation.py:717: FutureWarning: Parameter 'base_estimator' of AdaBoostClassifier is deprecated in favor of 'estimator'. See AdaBoostClassifier's docstring for more details.\n",
      "  estimator = estimator.set_params(**clone(parameters, safe=False))\n",
      "c:\\Users\\nicol\\miniconda3\\envs\\data_env\\Lib\\site-packages\\sklearn\\model_selection\\_validation.py:717: FutureWarning: Parameter 'base_estimator' of AdaBoostClassifier is deprecated in favor of 'estimator'. See AdaBoostClassifier's docstring for more details.\n",
      "  estimator = estimator.set_params(**clone(parameters, safe=False))\n",
      "c:\\Users\\nicol\\miniconda3\\envs\\data_env\\Lib\\site-packages\\sklearn\\model_selection\\_validation.py:717: FutureWarning: Parameter 'base_estimator' of AdaBoostClassifier is deprecated in favor of 'estimator'. See AdaBoostClassifier's docstring for more details.\n",
      "  estimator = estimator.set_params(**clone(parameters, safe=False))\n",
      "c:\\Users\\nicol\\miniconda3\\envs\\data_env\\Lib\\site-packages\\sklearn\\model_selection\\_validation.py:717: FutureWarning: Parameter 'base_estimator' of AdaBoostClassifier is deprecated in favor of 'estimator'. See AdaBoostClassifier's docstring for more details.\n",
      "  estimator = estimator.set_params(**clone(parameters, safe=False))\n",
      "c:\\Users\\nicol\\miniconda3\\envs\\data_env\\Lib\\site-packages\\sklearn\\model_selection\\_validation.py:717: FutureWarning: Parameter 'base_estimator' of AdaBoostClassifier is deprecated in favor of 'estimator'. See AdaBoostClassifier's docstring for more details.\n",
      "  estimator = estimator.set_params(**clone(parameters, safe=False))\n",
      "c:\\Users\\nicol\\miniconda3\\envs\\data_env\\Lib\\site-packages\\sklearn\\model_selection\\_validation.py:717: FutureWarning: Parameter 'base_estimator' of AdaBoostClassifier is deprecated in favor of 'estimator'. See AdaBoostClassifier's docstring for more details.\n",
      "  estimator = estimator.set_params(**clone(parameters, safe=False))\n",
      "c:\\Users\\nicol\\miniconda3\\envs\\data_env\\Lib\\site-packages\\sklearn\\model_selection\\_validation.py:717: FutureWarning: Parameter 'base_estimator' of AdaBoostClassifier is deprecated in favor of 'estimator'. See AdaBoostClassifier's docstring for more details.\n",
      "  estimator = estimator.set_params(**clone(parameters, safe=False))\n",
      "c:\\Users\\nicol\\miniconda3\\envs\\data_env\\Lib\\site-packages\\sklearn\\model_selection\\_validation.py:717: FutureWarning: Parameter 'base_estimator' of AdaBoostClassifier is deprecated in favor of 'estimator'. See AdaBoostClassifier's docstring for more details.\n",
      "  estimator = estimator.set_params(**clone(parameters, safe=False))\n",
      "c:\\Users\\nicol\\miniconda3\\envs\\data_env\\Lib\\site-packages\\sklearn\\model_selection\\_validation.py:717: FutureWarning: Parameter 'base_estimator' of AdaBoostClassifier is deprecated in favor of 'estimator'. See AdaBoostClassifier's docstring for more details.\n",
      "  estimator = estimator.set_params(**clone(parameters, safe=False))\n",
      "c:\\Users\\nicol\\miniconda3\\envs\\data_env\\Lib\\site-packages\\sklearn\\model_selection\\_validation.py:717: FutureWarning: Parameter 'base_estimator' of AdaBoostClassifier is deprecated in favor of 'estimator'. See AdaBoostClassifier's docstring for more details.\n",
      "  estimator = estimator.set_params(**clone(parameters, safe=False))\n",
      "c:\\Users\\nicol\\miniconda3\\envs\\data_env\\Lib\\site-packages\\sklearn\\model_selection\\_validation.py:717: FutureWarning: Parameter 'base_estimator' of AdaBoostClassifier is deprecated in favor of 'estimator'. See AdaBoostClassifier's docstring for more details.\n",
      "  estimator = estimator.set_params(**clone(parameters, safe=False))\n",
      "c:\\Users\\nicol\\miniconda3\\envs\\data_env\\Lib\\site-packages\\sklearn\\model_selection\\_validation.py:717: FutureWarning: Parameter 'base_estimator' of AdaBoostClassifier is deprecated in favor of 'estimator'. See AdaBoostClassifier's docstring for more details.\n",
      "  estimator = estimator.set_params(**clone(parameters, safe=False))\n",
      "c:\\Users\\nicol\\miniconda3\\envs\\data_env\\Lib\\site-packages\\sklearn\\model_selection\\_validation.py:717: FutureWarning: Parameter 'base_estimator' of AdaBoostClassifier is deprecated in favor of 'estimator'. See AdaBoostClassifier's docstring for more details.\n",
      "  estimator = estimator.set_params(**clone(parameters, safe=False))\n",
      "c:\\Users\\nicol\\miniconda3\\envs\\data_env\\Lib\\site-packages\\sklearn\\model_selection\\_validation.py:717: FutureWarning: Parameter 'base_estimator' of AdaBoostClassifier is deprecated in favor of 'estimator'. See AdaBoostClassifier's docstring for more details.\n",
      "  estimator = estimator.set_params(**clone(parameters, safe=False))\n",
      "c:\\Users\\nicol\\miniconda3\\envs\\data_env\\Lib\\site-packages\\sklearn\\model_selection\\_validation.py:717: FutureWarning: Parameter 'base_estimator' of AdaBoostClassifier is deprecated in favor of 'estimator'. See AdaBoostClassifier's docstring for more details.\n",
      "  estimator = estimator.set_params(**clone(parameters, safe=False))\n",
      "c:\\Users\\nicol\\miniconda3\\envs\\data_env\\Lib\\site-packages\\sklearn\\model_selection\\_validation.py:717: FutureWarning: Parameter 'base_estimator' of AdaBoostClassifier is deprecated in favor of 'estimator'. See AdaBoostClassifier's docstring for more details.\n",
      "  estimator = estimator.set_params(**clone(parameters, safe=False))\n",
      "c:\\Users\\nicol\\miniconda3\\envs\\data_env\\Lib\\site-packages\\sklearn\\model_selection\\_validation.py:717: FutureWarning: Parameter 'base_estimator' of AdaBoostClassifier is deprecated in favor of 'estimator'. See AdaBoostClassifier's docstring for more details.\n",
      "  estimator = estimator.set_params(**clone(parameters, safe=False))\n",
      "c:\\Users\\nicol\\miniconda3\\envs\\data_env\\Lib\\site-packages\\sklearn\\model_selection\\_validation.py:717: FutureWarning: Parameter 'base_estimator' of AdaBoostClassifier is deprecated in favor of 'estimator'. See AdaBoostClassifier's docstring for more details.\n",
      "  estimator = estimator.set_params(**clone(parameters, safe=False))\n",
      "c:\\Users\\nicol\\miniconda3\\envs\\data_env\\Lib\\site-packages\\sklearn\\model_selection\\_validation.py:717: FutureWarning: Parameter 'base_estimator' of AdaBoostClassifier is deprecated in favor of 'estimator'. See AdaBoostClassifier's docstring for more details.\n",
      "  estimator = estimator.set_params(**clone(parameters, safe=False))\n",
      "c:\\Users\\nicol\\miniconda3\\envs\\data_env\\Lib\\site-packages\\sklearn\\model_selection\\_validation.py:717: FutureWarning: Parameter 'base_estimator' of AdaBoostClassifier is deprecated in favor of 'estimator'. See AdaBoostClassifier's docstring for more details.\n",
      "  estimator = estimator.set_params(**clone(parameters, safe=False))\n",
      "c:\\Users\\nicol\\miniconda3\\envs\\data_env\\Lib\\site-packages\\sklearn\\model_selection\\_validation.py:717: FutureWarning: Parameter 'base_estimator' of AdaBoostClassifier is deprecated in favor of 'estimator'. See AdaBoostClassifier's docstring for more details.\n",
      "  estimator = estimator.set_params(**clone(parameters, safe=False))\n",
      "c:\\Users\\nicol\\miniconda3\\envs\\data_env\\Lib\\site-packages\\sklearn\\model_selection\\_validation.py:717: FutureWarning: Parameter 'base_estimator' of AdaBoostClassifier is deprecated in favor of 'estimator'. See AdaBoostClassifier's docstring for more details.\n",
      "  estimator = estimator.set_params(**clone(parameters, safe=False))\n",
      "c:\\Users\\nicol\\miniconda3\\envs\\data_env\\Lib\\site-packages\\sklearn\\model_selection\\_validation.py:717: FutureWarning: Parameter 'base_estimator' of AdaBoostClassifier is deprecated in favor of 'estimator'. See AdaBoostClassifier's docstring for more details.\n",
      "  estimator = estimator.set_params(**clone(parameters, safe=False))\n",
      "c:\\Users\\nicol\\miniconda3\\envs\\data_env\\Lib\\site-packages\\sklearn\\model_selection\\_validation.py:717: FutureWarning: Parameter 'base_estimator' of AdaBoostClassifier is deprecated in favor of 'estimator'. See AdaBoostClassifier's docstring for more details.\n",
      "  estimator = estimator.set_params(**clone(parameters, safe=False))\n",
      "c:\\Users\\nicol\\miniconda3\\envs\\data_env\\Lib\\site-packages\\sklearn\\model_selection\\_validation.py:717: FutureWarning: Parameter 'base_estimator' of AdaBoostClassifier is deprecated in favor of 'estimator'. See AdaBoostClassifier's docstring for more details.\n",
      "  estimator = estimator.set_params(**clone(parameters, safe=False))\n",
      "c:\\Users\\nicol\\miniconda3\\envs\\data_env\\Lib\\site-packages\\sklearn\\model_selection\\_validation.py:717: FutureWarning: Parameter 'base_estimator' of AdaBoostClassifier is deprecated in favor of 'estimator'. See AdaBoostClassifier's docstring for more details.\n",
      "  estimator = estimator.set_params(**clone(parameters, safe=False))\n",
      "c:\\Users\\nicol\\miniconda3\\envs\\data_env\\Lib\\site-packages\\sklearn\\model_selection\\_validation.py:717: FutureWarning: Parameter 'base_estimator' of AdaBoostClassifier is deprecated in favor of 'estimator'. See AdaBoostClassifier's docstring for more details.\n",
      "  estimator = estimator.set_params(**clone(parameters, safe=False))\n",
      "c:\\Users\\nicol\\miniconda3\\envs\\data_env\\Lib\\site-packages\\sklearn\\model_selection\\_validation.py:717: FutureWarning: Parameter 'base_estimator' of AdaBoostClassifier is deprecated in favor of 'estimator'. See AdaBoostClassifier's docstring for more details.\n",
      "  estimator = estimator.set_params(**clone(parameters, safe=False))\n",
      "c:\\Users\\nicol\\miniconda3\\envs\\data_env\\Lib\\site-packages\\sklearn\\model_selection\\_validation.py:717: FutureWarning: Parameter 'base_estimator' of AdaBoostClassifier is deprecated in favor of 'estimator'. See AdaBoostClassifier's docstring for more details.\n",
      "  estimator = estimator.set_params(**clone(parameters, safe=False))\n",
      "c:\\Users\\nicol\\miniconda3\\envs\\data_env\\Lib\\site-packages\\sklearn\\model_selection\\_validation.py:717: FutureWarning: Parameter 'base_estimator' of AdaBoostClassifier is deprecated in favor of 'estimator'. See AdaBoostClassifier's docstring for more details.\n",
      "  estimator = estimator.set_params(**clone(parameters, safe=False))\n",
      "c:\\Users\\nicol\\miniconda3\\envs\\data_env\\Lib\\site-packages\\sklearn\\model_selection\\_validation.py:717: FutureWarning: Parameter 'base_estimator' of AdaBoostClassifier is deprecated in favor of 'estimator'. See AdaBoostClassifier's docstring for more details.\n",
      "  estimator = estimator.set_params(**clone(parameters, safe=False))\n",
      "c:\\Users\\nicol\\miniconda3\\envs\\data_env\\Lib\\site-packages\\sklearn\\model_selection\\_search.py:930: FutureWarning: Parameter 'base_estimator' of AdaBoostClassifier is deprecated in favor of 'estimator'. See AdaBoostClassifier's docstring for more details.\n",
      "  self.best_estimator_ = clone(base_estimator).set_params(\n"
     ]
    },
    {
     "name": "stdout",
     "output_type": "stream",
     "text": [
      "...Done.\n",
      "Best hyperparameters :  {'base_estimator__max_depth': 3, 'base_estimator__min_samples_leaf': 2, 'base_estimator__min_samples_split': 2, 'n_estimators': 10}\n",
      "Best validation accuracy :  0.9859836072383268\n",
      "\n",
      "Accuracy on training set :  0.9862427633948573\n",
      "Accuracy on test set :  0.985821210204512\n"
     ]
    }
   ],
   "source": [
    "# Perform grid search\n",
    "print(\"Grid search...\")\n",
    "decision_tree = DecisionTreeClassifier()\n",
    "model = AdaBoostClassifier(decision_tree)\n",
    "\n",
    "# Grid of values to be tested\n",
    "params = {\n",
    "    'base_estimator__max_depth': [1, 2, 3],\n",
    "    'base_estimator__min_samples_leaf': [1, 2, 3],\n",
    "    'base_estimator__min_samples_split': [2, 3, 4],\n",
    "    'n_estimators': [2, 4, 6, 8, 10]\n",
    "}\n",
    "print(params)\n",
    "gridsearch_adboost_dec_tr = GridSearchCV(model, param_grid = params, cv = 3) # cv : the number of folds to be used for CV\n",
    "gridsearch_adboost_dec_tr.fit(X_train, Y_train)\n",
    "print(\"...Done.\")\n",
    "print(\"Best hyperparameters : \", gridsearch_adboost_dec_tr.best_params_)\n",
    "print(\"Best validation accuracy : \", gridsearch_adboost_dec_tr.best_score_)\n",
    "print()\n",
    "print(\"Accuracy on training set : \", gridsearch_adboost_dec_tr.score(X_train, Y_train))\n",
    "print(\"Accuracy on test set : \", gridsearch_adboost_dec_tr.score(X_test, Y_test))"
   ]
  },
  {
   "cell_type": "code",
   "execution_count": 25,
   "metadata": {},
   "outputs": [
    {
     "name": "stdout",
     "output_type": "stream",
     "text": [
      "Predictions on training set...\n"
     ]
    },
    {
     "name": "stdout",
     "output_type": "stream",
     "text": [
      "...Done.\n",
      "[0 0 0 ... 0 0 0]\n",
      "\n",
      "Probabilities on training set...\n",
      "...Done.\n",
      "[[0.62910286 0.37089714]\n",
      " [0.71516328 0.28483672]\n",
      " [0.98823825 0.01176175]\n",
      " ...\n",
      " [0.98660155 0.01339845]\n",
      " [0.537603   0.462397  ]\n",
      " [0.63915119 0.36084881]]\n",
      "\n",
      "Predictions on test set...\n",
      "...Done.\n",
      "[0 0 0 ... 0 0 0]\n",
      "\n",
      "Probabilities on test set...\n",
      "...Done.\n",
      "[[9.87706754e-01 1.22932460e-02]\n",
      " [6.39660169e-01 3.60339831e-01]\n",
      " [9.99681973e-01 3.18027435e-04]\n",
      " ...\n",
      " [9.99716389e-01 2.83611107e-04]\n",
      " [6.54500309e-01 3.45499691e-01]\n",
      " [6.99670121e-01 3.00329879e-01]]\n",
      "\n",
      "f1-score on training set :  0.7644049947344667\n",
      "f1-score on test set :  0.7590325470289639\n"
     ]
    }
   ],
   "source": [
    "# Predictions on training set\n",
    "print(\"Predictions on training set...\")\n",
    "Y_train_pred = gridsearch_adboost_dec_tr.predict(X_train)\n",
    "print(\"...Done.\")\n",
    "print(Y_train_pred)\n",
    "print()\n",
    "\n",
    "# It's also possible to get the probabilities estimated by the model:\n",
    "print(\"Probabilities on training set...\")\n",
    "Y_train_proba = gridsearch_adboost_dec_tr.predict_proba(X_train)\n",
    "print(\"...Done.\")\n",
    "print(Y_train_proba)\n",
    "print()\n",
    "\n",
    "# Predictions on test set\n",
    "print(\"Predictions on test set...\")\n",
    "Y_test_pred = gridsearch_adboost_dec_tr.predict(X_test)\n",
    "print(\"...Done.\")\n",
    "print(Y_test_pred)\n",
    "print()\n",
    "\n",
    "# It's also possible to get the probabilities estimated by the model:\n",
    "print(\"Probabilities on test set...\")\n",
    "Y_test_proba = gridsearch_adboost_dec_tr.predict_proba(X_test)\n",
    "print(\"...Done.\")\n",
    "print(Y_test_proba)\n",
    "print()\n",
    "\n",
    "print(\"f1-score on training set : \", f1_score(Y_train, Y_train_pred))\n",
    "print(\"f1-score on test set : \", f1_score(Y_test, Y_test_pred))"
   ]
  },
  {
   "cell_type": "code",
   "execution_count": 26,
   "metadata": {},
   "outputs": [],
   "source": [
    "rows_model_score = pd.DataFrame({'model': ['adboost_dec_tree', 'adboost_dec_tree'], 'f1_score': [f1_score(Y_train, Y_train_pred), f1_score(Y_test, Y_test_pred)], 'set': ['train', 'test']})\n",
    "\n",
    "model_score_df = pd.concat([model_score_df, rows_model_score], ignore_index=True)"
   ]
  },
  {
   "cell_type": "markdown",
   "metadata": {},
   "source": [
    "### Boosting with decision tree as base estimator\n"
   ]
  },
  {
   "cell_type": "code",
   "execution_count": 27,
   "metadata": {},
   "outputs": [
    {
     "name": "stdout",
     "output_type": "stream",
     "text": [
      "Grid search...\n",
      "{'max_depth': [1, 2, 3], 'min_samples_leaf': [1, 2, 3], 'min_samples_split': [2, 3, 4], 'n_estimators': [2, 4, 6, 8, 10]}\n",
      "...Done.\n",
      "Best hyperparameters :  {'max_depth': 3, 'min_samples_leaf': 1, 'min_samples_split': 2, 'n_estimators': 10}\n",
      "Best validation accuracy :  0.9844418496421105\n",
      "\n",
      "Accuracy on training set :  0.9846482944013494\n",
      "Accuracy on test set :  0.9846791763300302\n"
     ]
    }
   ],
   "source": [
    "# Perform grid search\n",
    "from sklearn.ensemble import GradientBoostingClassifier\n",
    "\n",
    "\n",
    "print(\"Grid search...\")\n",
    "model = GradientBoostingClassifier()\n",
    "\n",
    "# Grid of values to be tested\n",
    "params = {\n",
    "    'max_depth': [1, 2, 3], # no base_estimator_ prefix because these are all arguments of GradientBoostingClassifier\n",
    "    'min_samples_leaf': [1, 2, 3],\n",
    "    'min_samples_split': [2, 3, 4],\n",
    "    'n_estimators': [2, 4, 6, 8, 10]\n",
    "}\n",
    "print(params)\n",
    "gridsearch_boost_dec_tr = GridSearchCV(model, param_grid = params, cv = 3) # cv : the number of folds to be used for CV\n",
    "gridsearch_boost_dec_tr.fit(X_train, Y_train)\n",
    "print(\"...Done.\")\n",
    "print(\"Best hyperparameters : \", gridsearch_boost_dec_tr.best_params_)\n",
    "print(\"Best validation accuracy : \", gridsearch_boost_dec_tr.best_score_)\n",
    "print()\n",
    "print(\"Accuracy on training set : \", gridsearch_boost_dec_tr.score(X_train, Y_train))\n",
    "print(\"Accuracy on test set : \", gridsearch_boost_dec_tr.score(X_test, Y_test))"
   ]
  },
  {
   "cell_type": "code",
   "execution_count": 28,
   "metadata": {},
   "outputs": [
    {
     "name": "stdout",
     "output_type": "stream",
     "text": [
      "Predictions on training set...\n"
     ]
    },
    {
     "name": "stdout",
     "output_type": "stream",
     "text": [
      "...Done.\n",
      "[0 0 0 ... 0 0 0]\n",
      "\n",
      "Probabilities on training set...\n",
      "...Done.\n",
      "[[0.9873215 0.0126785]\n",
      " [0.9873215 0.0126785]\n",
      " [0.9873215 0.0126785]\n",
      " ...\n",
      " [0.9873215 0.0126785]\n",
      " [0.963796  0.036204 ]\n",
      " [0.9801348 0.0198652]]\n",
      "\n",
      "Predictions on test set...\n",
      "...Done.\n",
      "[0 0 0 ... 0 0 0]\n",
      "\n",
      "Probabilities on test set...\n",
      "...Done.\n",
      "[[0.9873215  0.0126785 ]\n",
      " [0.9873215  0.0126785 ]\n",
      " [0.9873215  0.0126785 ]\n",
      " ...\n",
      " [0.9873215  0.0126785 ]\n",
      " [0.98680659 0.01319341]\n",
      " [0.9873215  0.0126785 ]]\n",
      "\n",
      "f1-score on training set :  0.719659902141654\n",
      "f1-score on test set :  0.721938775510204\n"
     ]
    }
   ],
   "source": [
    "# Predictions on training set\n",
    "print(\"Predictions on training set...\")\n",
    "Y_train_pred = gridsearch_boost_dec_tr.predict(X_train)\n",
    "print(\"...Done.\")\n",
    "print(Y_train_pred)\n",
    "print()\n",
    "\n",
    "# It's also possible to get the probabilities estimated by the model:\n",
    "print(\"Probabilities on training set...\")\n",
    "Y_train_proba = gridsearch_boost_dec_tr.predict_proba(X_train)\n",
    "print(\"...Done.\")\n",
    "print(Y_train_proba)\n",
    "print()\n",
    "\n",
    "# Predictions on test set\n",
    "print(\"Predictions on test set...\")\n",
    "Y_test_pred = gridsearch_boost_dec_tr.predict(X_test)\n",
    "print(\"...Done.\")\n",
    "print(Y_test_pred)\n",
    "print()\n",
    "\n",
    "# It's also possible to get the probabilities estimated by the model:\n",
    "print(\"Probabilities on test set...\")\n",
    "Y_test_proba = gridsearch_boost_dec_tr.predict_proba(X_test)\n",
    "print(\"...Done.\")\n",
    "print(Y_test_proba)\n",
    "print()\n",
    "\n",
    "print(\"f1-score on training set : \", f1_score(Y_train, Y_train_pred))\n",
    "print(\"f1-score on test set : \", f1_score(Y_test, Y_test_pred))"
   ]
  },
  {
   "cell_type": "code",
   "execution_count": 29,
   "metadata": {},
   "outputs": [],
   "source": [
    "rows_model_score = pd.DataFrame({'model': ['boost_dec_tree', 'boost_dec_tree'], 'f1_score': [f1_score(Y_train, Y_train_pred), f1_score(Y_test, Y_test_pred)], 'set': ['train', 'test']})\n",
    "\n",
    "model_score_df = pd.concat([model_score_df, rows_model_score], ignore_index=True)"
   ]
  },
  {
   "cell_type": "markdown",
   "metadata": {},
   "source": [
    "### XGBoost"
   ]
  },
  {
   "cell_type": "code",
   "execution_count": 30,
   "metadata": {},
   "outputs": [
    {
     "name": "stdout",
     "output_type": "stream",
     "text": [
      "Grid search...\n",
      "{'max_depth': [2, 4, 6], 'min_child_weight': [1, 2, 3], 'n_estimators': [2, 4, 6, 8]}\n",
      "...Done.\n",
      "Best hyperparameters :  {'max_depth': 6, 'min_child_weight': 2, 'n_estimators': 8}\n",
      "Best validation accuracy :  0.9858694036193535\n",
      "\n",
      "Accuracy on training set :  0.9861944461526297\n",
      "Accuracy on test set :  0.9854346756623796\n"
     ]
    }
   ],
   "source": [
    "import xgboost as xgb\n",
    "# Perform grid search\n",
    "print(\"Grid search...\")\n",
    "xgboost = xgb.XGBClassifier()\n",
    "\n",
    "# Grid of values to be tested\n",
    "params = {\n",
    "    'max_depth': [2, 4, 6], # exactly the same role as in scikit-learn\n",
    "    'min_child_weight': [1, 2, 3], # effect is more or less similar to min_samples_leaf and min_samples_split\n",
    "    'n_estimators': [2, 4, 6, 8,] # exactly the same role as in scikit-learn\n",
    "}\n",
    "print(params)\n",
    "gridsearch_xgb = GridSearchCV(xgboost, param_grid = params, cv = 3) # cv : the number of folds to be used for CV\n",
    "gridsearch_xgb.fit(X_train, Y_train)\n",
    "print(\"...Done.\")\n",
    "print(\"Best hyperparameters : \", gridsearch_xgb.best_params_)\n",
    "print(\"Best validation accuracy : \", gridsearch_xgb.best_score_)\n",
    "print()\n",
    "print(\"Accuracy on training set : \", gridsearch_xgb.score(X_train, Y_train))\n",
    "print(\"Accuracy on test set : \", gridsearch_xgb.score(X_test, Y_test))"
   ]
  },
  {
   "cell_type": "code",
   "execution_count": 31,
   "metadata": {},
   "outputs": [
    {
     "name": "stdout",
     "output_type": "stream",
     "text": [
      "Predictions on training set...\n",
      "...Done.\n",
      "[0 0 0 ... 0 0 0]\n",
      "\n",
      "Probabilities on training set...\n"
     ]
    },
    {
     "name": "stdout",
     "output_type": "stream",
     "text": [
      "...Done.\n",
      "[[0.95882565 0.04117436]\n",
      " [0.95882565 0.04117436]\n",
      " [0.95882565 0.04117436]\n",
      " ...\n",
      " [0.95882565 0.04117436]\n",
      " [0.86079645 0.13920352]\n",
      " [0.9548335  0.04516648]]\n",
      "\n",
      "Predictions on test set...\n",
      "...Done.\n",
      "[0 0 0 ... 0 0 0]\n",
      "\n",
      "Probabilities on test set...\n",
      "...Done.\n",
      "[[0.95882565 0.04117436]\n",
      " [0.95882565 0.04117436]\n",
      " [0.95882565 0.04117436]\n",
      " ...\n",
      " [0.95882565 0.04117436]\n",
      " [0.9574031  0.04259688]\n",
      " [0.95882565 0.04117436]]\n",
      "\n",
      "f1-score on training set :  0.7633104902477597\n",
      "f1-score on test set :  0.7539329177797566\n"
     ]
    }
   ],
   "source": [
    "# Predictions on training set\n",
    "print(\"Predictions on training set...\")\n",
    "Y_train_pred = gridsearch_xgb.predict(X_train)\n",
    "print(\"...Done.\")\n",
    "print(Y_train_pred)\n",
    "print()\n",
    "\n",
    "# It's also possible to get the probabilities estimated by the model:\n",
    "print(\"Probabilities on training set...\")\n",
    "Y_train_proba = gridsearch_xgb.predict_proba(X_train)\n",
    "print(\"...Done.\")\n",
    "print(Y_train_proba)\n",
    "print()\n",
    "\n",
    "# Predictions on test set\n",
    "print(\"Predictions on test set...\")\n",
    "Y_test_pred = gridsearch_xgb.predict(X_test)\n",
    "print(\"...Done.\")\n",
    "print(Y_test_pred)\n",
    "print()\n",
    "\n",
    "# It's also possible to get the probabilities estimated by the model:\n",
    "print(\"Probabilities on test set...\")\n",
    "Y_test_proba = gridsearch_xgb.predict_proba(X_test)\n",
    "print(\"...Done.\")\n",
    "print(Y_test_proba)\n",
    "print()\n",
    "\n",
    "print(\"f1-score on training set : \", f1_score(Y_train, Y_train_pred))\n",
    "print(\"f1-score on test set : \", f1_score(Y_test, Y_test_pred))"
   ]
  },
  {
   "cell_type": "code",
   "execution_count": 32,
   "metadata": {},
   "outputs": [],
   "source": [
    "rows_model_score = pd.DataFrame({'model': ['gridsearch_xgb', 'gridsearch_xgb'], 'f1_score': [f1_score(Y_train, Y_train_pred), f1_score(Y_test, Y_test_pred)], 'set': ['train', 'test']})\n",
    "\n",
    "model_score_df = pd.concat([model_score_df, rows_model_score], ignore_index=True)"
   ]
  },
  {
   "cell_type": "code",
   "execution_count": 33,
   "metadata": {},
   "outputs": [],
   "source": [
    "model_score_df = model_score_df.sort_values(by='f1_score', ascending=False)"
   ]
  },
  {
   "cell_type": "code",
   "execution_count": 34,
   "metadata": {},
   "outputs": [
    {
     "data": {
      "text/html": [
       "<div>\n",
       "<style scoped>\n",
       "    .dataframe tbody tr th:only-of-type {\n",
       "        vertical-align: middle;\n",
       "    }\n",
       "\n",
       "    .dataframe tbody tr th {\n",
       "        vertical-align: top;\n",
       "    }\n",
       "\n",
       "    .dataframe thead th {\n",
       "        text-align: right;\n",
       "    }\n",
       "</style>\n",
       "<table border=\"1\" class=\"dataframe\">\n",
       "  <thead>\n",
       "    <tr style=\"text-align: right;\">\n",
       "      <th></th>\n",
       "      <th>model</th>\n",
       "      <th>f1_score</th>\n",
       "      <th>set</th>\n",
       "    </tr>\n",
       "  </thead>\n",
       "  <tbody>\n",
       "    <tr>\n",
       "      <th>6</th>\n",
       "      <td>adboost_dec_tree</td>\n",
       "      <td>0.764405</td>\n",
       "      <td>train</td>\n",
       "    </tr>\n",
       "    <tr>\n",
       "      <th>10</th>\n",
       "      <td>gridsearch_xgb</td>\n",
       "      <td>0.763310</td>\n",
       "      <td>train</td>\n",
       "    </tr>\n",
       "    <tr>\n",
       "      <th>0</th>\n",
       "      <td>bagging_log_reg</td>\n",
       "      <td>0.762993</td>\n",
       "      <td>train</td>\n",
       "    </tr>\n",
       "    <tr>\n",
       "      <th>1</th>\n",
       "      <td>bagging_log_reg</td>\n",
       "      <td>0.762477</td>\n",
       "      <td>test</td>\n",
       "    </tr>\n",
       "    <tr>\n",
       "      <th>7</th>\n",
       "      <td>adboost_dec_tree</td>\n",
       "      <td>0.759033</td>\n",
       "      <td>test</td>\n",
       "    </tr>\n",
       "    <tr>\n",
       "      <th>11</th>\n",
       "      <td>gridsearch_xgb</td>\n",
       "      <td>0.753933</td>\n",
       "      <td>test</td>\n",
       "    </tr>\n",
       "    <tr>\n",
       "      <th>5</th>\n",
       "      <td>adboost_log_reg</td>\n",
       "      <td>0.744512</td>\n",
       "      <td>test</td>\n",
       "    </tr>\n",
       "    <tr>\n",
       "      <th>4</th>\n",
       "      <td>adboost_log_reg</td>\n",
       "      <td>0.742360</td>\n",
       "      <td>train</td>\n",
       "    </tr>\n",
       "    <tr>\n",
       "      <th>2</th>\n",
       "      <td>bagging_dec_tree</td>\n",
       "      <td>0.728281</td>\n",
       "      <td>train</td>\n",
       "    </tr>\n",
       "    <tr>\n",
       "      <th>3</th>\n",
       "      <td>bagging_dec_tree</td>\n",
       "      <td>0.726546</td>\n",
       "      <td>test</td>\n",
       "    </tr>\n",
       "    <tr>\n",
       "      <th>9</th>\n",
       "      <td>boost_dec_tree</td>\n",
       "      <td>0.721939</td>\n",
       "      <td>test</td>\n",
       "    </tr>\n",
       "    <tr>\n",
       "      <th>8</th>\n",
       "      <td>boost_dec_tree</td>\n",
       "      <td>0.719660</td>\n",
       "      <td>train</td>\n",
       "    </tr>\n",
       "  </tbody>\n",
       "</table>\n",
       "</div>"
      ],
      "text/plain": [
       "               model  f1_score    set\n",
       "6   adboost_dec_tree  0.764405  train\n",
       "10    gridsearch_xgb  0.763310  train\n",
       "0    bagging_log_reg  0.762993  train\n",
       "1    bagging_log_reg  0.762477   test\n",
       "7   adboost_dec_tree  0.759033   test\n",
       "11    gridsearch_xgb  0.753933   test\n",
       "5    adboost_log_reg  0.744512   test\n",
       "4    adboost_log_reg  0.742360  train\n",
       "2   bagging_dec_tree  0.728281  train\n",
       "3   bagging_dec_tree  0.726546   test\n",
       "9     boost_dec_tree  0.721939   test\n",
       "8     boost_dec_tree  0.719660  train"
      ]
     },
     "execution_count": 34,
     "metadata": {},
     "output_type": "execute_result"
    }
   ],
   "source": [
    "model_score_df"
   ]
  },
  {
   "cell_type": "code",
   "execution_count": 39,
   "metadata": {},
   "outputs": [
    {
     "data": {
      "application/vnd.plotly.v1+json": {
       "config": {
        "plotlyServerURL": "https://plot.ly"
       },
       "data": [
        {
         "alignmentgroup": "True",
         "hovertemplate": "set=train<br>model=%{x}<br>f1_score=%{y}<extra></extra>",
         "legendgroup": "train",
         "marker": {
          "color": "#636efa",
          "pattern": {
           "shape": ""
          }
         },
         "name": "train",
         "offsetgroup": "train",
         "orientation": "v",
         "showlegend": true,
         "textposition": "auto",
         "type": "bar",
         "x": [
          "adboost_dec_tree",
          "gridsearch_xgb",
          "bagging_log_reg",
          "adboost_log_reg",
          "bagging_dec_tree",
          "boost_dec_tree"
         ],
         "xaxis": "x",
         "y": [
          0.7644049947344667,
          0.7633104902477597,
          0.762992662077313,
          0.7423600954506966,
          0.7282809611829943,
          0.719659902141654
         ],
         "yaxis": "y"
        },
        {
         "alignmentgroup": "True",
         "hovertemplate": "set=test<br>model=%{x}<br>f1_score=%{y}<extra></extra>",
         "legendgroup": "test",
         "marker": {
          "color": "#EF553B",
          "pattern": {
           "shape": ""
          }
         },
         "name": "test",
         "offsetgroup": "test",
         "orientation": "v",
         "showlegend": true,
         "textposition": "auto",
         "type": "bar",
         "x": [
          "bagging_log_reg",
          "adboost_dec_tree",
          "gridsearch_xgb",
          "adboost_log_reg",
          "bagging_dec_tree",
          "boost_dec_tree"
         ],
         "xaxis": "x",
         "y": [
          0.76247745039086,
          0.7590325470289639,
          0.7539329177797566,
          0.7445121951219512,
          0.7265456782528452,
          0.721938775510204
         ],
         "yaxis": "y"
        }
       ],
       "layout": {
        "barmode": "group",
        "legend": {
         "title": {
          "text": "set"
         },
         "tracegroupgap": 0
        },
        "margin": {
         "t": 60
        },
        "template": {
         "data": {
          "bar": [
           {
            "error_x": {
             "color": "#2a3f5f"
            },
            "error_y": {
             "color": "#2a3f5f"
            },
            "marker": {
             "line": {
              "color": "#E5ECF6",
              "width": 0.5
             },
             "pattern": {
              "fillmode": "overlay",
              "size": 10,
              "solidity": 0.2
             }
            },
            "type": "bar"
           }
          ],
          "barpolar": [
           {
            "marker": {
             "line": {
              "color": "#E5ECF6",
              "width": 0.5
             },
             "pattern": {
              "fillmode": "overlay",
              "size": 10,
              "solidity": 0.2
             }
            },
            "type": "barpolar"
           }
          ],
          "carpet": [
           {
            "aaxis": {
             "endlinecolor": "#2a3f5f",
             "gridcolor": "white",
             "linecolor": "white",
             "minorgridcolor": "white",
             "startlinecolor": "#2a3f5f"
            },
            "baxis": {
             "endlinecolor": "#2a3f5f",
             "gridcolor": "white",
             "linecolor": "white",
             "minorgridcolor": "white",
             "startlinecolor": "#2a3f5f"
            },
            "type": "carpet"
           }
          ],
          "choropleth": [
           {
            "colorbar": {
             "outlinewidth": 0,
             "ticks": ""
            },
            "type": "choropleth"
           }
          ],
          "contour": [
           {
            "colorbar": {
             "outlinewidth": 0,
             "ticks": ""
            },
            "colorscale": [
             [
              0,
              "#0d0887"
             ],
             [
              0.1111111111111111,
              "#46039f"
             ],
             [
              0.2222222222222222,
              "#7201a8"
             ],
             [
              0.3333333333333333,
              "#9c179e"
             ],
             [
              0.4444444444444444,
              "#bd3786"
             ],
             [
              0.5555555555555556,
              "#d8576b"
             ],
             [
              0.6666666666666666,
              "#ed7953"
             ],
             [
              0.7777777777777778,
              "#fb9f3a"
             ],
             [
              0.8888888888888888,
              "#fdca26"
             ],
             [
              1,
              "#f0f921"
             ]
            ],
            "type": "contour"
           }
          ],
          "contourcarpet": [
           {
            "colorbar": {
             "outlinewidth": 0,
             "ticks": ""
            },
            "type": "contourcarpet"
           }
          ],
          "heatmap": [
           {
            "colorbar": {
             "outlinewidth": 0,
             "ticks": ""
            },
            "colorscale": [
             [
              0,
              "#0d0887"
             ],
             [
              0.1111111111111111,
              "#46039f"
             ],
             [
              0.2222222222222222,
              "#7201a8"
             ],
             [
              0.3333333333333333,
              "#9c179e"
             ],
             [
              0.4444444444444444,
              "#bd3786"
             ],
             [
              0.5555555555555556,
              "#d8576b"
             ],
             [
              0.6666666666666666,
              "#ed7953"
             ],
             [
              0.7777777777777778,
              "#fb9f3a"
             ],
             [
              0.8888888888888888,
              "#fdca26"
             ],
             [
              1,
              "#f0f921"
             ]
            ],
            "type": "heatmap"
           }
          ],
          "heatmapgl": [
           {
            "colorbar": {
             "outlinewidth": 0,
             "ticks": ""
            },
            "colorscale": [
             [
              0,
              "#0d0887"
             ],
             [
              0.1111111111111111,
              "#46039f"
             ],
             [
              0.2222222222222222,
              "#7201a8"
             ],
             [
              0.3333333333333333,
              "#9c179e"
             ],
             [
              0.4444444444444444,
              "#bd3786"
             ],
             [
              0.5555555555555556,
              "#d8576b"
             ],
             [
              0.6666666666666666,
              "#ed7953"
             ],
             [
              0.7777777777777778,
              "#fb9f3a"
             ],
             [
              0.8888888888888888,
              "#fdca26"
             ],
             [
              1,
              "#f0f921"
             ]
            ],
            "type": "heatmapgl"
           }
          ],
          "histogram": [
           {
            "marker": {
             "pattern": {
              "fillmode": "overlay",
              "size": 10,
              "solidity": 0.2
             }
            },
            "type": "histogram"
           }
          ],
          "histogram2d": [
           {
            "colorbar": {
             "outlinewidth": 0,
             "ticks": ""
            },
            "colorscale": [
             [
              0,
              "#0d0887"
             ],
             [
              0.1111111111111111,
              "#46039f"
             ],
             [
              0.2222222222222222,
              "#7201a8"
             ],
             [
              0.3333333333333333,
              "#9c179e"
             ],
             [
              0.4444444444444444,
              "#bd3786"
             ],
             [
              0.5555555555555556,
              "#d8576b"
             ],
             [
              0.6666666666666666,
              "#ed7953"
             ],
             [
              0.7777777777777778,
              "#fb9f3a"
             ],
             [
              0.8888888888888888,
              "#fdca26"
             ],
             [
              1,
              "#f0f921"
             ]
            ],
            "type": "histogram2d"
           }
          ],
          "histogram2dcontour": [
           {
            "colorbar": {
             "outlinewidth": 0,
             "ticks": ""
            },
            "colorscale": [
             [
              0,
              "#0d0887"
             ],
             [
              0.1111111111111111,
              "#46039f"
             ],
             [
              0.2222222222222222,
              "#7201a8"
             ],
             [
              0.3333333333333333,
              "#9c179e"
             ],
             [
              0.4444444444444444,
              "#bd3786"
             ],
             [
              0.5555555555555556,
              "#d8576b"
             ],
             [
              0.6666666666666666,
              "#ed7953"
             ],
             [
              0.7777777777777778,
              "#fb9f3a"
             ],
             [
              0.8888888888888888,
              "#fdca26"
             ],
             [
              1,
              "#f0f921"
             ]
            ],
            "type": "histogram2dcontour"
           }
          ],
          "mesh3d": [
           {
            "colorbar": {
             "outlinewidth": 0,
             "ticks": ""
            },
            "type": "mesh3d"
           }
          ],
          "parcoords": [
           {
            "line": {
             "colorbar": {
              "outlinewidth": 0,
              "ticks": ""
             }
            },
            "type": "parcoords"
           }
          ],
          "pie": [
           {
            "automargin": true,
            "type": "pie"
           }
          ],
          "scatter": [
           {
            "fillpattern": {
             "fillmode": "overlay",
             "size": 10,
             "solidity": 0.2
            },
            "type": "scatter"
           }
          ],
          "scatter3d": [
           {
            "line": {
             "colorbar": {
              "outlinewidth": 0,
              "ticks": ""
             }
            },
            "marker": {
             "colorbar": {
              "outlinewidth": 0,
              "ticks": ""
             }
            },
            "type": "scatter3d"
           }
          ],
          "scattercarpet": [
           {
            "marker": {
             "colorbar": {
              "outlinewidth": 0,
              "ticks": ""
             }
            },
            "type": "scattercarpet"
           }
          ],
          "scattergeo": [
           {
            "marker": {
             "colorbar": {
              "outlinewidth": 0,
              "ticks": ""
             }
            },
            "type": "scattergeo"
           }
          ],
          "scattergl": [
           {
            "marker": {
             "colorbar": {
              "outlinewidth": 0,
              "ticks": ""
             }
            },
            "type": "scattergl"
           }
          ],
          "scattermapbox": [
           {
            "marker": {
             "colorbar": {
              "outlinewidth": 0,
              "ticks": ""
             }
            },
            "type": "scattermapbox"
           }
          ],
          "scatterpolar": [
           {
            "marker": {
             "colorbar": {
              "outlinewidth": 0,
              "ticks": ""
             }
            },
            "type": "scatterpolar"
           }
          ],
          "scatterpolargl": [
           {
            "marker": {
             "colorbar": {
              "outlinewidth": 0,
              "ticks": ""
             }
            },
            "type": "scatterpolargl"
           }
          ],
          "scatterternary": [
           {
            "marker": {
             "colorbar": {
              "outlinewidth": 0,
              "ticks": ""
             }
            },
            "type": "scatterternary"
           }
          ],
          "surface": [
           {
            "colorbar": {
             "outlinewidth": 0,
             "ticks": ""
            },
            "colorscale": [
             [
              0,
              "#0d0887"
             ],
             [
              0.1111111111111111,
              "#46039f"
             ],
             [
              0.2222222222222222,
              "#7201a8"
             ],
             [
              0.3333333333333333,
              "#9c179e"
             ],
             [
              0.4444444444444444,
              "#bd3786"
             ],
             [
              0.5555555555555556,
              "#d8576b"
             ],
             [
              0.6666666666666666,
              "#ed7953"
             ],
             [
              0.7777777777777778,
              "#fb9f3a"
             ],
             [
              0.8888888888888888,
              "#fdca26"
             ],
             [
              1,
              "#f0f921"
             ]
            ],
            "type": "surface"
           }
          ],
          "table": [
           {
            "cells": {
             "fill": {
              "color": "#EBF0F8"
             },
             "line": {
              "color": "white"
             }
            },
            "header": {
             "fill": {
              "color": "#C8D4E3"
             },
             "line": {
              "color": "white"
             }
            },
            "type": "table"
           }
          ]
         },
         "layout": {
          "annotationdefaults": {
           "arrowcolor": "#2a3f5f",
           "arrowhead": 0,
           "arrowwidth": 1
          },
          "autotypenumbers": "strict",
          "coloraxis": {
           "colorbar": {
            "outlinewidth": 0,
            "ticks": ""
           }
          },
          "colorscale": {
           "diverging": [
            [
             0,
             "#8e0152"
            ],
            [
             0.1,
             "#c51b7d"
            ],
            [
             0.2,
             "#de77ae"
            ],
            [
             0.3,
             "#f1b6da"
            ],
            [
             0.4,
             "#fde0ef"
            ],
            [
             0.5,
             "#f7f7f7"
            ],
            [
             0.6,
             "#e6f5d0"
            ],
            [
             0.7,
             "#b8e186"
            ],
            [
             0.8,
             "#7fbc41"
            ],
            [
             0.9,
             "#4d9221"
            ],
            [
             1,
             "#276419"
            ]
           ],
           "sequential": [
            [
             0,
             "#0d0887"
            ],
            [
             0.1111111111111111,
             "#46039f"
            ],
            [
             0.2222222222222222,
             "#7201a8"
            ],
            [
             0.3333333333333333,
             "#9c179e"
            ],
            [
             0.4444444444444444,
             "#bd3786"
            ],
            [
             0.5555555555555556,
             "#d8576b"
            ],
            [
             0.6666666666666666,
             "#ed7953"
            ],
            [
             0.7777777777777778,
             "#fb9f3a"
            ],
            [
             0.8888888888888888,
             "#fdca26"
            ],
            [
             1,
             "#f0f921"
            ]
           ],
           "sequentialminus": [
            [
             0,
             "#0d0887"
            ],
            [
             0.1111111111111111,
             "#46039f"
            ],
            [
             0.2222222222222222,
             "#7201a8"
            ],
            [
             0.3333333333333333,
             "#9c179e"
            ],
            [
             0.4444444444444444,
             "#bd3786"
            ],
            [
             0.5555555555555556,
             "#d8576b"
            ],
            [
             0.6666666666666666,
             "#ed7953"
            ],
            [
             0.7777777777777778,
             "#fb9f3a"
            ],
            [
             0.8888888888888888,
             "#fdca26"
            ],
            [
             1,
             "#f0f921"
            ]
           ]
          },
          "colorway": [
           "#636efa",
           "#EF553B",
           "#00cc96",
           "#ab63fa",
           "#FFA15A",
           "#19d3f3",
           "#FF6692",
           "#B6E880",
           "#FF97FF",
           "#FECB52"
          ],
          "font": {
           "color": "#2a3f5f"
          },
          "geo": {
           "bgcolor": "white",
           "lakecolor": "white",
           "landcolor": "#E5ECF6",
           "showlakes": true,
           "showland": true,
           "subunitcolor": "white"
          },
          "hoverlabel": {
           "align": "left"
          },
          "hovermode": "closest",
          "mapbox": {
           "style": "light"
          },
          "paper_bgcolor": "white",
          "plot_bgcolor": "#E5ECF6",
          "polar": {
           "angularaxis": {
            "gridcolor": "white",
            "linecolor": "white",
            "ticks": ""
           },
           "bgcolor": "#E5ECF6",
           "radialaxis": {
            "gridcolor": "white",
            "linecolor": "white",
            "ticks": ""
           }
          },
          "scene": {
           "xaxis": {
            "backgroundcolor": "#E5ECF6",
            "gridcolor": "white",
            "gridwidth": 2,
            "linecolor": "white",
            "showbackground": true,
            "ticks": "",
            "zerolinecolor": "white"
           },
           "yaxis": {
            "backgroundcolor": "#E5ECF6",
            "gridcolor": "white",
            "gridwidth": 2,
            "linecolor": "white",
            "showbackground": true,
            "ticks": "",
            "zerolinecolor": "white"
           },
           "zaxis": {
            "backgroundcolor": "#E5ECF6",
            "gridcolor": "white",
            "gridwidth": 2,
            "linecolor": "white",
            "showbackground": true,
            "ticks": "",
            "zerolinecolor": "white"
           }
          },
          "shapedefaults": {
           "line": {
            "color": "#2a3f5f"
           }
          },
          "ternary": {
           "aaxis": {
            "gridcolor": "white",
            "linecolor": "white",
            "ticks": ""
           },
           "baxis": {
            "gridcolor": "white",
            "linecolor": "white",
            "ticks": ""
           },
           "bgcolor": "#E5ECF6",
           "caxis": {
            "gridcolor": "white",
            "linecolor": "white",
            "ticks": ""
           }
          },
          "title": {
           "x": 0.05
          },
          "xaxis": {
           "automargin": true,
           "gridcolor": "white",
           "linecolor": "white",
           "ticks": "",
           "title": {
            "standoff": 15
           },
           "zerolinecolor": "white",
           "zerolinewidth": 2
          },
          "yaxis": {
           "automargin": true,
           "gridcolor": "white",
           "linecolor": "white",
           "ticks": "",
           "title": {
            "standoff": 15
           },
           "zerolinecolor": "white",
           "zerolinewidth": 2
          }
         }
        },
        "xaxis": {
         "anchor": "y",
         "domain": [
          0,
          1
         ],
         "title": {
          "text": "model"
         }
        },
        "yaxis": {
         "anchor": "x",
         "domain": [
          0,
          1
         ],
         "title": {
          "text": "f1_score"
         }
        }
       }
      }
     },
     "metadata": {},
     "output_type": "display_data"
    }
   ],
   "source": [
    "px.bar(model_score_df, x=\"model\", y=\"f1_score\", color=\"set\", barmode='group')"
   ]
  }
 ],
 "metadata": {
  "kernelspec": {
   "display_name": "data_env",
   "language": "python",
   "name": "python3"
  },
  "language_info": {
   "codemirror_mode": {
    "name": "ipython",
    "version": 3
   },
   "file_extension": ".py",
   "mimetype": "text/x-python",
   "name": "python",
   "nbconvert_exporter": "python",
   "pygments_lexer": "ipython3",
   "version": "3.11.6"
  }
 },
 "nbformat": 4,
 "nbformat_minor": 2
}
